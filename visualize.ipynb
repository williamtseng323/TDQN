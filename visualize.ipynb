{
 "cells": [
  {
   "cell_type": "markdown",
   "metadata": {},
   "source": [
    "# Visualization: Trading Session"
   ]
  },
  {
   "cell_type": "code",
   "execution_count": 8,
   "metadata": {},
   "outputs": [
    {
     "name": "stdout",
     "output_type": "stream",
     "text": [
      "\u001b[33mDEPRECATION: Configuring installation scheme with distutils config files is deprecated and will no longer work in the near future. If you are using a Homebrew or Linuxbrew Python, please see discussion at https://github.com/Homebrew/homebrew-core/issues/76621\u001b[0m\u001b[33m\n",
      "\u001b[0mCollecting coloredlogs\n",
      "  Downloading coloredlogs-15.0.1-py2.py3-none-any.whl (46 kB)\n",
      "\u001b[2K     \u001b[38;2;114;156;31m━━━━━━━━━━━━━━━━━━━━━━━━━━━━━━━━━━━━━━━━\u001b[0m \u001b[32m46.0/46.0 kB\u001b[0m \u001b[31m1.6 MB/s\u001b[0m eta \u001b[36m0:00:00\u001b[0m\n",
      "\u001b[?25hCollecting humanfriendly>=9.1\n",
      "  Downloading humanfriendly-10.0-py2.py3-none-any.whl (86 kB)\n",
      "\u001b[2K     \u001b[38;2;114;156;31m━━━━━━━━━━━━━━━━━━━━━━━━━━━━━━━━━━━━━━━━\u001b[0m \u001b[32m86.8/86.8 kB\u001b[0m \u001b[31m2.7 MB/s\u001b[0m eta \u001b[36m0:00:00\u001b[0m\n",
      "\u001b[?25hInstalling collected packages: humanfriendly, coloredlogs\n",
      "\u001b[33m  DEPRECATION: Configuring installation scheme with distutils config files is deprecated and will no longer work in the near future. If you are using a Homebrew or Linuxbrew Python, please see discussion at https://github.com/Homebrew/homebrew-core/issues/76621\u001b[0m\u001b[33m\n",
      "\u001b[0m\u001b[33m  DEPRECATION: Configuring installation scheme with distutils config files is deprecated and will no longer work in the near future. If you are using a Homebrew or Linuxbrew Python, please see discussion at https://github.com/Homebrew/homebrew-core/issues/76621\u001b[0m\u001b[33m\n",
      "\u001b[0m\u001b[33mDEPRECATION: Configuring installation scheme with distutils config files is deprecated and will no longer work in the near future. If you are using a Homebrew or Linuxbrew Python, please see discussion at https://github.com/Homebrew/homebrew-core/issues/76621\u001b[0m\u001b[33m\n",
      "\u001b[0mSuccessfully installed coloredlogs-15.0.1 humanfriendly-10.0\n",
      "\n",
      "\u001b[1m[\u001b[0m\u001b[34;49mnotice\u001b[0m\u001b[1;39;49m]\u001b[0m\u001b[39;49m A new release of pip available: \u001b[0m\u001b[31;49m22.3.1\u001b[0m\u001b[39;49m -> \u001b[0m\u001b[32;49m23.3.2\u001b[0m\n",
      "\u001b[1m[\u001b[0m\u001b[34;49mnotice\u001b[0m\u001b[1;39;49m]\u001b[0m\u001b[39;49m To update, run: \u001b[0m\u001b[32;49mpython3.9 -m pip install --upgrade pip\u001b[0m\n",
      "Note: you may need to restart the kernel to use updated packages.\n"
     ]
    }
   ],
   "source": [
    "%pip install coloredlogs"
   ]
  },
  {
   "cell_type": "code",
   "execution_count": 3,
   "metadata": {},
   "outputs": [],
   "source": [
    "import pandas as pd\n",
    "import numpy as np\n",
    "\n",
    "import altair as alt\n",
    "import seaborn as sns"
   ]
  },
  {
   "cell_type": "markdown",
   "metadata": {},
   "source": [
    "### 1. Define parameters and Load model"
   ]
  },
  {
   "cell_type": "code",
   "execution_count": 41,
   "metadata": {},
   "outputs": [
    {
     "name": "stderr",
     "output_type": "stream",
     "text": [
      "2024-01-26 12:21:13 WaideMBP-3.bahnhof.se absl[83734] WARNING At this time, the v2.11+ optimizer `tf.keras.optimizers.Adam` runs slowly on M1/M2 Macs, please use the legacy Keras optimizer instead, located at `tf.keras.optimizers.legacy.Adam`.\n",
      "2024-01-26 12:21:13 WaideMBP-3.bahnhof.se absl[83734] WARNING `lr` is deprecated in Keras optimizer, please use `learning_rate` or use the legacy optimizer, e.g.,tf.keras.optimizers.legacy.Adam.\n"
     ]
    }
   ],
   "source": [
    "from trading_bot.agent import Agent\n",
    "\n",
    "model_name = 'model_dqn_GOOG_50'\n",
    "test_stock = 'data/NFLX.csv'\n",
    "window_size = 10\n",
    "debug = True\n",
    "\n",
    "agent = Agent(window_size, pretrained=True, model_name=model_name)"
   ]
  },
  {
   "cell_type": "markdown",
   "metadata": {},
   "source": [
    "### 2. Load test data"
   ]
  },
  {
   "cell_type": "code",
   "execution_count": 42,
   "metadata": {},
   "outputs": [
    {
     "name": "stderr",
     "output_type": "stream",
     "text": [
      "/var/folders/mp/xttjghwn76s09xxd4fmlxzfm0000gn/T/ipykernel_83734/308547104.py:9: UserWarning: The argument 'infer_datetime_format' is deprecated and will be removed in a future version. A strict version of it is now the default, see https://pandas.pydata.org/pdeps/0004-consistent-to-datetime-parsing.html. You can safely remove this argument.\n",
      "  dates = pd.to_datetime(dates, infer_datetime_format=True)\n"
     ]
    },
    {
     "data": {
      "text/html": [
       "<div>\n",
       "<style scoped>\n",
       "    .dataframe tbody tr th:only-of-type {\n",
       "        vertical-align: middle;\n",
       "    }\n",
       "\n",
       "    .dataframe tbody tr th {\n",
       "        vertical-align: top;\n",
       "    }\n",
       "\n",
       "    .dataframe thead th {\n",
       "        text-align: right;\n",
       "    }\n",
       "</style>\n",
       "<table border=\"1\" class=\"dataframe\">\n",
       "  <thead>\n",
       "    <tr style=\"text-align: right;\">\n",
       "      <th></th>\n",
       "      <th>date</th>\n",
       "      <th>actual</th>\n",
       "    </tr>\n",
       "  </thead>\n",
       "  <tbody>\n",
       "    <tr>\n",
       "      <th>0</th>\n",
       "      <td>2010-08-12</td>\n",
       "      <td>19.007143</td>\n",
       "    </tr>\n",
       "    <tr>\n",
       "      <th>1</th>\n",
       "      <td>2010-08-13</td>\n",
       "      <td>18.894285</td>\n",
       "    </tr>\n",
       "    <tr>\n",
       "      <th>2</th>\n",
       "      <td>2010-08-16</td>\n",
       "      <td>19.602858</td>\n",
       "    </tr>\n",
       "    <tr>\n",
       "      <th>3</th>\n",
       "      <td>2010-08-17</td>\n",
       "      <td>18.995714</td>\n",
       "    </tr>\n",
       "    <tr>\n",
       "      <th>4</th>\n",
       "      <td>2010-08-18</td>\n",
       "      <td>17.957144</td>\n",
       "    </tr>\n",
       "  </tbody>\n",
       "</table>\n",
       "</div>"
      ],
      "text/plain": [
       "        date     actual\n",
       "0 2010-08-12  19.007143\n",
       "1 2010-08-13  18.894285\n",
       "2 2010-08-16  19.602858\n",
       "3 2010-08-17  18.995714\n",
       "4 2010-08-18  17.957144"
      ]
     },
     "execution_count": 42,
     "metadata": {},
     "output_type": "execute_result"
    }
   ],
   "source": [
    "# read csv into dataframe\n",
    "df = pd.read_csv(test_stock)\n",
    "# filter out the desired features\n",
    "df = df[['Date', 'Adj Close']]\n",
    "# rename feature column names\n",
    "df = df.rename(columns={'Adj Close': 'actual', 'Date': 'date'})\n",
    "# convert dates from object to DateTime type\n",
    "dates = df['date']\n",
    "dates = pd.to_datetime(dates, infer_datetime_format=True)\n",
    "df['date'] = dates\n",
    "\n",
    "df.head()"
   ]
  },
  {
   "cell_type": "markdown",
   "metadata": {},
   "source": [
    "### 3. Running Eval"
   ]
  },
  {
   "cell_type": "code",
   "execution_count": 43,
   "metadata": {},
   "outputs": [
    {
     "name": "stderr",
     "output_type": "stream",
     "text": [
      "2024-01-26 12:21:19 WaideMBP-3.bahnhof.se root[83734] DEBUG switching to TensorFlow for CPU\n",
      "2024-01-26 12:21:19 WaideMBP-3.bahnhof.se root[83734] DEBUG Buy at: $19.01\n"
     ]
    },
    {
     "name": "stdout",
     "output_type": "stream",
     "text": [
      "1/1 [==============================] - 0s 102ms/step\n"
     ]
    },
    {
     "name": "stderr",
     "output_type": "stream",
     "text": [
      "2024-01-26 12:21:19 WaideMBP-3.bahnhof.se root[83734] DEBUG Sell at: $18.89 | Position: -$0.11\n"
     ]
    },
    {
     "name": "stdout",
     "output_type": "stream",
     "text": [
      "1/1 [==============================] - 0s 15ms/step\n",
      "1/1 [==============================] - 0s 14ms/step\n",
      "1/1 [==============================] - 0s 14ms/step\n"
     ]
    },
    {
     "name": "stderr",
     "output_type": "stream",
     "text": [
      "2024-01-26 12:21:19 WaideMBP-3.bahnhof.se root[83734] DEBUG Buy at: $17.96\n"
     ]
    },
    {
     "name": "stdout",
     "output_type": "stream",
     "text": [
      "1/1 [==============================] - 0s 15ms/step\n"
     ]
    },
    {
     "name": "stderr",
     "output_type": "stream",
     "text": [
      "2024-01-26 12:21:19 WaideMBP-3.bahnhof.se root[83734] DEBUG Sell at: $18.32 | Position: +$0.36\n"
     ]
    },
    {
     "name": "stdout",
     "output_type": "stream",
     "text": [
      "1/1 [==============================] - 0s 15ms/step\n",
      "1/1 [==============================] - 0s 15ms/step\n",
      "1/1 [==============================] - 0s 14ms/step\n",
      "1/1 [==============================] - 0s 14ms/step\n",
      "1/1 [==============================] - 0s 14ms/step\n",
      "1/1 [==============================] - 0s 14ms/step\n",
      "1/1 [==============================] - 0s 14ms/step\n"
     ]
    },
    {
     "name": "stderr",
     "output_type": "stream",
     "text": [
      "2024-01-26 12:21:20 WaideMBP-3.bahnhof.se root[83734] DEBUG Buy at: $17.59\n"
     ]
    },
    {
     "name": "stdout",
     "output_type": "stream",
     "text": [
      "1/1 [==============================] - 0s 15ms/step\n"
     ]
    },
    {
     "name": "stderr",
     "output_type": "stream",
     "text": [
      "2024-01-26 12:21:20 WaideMBP-3.bahnhof.se root[83734] DEBUG Sell at: $17.93 | Position: +$0.35\n"
     ]
    },
    {
     "name": "stdout",
     "output_type": "stream",
     "text": [
      "1/1 [==============================] - 0s 14ms/step\n",
      "1/1 [==============================] - 0s 14ms/step\n",
      "1/1 [==============================] - 0s 14ms/step\n",
      "1/1 [==============================] - 0s 15ms/step\n",
      "1/1 [==============================] - 0s 15ms/step\n",
      "1/1 [==============================] - 0s 14ms/step\n",
      "1/1 [==============================] - 0s 14ms/step\n",
      "1/1 [==============================] - 0s 14ms/step\n",
      "1/1 [==============================] - 0s 14ms/step\n",
      "1/1 [==============================] - 0s 14ms/step\n",
      "1/1 [==============================] - 0s 14ms/step\n",
      "1/1 [==============================] - 0s 14ms/step\n",
      "1/1 [==============================] - 0s 15ms/step\n",
      "1/1 [==============================] - 0s 15ms/step\n",
      "1/1 [==============================] - 0s 14ms/step\n",
      "1/1 [==============================] - 0s 14ms/step\n",
      "1/1 [==============================] - 0s 14ms/step\n",
      "1/1 [==============================] - 0s 14ms/step\n",
      "1/1 [==============================] - 0s 15ms/step\n",
      "1/1 [==============================] - 0s 14ms/step\n",
      "1/1 [==============================] - 0s 14ms/step\n",
      "1/1 [==============================] - 0s 14ms/step\n",
      "1/1 [==============================] - 0s 14ms/step\n",
      "1/1 [==============================] - 0s 14ms/step\n",
      "1/1 [==============================] - 0s 14ms/step\n",
      "1/1 [==============================] - 0s 14ms/step\n",
      "1/1 [==============================] - 0s 15ms/step\n",
      "1/1 [==============================] - 0s 14ms/step\n",
      "1/1 [==============================] - 0s 14ms/step\n",
      "1/1 [==============================] - 0s 14ms/step\n"
     ]
    },
    {
     "name": "stderr",
     "output_type": "stream",
     "text": [
      "2024-01-26 12:21:21 WaideMBP-3.bahnhof.se root[83734] DEBUG Buy at: $22.09\n"
     ]
    },
    {
     "name": "stdout",
     "output_type": "stream",
     "text": [
      "1/1 [==============================] - 0s 14ms/step\n"
     ]
    },
    {
     "name": "stderr",
     "output_type": "stream",
     "text": [
      "2024-01-26 12:21:21 WaideMBP-3.bahnhof.se root[83734] DEBUG Buy at: $21.83\n"
     ]
    },
    {
     "name": "stdout",
     "output_type": "stream",
     "text": [
      "1/1 [==============================] - 0s 14ms/step\n"
     ]
    },
    {
     "name": "stderr",
     "output_type": "stream",
     "text": [
      "2024-01-26 12:21:21 WaideMBP-3.bahnhof.se root[83734] DEBUG Sell at: $22.25 | Position: +$0.16\n"
     ]
    },
    {
     "name": "stdout",
     "output_type": "stream",
     "text": [
      "1/1 [==============================] - 0s 14ms/step\n"
     ]
    },
    {
     "name": "stderr",
     "output_type": "stream",
     "text": [
      "2024-01-26 12:21:21 WaideMBP-3.bahnhof.se root[83734] DEBUG Buy at: $21.86\n"
     ]
    },
    {
     "name": "stdout",
     "output_type": "stream",
     "text": [
      "1/1 [==============================] - 0s 14ms/step\n"
     ]
    },
    {
     "name": "stderr",
     "output_type": "stream",
     "text": [
      "2024-01-26 12:21:21 WaideMBP-3.bahnhof.se root[83734] DEBUG Buy at: $21.33\n"
     ]
    },
    {
     "name": "stdout",
     "output_type": "stream",
     "text": [
      "1/1 [==============================] - 0s 15ms/step\n"
     ]
    },
    {
     "name": "stderr",
     "output_type": "stream",
     "text": [
      "2024-01-26 12:21:21 WaideMBP-3.bahnhof.se root[83734] DEBUG Sell at: $21.88 | Position: +$0.05\n"
     ]
    },
    {
     "name": "stdout",
     "output_type": "stream",
     "text": [
      "1/1 [==============================] - 0s 14ms/step\n"
     ]
    },
    {
     "name": "stderr",
     "output_type": "stream",
     "text": [
      "2024-01-26 12:21:21 WaideMBP-3.bahnhof.se root[83734] DEBUG Sell at: $24.67 | Position: +$2.81\n"
     ]
    },
    {
     "name": "stdout",
     "output_type": "stream",
     "text": [
      "1/1 [==============================] - 0s 15ms/step\n"
     ]
    },
    {
     "name": "stderr",
     "output_type": "stream",
     "text": [
      "2024-01-26 12:21:21 WaideMBP-3.bahnhof.se root[83734] DEBUG Sell at: $24.01 | Position: +$2.68\n"
     ]
    },
    {
     "name": "stdout",
     "output_type": "stream",
     "text": [
      "1/1 [==============================] - 0s 15ms/step\n",
      "1/1 [==============================] - 0s 14ms/step\n",
      "1/1 [==============================] - 0s 14ms/step\n",
      "1/1 [==============================] - 0s 14ms/step\n",
      "1/1 [==============================] - 0s 14ms/step\n",
      "1/1 [==============================] - 0s 14ms/step\n",
      "1/1 [==============================] - 0s 14ms/step\n",
      "1/1 [==============================] - 0s 14ms/step\n",
      "1/1 [==============================] - 0s 15ms/step\n",
      "1/1 [==============================] - 0s 14ms/step\n",
      "1/1 [==============================] - 0s 14ms/step\n",
      "1/1 [==============================] - 0s 14ms/step\n",
      "1/1 [==============================] - 0s 15ms/step\n",
      "1/1 [==============================] - 0s 15ms/step\n"
     ]
    },
    {
     "name": "stderr",
     "output_type": "stream",
     "text": [
      "2024-01-26 12:21:22 WaideMBP-3.bahnhof.se root[83734] DEBUG Buy at: $25.02\n"
     ]
    },
    {
     "name": "stdout",
     "output_type": "stream",
     "text": [
      "1/1 [==============================] - 0s 14ms/step\n"
     ]
    },
    {
     "name": "stderr",
     "output_type": "stream",
     "text": [
      "2024-01-26 12:21:22 WaideMBP-3.bahnhof.se root[83734] DEBUG Buy at: $24.71\n"
     ]
    },
    {
     "name": "stdout",
     "output_type": "stream",
     "text": [
      "1/1 [==============================] - 0s 15ms/step\n"
     ]
    },
    {
     "name": "stderr",
     "output_type": "stream",
     "text": [
      "2024-01-26 12:21:22 WaideMBP-3.bahnhof.se root[83734] DEBUG Sell at: $24.04 | Position: -$0.98\n"
     ]
    },
    {
     "name": "stdout",
     "output_type": "stream",
     "text": [
      "1/1 [==============================] - 0s 14ms/step\n"
     ]
    },
    {
     "name": "stderr",
     "output_type": "stream",
     "text": [
      "2024-01-26 12:21:22 WaideMBP-3.bahnhof.se root[83734] DEBUG Sell at: $23.63 | Position: -$1.09\n"
     ]
    },
    {
     "name": "stdout",
     "output_type": "stream",
     "text": [
      "1/1 [==============================] - 0s 14ms/step\n",
      "1/1 [==============================] - 0s 14ms/step\n",
      "1/1 [==============================] - 0s 13ms/step\n",
      "1/1 [==============================] - 0s 14ms/step\n",
      "1/1 [==============================] - 0s 14ms/step\n",
      "1/1 [==============================] - 0s 22ms/step\n",
      "1/1 [==============================] - 0s 15ms/step\n",
      "1/1 [==============================] - 0s 14ms/step\n",
      "1/1 [==============================] - 0s 15ms/step\n",
      "1/1 [==============================] - 0s 15ms/step\n",
      "1/1 [==============================] - 0s 15ms/step\n",
      "1/1 [==============================] - 0s 14ms/step\n"
     ]
    },
    {
     "name": "stderr",
     "output_type": "stream",
     "text": [
      "2024-01-26 12:21:22 WaideMBP-3.bahnhof.se root[83734] DEBUG Buy at: $26.49\n"
     ]
    },
    {
     "name": "stdout",
     "output_type": "stream",
     "text": [
      "1/1 [==============================] - 0s 14ms/step\n"
     ]
    },
    {
     "name": "stderr",
     "output_type": "stream",
     "text": [
      "2024-01-26 12:21:22 WaideMBP-3.bahnhof.se root[83734] DEBUG Sell at: $27.64 | Position: +$1.15\n"
     ]
    },
    {
     "name": "stdout",
     "output_type": "stream",
     "text": [
      "1/1 [==============================] - 0s 14ms/step\n",
      "1/1 [==============================] - 0s 14ms/step\n",
      "1/1 [==============================] - 0s 14ms/step\n",
      "1/1 [==============================] - 0s 14ms/step\n",
      "1/1 [==============================] - 0s 15ms/step\n",
      "1/1 [==============================] - 0s 14ms/step\n"
     ]
    },
    {
     "name": "stderr",
     "output_type": "stream",
     "text": [
      "2024-01-26 12:21:22 WaideMBP-3.bahnhof.se root[83734] DEBUG Buy at: $25.49\n"
     ]
    },
    {
     "name": "stdout",
     "output_type": "stream",
     "text": [
      "1/1 [==============================] - 0s 14ms/step\n"
     ]
    },
    {
     "name": "stderr",
     "output_type": "stream",
     "text": [
      "2024-01-26 12:21:22 WaideMBP-3.bahnhof.se root[83734] DEBUG Sell at: $25.50 | Position: +$0.01\n"
     ]
    },
    {
     "name": "stdout",
     "output_type": "stream",
     "text": [
      "1/1 [==============================] - 0s 14ms/step\n",
      "1/1 [==============================] - 0s 14ms/step\n",
      "1/1 [==============================] - 0s 14ms/step\n"
     ]
    },
    {
     "name": "stderr",
     "output_type": "stream",
     "text": [
      "2024-01-26 12:21:23 WaideMBP-3.bahnhof.se root[83734] DEBUG Buy at: $25.44\n"
     ]
    },
    {
     "name": "stdout",
     "output_type": "stream",
     "text": [
      "1/1 [==============================] - 0s 14ms/step\n"
     ]
    },
    {
     "name": "stderr",
     "output_type": "stream",
     "text": [
      "2024-01-26 12:21:23 WaideMBP-3.bahnhof.se root[83734] DEBUG Sell at: $26.61 | Position: +$1.17\n"
     ]
    },
    {
     "name": "stdout",
     "output_type": "stream",
     "text": [
      "1/1 [==============================] - 0s 13ms/step\n",
      "1/1 [==============================] - 0s 14ms/step\n",
      "1/1 [==============================] - 0s 14ms/step\n"
     ]
    },
    {
     "name": "stderr",
     "output_type": "stream",
     "text": [
      "2024-01-26 12:21:23 WaideMBP-3.bahnhof.se root[83734] DEBUG Buy at: $25.72\n"
     ]
    },
    {
     "name": "stdout",
     "output_type": "stream",
     "text": [
      "1/1 [==============================] - 0s 13ms/step\n"
     ]
    },
    {
     "name": "stderr",
     "output_type": "stream",
     "text": [
      "2024-01-26 12:21:23 WaideMBP-3.bahnhof.se root[83734] DEBUG Sell at: $26.24 | Position: +$0.52\n"
     ]
    },
    {
     "name": "stdout",
     "output_type": "stream",
     "text": [
      "1/1 [==============================] - 0s 14ms/step\n",
      "1/1 [==============================] - 0s 14ms/step\n",
      "1/1 [==============================] - 0s 14ms/step\n"
     ]
    },
    {
     "name": "stderr",
     "output_type": "stream",
     "text": [
      "2024-01-26 12:21:23 WaideMBP-3.bahnhof.se root[83734] DEBUG Buy at: $25.10\n"
     ]
    },
    {
     "name": "stdout",
     "output_type": "stream",
     "text": [
      "1/1 [==============================] - 0s 14ms/step\n"
     ]
    },
    {
     "name": "stderr",
     "output_type": "stream",
     "text": [
      "2024-01-26 12:21:23 WaideMBP-3.bahnhof.se root[83734] DEBUG Sell at: $25.49 | Position: +$0.39\n"
     ]
    },
    {
     "name": "stdout",
     "output_type": "stream",
     "text": [
      "1/1 [==============================] - 0s 15ms/step\n",
      "1/1 [==============================] - 0s 14ms/step\n",
      "1/1 [==============================] - 0s 14ms/step\n"
     ]
    },
    {
     "name": "stderr",
     "output_type": "stream",
     "text": [
      "2024-01-26 12:21:23 WaideMBP-3.bahnhof.se root[83734] DEBUG Buy at: $25.43\n"
     ]
    },
    {
     "name": "stdout",
     "output_type": "stream",
     "text": [
      "1/1 [==============================] - 0s 14ms/step\n"
     ]
    },
    {
     "name": "stderr",
     "output_type": "stream",
     "text": [
      "2024-01-26 12:21:23 WaideMBP-3.bahnhof.se root[83734] DEBUG Sell at: $25.61 | Position: +$0.19\n"
     ]
    },
    {
     "name": "stdout",
     "output_type": "stream",
     "text": [
      "1/1 [==============================] - 0s 14ms/step\n",
      "1/1 [==============================] - 0s 14ms/step\n",
      "1/1 [==============================] - 0s 14ms/step\n",
      "1/1 [==============================] - 0s 14ms/step\n",
      "1/1 [==============================] - 0s 14ms/step\n",
      "1/1 [==============================] - 0s 14ms/step\n",
      "1/1 [==============================] - 0s 14ms/step\n",
      "1/1 [==============================] - 0s 14ms/step\n",
      "1/1 [==============================] - 0s 14ms/step\n",
      "1/1 [==============================] - 0s 15ms/step\n",
      "1/1 [==============================] - 0s 23ms/step\n",
      "1/1 [==============================] - 0s 16ms/step\n",
      "1/1 [==============================] - 0s 15ms/step\n",
      "1/1 [==============================] - 0s 14ms/step\n",
      "1/1 [==============================] - 0s 13ms/step\n",
      "1/1 [==============================] - 0s 14ms/step\n",
      "1/1 [==============================] - 0s 14ms/step\n"
     ]
    },
    {
     "name": "stderr",
     "output_type": "stream",
     "text": [
      "2024-01-26 12:21:24 WaideMBP-3.bahnhof.se root[83734] DEBUG Buy at: $30.18\n"
     ]
    },
    {
     "name": "stdout",
     "output_type": "stream",
     "text": [
      "1/1 [==============================] - 0s 14ms/step\n"
     ]
    },
    {
     "name": "stderr",
     "output_type": "stream",
     "text": [
      "2024-01-26 12:21:24 WaideMBP-3.bahnhof.se root[83734] DEBUG Sell at: $30.21 | Position: +$0.03\n"
     ]
    },
    {
     "name": "stdout",
     "output_type": "stream",
     "text": [
      "1/1 [==============================] - 0s 14ms/step\n",
      "1/1 [==============================] - 0s 14ms/step\n",
      "1/1 [==============================] - 0s 14ms/step\n",
      "1/1 [==============================] - 0s 14ms/step\n",
      "1/1 [==============================] - 0s 14ms/step\n",
      "1/1 [==============================] - 0s 14ms/step\n",
      "1/1 [==============================] - 0s 14ms/step\n",
      "1/1 [==============================] - 0s 14ms/step\n",
      "1/1 [==============================] - 0s 14ms/step\n",
      "1/1 [==============================] - 0s 14ms/step\n",
      "1/1 [==============================] - 0s 14ms/step\n",
      "1/1 [==============================] - 0s 14ms/step\n",
      "1/1 [==============================] - 0s 14ms/step\n"
     ]
    },
    {
     "name": "stderr",
     "output_type": "stream",
     "text": [
      "2024-01-26 12:21:24 WaideMBP-3.bahnhof.se root[83734] DEBUG Buy at: $30.17\n"
     ]
    },
    {
     "name": "stdout",
     "output_type": "stream",
     "text": [
      "1/1 [==============================] - 0s 14ms/step\n"
     ]
    },
    {
     "name": "stderr",
     "output_type": "stream",
     "text": [
      "2024-01-26 12:21:24 WaideMBP-3.bahnhof.se root[83734] DEBUG Sell at: $30.74 | Position: +$0.57\n"
     ]
    },
    {
     "name": "stdout",
     "output_type": "stream",
     "text": [
      "1/1 [==============================] - 0s 14ms/step\n",
      "1/1 [==============================] - 0s 14ms/step\n",
      "1/1 [==============================] - 0s 14ms/step\n",
      "1/1 [==============================] - 0s 14ms/step\n",
      "1/1 [==============================] - 0s 14ms/step\n",
      "1/1 [==============================] - 0s 14ms/step\n",
      "1/1 [==============================] - 0s 14ms/step\n"
     ]
    },
    {
     "name": "stderr",
     "output_type": "stream",
     "text": [
      "2024-01-26 12:21:25 WaideMBP-3.bahnhof.se root[83734] DEBUG Buy at: $29.63\n"
     ]
    },
    {
     "name": "stdout",
     "output_type": "stream",
     "text": [
      "1/1 [==============================] - 0s 14ms/step\n"
     ]
    },
    {
     "name": "stderr",
     "output_type": "stream",
     "text": [
      "2024-01-26 12:21:25 WaideMBP-3.bahnhof.se root[83734] DEBUG Sell at: $27.92 | Position: -$1.71\n"
     ]
    },
    {
     "name": "stdout",
     "output_type": "stream",
     "text": [
      "1/1 [==============================] - 0s 14ms/step\n",
      "1/1 [==============================] - 0s 14ms/step\n",
      "1/1 [==============================] - 0s 14ms/step\n",
      "1/1 [==============================] - 0s 14ms/step\n"
     ]
    },
    {
     "name": "stderr",
     "output_type": "stream",
     "text": [
      "2024-01-26 12:21:25 WaideMBP-3.bahnhof.se root[83734] DEBUG Buy at: $28.74\n"
     ]
    },
    {
     "name": "stdout",
     "output_type": "stream",
     "text": [
      "1/1 [==============================] - 0s 13ms/step\n"
     ]
    },
    {
     "name": "stderr",
     "output_type": "stream",
     "text": [
      "2024-01-26 12:21:25 WaideMBP-3.bahnhof.se root[83734] DEBUG Sell at: $31.02 | Position: +$2.27\n"
     ]
    },
    {
     "name": "stdout",
     "output_type": "stream",
     "text": [
      "1/1 [==============================] - 0s 14ms/step\n",
      "1/1 [==============================] - 0s 14ms/step\n",
      "1/1 [==============================] - 0s 14ms/step\n",
      "1/1 [==============================] - 0s 15ms/step\n"
     ]
    },
    {
     "name": "stderr",
     "output_type": "stream",
     "text": [
      "2024-01-26 12:21:25 WaideMBP-3.bahnhof.se root[83734] DEBUG Buy at: $30.41\n"
     ]
    },
    {
     "name": "stdout",
     "output_type": "stream",
     "text": [
      "1/1 [==============================] - 0s 15ms/step\n"
     ]
    },
    {
     "name": "stderr",
     "output_type": "stream",
     "text": [
      "2024-01-26 12:21:25 WaideMBP-3.bahnhof.se root[83734] DEBUG Sell at: $31.63 | Position: +$1.22\n"
     ]
    },
    {
     "name": "stdout",
     "output_type": "stream",
     "text": [
      "1/1 [==============================] - 0s 14ms/step\n",
      "1/1 [==============================] - 0s 14ms/step\n",
      "1/1 [==============================] - 0s 14ms/step\n",
      "1/1 [==============================] - 0s 15ms/step\n",
      "1/1 [==============================] - 0s 14ms/step\n",
      "1/1 [==============================] - 0s 14ms/step\n",
      "1/1 [==============================] - 0s 14ms/step\n",
      "1/1 [==============================] - 0s 16ms/step\n",
      "1/1 [==============================] - 0s 15ms/step\n",
      "1/1 [==============================] - 0s 17ms/step\n",
      "1/1 [==============================] - 0s 15ms/step\n"
     ]
    },
    {
     "name": "stderr",
     "output_type": "stream",
     "text": [
      "2024-01-26 12:21:25 WaideMBP-3.bahnhof.se root[83734] DEBUG Buy at: $34.28\n"
     ]
    },
    {
     "name": "stdout",
     "output_type": "stream",
     "text": [
      "1/1 [==============================] - 0s 16ms/step\n"
     ]
    },
    {
     "name": "stderr",
     "output_type": "stream",
     "text": [
      "2024-01-26 12:21:25 WaideMBP-3.bahnhof.se root[83734] DEBUG Buy at: $33.42\n"
     ]
    },
    {
     "name": "stdout",
     "output_type": "stream",
     "text": [
      "1/1 [==============================] - 0s 14ms/step\n"
     ]
    },
    {
     "name": "stderr",
     "output_type": "stream",
     "text": [
      "2024-01-26 12:21:26 WaideMBP-3.bahnhof.se root[83734] DEBUG Sell at: $33.55 | Position: -$0.73\n"
     ]
    },
    {
     "name": "stdout",
     "output_type": "stream",
     "text": [
      "1/1 [==============================] - 0s 14ms/step\n"
     ]
    },
    {
     "name": "stderr",
     "output_type": "stream",
     "text": [
      "2024-01-26 12:21:26 WaideMBP-3.bahnhof.se root[83734] DEBUG Sell at: $32.59 | Position: -$0.83\n"
     ]
    },
    {
     "name": "stdout",
     "output_type": "stream",
     "text": [
      "1/1 [==============================] - 0s 14ms/step\n",
      "1/1 [==============================] - 0s 14ms/step\n",
      "1/1 [==============================] - 0s 14ms/step\n",
      "1/1 [==============================] - 0s 14ms/step\n"
     ]
    },
    {
     "name": "stderr",
     "output_type": "stream",
     "text": [
      "2024-01-26 12:21:26 WaideMBP-3.bahnhof.se root[83734] DEBUG Buy at: $33.64\n"
     ]
    },
    {
     "name": "stdout",
     "output_type": "stream",
     "text": [
      "1/1 [==============================] - 0s 14ms/step\n"
     ]
    },
    {
     "name": "stderr",
     "output_type": "stream",
     "text": [
      "2024-01-26 12:21:26 WaideMBP-3.bahnhof.se root[83734] DEBUG Sell at: $33.33 | Position: -$0.31\n"
     ]
    },
    {
     "name": "stdout",
     "output_type": "stream",
     "text": [
      "1/1 [==============================] - 0s 14ms/step\n",
      "1/1 [==============================] - 0s 16ms/step\n",
      "1/1 [==============================] - 0s 17ms/step\n",
      "1/1 [==============================] - 0s 16ms/step\n",
      "1/1 [==============================] - 0s 15ms/step\n",
      "1/1 [==============================] - 0s 15ms/step\n",
      "1/1 [==============================] - 0s 15ms/step\n",
      "1/1 [==============================] - 0s 14ms/step\n",
      "1/1 [==============================] - 0s 52ms/step\n",
      "1/1 [==============================] - 0s 14ms/step\n",
      "1/1 [==============================] - 0s 14ms/step\n",
      "1/1 [==============================] - 0s 14ms/step\n",
      "1/1 [==============================] - 0s 14ms/step\n",
      "1/1 [==============================] - 0s 14ms/step\n",
      "1/1 [==============================] - 0s 17ms/step\n",
      "1/1 [==============================] - 0s 15ms/step\n",
      "1/1 [==============================] - 0s 15ms/step\n",
      "1/1 [==============================] - 0s 15ms/step\n",
      "1/1 [==============================] - 0s 15ms/step\n"
     ]
    },
    {
     "name": "stderr",
     "output_type": "stream",
     "text": [
      "2024-01-26 12:21:27 WaideMBP-3.bahnhof.se root[83734] DEBUG Buy at: $33.87\n"
     ]
    },
    {
     "name": "stdout",
     "output_type": "stream",
     "text": [
      "1/1 [==============================] - 0s 14ms/step\n"
     ]
    },
    {
     "name": "stderr",
     "output_type": "stream",
     "text": [
      "2024-01-26 12:21:27 WaideMBP-3.bahnhof.se root[83734] DEBUG Buy at: $33.85\n"
     ]
    },
    {
     "name": "stdout",
     "output_type": "stream",
     "text": [
      "1/1 [==============================] - 0s 14ms/step\n"
     ]
    },
    {
     "name": "stderr",
     "output_type": "stream",
     "text": [
      "2024-01-26 12:21:27 WaideMBP-3.bahnhof.se root[83734] DEBUG Sell at: $34.65 | Position: +$0.78\n"
     ]
    },
    {
     "name": "stdout",
     "output_type": "stream",
     "text": [
      "1/1 [==============================] - 0s 14ms/step\n"
     ]
    },
    {
     "name": "stderr",
     "output_type": "stream",
     "text": [
      "2024-01-26 12:21:27 WaideMBP-3.bahnhof.se root[83734] DEBUG Sell at: $34.68 | Position: +$0.83\n"
     ]
    },
    {
     "name": "stdout",
     "output_type": "stream",
     "text": [
      "1/1 [==============================] - 0s 14ms/step\n",
      "1/1 [==============================] - 0s 14ms/step\n",
      "1/1 [==============================] - 0s 14ms/step\n",
      "1/1 [==============================] - 0s 15ms/step\n",
      "1/1 [==============================] - 0s 14ms/step\n",
      "1/1 [==============================] - 0s 14ms/step\n",
      "1/1 [==============================] - 0s 14ms/step\n",
      "1/1 [==============================] - 0s 14ms/step\n",
      "1/1 [==============================] - 0s 14ms/step\n",
      "1/1 [==============================] - 0s 14ms/step\n",
      "1/1 [==============================] - 0s 14ms/step\n",
      "1/1 [==============================] - 0s 14ms/step\n"
     ]
    },
    {
     "name": "stderr",
     "output_type": "stream",
     "text": [
      "2024-01-26 12:21:27 WaideMBP-3.bahnhof.se root[83734] DEBUG Buy at: $37.67\n"
     ]
    },
    {
     "name": "stdout",
     "output_type": "stream",
     "text": [
      "1/1 [==============================] - 0s 14ms/step\n"
     ]
    },
    {
     "name": "stderr",
     "output_type": "stream",
     "text": [
      "2024-01-26 12:21:27 WaideMBP-3.bahnhof.se root[83734] DEBUG Sell at: $37.47 | Position: -$0.20\n"
     ]
    },
    {
     "name": "stdout",
     "output_type": "stream",
     "text": [
      "1/1 [==============================] - 0s 14ms/step\n",
      "1/1 [==============================] - 0s 14ms/step\n",
      "1/1 [==============================] - 0s 20ms/step\n",
      "1/1 [==============================] - 0s 14ms/step\n",
      "1/1 [==============================] - 0s 14ms/step\n",
      "1/1 [==============================] - 0s 15ms/step\n"
     ]
    },
    {
     "name": "stderr",
     "output_type": "stream",
     "text": [
      "2024-01-26 12:21:27 WaideMBP-3.bahnhof.se root[83734] DEBUG Buy at: $35.61\n"
     ]
    },
    {
     "name": "stdout",
     "output_type": "stream",
     "text": [
      "1/1 [==============================] - 0s 14ms/step\n"
     ]
    },
    {
     "name": "stderr",
     "output_type": "stream",
     "text": [
      "2024-01-26 12:21:28 WaideMBP-3.bahnhof.se root[83734] DEBUG Sell at: $35.10 | Position: -$0.52\n"
     ]
    },
    {
     "name": "stdout",
     "output_type": "stream",
     "text": [
      "1/1 [==============================] - 0s 14ms/step\n",
      "1/1 [==============================] - 0s 14ms/step\n",
      "1/1 [==============================] - 0s 15ms/step\n",
      "1/1 [==============================] - 0s 14ms/step\n",
      "1/1 [==============================] - 0s 14ms/step\n",
      "1/1 [==============================] - 0s 14ms/step\n",
      "1/1 [==============================] - 0s 14ms/step\n",
      "1/1 [==============================] - 0s 14ms/step\n",
      "1/1 [==============================] - 0s 14ms/step\n"
     ]
    },
    {
     "name": "stderr",
     "output_type": "stream",
     "text": [
      "2024-01-26 12:21:28 WaideMBP-3.bahnhof.se root[83734] DEBUG Buy at: $37.53\n"
     ]
    },
    {
     "name": "stdout",
     "output_type": "stream",
     "text": [
      "1/1 [==============================] - 0s 13ms/step\n"
     ]
    },
    {
     "name": "stderr",
     "output_type": "stream",
     "text": [
      "2024-01-26 12:21:28 WaideMBP-3.bahnhof.se root[83734] DEBUG Sell at: $38.28 | Position: +$0.76\n"
     ]
    },
    {
     "name": "stdout",
     "output_type": "stream",
     "text": [
      "1/1 [==============================] - 0s 17ms/step\n",
      "1/1 [==============================] - 0s 15ms/step\n",
      "1/1 [==============================] - 0s 14ms/step\n",
      "1/1 [==============================] - 0s 14ms/step\n",
      "1/1 [==============================] - 0s 14ms/step\n",
      "1/1 [==============================] - 0s 14ms/step\n",
      "1/1 [==============================] - 0s 15ms/step\n",
      "1/1 [==============================] - 0s 16ms/step\n",
      "1/1 [==============================] - 0s 71ms/step\n",
      "1/1 [==============================] - 0s 15ms/step\n"
     ]
    },
    {
     "name": "stderr",
     "output_type": "stream",
     "text": [
      "2024-01-26 12:21:28 WaideMBP-3.bahnhof.se root[83734] DEBUG Buy at: $39.86\n"
     ]
    },
    {
     "name": "stdout",
     "output_type": "stream",
     "text": [
      "1/1 [==============================] - 0s 14ms/step\n"
     ]
    },
    {
     "name": "stderr",
     "output_type": "stream",
     "text": [
      "2024-01-26 12:21:28 WaideMBP-3.bahnhof.se root[83734] DEBUG Sell at: $41.04 | Position: +$1.18\n"
     ]
    },
    {
     "name": "stdout",
     "output_type": "stream",
     "text": [
      "1/1 [==============================] - 0s 14ms/step\n",
      "1/1 [==============================] - 0s 14ms/step\n"
     ]
    },
    {
     "name": "stderr",
     "output_type": "stream",
     "text": [
      "2024-01-26 12:21:29 WaideMBP-3.bahnhof.se root[83734] DEBUG Buy at: $39.40\n"
     ]
    },
    {
     "name": "stdout",
     "output_type": "stream",
     "text": [
      "1/1 [==============================] - 0s 14ms/step\n"
     ]
    },
    {
     "name": "stderr",
     "output_type": "stream",
     "text": [
      "2024-01-26 12:21:29 WaideMBP-3.bahnhof.se root[83734] DEBUG Sell at: $39.51 | Position: +$0.11\n"
     ]
    },
    {
     "name": "stdout",
     "output_type": "stream",
     "text": [
      "1/1 [==============================] - 0s 14ms/step\n",
      "1/1 [==============================] - 0s 14ms/step\n",
      "1/1 [==============================] - 0s 14ms/step\n",
      "1/1 [==============================] - 0s 13ms/step\n"
     ]
    },
    {
     "name": "stderr",
     "output_type": "stream",
     "text": [
      "2024-01-26 12:21:29 WaideMBP-3.bahnhof.se root[83734] DEBUG Buy at: $38.09\n"
     ]
    },
    {
     "name": "stdout",
     "output_type": "stream",
     "text": [
      "1/1 [==============================] - 0s 13ms/step\n"
     ]
    },
    {
     "name": "stderr",
     "output_type": "stream",
     "text": [
      "2024-01-26 12:21:29 WaideMBP-3.bahnhof.se root[83734] DEBUG Sell at: $38.00 | Position: -$0.09\n"
     ]
    },
    {
     "name": "stdout",
     "output_type": "stream",
     "text": [
      "1/1 [==============================] - 0s 14ms/step\n"
     ]
    },
    {
     "name": "stderr",
     "output_type": "stream",
     "text": [
      "2024-01-26 12:21:29 WaideMBP-3.bahnhof.se root[83734] DEBUG Buy at: $37.63\n"
     ]
    },
    {
     "name": "stdout",
     "output_type": "stream",
     "text": [
      "1/1 [==============================] - 0s 13ms/step\n"
     ]
    },
    {
     "name": "stderr",
     "output_type": "stream",
     "text": [
      "2024-01-26 12:21:29 WaideMBP-3.bahnhof.se root[83734] DEBUG Sell at: $36.74 | Position: -$0.88\n"
     ]
    },
    {
     "name": "stdout",
     "output_type": "stream",
     "text": [
      "1/1 [==============================] - 0s 14ms/step\n",
      "1/1 [==============================] - 0s 13ms/step\n",
      "1/1 [==============================] - 0s 14ms/step\n"
     ]
    },
    {
     "name": "stderr",
     "output_type": "stream",
     "text": [
      "2024-01-26 12:21:29 WaideMBP-3.bahnhof.se root[83734] DEBUG Buy at: $34.44\n"
     ]
    },
    {
     "name": "stdout",
     "output_type": "stream",
     "text": [
      "1/1 [==============================] - 0s 14ms/step\n"
     ]
    },
    {
     "name": "stderr",
     "output_type": "stream",
     "text": [
      "2024-01-26 12:21:29 WaideMBP-3.bahnhof.se root[83734] DEBUG Buy at: $32.38\n"
     ]
    },
    {
     "name": "stdout",
     "output_type": "stream",
     "text": [
      "1/1 [==============================] - 0s 14ms/step\n"
     ]
    },
    {
     "name": "stderr",
     "output_type": "stream",
     "text": [
      "2024-01-26 12:21:29 WaideMBP-3.bahnhof.se root[83734] DEBUG Sell at: $33.97 | Position: -$0.47\n"
     ]
    },
    {
     "name": "stdout",
     "output_type": "stream",
     "text": [
      "1/1 [==============================] - 0s 13ms/step\n"
     ]
    },
    {
     "name": "stderr",
     "output_type": "stream",
     "text": [
      "2024-01-26 12:21:29 WaideMBP-3.bahnhof.se root[83734] DEBUG Sell at: $33.20 | Position: +$0.83\n"
     ]
    },
    {
     "name": "stdout",
     "output_type": "stream",
     "text": [
      "1/1 [==============================] - 0s 14ms/step\n",
      "1/1 [==============================] - 0s 15ms/step\n",
      "1/1 [==============================] - 0s 14ms/step\n",
      "1/1 [==============================] - 0s 14ms/step\n",
      "1/1 [==============================] - 0s 14ms/step\n"
     ]
    },
    {
     "name": "stderr",
     "output_type": "stream",
     "text": [
      "2024-01-26 12:21:29 WaideMBP-3.bahnhof.se root[83734] DEBUG Buy at: $33.18\n"
     ]
    },
    {
     "name": "stdout",
     "output_type": "stream",
     "text": [
      "1/1 [==============================] - 0s 14ms/step\n"
     ]
    },
    {
     "name": "stderr",
     "output_type": "stream",
     "text": [
      "2024-01-26 12:21:29 WaideMBP-3.bahnhof.se root[83734] DEBUG Sell at: $31.07 | Position: -$2.11\n"
     ]
    },
    {
     "name": "stdout",
     "output_type": "stream",
     "text": [
      "1/1 [==============================] - 0s 14ms/step\n",
      "1/1 [==============================] - 0s 14ms/step\n"
     ]
    },
    {
     "name": "stderr",
     "output_type": "stream",
     "text": [
      "2024-01-26 12:21:29 WaideMBP-3.bahnhof.se root[83734] DEBUG Buy at: $29.32\n"
     ]
    },
    {
     "name": "stdout",
     "output_type": "stream",
     "text": [
      "1/1 [==============================] - 0s 15ms/step\n"
     ]
    },
    {
     "name": "stderr",
     "output_type": "stream",
     "text": [
      "2024-01-26 12:21:29 WaideMBP-3.bahnhof.se root[83734] DEBUG Sell at: $31.36 | Position: +$2.05\n"
     ]
    },
    {
     "name": "stdout",
     "output_type": "stream",
     "text": [
      "1/1 [==============================] - 0s 14ms/step\n",
      "1/1 [==============================] - 0s 14ms/step\n"
     ]
    },
    {
     "name": "stderr",
     "output_type": "stream",
     "text": [
      "2024-01-26 12:21:29 WaideMBP-3.bahnhof.se root[83734] DEBUG Buy at: $30.83\n"
     ]
    },
    {
     "name": "stdout",
     "output_type": "stream",
     "text": [
      "1/1 [==============================] - 0s 14ms/step\n"
     ]
    },
    {
     "name": "stderr",
     "output_type": "stream",
     "text": [
      "2024-01-26 12:21:29 WaideMBP-3.bahnhof.se root[83734] DEBUG Sell at: $31.70 | Position: +$0.87\n"
     ]
    },
    {
     "name": "stdout",
     "output_type": "stream",
     "text": [
      "1/1 [==============================] - 0s 14ms/step\n",
      "1/1 [==============================] - 0s 14ms/step\n",
      "1/1 [==============================] - 0s 14ms/step\n",
      "1/1 [==============================] - 0s 14ms/step\n"
     ]
    },
    {
     "name": "stderr",
     "output_type": "stream",
     "text": [
      "2024-01-26 12:21:30 WaideMBP-3.bahnhof.se root[83734] DEBUG Buy at: $33.32\n"
     ]
    },
    {
     "name": "stdout",
     "output_type": "stream",
     "text": [
      "1/1 [==============================] - 0s 14ms/step\n"
     ]
    },
    {
     "name": "stderr",
     "output_type": "stream",
     "text": [
      "2024-01-26 12:21:30 WaideMBP-3.bahnhof.se root[83734] DEBUG Sell at: $30.44 | Position: -$2.88\n"
     ]
    },
    {
     "name": "stdout",
     "output_type": "stream",
     "text": [
      "1/1 [==============================] - 0s 14ms/step\n",
      "1/1 [==============================] - 0s 14ms/step\n",
      "1/1 [==============================] - 0s 14ms/step\n",
      "1/1 [==============================] - 0s 14ms/step\n",
      "1/1 [==============================] - 0s 18ms/step\n",
      "1/1 [==============================] - 0s 17ms/step\n",
      "1/1 [==============================] - 0s 15ms/step\n",
      "1/1 [==============================] - 0s 14ms/step\n"
     ]
    },
    {
     "name": "stderr",
     "output_type": "stream",
     "text": [
      "2024-01-26 12:21:30 WaideMBP-3.bahnhof.se root[83734] DEBUG Buy at: $24.18\n"
     ]
    },
    {
     "name": "stdout",
     "output_type": "stream",
     "text": [
      "1/1 [==============================] - 0s 14ms/step\n"
     ]
    },
    {
     "name": "stderr",
     "output_type": "stream",
     "text": [
      "2024-01-26 12:21:30 WaideMBP-3.bahnhof.se root[83734] DEBUG Buy at: $22.17\n"
     ]
    },
    {
     "name": "stdout",
     "output_type": "stream",
     "text": [
      "1/1 [==============================] - 0s 14ms/step\n"
     ]
    },
    {
     "name": "stderr",
     "output_type": "stream",
     "text": [
      "2024-01-26 12:21:30 WaideMBP-3.bahnhof.se root[83734] DEBUG Sell at: $20.54 | Position: -$3.64\n"
     ]
    },
    {
     "name": "stdout",
     "output_type": "stream",
     "text": [
      "1/1 [==============================] - 0s 14ms/step\n"
     ]
    },
    {
     "name": "stderr",
     "output_type": "stream",
     "text": [
      "2024-01-26 12:21:30 WaideMBP-3.bahnhof.se root[83734] DEBUG Buy at: $18.58\n"
     ]
    },
    {
     "name": "stdout",
     "output_type": "stream",
     "text": [
      "1/1 [==============================] - 0s 14ms/step\n"
     ]
    },
    {
     "name": "stderr",
     "output_type": "stream",
     "text": [
      "2024-01-26 12:21:30 WaideMBP-3.bahnhof.se root[83734] DEBUG Buy at: $18.36\n"
     ]
    },
    {
     "name": "stdout",
     "output_type": "stream",
     "text": [
      "1/1 [==============================] - 0s 14ms/step\n"
     ]
    },
    {
     "name": "stderr",
     "output_type": "stream",
     "text": [
      "2024-01-26 12:21:30 WaideMBP-3.bahnhof.se root[83734] DEBUG Buy at: $18.36\n"
     ]
    },
    {
     "name": "stdout",
     "output_type": "stream",
     "text": [
      "1/1 [==============================] - 0s 18ms/step\n"
     ]
    },
    {
     "name": "stderr",
     "output_type": "stream",
     "text": [
      "2024-01-26 12:21:31 WaideMBP-3.bahnhof.se root[83734] DEBUG Sell at: $18.48 | Position: -$3.69\n"
     ]
    },
    {
     "name": "stdout",
     "output_type": "stream",
     "text": [
      "1/1 [==============================] - 0s 15ms/step\n"
     ]
    },
    {
     "name": "stderr",
     "output_type": "stream",
     "text": [
      "2024-01-26 12:21:31 WaideMBP-3.bahnhof.se root[83734] DEBUG Sell at: $18.89 | Position: +$0.31\n"
     ]
    },
    {
     "name": "stdout",
     "output_type": "stream",
     "text": [
      "1/1 [==============================] - 0s 14ms/step\n"
     ]
    },
    {
     "name": "stderr",
     "output_type": "stream",
     "text": [
      "2024-01-26 12:21:31 WaideMBP-3.bahnhof.se root[83734] DEBUG Sell at: $18.21 | Position: -$0.14\n"
     ]
    },
    {
     "name": "stdout",
     "output_type": "stream",
     "text": [
      "1/1 [==============================] - 0s 14ms/step\n"
     ]
    },
    {
     "name": "stderr",
     "output_type": "stream",
     "text": [
      "2024-01-26 12:21:31 WaideMBP-3.bahnhof.se root[83734] DEBUG Sell at: $18.16 | Position: -$0.20\n"
     ]
    },
    {
     "name": "stdout",
     "output_type": "stream",
     "text": [
      "1/1 [==============================] - 0s 14ms/step\n",
      "1/1 [==============================] - 0s 14ms/step\n",
      "1/1 [==============================] - 0s 14ms/step\n",
      "1/1 [==============================] - 0s 15ms/step\n",
      "1/1 [==============================] - 0s 16ms/step\n",
      "1/1 [==============================] - 0s 17ms/step\n",
      "1/1 [==============================] - 0s 16ms/step\n",
      "1/1 [==============================] - 0s 18ms/step\n"
     ]
    },
    {
     "name": "stderr",
     "output_type": "stream",
     "text": [
      "2024-01-26 12:21:31 WaideMBP-3.bahnhof.se root[83734] DEBUG Buy at: $15.95\n"
     ]
    },
    {
     "name": "stdout",
     "output_type": "stream",
     "text": [
      "1/1 [==============================] - 0s 15ms/step\n"
     ]
    },
    {
     "name": "stderr",
     "output_type": "stream",
     "text": [
      "2024-01-26 12:21:31 WaideMBP-3.bahnhof.se root[83734] DEBUG Sell at: $15.52 | Position: -$0.42\n"
     ]
    },
    {
     "name": "stdout",
     "output_type": "stream",
     "text": [
      "1/1 [==============================] - 0s 15ms/step\n",
      "1/1 [==============================] - 0s 14ms/step\n",
      "1/1 [==============================] - 0s 16ms/step\n",
      "1/1 [==============================] - 0s 14ms/step\n",
      "1/1 [==============================] - 0s 15ms/step\n",
      "1/1 [==============================] - 0s 15ms/step\n",
      "1/1 [==============================] - 0s 15ms/step\n",
      "1/1 [==============================] - 0s 15ms/step\n",
      "1/1 [==============================] - 0s 14ms/step\n",
      "1/1 [==============================] - 0s 14ms/step\n"
     ]
    },
    {
     "name": "stderr",
     "output_type": "stream",
     "text": [
      "2024-01-26 12:21:32 WaideMBP-3.bahnhof.se root[83734] DEBUG Buy at: $11.05\n"
     ]
    },
    {
     "name": "stdout",
     "output_type": "stream",
     "text": [
      "1/1 [==============================] - 0s 14ms/step\n"
     ]
    },
    {
     "name": "stderr",
     "output_type": "stream",
     "text": [
      "2024-01-26 12:21:32 WaideMBP-3.bahnhof.se root[83734] DEBUG Sell at: $11.34 | Position: +$0.29\n"
     ]
    },
    {
     "name": "stdout",
     "output_type": "stream",
     "text": [
      "1/1 [==============================] - 0s 14ms/step\n",
      "1/1 [==============================] - 0s 14ms/step\n",
      "1/1 [==============================] - 0s 14ms/step\n"
     ]
    },
    {
     "name": "stderr",
     "output_type": "stream",
     "text": [
      "2024-01-26 12:21:32 WaideMBP-3.bahnhof.se root[83734] DEBUG Buy at: $11.73\n"
     ]
    },
    {
     "name": "stdout",
     "output_type": "stream",
     "text": [
      "1/1 [==============================] - 0s 14ms/step\n"
     ]
    },
    {
     "name": "stderr",
     "output_type": "stream",
     "text": [
      "2024-01-26 12:21:32 WaideMBP-3.bahnhof.se root[83734] DEBUG Sell at: $11.44 | Position: -$0.28\n"
     ]
    },
    {
     "name": "stdout",
     "output_type": "stream",
     "text": [
      "1/1 [==============================] - 0s 14ms/step\n",
      "1/1 [==============================] - 0s 14ms/step\n",
      "1/1 [==============================] - 0s 14ms/step\n",
      "1/1 [==============================] - 0s 14ms/step\n",
      "1/1 [==============================] - 0s 14ms/step\n",
      "1/1 [==============================] - 0s 14ms/step\n",
      "1/1 [==============================] - 0s 14ms/step\n",
      "1/1 [==============================] - 0s 16ms/step\n",
      "1/1 [==============================] - 0s 15ms/step\n",
      "1/1 [==============================] - 0s 18ms/step\n",
      "1/1 [==============================] - 0s 14ms/step\n",
      "1/1 [==============================] - 0s 14ms/step\n",
      "1/1 [==============================] - 0s 14ms/step\n",
      "1/1 [==============================] - 0s 14ms/step\n",
      "1/1 [==============================] - 0s 14ms/step\n",
      "1/1 [==============================] - 0s 15ms/step\n",
      "1/1 [==============================] - 0s 15ms/step\n",
      "1/1 [==============================] - 0s 15ms/step\n",
      "1/1 [==============================] - 0s 15ms/step\n",
      "1/1 [==============================] - 0s 14ms/step\n"
     ]
    },
    {
     "name": "stderr",
     "output_type": "stream",
     "text": [
      "2024-01-26 12:21:32 WaideMBP-3.bahnhof.se root[83734] DEBUG Buy at: $9.22\n"
     ]
    },
    {
     "name": "stdout",
     "output_type": "stream",
     "text": [
      "1/1 [==============================] - 0s 15ms/step\n"
     ]
    },
    {
     "name": "stderr",
     "output_type": "stream",
     "text": [
      "2024-01-26 12:21:32 WaideMBP-3.bahnhof.se root[83734] DEBUG Sell at: $9.60 | Position: +$0.38\n"
     ]
    },
    {
     "name": "stdout",
     "output_type": "stream",
     "text": [
      "1/1 [==============================] - 0s 15ms/step\n",
      "1/1 [==============================] - 0s 15ms/step\n",
      "1/1 [==============================] - 0s 15ms/step\n",
      "1/1 [==============================] - 0s 18ms/step\n",
      "1/1 [==============================] - 0s 15ms/step\n",
      "1/1 [==============================] - 0s 15ms/step\n",
      "1/1 [==============================] - 0s 15ms/step\n",
      "1/1 [==============================] - 0s 15ms/step\n"
     ]
    },
    {
     "name": "stderr",
     "output_type": "stream",
     "text": [
      "2024-01-26 12:21:33 WaideMBP-3.bahnhof.se root[83734] DEBUG Buy at: $10.30\n"
     ]
    },
    {
     "name": "stdout",
     "output_type": "stream",
     "text": [
      "1/1 [==============================] - 0s 15ms/step\n"
     ]
    },
    {
     "name": "stderr",
     "output_type": "stream",
     "text": [
      "2024-01-26 12:21:33 WaideMBP-3.bahnhof.se root[83734] DEBUG Sell at: $10.15 | Position: -$0.15\n"
     ]
    },
    {
     "name": "stdout",
     "output_type": "stream",
     "text": [
      "1/1 [==============================] - 0s 15ms/step\n",
      "1/1 [==============================] - 0s 15ms/step\n",
      "1/1 [==============================] - 0s 15ms/step\n",
      "1/1 [==============================] - 0s 14ms/step\n",
      "1/1 [==============================] - 0s 15ms/step\n",
      "1/1 [==============================] - 0s 15ms/step\n",
      "1/1 [==============================] - 0s 15ms/step\n",
      "1/1 [==============================] - 0s 15ms/step\n"
     ]
    },
    {
     "name": "stderr",
     "output_type": "stream",
     "text": [
      "2024-01-26 12:21:33 WaideMBP-3.bahnhof.se root[83734] DEBUG Buy at: $10.09\n"
     ]
    },
    {
     "name": "stdout",
     "output_type": "stream",
     "text": [
      "1/1 [==============================] - 0s 19ms/step\n"
     ]
    },
    {
     "name": "stderr",
     "output_type": "stream",
     "text": [
      "2024-01-26 12:21:33 WaideMBP-3.bahnhof.se root[83734] DEBUG Buy at: $9.89\n"
     ]
    },
    {
     "name": "stdout",
     "output_type": "stream",
     "text": [
      "1/1 [==============================] - 0s 45ms/step\n"
     ]
    },
    {
     "name": "stderr",
     "output_type": "stream",
     "text": [
      "2024-01-26 12:21:33 WaideMBP-3.bahnhof.se root[83734] DEBUG Sell at: $9.90 | Position: -$0.19\n"
     ]
    },
    {
     "name": "stdout",
     "output_type": "stream",
     "text": [
      "1/1 [==============================] - 0s 20ms/step\n"
     ]
    },
    {
     "name": "stderr",
     "output_type": "stream",
     "text": [
      "2024-01-26 12:21:33 WaideMBP-3.bahnhof.se root[83734] DEBUG Sell at: $9.90 | Position: +$0.01\n"
     ]
    },
    {
     "name": "stdout",
     "output_type": "stream",
     "text": [
      "1/1 [==============================] - 0s 15ms/step\n",
      "1/1 [==============================] - 0s 15ms/step\n",
      "1/1 [==============================] - 0s 20ms/step\n",
      "1/1 [==============================] - 0s 16ms/step\n",
      "1/1 [==============================] - 0s 16ms/step\n",
      "1/1 [==============================] - 0s 15ms/step\n",
      "1/1 [==============================] - 0s 15ms/step\n",
      "1/1 [==============================] - 0s 15ms/step\n",
      "1/1 [==============================] - 0s 14ms/step\n",
      "1/1 [==============================] - 0s 15ms/step\n",
      "1/1 [==============================] - 0s 16ms/step\n",
      "1/1 [==============================] - 0s 16ms/step\n",
      "1/1 [==============================] - 0s 16ms/step\n",
      "1/1 [==============================] - 0s 15ms/step\n",
      "1/1 [==============================] - 0s 15ms/step\n"
     ]
    },
    {
     "name": "stderr",
     "output_type": "stream",
     "text": [
      "2024-01-26 12:21:34 WaideMBP-3.bahnhof.se root[83734] DEBUG Buy at: $13.24\n"
     ]
    },
    {
     "name": "stdout",
     "output_type": "stream",
     "text": [
      "1/1 [==============================] - 0s 15ms/step\n"
     ]
    },
    {
     "name": "stderr",
     "output_type": "stream",
     "text": [
      "2024-01-26 12:21:34 WaideMBP-3.bahnhof.se root[83734] DEBUG Sell at: $13.58 | Position: +$0.34\n"
     ]
    },
    {
     "name": "stdout",
     "output_type": "stream",
     "text": [
      "1/1 [==============================] - 0s 15ms/step\n",
      "1/1 [==============================] - 0s 15ms/step\n",
      "1/1 [==============================] - 0s 15ms/step\n"
     ]
    },
    {
     "name": "stderr",
     "output_type": "stream",
     "text": [
      "2024-01-26 12:21:34 WaideMBP-3.bahnhof.se root[83734] DEBUG Buy at: $17.92\n"
     ]
    },
    {
     "name": "stdout",
     "output_type": "stream",
     "text": [
      "1/1 [==============================] - 0s 15ms/step\n"
     ]
    },
    {
     "name": "stderr",
     "output_type": "stream",
     "text": [
      "2024-01-26 12:21:34 WaideMBP-3.bahnhof.se root[83734] DEBUG Sell at: $17.17 | Position: -$0.75\n"
     ]
    },
    {
     "name": "stdout",
     "output_type": "stream",
     "text": [
      "1/1 [==============================] - 0s 19ms/step\n",
      "1/1 [==============================] - 0s 14ms/step\n",
      "1/1 [==============================] - 0s 15ms/step\n",
      "1/1 [==============================] - 0s 15ms/step\n",
      "1/1 [==============================] - 0s 15ms/step\n",
      "1/1 [==============================] - 0s 15ms/step\n",
      "1/1 [==============================] - 0s 15ms/step\n",
      "1/1 [==============================] - 0s 15ms/step\n",
      "1/1 [==============================] - 0s 14ms/step\n"
     ]
    },
    {
     "name": "stderr",
     "output_type": "stream",
     "text": [
      "2024-01-26 12:21:35 WaideMBP-3.bahnhof.se root[83734] DEBUG Buy at: $16.90\n"
     ]
    },
    {
     "name": "stdout",
     "output_type": "stream",
     "text": [
      "1/1 [==============================] - 0s 15ms/step\n"
     ]
    },
    {
     "name": "stderr",
     "output_type": "stream",
     "text": [
      "2024-01-26 12:21:35 WaideMBP-3.bahnhof.se root[83734] DEBUG Sell at: $17.58 | Position: +$0.68\n"
     ]
    },
    {
     "name": "stdout",
     "output_type": "stream",
     "text": [
      "1/1 [==============================] - 0s 14ms/step\n",
      "1/1 [==============================] - 0s 14ms/step\n",
      "1/1 [==============================] - 0s 14ms/step\n",
      "1/1 [==============================] - 0s 14ms/step\n",
      "1/1 [==============================] - 0s 15ms/step\n"
     ]
    },
    {
     "name": "stderr",
     "output_type": "stream",
     "text": [
      "2024-01-26 12:21:35 WaideMBP-3.bahnhof.se root[83734] DEBUG Buy at: $16.06\n"
     ]
    },
    {
     "name": "stdout",
     "output_type": "stream",
     "text": [
      "1/1 [==============================] - 0s 15ms/step\n"
     ]
    },
    {
     "name": "stderr",
     "output_type": "stream",
     "text": [
      "2024-01-26 12:21:35 WaideMBP-3.bahnhof.se root[83734] DEBUG Sell at: $16.14 | Position: +$0.08\n"
     ]
    },
    {
     "name": "stdout",
     "output_type": "stream",
     "text": [
      "1/1 [==============================] - 0s 15ms/step\n",
      "1/1 [==============================] - 0s 15ms/step\n",
      "1/1 [==============================] - 0s 14ms/step\n",
      "1/1 [==============================] - 0s 15ms/step\n",
      "1/1 [==============================] - 0s 15ms/step\n",
      "1/1 [==============================] - 0s 15ms/step\n",
      "1/1 [==============================] - 0s 14ms/step\n"
     ]
    },
    {
     "name": "stderr",
     "output_type": "stream",
     "text": [
      "2024-01-26 12:21:35 WaideMBP-3.bahnhof.se root[83734] DEBUG Buy at: $15.83\n"
     ]
    },
    {
     "name": "stdout",
     "output_type": "stream",
     "text": [
      "1/1 [==============================] - 0s 15ms/step\n"
     ]
    },
    {
     "name": "stderr",
     "output_type": "stream",
     "text": [
      "2024-01-26 12:21:35 WaideMBP-3.bahnhof.se root[83734] DEBUG Buy at: $15.30\n"
     ]
    },
    {
     "name": "stdout",
     "output_type": "stream",
     "text": [
      "1/1 [==============================] - 0s 14ms/step\n"
     ]
    },
    {
     "name": "stderr",
     "output_type": "stream",
     "text": [
      "2024-01-26 12:21:35 WaideMBP-3.bahnhof.se root[83734] DEBUG Sell at: $15.03 | Position: -$0.80\n"
     ]
    },
    {
     "name": "stdout",
     "output_type": "stream",
     "text": [
      "1/1 [==============================] - 0s 15ms/step\n"
     ]
    },
    {
     "name": "stderr",
     "output_type": "stream",
     "text": [
      "2024-01-26 12:21:35 WaideMBP-3.bahnhof.se root[83734] DEBUG Sell at: $15.44 | Position: +$0.13\n"
     ]
    },
    {
     "name": "stdout",
     "output_type": "stream",
     "text": [
      "1/1 [==============================] - 0s 15ms/step\n",
      "1/1 [==============================] - 0s 15ms/step\n",
      "1/1 [==============================] - 0s 14ms/step\n",
      "1/1 [==============================] - 0s 14ms/step\n",
      "1/1 [==============================] - 0s 15ms/step\n",
      "1/1 [==============================] - 0s 15ms/step\n"
     ]
    },
    {
     "name": "stderr",
     "output_type": "stream",
     "text": [
      "2024-01-26 12:21:36 WaideMBP-3.bahnhof.se root[83734] DEBUG Buy at: $15.71\n"
     ]
    },
    {
     "name": "stdout",
     "output_type": "stream",
     "text": [
      "1/1 [==============================] - 0s 15ms/step\n"
     ]
    },
    {
     "name": "stderr",
     "output_type": "stream",
     "text": [
      "2024-01-26 12:21:36 WaideMBP-3.bahnhof.se root[83734] DEBUG Buy at: $16.33\n"
     ]
    },
    {
     "name": "stdout",
     "output_type": "stream",
     "text": [
      "1/1 [==============================] - 0s 15ms/step\n"
     ]
    },
    {
     "name": "stderr",
     "output_type": "stream",
     "text": [
      "2024-01-26 12:21:36 WaideMBP-3.bahnhof.se root[83734] DEBUG Sell at: $16.43 | Position: +$0.72\n"
     ]
    },
    {
     "name": "stdout",
     "output_type": "stream",
     "text": [
      "1/1 [==============================] - 0s 14ms/step\n"
     ]
    },
    {
     "name": "stderr",
     "output_type": "stream",
     "text": [
      "2024-01-26 12:21:36 WaideMBP-3.bahnhof.se root[83734] DEBUG Sell at: $17.16 | Position: +$0.82\n"
     ]
    },
    {
     "name": "stdout",
     "output_type": "stream",
     "text": [
      "1/1 [==============================] - 0s 15ms/step\n",
      "1/1 [==============================] - 0s 15ms/step\n",
      "1/1 [==============================] - 0s 15ms/step\n",
      "1/1 [==============================] - 0s 14ms/step\n",
      "1/1 [==============================] - 0s 14ms/step\n",
      "1/1 [==============================] - 0s 14ms/step\n",
      "1/1 [==============================] - 0s 14ms/step\n",
      "1/1 [==============================] - 0s 15ms/step\n",
      "1/1 [==============================] - 0s 15ms/step\n",
      "1/1 [==============================] - 0s 14ms/step\n",
      "1/1 [==============================] - 0s 16ms/step\n",
      "1/1 [==============================] - 0s 15ms/step\n",
      "1/1 [==============================] - 0s 15ms/step\n",
      "1/1 [==============================] - 0s 14ms/step\n",
      "1/1 [==============================] - 0s 15ms/step\n",
      "1/1 [==============================] - 0s 15ms/step\n",
      "1/1 [==============================] - 0s 15ms/step\n",
      "1/1 [==============================] - 0s 14ms/step\n",
      "1/1 [==============================] - 0s 14ms/step\n",
      "1/1 [==============================] - 0s 15ms/step\n",
      "1/1 [==============================] - 0s 15ms/step\n"
     ]
    },
    {
     "name": "stderr",
     "output_type": "stream",
     "text": [
      "2024-01-26 12:21:36 WaideMBP-3.bahnhof.se root[83734] DEBUG Buy at: $15.16\n"
     ]
    },
    {
     "name": "stdout",
     "output_type": "stream",
     "text": [
      "1/1 [==============================] - 0s 16ms/step\n"
     ]
    },
    {
     "name": "stderr",
     "output_type": "stream",
     "text": [
      "2024-01-26 12:21:37 WaideMBP-3.bahnhof.se root[83734] DEBUG Buy at: $14.55\n"
     ]
    },
    {
     "name": "stdout",
     "output_type": "stream",
     "text": [
      "1/1 [==============================] - 0s 14ms/step\n"
     ]
    },
    {
     "name": "stderr",
     "output_type": "stream",
     "text": [
      "2024-01-26 12:21:37 WaideMBP-3.bahnhof.se root[83734] DEBUG Buy at: $12.53\n"
     ]
    },
    {
     "name": "stdout",
     "output_type": "stream",
     "text": [
      "1/1 [==============================] - 0s 15ms/step\n"
     ]
    },
    {
     "name": "stderr",
     "output_type": "stream",
     "text": [
      "2024-01-26 12:21:37 WaideMBP-3.bahnhof.se root[83734] DEBUG Sell at: $12.34 | Position: -$2.82\n"
     ]
    },
    {
     "name": "stdout",
     "output_type": "stream",
     "text": [
      "1/1 [==============================] - 0s 14ms/step\n"
     ]
    },
    {
     "name": "stderr",
     "output_type": "stream",
     "text": [
      "2024-01-26 12:21:37 WaideMBP-3.bahnhof.se root[83734] DEBUG Sell at: $12.15 | Position: -$2.40\n"
     ]
    },
    {
     "name": "stdout",
     "output_type": "stream",
     "text": [
      "1/1 [==============================] - 0s 15ms/step\n"
     ]
    },
    {
     "name": "stderr",
     "output_type": "stream",
     "text": [
      "2024-01-26 12:21:37 WaideMBP-3.bahnhof.se root[83734] DEBUG Sell at: $11.96 | Position: -$0.56\n"
     ]
    },
    {
     "name": "stdout",
     "output_type": "stream",
     "text": [
      "1/1 [==============================] - 0s 15ms/step\n",
      "1/1 [==============================] - 0s 15ms/step\n",
      "1/1 [==============================] - 0s 14ms/step\n",
      "1/1 [==============================] - 0s 15ms/step\n",
      "1/1 [==============================] - 0s 15ms/step\n"
     ]
    },
    {
     "name": "stderr",
     "output_type": "stream",
     "text": [
      "2024-01-26 12:21:37 WaideMBP-3.bahnhof.se root[83734] DEBUG Buy at: $10.45\n"
     ]
    },
    {
     "name": "stdout",
     "output_type": "stream",
     "text": [
      "1/1 [==============================] - 0s 15ms/step\n"
     ]
    },
    {
     "name": "stderr",
     "output_type": "stream",
     "text": [
      "2024-01-26 12:21:37 WaideMBP-3.bahnhof.se root[83734] DEBUG Sell at: $10.49 | Position: +$0.04\n"
     ]
    },
    {
     "name": "stdout",
     "output_type": "stream",
     "text": [
      "1/1 [==============================] - 0s 15ms/step\n",
      "1/1 [==============================] - 0s 14ms/step\n",
      "1/1 [==============================] - 0s 14ms/step\n",
      "1/1 [==============================] - 0s 16ms/step\n",
      "1/1 [==============================] - 0s 15ms/step\n",
      "1/1 [==============================] - 0s 14ms/step\n"
     ]
    },
    {
     "name": "stderr",
     "output_type": "stream",
     "text": [
      "2024-01-26 12:21:37 WaideMBP-3.bahnhof.se root[83734] DEBUG Buy at: $11.07\n"
     ]
    },
    {
     "name": "stdout",
     "output_type": "stream",
     "text": [
      "1/1 [==============================] - 0s 15ms/step\n"
     ]
    },
    {
     "name": "stderr",
     "output_type": "stream",
     "text": [
      "2024-01-26 12:21:37 WaideMBP-3.bahnhof.se root[83734] DEBUG Buy at: $10.60\n"
     ]
    },
    {
     "name": "stdout",
     "output_type": "stream",
     "text": [
      "1/1 [==============================] - 0s 15ms/step\n"
     ]
    },
    {
     "name": "stderr",
     "output_type": "stream",
     "text": [
      "2024-01-26 12:21:37 WaideMBP-3.bahnhof.se root[83734] DEBUG Buy at: $10.28\n"
     ]
    },
    {
     "name": "stdout",
     "output_type": "stream",
     "text": [
      "1/1 [==============================] - 0s 14ms/step\n"
     ]
    },
    {
     "name": "stderr",
     "output_type": "stream",
     "text": [
      "2024-01-26 12:21:37 WaideMBP-3.bahnhof.se root[83734] DEBUG Sell at: $9.99 | Position: -$1.07\n"
     ]
    },
    {
     "name": "stdout",
     "output_type": "stream",
     "text": [
      "1/1 [==============================] - 0s 15ms/step\n"
     ]
    },
    {
     "name": "stderr",
     "output_type": "stream",
     "text": [
      "2024-01-26 12:21:37 WaideMBP-3.bahnhof.se root[83734] DEBUG Sell at: $10.25 | Position: -$0.35\n"
     ]
    },
    {
     "name": "stdout",
     "output_type": "stream",
     "text": [
      "1/1 [==============================] - 0s 15ms/step\n"
     ]
    },
    {
     "name": "stderr",
     "output_type": "stream",
     "text": [
      "2024-01-26 12:21:37 WaideMBP-3.bahnhof.se root[83734] DEBUG Sell at: $9.67 | Position: -$0.61\n"
     ]
    },
    {
     "name": "stdout",
     "output_type": "stream",
     "text": [
      "1/1 [==============================] - 0s 14ms/step\n",
      "1/1 [==============================] - 0s 15ms/step\n",
      "1/1 [==============================] - 0s 14ms/step\n",
      "1/1 [==============================] - 0s 14ms/step\n",
      "1/1 [==============================] - 0s 18ms/step\n",
      "1/1 [==============================] - 0s 15ms/step\n"
     ]
    },
    {
     "name": "stderr",
     "output_type": "stream",
     "text": [
      "2024-01-26 12:21:38 WaideMBP-3.bahnhof.se root[83734] DEBUG Buy at: $9.06\n"
     ]
    },
    {
     "name": "stdout",
     "output_type": "stream",
     "text": [
      "1/1 [==============================] - 0s 15ms/step\n"
     ]
    },
    {
     "name": "stderr",
     "output_type": "stream",
     "text": [
      "2024-01-26 12:21:38 WaideMBP-3.bahnhof.se root[83734] DEBUG Sell at: $8.99 | Position: -$0.07\n"
     ]
    },
    {
     "name": "stdout",
     "output_type": "stream",
     "text": [
      "1/1 [==============================] - 0s 14ms/step\n",
      "1/1 [==============================] - 0s 14ms/step\n",
      "1/1 [==============================] - 0s 15ms/step\n",
      "1/1 [==============================] - 0s 14ms/step\n",
      "1/1 [==============================] - 0s 14ms/step\n",
      "1/1 [==============================] - 0s 15ms/step\n",
      "1/1 [==============================] - 0s 14ms/step\n"
     ]
    },
    {
     "name": "stderr",
     "output_type": "stream",
     "text": [
      "2024-01-26 12:21:38 WaideMBP-3.bahnhof.se root[83734] DEBUG Buy at: $9.00\n"
     ]
    },
    {
     "name": "stdout",
     "output_type": "stream",
     "text": [
      "1/1 [==============================] - 0s 15ms/step\n"
     ]
    },
    {
     "name": "stderr",
     "output_type": "stream",
     "text": [
      "2024-01-26 12:21:38 WaideMBP-3.bahnhof.se root[83734] DEBUG Sell at: $8.98 | Position: -$0.03\n"
     ]
    },
    {
     "name": "stdout",
     "output_type": "stream",
     "text": [
      "1/1 [==============================] - 0s 15ms/step\n",
      "1/1 [==============================] - 0s 14ms/step\n",
      "1/1 [==============================] - 0s 14ms/step\n",
      "1/1 [==============================] - 0s 15ms/step\n",
      "1/1 [==============================] - 0s 15ms/step\n",
      "1/1 [==============================] - 0s 14ms/step\n"
     ]
    },
    {
     "name": "stderr",
     "output_type": "stream",
     "text": [
      "2024-01-26 12:21:38 WaideMBP-3.bahnhof.se root[83734] DEBUG Buy at: $9.41\n"
     ]
    },
    {
     "name": "stdout",
     "output_type": "stream",
     "text": [
      "1/1 [==============================] - 0s 16ms/step\n"
     ]
    },
    {
     "name": "stderr",
     "output_type": "stream",
     "text": [
      "2024-01-26 12:21:38 WaideMBP-3.bahnhof.se root[83734] DEBUG Buy at: $9.69\n"
     ]
    },
    {
     "name": "stdout",
     "output_type": "stream",
     "text": [
      "1/1 [==============================] - 0s 14ms/step\n"
     ]
    },
    {
     "name": "stderr",
     "output_type": "stream",
     "text": [
      "2024-01-26 12:21:38 WaideMBP-3.bahnhof.se root[83734] DEBUG Sell at: $9.58 | Position: +$0.17\n"
     ]
    },
    {
     "name": "stdout",
     "output_type": "stream",
     "text": [
      "1/1 [==============================] - 0s 14ms/step\n"
     ]
    },
    {
     "name": "stderr",
     "output_type": "stream",
     "text": [
      "2024-01-26 12:21:38 WaideMBP-3.bahnhof.se root[83734] DEBUG Buy at: $9.54\n"
     ]
    },
    {
     "name": "stdout",
     "output_type": "stream",
     "text": [
      "1/1 [==============================] - 0s 15ms/step\n"
     ]
    },
    {
     "name": "stderr",
     "output_type": "stream",
     "text": [
      "2024-01-26 12:21:38 WaideMBP-3.bahnhof.se root[83734] DEBUG Sell at: $9.50 | Position: -$0.20\n"
     ]
    },
    {
     "name": "stdout",
     "output_type": "stream",
     "text": [
      "1/1 [==============================] - 0s 14ms/step\n"
     ]
    },
    {
     "name": "stderr",
     "output_type": "stream",
     "text": [
      "2024-01-26 12:21:38 WaideMBP-3.bahnhof.se root[83734] DEBUG Sell at: $9.62 | Position: +$0.08\n"
     ]
    },
    {
     "name": "stdout",
     "output_type": "stream",
     "text": [
      "1/1 [==============================] - 0s 14ms/step\n",
      "1/1 [==============================] - 0s 14ms/step\n",
      "1/1 [==============================] - 0s 15ms/step\n",
      "1/1 [==============================] - 0s 15ms/step\n",
      "1/1 [==============================] - 0s 15ms/step\n",
      "1/1 [==============================] - 0s 15ms/step\n",
      "1/1 [==============================] - 0s 14ms/step\n",
      "1/1 [==============================] - 0s 15ms/step\n",
      "1/1 [==============================] - 0s 14ms/step\n",
      "1/1 [==============================] - 0s 15ms/step\n",
      "1/1 [==============================] - 0s 15ms/step\n",
      "1/1 [==============================] - 0s 14ms/step\n",
      "1/1 [==============================] - 0s 15ms/step\n",
      "1/1 [==============================] - 0s 14ms/step\n",
      "1/1 [==============================] - 0s 14ms/step\n",
      "1/1 [==============================] - 0s 15ms/step\n"
     ]
    },
    {
     "name": "stderr",
     "output_type": "stream",
     "text": [
      "2024-01-26 12:21:39 WaideMBP-3.bahnhof.se root[83734] DEBUG Buy at: $11.42\n"
     ]
    },
    {
     "name": "stdout",
     "output_type": "stream",
     "text": [
      "1/1 [==============================] - 0s 14ms/step\n"
     ]
    },
    {
     "name": "stderr",
     "output_type": "stream",
     "text": [
      "2024-01-26 12:21:39 WaideMBP-3.bahnhof.se root[83734] DEBUG Sell at: $11.48 | Position: +$0.06\n"
     ]
    },
    {
     "name": "stdout",
     "output_type": "stream",
     "text": [
      "1/1 [==============================] - 0s 14ms/step\n",
      "1/1 [==============================] - 0s 14ms/step\n",
      "1/1 [==============================] - 0s 15ms/step\n",
      "1/1 [==============================] - 0s 15ms/step\n",
      "1/1 [==============================] - 0s 14ms/step\n",
      "1/1 [==============================] - 0s 15ms/step\n",
      "1/1 [==============================] - 0s 14ms/step\n",
      "1/1 [==============================] - 0s 15ms/step\n",
      "1/1 [==============================] - 0s 14ms/step\n",
      "1/1 [==============================] - 0s 15ms/step\n"
     ]
    },
    {
     "name": "stderr",
     "output_type": "stream",
     "text": [
      "2024-01-26 12:21:39 WaideMBP-3.bahnhof.se root[83734] DEBUG Buy at: $8.27\n"
     ]
    },
    {
     "name": "stdout",
     "output_type": "stream",
     "text": [
      "1/1 [==============================] - 0s 15ms/step\n"
     ]
    },
    {
     "name": "stderr",
     "output_type": "stream",
     "text": [
      "2024-01-26 12:21:39 WaideMBP-3.bahnhof.se root[83734] DEBUG Buy at: $8.26\n"
     ]
    },
    {
     "name": "stdout",
     "output_type": "stream",
     "text": [
      "1/1 [==============================] - 0s 22ms/step\n"
     ]
    },
    {
     "name": "stderr",
     "output_type": "stream",
     "text": [
      "2024-01-26 12:21:40 WaideMBP-3.bahnhof.se root[83734] DEBUG Sell at: $8.27 | Position: +$0.00\n"
     ]
    },
    {
     "name": "stdout",
     "output_type": "stream",
     "text": [
      "1/1 [==============================] - 0s 14ms/step\n"
     ]
    },
    {
     "name": "stderr",
     "output_type": "stream",
     "text": [
      "2024-01-26 12:21:40 WaideMBP-3.bahnhof.se root[83734] DEBUG Sell at: $8.56 | Position: +$0.30\n"
     ]
    },
    {
     "name": "stdout",
     "output_type": "stream",
     "text": [
      "1/1 [==============================] - 0s 15ms/step\n"
     ]
    },
    {
     "name": "stderr",
     "output_type": "stream",
     "text": [
      "2024-01-26 12:21:40 WaideMBP-3.bahnhof.se root[83734] DEBUG Buy at: $8.56\n"
     ]
    },
    {
     "name": "stdout",
     "output_type": "stream",
     "text": [
      "1/1 [==============================] - 0s 15ms/step\n"
     ]
    },
    {
     "name": "stderr",
     "output_type": "stream",
     "text": [
      "2024-01-26 12:21:40 WaideMBP-3.bahnhof.se root[83734] DEBUG Buy at: $8.82\n"
     ]
    },
    {
     "name": "stdout",
     "output_type": "stream",
     "text": [
      "1/1 [==============================] - 0s 15ms/step\n"
     ]
    },
    {
     "name": "stderr",
     "output_type": "stream",
     "text": [
      "2024-01-26 12:21:40 WaideMBP-3.bahnhof.se root[83734] DEBUG Sell at: $9.04 | Position: +$0.48\n"
     ]
    },
    {
     "name": "stdout",
     "output_type": "stream",
     "text": [
      "1/1 [==============================] - 0s 15ms/step\n"
     ]
    },
    {
     "name": "stderr",
     "output_type": "stream",
     "text": [
      "2024-01-26 12:21:40 WaideMBP-3.bahnhof.se root[83734] DEBUG Sell at: $9.19 | Position: +$0.36\n"
     ]
    },
    {
     "name": "stdout",
     "output_type": "stream",
     "text": [
      "1/1 [==============================] - 0s 14ms/step\n",
      "1/1 [==============================] - 0s 15ms/step\n",
      "1/1 [==============================] - 0s 15ms/step\n",
      "1/1 [==============================] - 0s 14ms/step\n",
      "1/1 [==============================] - 0s 14ms/step\n",
      "1/1 [==============================] - 0s 14ms/step\n",
      "1/1 [==============================] - 0s 14ms/step\n",
      "1/1 [==============================] - 0s 15ms/step\n",
      "1/1 [==============================] - 0s 15ms/step\n",
      "1/1 [==============================] - 0s 15ms/step\n",
      "1/1 [==============================] - 0s 15ms/step\n",
      "1/1 [==============================] - 0s 15ms/step\n",
      "1/1 [==============================] - 0s 14ms/step\n",
      "1/1 [==============================] - 0s 14ms/step\n",
      "1/1 [==============================] - 0s 15ms/step\n",
      "1/1 [==============================] - 0s 14ms/step\n",
      "1/1 [==============================] - 0s 14ms/step\n",
      "1/1 [==============================] - 0s 15ms/step\n",
      "1/1 [==============================] - 0s 14ms/step\n"
     ]
    },
    {
     "name": "stderr",
     "output_type": "stream",
     "text": [
      "2024-01-26 12:21:40 WaideMBP-3.bahnhof.se root[83734] DEBUG Buy at: $8.29\n"
     ]
    },
    {
     "name": "stdout",
     "output_type": "stream",
     "text": [
      "1/1 [==============================] - 0s 15ms/step\n"
     ]
    },
    {
     "name": "stderr",
     "output_type": "stream",
     "text": [
      "2024-01-26 12:21:41 WaideMBP-3.bahnhof.se root[83734] DEBUG Sell at: $8.65 | Position: +$0.36\n"
     ]
    },
    {
     "name": "stdout",
     "output_type": "stream",
     "text": [
      "1/1 [==============================] - 0s 14ms/step\n"
     ]
    },
    {
     "name": "stderr",
     "output_type": "stream",
     "text": [
      "2024-01-26 12:21:41 WaideMBP-3.bahnhof.se root[83734] DEBUG Buy at: $8.15\n"
     ]
    },
    {
     "name": "stdout",
     "output_type": "stream",
     "text": [
      "1/1 [==============================] - 0s 15ms/step\n"
     ]
    },
    {
     "name": "stderr",
     "output_type": "stream",
     "text": [
      "2024-01-26 12:21:41 WaideMBP-3.bahnhof.se root[83734] DEBUG Buy at: $8.01\n"
     ]
    },
    {
     "name": "stdout",
     "output_type": "stream",
     "text": [
      "1/1 [==============================] - 0s 15ms/step\n"
     ]
    },
    {
     "name": "stderr",
     "output_type": "stream",
     "text": [
      "2024-01-26 12:21:41 WaideMBP-3.bahnhof.se root[83734] DEBUG Sell at: $8.15 | Position: +$0.00\n"
     ]
    },
    {
     "name": "stdout",
     "output_type": "stream",
     "text": [
      "1/1 [==============================] - 0s 14ms/step\n"
     ]
    },
    {
     "name": "stderr",
     "output_type": "stream",
     "text": [
      "2024-01-26 12:21:41 WaideMBP-3.bahnhof.se root[83734] DEBUG Sell at: $8.39 | Position: +$0.38\n"
     ]
    },
    {
     "name": "stdout",
     "output_type": "stream",
     "text": [
      "1/1 [==============================] - 0s 15ms/step\n",
      "1/1 [==============================] - 0s 15ms/step\n",
      "1/1 [==============================] - 0s 14ms/step\n",
      "1/1 [==============================] - 0s 15ms/step\n",
      "1/1 [==============================] - 0s 14ms/step\n",
      "1/1 [==============================] - 0s 15ms/step\n"
     ]
    },
    {
     "name": "stderr",
     "output_type": "stream",
     "text": [
      "2024-01-26 12:21:41 WaideMBP-3.bahnhof.se root[83734] DEBUG Buy at: $7.78\n"
     ]
    },
    {
     "name": "stdout",
     "output_type": "stream",
     "text": [
      "1/1 [==============================] - 0s 14ms/step\n"
     ]
    },
    {
     "name": "stderr",
     "output_type": "stream",
     "text": [
      "2024-01-26 12:21:41 WaideMBP-3.bahnhof.se root[83734] DEBUG Sell at: $8.01 | Position: +$0.23\n"
     ]
    },
    {
     "name": "stdout",
     "output_type": "stream",
     "text": [
      "1/1 [==============================] - 0s 15ms/step\n",
      "1/1 [==============================] - 0s 15ms/step\n",
      "1/1 [==============================] - 0s 15ms/step\n",
      "1/1 [==============================] - 0s 16ms/step\n",
      "1/1 [==============================] - 0s 15ms/step\n",
      "1/1 [==============================] - 0s 14ms/step\n",
      "1/1 [==============================] - 0s 14ms/step\n",
      "1/1 [==============================] - 0s 15ms/step\n",
      "1/1 [==============================] - 0s 15ms/step\n",
      "1/1 [==============================] - 0s 15ms/step\n",
      "1/1 [==============================] - 0s 14ms/step\n",
      "1/1 [==============================] - 0s 14ms/step\n",
      "1/1 [==============================] - 0s 14ms/step\n",
      "1/1 [==============================] - 0s 15ms/step\n",
      "1/1 [==============================] - 0s 15ms/step\n"
     ]
    },
    {
     "name": "stderr",
     "output_type": "stream",
     "text": [
      "2024-01-26 12:21:42 WaideMBP-3.bahnhof.se root[83734] DEBUG Buy at: $9.70\n"
     ]
    },
    {
     "name": "stdout",
     "output_type": "stream",
     "text": [
      "1/1 [==============================] - 0s 15ms/step\n"
     ]
    },
    {
     "name": "stderr",
     "output_type": "stream",
     "text": [
      "2024-01-26 12:21:42 WaideMBP-3.bahnhof.se root[83734] DEBUG Sell at: $9.75 | Position: +$0.05\n"
     ]
    },
    {
     "name": "stdout",
     "output_type": "stream",
     "text": [
      "1/1 [==============================] - 0s 15ms/step\n"
     ]
    },
    {
     "name": "stderr",
     "output_type": "stream",
     "text": [
      "2024-01-26 12:21:42 WaideMBP-3.bahnhof.se root[83734] DEBUG Buy at: $8.59\n"
     ]
    },
    {
     "name": "stdout",
     "output_type": "stream",
     "text": [
      "1/1 [==============================] - 0s 15ms/step\n"
     ]
    },
    {
     "name": "stderr",
     "output_type": "stream",
     "text": [
      "2024-01-26 12:21:42 WaideMBP-3.bahnhof.se root[83734] DEBUG Buy at: $8.79\n"
     ]
    },
    {
     "name": "stdout",
     "output_type": "stream",
     "text": [
      "1/1 [==============================] - 0s 14ms/step\n"
     ]
    },
    {
     "name": "stderr",
     "output_type": "stream",
     "text": [
      "2024-01-26 12:21:42 WaideMBP-3.bahnhof.se root[83734] DEBUG Sell at: $9.94 | Position: +$1.35\n"
     ]
    },
    {
     "name": "stdout",
     "output_type": "stream",
     "text": [
      "1/1 [==============================] - 0s 16ms/step\n"
     ]
    },
    {
     "name": "stderr",
     "output_type": "stream",
     "text": [
      "2024-01-26 12:21:42 WaideMBP-3.bahnhof.se root[83734] DEBUG Sell at: $11.32 | Position: +$2.53\n"
     ]
    },
    {
     "name": "stdout",
     "output_type": "stream",
     "text": [
      "1/1 [==============================] - 0s 15ms/step\n",
      "1/1 [==============================] - 0s 14ms/step\n",
      "1/1 [==============================] - 0s 15ms/step\n"
     ]
    },
    {
     "name": "stderr",
     "output_type": "stream",
     "text": [
      "2024-01-26 12:21:42 WaideMBP-3.bahnhof.se root[83734] DEBUG Buy at: $11.18\n"
     ]
    },
    {
     "name": "stdout",
     "output_type": "stream",
     "text": [
      "1/1 [==============================] - 0s 15ms/step\n"
     ]
    },
    {
     "name": "stderr",
     "output_type": "stream",
     "text": [
      "2024-01-26 12:21:42 WaideMBP-3.bahnhof.se root[83734] DEBUG Buy at: $10.91\n"
     ]
    },
    {
     "name": "stdout",
     "output_type": "stream",
     "text": [
      "1/1 [==============================] - 0s 16ms/step\n"
     ]
    },
    {
     "name": "stderr",
     "output_type": "stream",
     "text": [
      "2024-01-26 12:21:42 WaideMBP-3.bahnhof.se root[83734] DEBUG Sell at: $11.10 | Position: -$0.08\n"
     ]
    },
    {
     "name": "stdout",
     "output_type": "stream",
     "text": [
      "1/1 [==============================] - 0s 15ms/step\n"
     ]
    },
    {
     "name": "stderr",
     "output_type": "stream",
     "text": [
      "2024-01-26 12:21:42 WaideMBP-3.bahnhof.se root[83734] DEBUG Sell at: $10.85 | Position: -$0.06\n"
     ]
    },
    {
     "name": "stdout",
     "output_type": "stream",
     "text": [
      "1/1 [==============================] - 0s 14ms/step\n",
      "1/1 [==============================] - 0s 15ms/step\n",
      "1/1 [==============================] - 0s 14ms/step\n",
      "1/1 [==============================] - 0s 14ms/step\n"
     ]
    },
    {
     "name": "stderr",
     "output_type": "stream",
     "text": [
      "2024-01-26 12:21:42 WaideMBP-3.bahnhof.se root[83734] DEBUG Buy at: $11.40\n"
     ]
    },
    {
     "name": "stdout",
     "output_type": "stream",
     "text": [
      "1/1 [==============================] - 0s 14ms/step\n"
     ]
    },
    {
     "name": "stderr",
     "output_type": "stream",
     "text": [
      "2024-01-26 12:21:42 WaideMBP-3.bahnhof.se root[83734] DEBUG Sell at: $11.64 | Position: +$0.24\n"
     ]
    },
    {
     "name": "stdout",
     "output_type": "stream",
     "text": [
      "1/1 [==============================] - 0s 14ms/step\n",
      "1/1 [==============================] - 0s 15ms/step\n"
     ]
    },
    {
     "name": "stderr",
     "output_type": "stream",
     "text": [
      "2024-01-26 12:21:42 WaideMBP-3.bahnhof.se root[83734] DEBUG Buy at: $11.62\n"
     ]
    },
    {
     "name": "stdout",
     "output_type": "stream",
     "text": [
      "1/1 [==============================] - 0s 15ms/step\n"
     ]
    },
    {
     "name": "stderr",
     "output_type": "stream",
     "text": [
      "2024-01-26 12:21:42 WaideMBP-3.bahnhof.se root[83734] DEBUG Sell at: $11.77 | Position: +$0.15\n"
     ]
    },
    {
     "name": "stdout",
     "output_type": "stream",
     "text": [
      "1/1 [==============================] - 0s 15ms/step\n",
      "1/1 [==============================] - 0s 15ms/step\n",
      "1/1 [==============================] - 0s 14ms/step\n",
      "1/1 [==============================] - 0s 15ms/step\n",
      "1/1 [==============================] - 0s 15ms/step\n",
      "1/1 [==============================] - 0s 14ms/step\n",
      "1/1 [==============================] - 0s 14ms/step\n",
      "1/1 [==============================] - 0s 14ms/step\n",
      "1/1 [==============================] - 0s 17ms/step\n",
      "1/1 [==============================] - 0s 15ms/step\n",
      "1/1 [==============================] - 0s 15ms/step\n",
      "1/1 [==============================] - 0s 15ms/step\n",
      "1/1 [==============================] - 0s 14ms/step\n",
      "1/1 [==============================] - 0s 15ms/step\n"
     ]
    },
    {
     "name": "stderr",
     "output_type": "stream",
     "text": [
      "2024-01-26 12:21:43 WaideMBP-3.bahnhof.se root[83734] DEBUG Buy at: $12.30\n"
     ]
    },
    {
     "name": "stdout",
     "output_type": "stream",
     "text": [
      "1/1 [==============================] - 0s 14ms/step\n"
     ]
    },
    {
     "name": "stderr",
     "output_type": "stream",
     "text": [
      "2024-01-26 12:21:43 WaideMBP-3.bahnhof.se root[83734] DEBUG Sell at: $12.96 | Position: +$0.66\n"
     ]
    },
    {
     "name": "stdout",
     "output_type": "stream",
     "text": [
      "1/1 [==============================] - 0s 14ms/step\n",
      "1/1 [==============================] - 0s 14ms/step\n",
      "1/1 [==============================] - 0s 15ms/step\n",
      "1/1 [==============================] - 0s 15ms/step\n"
     ]
    },
    {
     "name": "stderr",
     "output_type": "stream",
     "text": [
      "2024-01-26 12:21:43 WaideMBP-3.bahnhof.se root[83734] DEBUG Buy at: $13.66\n"
     ]
    },
    {
     "name": "stdout",
     "output_type": "stream",
     "text": [
      "1/1 [==============================] - 0s 15ms/step\n"
     ]
    },
    {
     "name": "stderr",
     "output_type": "stream",
     "text": [
      "2024-01-26 12:21:43 WaideMBP-3.bahnhof.se root[83734] DEBUG Sell at: $13.43 | Position: -$0.24\n"
     ]
    },
    {
     "name": "stdout",
     "output_type": "stream",
     "text": [
      "1/1 [==============================] - 0s 14ms/step\n",
      "1/1 [==============================] - 0s 15ms/step\n",
      "1/1 [==============================] - 0s 14ms/step\n",
      "1/1 [==============================] - 0s 15ms/step\n",
      "1/1 [==============================] - 0s 15ms/step\n",
      "1/1 [==============================] - 0s 15ms/step\n",
      "1/1 [==============================] - 0s 15ms/step\n",
      "1/1 [==============================] - 0s 15ms/step\n",
      "1/1 [==============================] - 0s 14ms/step\n",
      "1/1 [==============================] - 0s 15ms/step\n",
      "1/1 [==============================] - 0s 15ms/step\n",
      "1/1 [==============================] - 0s 15ms/step\n",
      "1/1 [==============================] - 0s 14ms/step\n",
      "1/1 [==============================] - 0s 14ms/step\n",
      "1/1 [==============================] - 0s 14ms/step\n",
      "1/1 [==============================] - 0s 14ms/step\n",
      "1/1 [==============================] - 0s 15ms/step\n",
      "1/1 [==============================] - 0s 15ms/step\n",
      "1/1 [==============================] - 0s 14ms/step\n",
      "1/1 [==============================] - 0s 16ms/step\n",
      "1/1 [==============================] - 0s 15ms/step\n"
     ]
    },
    {
     "name": "stderr",
     "output_type": "stream",
     "text": [
      "2024-01-26 12:21:44 WaideMBP-3.bahnhof.se root[83734] DEBUG Buy at: $13.97\n"
     ]
    },
    {
     "name": "stdout",
     "output_type": "stream",
     "text": [
      "1/1 [==============================] - 0s 15ms/step\n"
     ]
    },
    {
     "name": "stderr",
     "output_type": "stream",
     "text": [
      "2024-01-26 12:21:44 WaideMBP-3.bahnhof.se root[83734] DEBUG Sell at: $14.75 | Position: +$0.78\n"
     ]
    },
    {
     "name": "stdout",
     "output_type": "stream",
     "text": [
      "1/1 [==============================] - 0s 14ms/step\n",
      "1/1 [==============================] - 0s 14ms/step\n",
      "1/1 [==============================] - 0s 15ms/step\n",
      "1/1 [==============================] - 0s 14ms/step\n"
     ]
    },
    {
     "name": "stderr",
     "output_type": "stream",
     "text": [
      "2024-01-26 12:21:44 WaideMBP-3.bahnhof.se root[83734] DEBUG Buy at: $24.16\n"
     ]
    },
    {
     "name": "stdout",
     "output_type": "stream",
     "text": [
      "1/1 [==============================] - 0s 15ms/step\n"
     ]
    },
    {
     "name": "stderr",
     "output_type": "stream",
     "text": [
      "2024-01-26 12:21:44 WaideMBP-3.bahnhof.se root[83734] DEBUG Buy at: $23.96\n"
     ]
    },
    {
     "name": "stdout",
     "output_type": "stream",
     "text": [
      "1/1 [==============================] - 0s 14ms/step\n"
     ]
    },
    {
     "name": "stderr",
     "output_type": "stream",
     "text": [
      "2024-01-26 12:21:44 WaideMBP-3.bahnhof.se root[83734] DEBUG Sell at: $23.61 | Position: -$0.55\n"
     ]
    },
    {
     "name": "stdout",
     "output_type": "stream",
     "text": [
      "1/1 [==============================] - 0s 15ms/step\n"
     ]
    },
    {
     "name": "stderr",
     "output_type": "stream",
     "text": [
      "2024-01-26 12:21:44 WaideMBP-3.bahnhof.se root[83734] DEBUG Sell at: $23.54 | Position: -$0.41\n"
     ]
    },
    {
     "name": "stdout",
     "output_type": "stream",
     "text": [
      "1/1 [==============================] - 0s 14ms/step\n",
      "1/1 [==============================] - 0s 14ms/step\n",
      "1/1 [==============================] - 0s 15ms/step\n",
      "1/1 [==============================] - 0s 15ms/step\n",
      "1/1 [==============================] - 0s 14ms/step\n"
     ]
    },
    {
     "name": "stderr",
     "output_type": "stream",
     "text": [
      "2024-01-26 12:21:44 WaideMBP-3.bahnhof.se root[83734] DEBUG Buy at: $25.85\n"
     ]
    },
    {
     "name": "stdout",
     "output_type": "stream",
     "text": [
      "1/1 [==============================] - 0s 14ms/step\n"
     ]
    },
    {
     "name": "stderr",
     "output_type": "stream",
     "text": [
      "2024-01-26 12:21:44 WaideMBP-3.bahnhof.se root[83734] DEBUG Sell at: $25.41 | Position: -$0.44\n"
     ]
    },
    {
     "name": "stdout",
     "output_type": "stream",
     "text": [
      "1/1 [==============================] - 0s 14ms/step\n",
      "1/1 [==============================] - 0s 13ms/step\n",
      "1/1 [==============================] - 0s 14ms/step\n",
      "1/1 [==============================] - 0s 15ms/step\n",
      "1/1 [==============================] - 0s 14ms/step\n",
      "1/1 [==============================] - 0s 14ms/step\n",
      "1/1 [==============================] - 0s 14ms/step\n"
     ]
    },
    {
     "name": "stderr",
     "output_type": "stream",
     "text": [
      "2024-01-26 12:21:45 WaideMBP-3.bahnhof.se root[83734] DEBUG Buy at: $26.74\n"
     ]
    },
    {
     "name": "stdout",
     "output_type": "stream",
     "text": [
      "1/1 [==============================] - 0s 14ms/step\n"
     ]
    },
    {
     "name": "stderr",
     "output_type": "stream",
     "text": [
      "2024-01-26 12:21:45 WaideMBP-3.bahnhof.se root[83734] DEBUG Sell at: $25.69 | Position: -$1.04\n"
     ]
    },
    {
     "name": "stdout",
     "output_type": "stream",
     "text": [
      "1/1 [==============================] - 0s 14ms/step\n",
      "1/1 [==============================] - 0s 14ms/step\n",
      "1/1 [==============================] - 0s 14ms/step\n",
      "1/1 [==============================] - 0s 15ms/step\n",
      "1/1 [==============================] - 0s 14ms/step\n",
      "1/1 [==============================] - 0s 14ms/step\n"
     ]
    },
    {
     "name": "stderr",
     "output_type": "stream",
     "text": [
      "2024-01-26 12:21:45 WaideMBP-3.bahnhof.se root[83734] DEBUG Buy at: $25.89\n"
     ]
    },
    {
     "name": "stdout",
     "output_type": "stream",
     "text": [
      "1/1 [==============================] - 0s 14ms/step\n"
     ]
    },
    {
     "name": "stderr",
     "output_type": "stream",
     "text": [
      "2024-01-26 12:21:45 WaideMBP-3.bahnhof.se root[83734] DEBUG Buy at: $25.96\n"
     ]
    },
    {
     "name": "stdout",
     "output_type": "stream",
     "text": [
      "1/1 [==============================] - 0s 15ms/step\n"
     ]
    },
    {
     "name": "stderr",
     "output_type": "stream",
     "text": [
      "2024-01-26 12:21:45 WaideMBP-3.bahnhof.se root[83734] DEBUG Sell at: $26.13 | Position: +$0.25\n"
     ]
    },
    {
     "name": "stdout",
     "output_type": "stream",
     "text": [
      "1/1 [==============================] - 0s 15ms/step\n"
     ]
    },
    {
     "name": "stderr",
     "output_type": "stream",
     "text": [
      "2024-01-26 12:21:45 WaideMBP-3.bahnhof.se root[83734] DEBUG Sell at: $25.94 | Position: -$0.02\n"
     ]
    },
    {
     "name": "stdout",
     "output_type": "stream",
     "text": [
      "1/1 [==============================] - 0s 14ms/step\n",
      "1/1 [==============================] - 0s 14ms/step\n",
      "1/1 [==============================] - 0s 14ms/step\n",
      "1/1 [==============================] - 0s 14ms/step\n",
      "1/1 [==============================] - 0s 14ms/step\n"
     ]
    },
    {
     "name": "stderr",
     "output_type": "stream",
     "text": [
      "2024-01-26 12:21:45 WaideMBP-3.bahnhof.se root[83734] DEBUG Buy at: $26.91\n"
     ]
    },
    {
     "name": "stdout",
     "output_type": "stream",
     "text": [
      "1/1 [==============================] - 0s 14ms/step\n"
     ]
    },
    {
     "name": "stderr",
     "output_type": "stream",
     "text": [
      "2024-01-26 12:21:45 WaideMBP-3.bahnhof.se root[83734] DEBUG Buy at: $26.41\n"
     ]
    },
    {
     "name": "stdout",
     "output_type": "stream",
     "text": [
      "1/1 [==============================] - 0s 15ms/step\n"
     ]
    },
    {
     "name": "stderr",
     "output_type": "stream",
     "text": [
      "2024-01-26 12:21:45 WaideMBP-3.bahnhof.se root[83734] DEBUG Sell at: $26.51 | Position: -$0.40\n"
     ]
    },
    {
     "name": "stdout",
     "output_type": "stream",
     "text": [
      "1/1 [==============================] - 0s 14ms/step\n"
     ]
    },
    {
     "name": "stderr",
     "output_type": "stream",
     "text": [
      "2024-01-26 12:21:45 WaideMBP-3.bahnhof.se root[83734] DEBUG Sell at: $25.91 | Position: -$0.50\n"
     ]
    },
    {
     "name": "stdout",
     "output_type": "stream",
     "text": [
      "1/1 [==============================] - 0s 14ms/step\n",
      "1/1 [==============================] - 0s 14ms/step\n",
      "1/1 [==============================] - 0s 14ms/step\n",
      "1/1 [==============================] - 0s 14ms/step\n",
      "1/1 [==============================] - 0s 14ms/step\n",
      "1/1 [==============================] - 0s 14ms/step\n"
     ]
    },
    {
     "name": "stderr",
     "output_type": "stream",
     "text": [
      "2024-01-26 12:21:46 WaideMBP-3.bahnhof.se root[83734] DEBUG Buy at: $27.18\n"
     ]
    },
    {
     "name": "stdout",
     "output_type": "stream",
     "text": [
      "1/1 [==============================] - 0s 14ms/step\n"
     ]
    },
    {
     "name": "stderr",
     "output_type": "stream",
     "text": [
      "2024-01-26 12:21:46 WaideMBP-3.bahnhof.se root[83734] DEBUG Buy at: $27.04\n"
     ]
    },
    {
     "name": "stdout",
     "output_type": "stream",
     "text": [
      "1/1 [==============================] - 0s 13ms/step\n"
     ]
    },
    {
     "name": "stderr",
     "output_type": "stream",
     "text": [
      "2024-01-26 12:21:46 WaideMBP-3.bahnhof.se root[83734] DEBUG Buy at: $26.06\n"
     ]
    },
    {
     "name": "stdout",
     "output_type": "stream",
     "text": [
      "1/1 [==============================] - 0s 14ms/step\n"
     ]
    },
    {
     "name": "stderr",
     "output_type": "stream",
     "text": [
      "2024-01-26 12:21:46 WaideMBP-3.bahnhof.se root[83734] DEBUG Buy at: $25.24\n"
     ]
    },
    {
     "name": "stdout",
     "output_type": "stream",
     "text": [
      "1/1 [==============================] - 0s 15ms/step\n"
     ]
    },
    {
     "name": "stderr",
     "output_type": "stream",
     "text": [
      "2024-01-26 12:21:46 WaideMBP-3.bahnhof.se root[83734] DEBUG Sell at: $24.25 | Position: -$2.93\n"
     ]
    },
    {
     "name": "stdout",
     "output_type": "stream",
     "text": [
      "1/1 [==============================] - 0s 14ms/step\n"
     ]
    },
    {
     "name": "stderr",
     "output_type": "stream",
     "text": [
      "2024-01-26 12:21:46 WaideMBP-3.bahnhof.se root[83734] DEBUG Sell at: $23.81 | Position: -$3.23\n"
     ]
    },
    {
     "name": "stdout",
     "output_type": "stream",
     "text": [
      "1/1 [==============================] - 0s 14ms/step\n"
     ]
    },
    {
     "name": "stderr",
     "output_type": "stream",
     "text": [
      "2024-01-26 12:21:46 WaideMBP-3.bahnhof.se root[83734] DEBUG Sell at: $23.52 | Position: -$2.54\n"
     ]
    },
    {
     "name": "stdout",
     "output_type": "stream",
     "text": [
      "1/1 [==============================] - 0s 14ms/step\n"
     ]
    },
    {
     "name": "stderr",
     "output_type": "stream",
     "text": [
      "2024-01-26 12:21:46 WaideMBP-3.bahnhof.se root[83734] DEBUG Sell at: $23.29 | Position: -$1.95\n"
     ]
    },
    {
     "name": "stdout",
     "output_type": "stream",
     "text": [
      "1/1 [==============================] - 0s 14ms/step\n",
      "1/1 [==============================] - 0s 14ms/step\n",
      "1/1 [==============================] - 0s 15ms/step\n",
      "1/1 [==============================] - 0s 14ms/step\n",
      "1/1 [==============================] - 0s 15ms/step\n",
      "1/1 [==============================] - 0s 14ms/step\n"
     ]
    },
    {
     "name": "stderr",
     "output_type": "stream",
     "text": [
      "2024-01-26 12:21:46 WaideMBP-3.bahnhof.se root[83734] DEBUG Buy at: $25.12\n"
     ]
    },
    {
     "name": "stdout",
     "output_type": "stream",
     "text": [
      "1/1 [==============================] - 0s 14ms/step\n"
     ]
    },
    {
     "name": "stderr",
     "output_type": "stream",
     "text": [
      "2024-01-26 12:21:46 WaideMBP-3.bahnhof.se root[83734] DEBUG Buy at: $24.19\n"
     ]
    },
    {
     "name": "stdout",
     "output_type": "stream",
     "text": [
      "1/1 [==============================] - 0s 14ms/step\n"
     ]
    },
    {
     "name": "stderr",
     "output_type": "stream",
     "text": [
      "2024-01-26 12:21:46 WaideMBP-3.bahnhof.se root[83734] DEBUG Buy at: $23.40\n"
     ]
    },
    {
     "name": "stdout",
     "output_type": "stream",
     "text": [
      "1/1 [==============================] - 0s 15ms/step\n"
     ]
    },
    {
     "name": "stderr",
     "output_type": "stream",
     "text": [
      "2024-01-26 12:21:46 WaideMBP-3.bahnhof.se root[83734] DEBUG Sell at: $23.34 | Position: -$1.78\n"
     ]
    },
    {
     "name": "stdout",
     "output_type": "stream",
     "text": [
      "1/1 [==============================] - 0s 14ms/step\n"
     ]
    },
    {
     "name": "stderr",
     "output_type": "stream",
     "text": [
      "2024-01-26 12:21:46 WaideMBP-3.bahnhof.se root[83734] DEBUG Sell at: $24.91 | Position: +$0.72\n"
     ]
    },
    {
     "name": "stdout",
     "output_type": "stream",
     "text": [
      "1/1 [==============================] - 0s 14ms/step\n"
     ]
    },
    {
     "name": "stderr",
     "output_type": "stream",
     "text": [
      "2024-01-26 12:21:46 WaideMBP-3.bahnhof.se root[83734] DEBUG Sell at: $31.00 | Position: +$7.60\n"
     ]
    },
    {
     "name": "stdout",
     "output_type": "stream",
     "text": [
      "1/1 [==============================] - 0s 14ms/step\n",
      "1/1 [==============================] - 0s 14ms/step\n",
      "1/1 [==============================] - 0s 14ms/step\n",
      "1/1 [==============================] - 0s 15ms/step\n",
      "1/1 [==============================] - 0s 14ms/step\n",
      "1/1 [==============================] - 0s 14ms/step\n",
      "1/1 [==============================] - 0s 14ms/step\n",
      "1/1 [==============================] - 0s 14ms/step\n",
      "1/1 [==============================] - 0s 14ms/step\n",
      "1/1 [==============================] - 0s 14ms/step\n"
     ]
    },
    {
     "name": "stderr",
     "output_type": "stream",
     "text": [
      "2024-01-26 12:21:47 WaideMBP-3.bahnhof.se root[83734] DEBUG Buy at: $29.46\n"
     ]
    },
    {
     "name": "stdout",
     "output_type": "stream",
     "text": [
      "1/1 [==============================] - 0s 14ms/step\n"
     ]
    },
    {
     "name": "stderr",
     "output_type": "stream",
     "text": [
      "2024-01-26 12:21:47 WaideMBP-3.bahnhof.se root[83734] DEBUG Sell at: $29.80 | Position: +$0.34\n"
     ]
    },
    {
     "name": "stdout",
     "output_type": "stream",
     "text": [
      "1/1 [==============================] - 0s 15ms/step\n",
      "1/1 [==============================] - 0s 14ms/step\n",
      "1/1 [==============================] - 0s 14ms/step\n",
      "1/1 [==============================] - 0s 14ms/step\n",
      "1/1 [==============================] - 0s 14ms/step\n",
      "1/1 [==============================] - 0s 14ms/step\n",
      "1/1 [==============================] - 0s 14ms/step\n"
     ]
    },
    {
     "name": "stderr",
     "output_type": "stream",
     "text": [
      "2024-01-26 12:21:47 WaideMBP-3.bahnhof.se root[83734] DEBUG Buy at: $34.14\n"
     ]
    },
    {
     "name": "stdout",
     "output_type": "stream",
     "text": [
      "1/1 [==============================] - 0s 14ms/step\n"
     ]
    },
    {
     "name": "stderr",
     "output_type": "stream",
     "text": [
      "2024-01-26 12:21:47 WaideMBP-3.bahnhof.se root[83734] DEBUG Sell at: $34.22 | Position: +$0.08\n"
     ]
    },
    {
     "name": "stdout",
     "output_type": "stream",
     "text": [
      "1/1 [==============================] - 0s 14ms/step\n",
      "1/1 [==============================] - 0s 15ms/step\n",
      "1/1 [==============================] - 0s 14ms/step\n",
      "1/1 [==============================] - 0s 14ms/step\n",
      "1/1 [==============================] - 0s 14ms/step\n"
     ]
    },
    {
     "name": "stderr",
     "output_type": "stream",
     "text": [
      "2024-01-26 12:21:47 WaideMBP-3.bahnhof.se root[83734] DEBUG Buy at: $30.60\n"
     ]
    },
    {
     "name": "stdout",
     "output_type": "stream",
     "text": [
      "1/1 [==============================] - 0s 14ms/step\n"
     ]
    },
    {
     "name": "stderr",
     "output_type": "stream",
     "text": [
      "2024-01-26 12:21:47 WaideMBP-3.bahnhof.se root[83734] DEBUG Sell at: $30.76 | Position: +$0.16\n"
     ]
    },
    {
     "name": "stdout",
     "output_type": "stream",
     "text": [
      "1/1 [==============================] - 0s 14ms/step\n",
      "1/1 [==============================] - 0s 14ms/step\n",
      "1/1 [==============================] - 0s 14ms/step\n",
      "1/1 [==============================] - 0s 14ms/step\n",
      "1/1 [==============================] - 0s 14ms/step\n",
      "1/1 [==============================] - 0s 14ms/step\n"
     ]
    },
    {
     "name": "stderr",
     "output_type": "stream",
     "text": [
      "2024-01-26 12:21:48 WaideMBP-3.bahnhof.se root[83734] DEBUG Buy at: $31.11\n"
     ]
    },
    {
     "name": "stdout",
     "output_type": "stream",
     "text": [
      "1/1 [==============================] - 0s 15ms/step\n"
     ]
    },
    {
     "name": "stderr",
     "output_type": "stream",
     "text": [
      "2024-01-26 12:21:48 WaideMBP-3.bahnhof.se root[83734] DEBUG Buy at: $31.46\n"
     ]
    },
    {
     "name": "stdout",
     "output_type": "stream",
     "text": [
      "1/1 [==============================] - 0s 15ms/step\n"
     ]
    },
    {
     "name": "stderr",
     "output_type": "stream",
     "text": [
      "2024-01-26 12:21:48 WaideMBP-3.bahnhof.se root[83734] DEBUG Sell at: $31.56 | Position: +$0.46\n"
     ]
    },
    {
     "name": "stdout",
     "output_type": "stream",
     "text": [
      "1/1 [==============================] - 0s 15ms/step\n"
     ]
    },
    {
     "name": "stderr",
     "output_type": "stream",
     "text": [
      "2024-01-26 12:21:48 WaideMBP-3.bahnhof.se root[83734] DEBUG Sell at: $30.64 | Position: -$0.82\n"
     ]
    },
    {
     "name": "stdout",
     "output_type": "stream",
     "text": [
      "1/1 [==============================] - 0s 14ms/step\n",
      "1/1 [==============================] - 0s 14ms/step\n",
      "1/1 [==============================] - 0s 14ms/step\n",
      "1/1 [==============================] - 0s 14ms/step\n",
      "1/1 [==============================] - 0s 15ms/step\n",
      "1/1 [==============================] - 0s 15ms/step\n"
     ]
    },
    {
     "name": "stderr",
     "output_type": "stream",
     "text": [
      "2024-01-26 12:21:48 WaideMBP-3.bahnhof.se root[83734] DEBUG Buy at: $33.19\n"
     ]
    },
    {
     "name": "stdout",
     "output_type": "stream",
     "text": [
      "1/1 [==============================] - 0s 14ms/step\n"
     ]
    },
    {
     "name": "stderr",
     "output_type": "stream",
     "text": [
      "2024-01-26 12:21:48 WaideMBP-3.bahnhof.se root[83734] DEBUG Sell at: $31.93 | Position: -$1.26\n"
     ]
    },
    {
     "name": "stdout",
     "output_type": "stream",
     "text": [
      "1/1 [==============================] - 0s 14ms/step\n",
      "1/1 [==============================] - 0s 14ms/step\n",
      "1/1 [==============================] - 0s 14ms/step\n",
      "1/1 [==============================] - 0s 14ms/step\n",
      "1/1 [==============================] - 0s 14ms/step\n",
      "1/1 [==============================] - 0s 14ms/step\n",
      "1/1 [==============================] - 0s 14ms/step\n",
      "1/1 [==============================] - 0s 14ms/step\n",
      "1/1 [==============================] - 0s 14ms/step\n",
      "1/1 [==============================] - 0s 14ms/step\n",
      "1/1 [==============================] - 0s 14ms/step\n",
      "1/1 [==============================] - 0s 14ms/step\n",
      "1/1 [==============================] - 0s 14ms/step\n",
      "1/1 [==============================] - 0s 14ms/step\n"
     ]
    },
    {
     "name": "stderr",
     "output_type": "stream",
     "text": [
      "2024-01-26 12:21:48 WaideMBP-3.bahnhof.se root[83734] DEBUG Buy at: $34.88\n"
     ]
    },
    {
     "name": "stdout",
     "output_type": "stream",
     "text": [
      "1/1 [==============================] - 0s 17ms/step\n"
     ]
    },
    {
     "name": "stderr",
     "output_type": "stream",
     "text": [
      "2024-01-26 12:21:48 WaideMBP-3.bahnhof.se root[83734] DEBUG Sell at: $36.75 | Position: +$1.87\n"
     ]
    },
    {
     "name": "stdout",
     "output_type": "stream",
     "text": [
      "1/1 [==============================] - 0s 15ms/step\n",
      "1/1 [==============================] - 0s 14ms/step\n",
      "1/1 [==============================] - 0s 15ms/step\n",
      "1/1 [==============================] - 0s 14ms/step\n",
      "1/1 [==============================] - 0s 14ms/step\n",
      "1/1 [==============================] - 0s 14ms/step\n"
     ]
    },
    {
     "name": "stderr",
     "output_type": "stream",
     "text": [
      "2024-01-26 12:21:49 WaideMBP-3.bahnhof.se root[83734] DEBUG Buy at: $37.42\n"
     ]
    },
    {
     "name": "stdout",
     "output_type": "stream",
     "text": [
      "1/1 [==============================] - 0s 14ms/step\n"
     ]
    },
    {
     "name": "stderr",
     "output_type": "stream",
     "text": [
      "2024-01-26 12:21:49 WaideMBP-3.bahnhof.se root[83734] DEBUG Sell at: $35.75 | Position: -$1.67\n"
     ]
    },
    {
     "name": "stdout",
     "output_type": "stream",
     "text": [
      "1/1 [==============================] - 0s 14ms/step\n"
     ]
    },
    {
     "name": "stderr",
     "output_type": "stream",
     "text": [
      "2024-01-26 12:21:49 WaideMBP-3.bahnhof.se root[83734] DEBUG Buy at: $34.47\n"
     ]
    },
    {
     "name": "stdout",
     "output_type": "stream",
     "text": [
      "1/1 [==============================] - 0s 14ms/step\n"
     ]
    },
    {
     "name": "stderr",
     "output_type": "stream",
     "text": [
      "2024-01-26 12:21:49 WaideMBP-3.bahnhof.se root[83734] DEBUG Sell at: $35.25 | Position: +$0.78\n"
     ]
    },
    {
     "name": "stdout",
     "output_type": "stream",
     "text": [
      "1/1 [==============================] - 0s 14ms/step\n",
      "1/1 [==============================] - 0s 14ms/step\n",
      "1/1 [==============================] - 0s 14ms/step\n",
      "1/1 [==============================] - 0s 14ms/step\n",
      "1/1 [==============================] - 0s 16ms/step\n",
      "1/1 [==============================] - 0s 14ms/step\n",
      "1/1 [==============================] - 0s 14ms/step\n"
     ]
    },
    {
     "name": "stderr",
     "output_type": "stream",
     "text": [
      "2024-01-26 12:21:49 WaideMBP-3.bahnhof.se root[83734] DEBUG Buy at: $36.26\n"
     ]
    },
    {
     "name": "stdout",
     "output_type": "stream",
     "text": [
      "1/1 [==============================] - 0s 14ms/step\n"
     ]
    },
    {
     "name": "stderr",
     "output_type": "stream",
     "text": [
      "2024-01-26 12:21:49 WaideMBP-3.bahnhof.se root[83734] DEBUG Sell at: $36.56 | Position: +$0.29\n"
     ]
    },
    {
     "name": "stdout",
     "output_type": "stream",
     "text": [
      "1/1 [==============================] - 0s 14ms/step\n",
      "1/1 [==============================] - 0s 14ms/step\n"
     ]
    },
    {
     "name": "stderr",
     "output_type": "stream",
     "text": [
      "2024-01-26 12:21:49 WaideMBP-3.bahnhof.se root[83734] DEBUG Buy at: $35.77\n"
     ]
    },
    {
     "name": "stdout",
     "output_type": "stream",
     "text": [
      "1/1 [==============================] - 0s 14ms/step\n"
     ]
    },
    {
     "name": "stderr",
     "output_type": "stream",
     "text": [
      "2024-01-26 12:21:49 WaideMBP-3.bahnhof.se root[83734] DEBUG Sell at: $36.11 | Position: +$0.34\n"
     ]
    },
    {
     "name": "stdout",
     "output_type": "stream",
     "text": [
      "1/1 [==============================] - 0s 14ms/step\n",
      "1/1 [==============================] - 0s 14ms/step\n",
      "1/1 [==============================] - 0s 15ms/step\n",
      "1/1 [==============================] - 0s 14ms/step\n",
      "1/1 [==============================] - 0s 15ms/step\n",
      "1/1 [==============================] - 0s 14ms/step\n",
      "1/1 [==============================] - 0s 14ms/step\n",
      "1/1 [==============================] - 0s 15ms/step\n",
      "1/1 [==============================] - 0s 14ms/step\n",
      "1/1 [==============================] - 0s 14ms/step\n",
      "1/1 [==============================] - 0s 15ms/step\n",
      "1/1 [==============================] - 0s 14ms/step\n",
      "1/1 [==============================] - 0s 14ms/step\n",
      "1/1 [==============================] - 0s 14ms/step\n",
      "1/1 [==============================] - 0s 14ms/step\n",
      "1/1 [==============================] - 0s 14ms/step\n",
      "1/1 [==============================] - 0s 14ms/step\n",
      "1/1 [==============================] - 0s 14ms/step\n"
     ]
    },
    {
     "name": "stderr",
     "output_type": "stream",
     "text": [
      "2024-01-26 12:21:50 WaideMBP-3.bahnhof.se root[83734] DEBUG Buy at: $42.16\n"
     ]
    },
    {
     "name": "stdout",
     "output_type": "stream",
     "text": [
      "1/1 [==============================] - 0s 14ms/step\n"
     ]
    },
    {
     "name": "stderr",
     "output_type": "stream",
     "text": [
      "2024-01-26 12:21:50 WaideMBP-3.bahnhof.se root[83734] DEBUG Sell at: $41.65 | Position: -$0.51\n"
     ]
    },
    {
     "name": "stdout",
     "output_type": "stream",
     "text": [
      "1/1 [==============================] - 0s 14ms/step\n",
      "1/1 [==============================] - 0s 14ms/step\n",
      "1/1 [==============================] - 0s 14ms/step\n",
      "1/1 [==============================] - 0s 14ms/step\n",
      "1/1 [==============================] - 0s 14ms/step\n",
      "1/1 [==============================] - 0s 14ms/step\n",
      "1/1 [==============================] - 0s 14ms/step\n",
      "1/1 [==============================] - 0s 14ms/step\n",
      "1/1 [==============================] - 0s 14ms/step\n",
      "1/1 [==============================] - 0s 14ms/step\n",
      "1/1 [==============================] - 0s 14ms/step\n",
      "1/1 [==============================] - 0s 14ms/step\n"
     ]
    },
    {
     "name": "stderr",
     "output_type": "stream",
     "text": [
      "2024-01-26 12:21:50 WaideMBP-3.bahnhof.se root[83734] DEBUG Buy at: $43.78\n"
     ]
    },
    {
     "name": "stdout",
     "output_type": "stream",
     "text": [
      "1/1 [==============================] - 0s 14ms/step\n"
     ]
    },
    {
     "name": "stderr",
     "output_type": "stream",
     "text": [
      "2024-01-26 12:21:50 WaideMBP-3.bahnhof.se root[83734] DEBUG Buy at: $43.88\n"
     ]
    },
    {
     "name": "stdout",
     "output_type": "stream",
     "text": [
      "1/1 [==============================] - 0s 14ms/step\n"
     ]
    },
    {
     "name": "stderr",
     "output_type": "stream",
     "text": [
      "2024-01-26 12:21:51 WaideMBP-3.bahnhof.se root[83734] DEBUG Sell at: $44.79 | Position: +$1.00\n"
     ]
    },
    {
     "name": "stdout",
     "output_type": "stream",
     "text": [
      "1/1 [==============================] - 0s 14ms/step\n"
     ]
    },
    {
     "name": "stderr",
     "output_type": "stream",
     "text": [
      "2024-01-26 12:21:51 WaideMBP-3.bahnhof.se root[83734] DEBUG Buy at: $44.63\n"
     ]
    },
    {
     "name": "stdout",
     "output_type": "stream",
     "text": [
      "1/1 [==============================] - 0s 14ms/step\n"
     ]
    },
    {
     "name": "stderr",
     "output_type": "stream",
     "text": [
      "2024-01-26 12:21:51 WaideMBP-3.bahnhof.se root[83734] DEBUG Buy at: $44.17\n"
     ]
    },
    {
     "name": "stdout",
     "output_type": "stream",
     "text": [
      "1/1 [==============================] - 0s 14ms/step\n"
     ]
    },
    {
     "name": "stderr",
     "output_type": "stream",
     "text": [
      "2024-01-26 12:21:51 WaideMBP-3.bahnhof.se root[83734] DEBUG Sell at: $46.37 | Position: +$2.50\n"
     ]
    },
    {
     "name": "stdout",
     "output_type": "stream",
     "text": [
      "1/1 [==============================] - 0s 14ms/step\n"
     ]
    },
    {
     "name": "stderr",
     "output_type": "stream",
     "text": [
      "2024-01-26 12:21:51 WaideMBP-3.bahnhof.se root[83734] DEBUG Sell at: $47.25 | Position: +$2.62\n"
     ]
    },
    {
     "name": "stdout",
     "output_type": "stream",
     "text": [
      "1/1 [==============================] - 0s 14ms/step\n"
     ]
    },
    {
     "name": "stderr",
     "output_type": "stream",
     "text": [
      "2024-01-26 12:21:51 WaideMBP-3.bahnhof.se root[83734] DEBUG Sell at: $45.96 | Position: +$1.79\n"
     ]
    },
    {
     "name": "stdout",
     "output_type": "stream",
     "text": [
      "1/1 [==============================] - 0s 14ms/step\n",
      "1/1 [==============================] - 0s 14ms/step\n",
      "1/1 [==============================] - 0s 15ms/step\n",
      "1/1 [==============================] - 0s 14ms/step\n"
     ]
    },
    {
     "name": "stderr",
     "output_type": "stream",
     "text": [
      "2024-01-26 12:21:51 WaideMBP-3.bahnhof.se root[83734] DEBUG Buy at: $41.20\n"
     ]
    },
    {
     "name": "stdout",
     "output_type": "stream",
     "text": [
      "1/1 [==============================] - 0s 14ms/step\n"
     ]
    },
    {
     "name": "stderr",
     "output_type": "stream",
     "text": [
      "2024-01-26 12:21:51 WaideMBP-3.bahnhof.se root[83734] DEBUG Sell at: $43.43 | Position: +$2.22\n"
     ]
    },
    {
     "name": "stdout",
     "output_type": "stream",
     "text": [
      "1/1 [==============================] - 0s 14ms/step\n"
     ]
    },
    {
     "name": "stderr",
     "output_type": "stream",
     "text": [
      "2024-01-26 12:21:51 WaideMBP-3.bahnhof.se root[83734] DEBUG Buy at: $42.98\n"
     ]
    },
    {
     "name": "stdout",
     "output_type": "stream",
     "text": [
      "1/1 [==============================] - 0s 14ms/step\n"
     ]
    },
    {
     "name": "stderr",
     "output_type": "stream",
     "text": [
      "2024-01-26 12:21:51 WaideMBP-3.bahnhof.se root[83734] DEBUG Sell at: $46.34 | Position: +$3.36\n"
     ]
    },
    {
     "name": "stdout",
     "output_type": "stream",
     "text": [
      "1/1 [==============================] - 0s 14ms/step\n"
     ]
    },
    {
     "name": "stderr",
     "output_type": "stream",
     "text": [
      "2024-01-26 12:21:51 WaideMBP-3.bahnhof.se root[83734] DEBUG Buy at: $45.96\n"
     ]
    },
    {
     "name": "stdout",
     "output_type": "stream",
     "text": [
      "1/1 [==============================] - 0s 14ms/step\n"
     ]
    },
    {
     "name": "stderr",
     "output_type": "stream",
     "text": [
      "2024-01-26 12:21:51 WaideMBP-3.bahnhof.se root[83734] DEBUG Sell at: $46.13 | Position: +$0.17\n"
     ]
    },
    {
     "name": "stdout",
     "output_type": "stream",
     "text": [
      "1/1 [==============================] - 0s 14ms/step\n",
      "1/1 [==============================] - 0s 14ms/step\n",
      "1/1 [==============================] - 0s 14ms/step\n",
      "1/1 [==============================] - 0s 14ms/step\n",
      "1/1 [==============================] - 0s 15ms/step\n",
      "1/1 [==============================] - 0s 14ms/step\n",
      "1/1 [==============================] - 0s 14ms/step\n",
      "1/1 [==============================] - 0s 15ms/step\n"
     ]
    },
    {
     "name": "stderr",
     "output_type": "stream",
     "text": [
      "2024-01-26 12:21:51 WaideMBP-3.bahnhof.se root[83734] DEBUG Buy at: $44.86\n"
     ]
    },
    {
     "name": "stdout",
     "output_type": "stream",
     "text": [
      "1/1 [==============================] - 0s 14ms/step\n"
     ]
    },
    {
     "name": "stderr",
     "output_type": "stream",
     "text": [
      "2024-01-26 12:21:51 WaideMBP-3.bahnhof.se root[83734] DEBUG Sell at: $46.76 | Position: +$1.90\n"
     ]
    },
    {
     "name": "stdout",
     "output_type": "stream",
     "text": [
      "1/1 [==============================] - 0s 14ms/step\n",
      "1/1 [==============================] - 0s 14ms/step\n",
      "1/1 [==============================] - 0s 14ms/step\n",
      "1/1 [==============================] - 0s 14ms/step\n",
      "1/1 [==============================] - 0s 15ms/step\n",
      "1/1 [==============================] - 0s 14ms/step\n",
      "1/1 [==============================] - 0s 14ms/step\n"
     ]
    },
    {
     "name": "stderr",
     "output_type": "stream",
     "text": [
      "2024-01-26 12:21:52 WaideMBP-3.bahnhof.se root[83734] DEBUG Buy at: $46.69\n"
     ]
    },
    {
     "name": "stdout",
     "output_type": "stream",
     "text": [
      "1/1 [==============================] - 0s 14ms/step\n"
     ]
    },
    {
     "name": "stderr",
     "output_type": "stream",
     "text": [
      "2024-01-26 12:21:52 WaideMBP-3.bahnhof.se root[83734] DEBUG Sell at: $47.84 | Position: +$1.15\n"
     ]
    },
    {
     "name": "stdout",
     "output_type": "stream",
     "text": [
      "1/1 [==============================] - 0s 14ms/step\n",
      "1/1 [==============================] - 0s 14ms/step\n",
      "1/1 [==============================] - 0s 14ms/step\n",
      "1/1 [==============================] - 0s 14ms/step\n",
      "1/1 [==============================] - 0s 15ms/step\n",
      "1/1 [==============================] - 0s 15ms/step\n",
      "1/1 [==============================] - 0s 15ms/step\n"
     ]
    },
    {
     "name": "stderr",
     "output_type": "stream",
     "text": [
      "2024-01-26 12:21:52 WaideMBP-3.bahnhof.se root[83734] DEBUG Buy at: $48.18\n"
     ]
    },
    {
     "name": "stdout",
     "output_type": "stream",
     "text": [
      "1/1 [==============================] - 0s 14ms/step\n"
     ]
    },
    {
     "name": "stderr",
     "output_type": "stream",
     "text": [
      "2024-01-26 12:21:52 WaideMBP-3.bahnhof.se root[83734] DEBUG Sell at: $48.50 | Position: +$0.32\n"
     ]
    },
    {
     "name": "stdout",
     "output_type": "stream",
     "text": [
      "1/1 [==============================] - 0s 14ms/step\n",
      "1/1 [==============================] - 0s 14ms/step\n",
      "1/1 [==============================] - 0s 14ms/step\n",
      "1/1 [==============================] - 0s 16ms/step\n",
      "1/1 [==============================] - 0s 17ms/step\n",
      "1/1 [==============================] - 0s 14ms/step\n",
      "1/1 [==============================] - 0s 14ms/step\n",
      "1/1 [==============================] - 0s 14ms/step\n"
     ]
    },
    {
     "name": "stderr",
     "output_type": "stream",
     "text": [
      "2024-01-26 12:21:52 WaideMBP-3.bahnhof.se root[83734] DEBUG Buy at: $51.85\n"
     ]
    },
    {
     "name": "stdout",
     "output_type": "stream",
     "text": [
      "1/1 [==============================] - 0s 14ms/step\n"
     ]
    },
    {
     "name": "stderr",
     "output_type": "stream",
     "text": [
      "2024-01-26 12:21:52 WaideMBP-3.bahnhof.se root[83734] DEBUG Sell at: $50.90 | Position: -$0.95\n"
     ]
    },
    {
     "name": "stdout",
     "output_type": "stream",
     "text": [
      "1/1 [==============================] - 0s 15ms/step\n",
      "1/1 [==============================] - 0s 15ms/step\n",
      "1/1 [==============================] - 0s 14ms/step\n",
      "1/1 [==============================] - 0s 14ms/step\n",
      "1/1 [==============================] - 0s 14ms/step\n",
      "1/1 [==============================] - 0s 14ms/step\n",
      "1/1 [==============================] - 0s 14ms/step\n",
      "1/1 [==============================] - 0s 14ms/step\n"
     ]
    },
    {
     "name": "stderr",
     "output_type": "stream",
     "text": [
      "2024-01-26 12:21:53 WaideMBP-3.bahnhof.se root[83734] DEBUG Buy at: $52.33\n"
     ]
    },
    {
     "name": "stdout",
     "output_type": "stream",
     "text": [
      "1/1 [==============================] - 0s 15ms/step\n"
     ]
    },
    {
     "name": "stderr",
     "output_type": "stream",
     "text": [
      "2024-01-26 12:21:53 WaideMBP-3.bahnhof.se root[83734] DEBUG Sell at: $53.55 | Position: +$1.22\n"
     ]
    },
    {
     "name": "stdout",
     "output_type": "stream",
     "text": [
      "1/1 [==============================] - 0s 15ms/step\n",
      "1/1 [==============================] - 0s 15ms/step\n",
      "1/1 [==============================] - 0s 14ms/step\n",
      "1/1 [==============================] - 0s 14ms/step\n",
      "1/1 [==============================] - 0s 14ms/step\n",
      "1/1 [==============================] - 0s 14ms/step\n",
      "1/1 [==============================] - 0s 14ms/step\n"
     ]
    },
    {
     "name": "stderr",
     "output_type": "stream",
     "text": [
      "2024-01-26 12:21:53 WaideMBP-3.bahnhof.se root[83734] DEBUG Buy at: $52.50\n"
     ]
    },
    {
     "name": "stdout",
     "output_type": "stream",
     "text": [
      "1/1 [==============================] - 0s 14ms/step\n"
     ]
    },
    {
     "name": "stderr",
     "output_type": "stream",
     "text": [
      "2024-01-26 12:21:53 WaideMBP-3.bahnhof.se root[83734] DEBUG Sell at: $52.43 | Position: -$0.07\n"
     ]
    },
    {
     "name": "stdout",
     "output_type": "stream",
     "text": [
      "1/1 [==============================] - 0s 14ms/step\n",
      "1/1 [==============================] - 0s 14ms/step\n",
      "1/1 [==============================] - 0s 14ms/step\n",
      "1/1 [==============================] - 0s 15ms/step\n",
      "1/1 [==============================] - 0s 14ms/step\n",
      "1/1 [==============================] - 0s 14ms/step\n",
      "1/1 [==============================] - 0s 14ms/step\n",
      "1/1 [==============================] - 0s 14ms/step\n",
      "1/1 [==============================] - 0s 14ms/step\n",
      "1/1 [==============================] - 0s 14ms/step\n",
      "1/1 [==============================] - 0s 15ms/step\n",
      "1/1 [==============================] - 0s 15ms/step\n",
      "1/1 [==============================] - 0s 15ms/step\n",
      "1/1 [==============================] - 0s 15ms/step\n",
      "1/1 [==============================] - 0s 14ms/step\n",
      "1/1 [==============================] - 0s 14ms/step\n",
      "1/1 [==============================] - 0s 14ms/step\n",
      "1/1 [==============================] - 0s 14ms/step\n",
      "1/1 [==============================] - 0s 15ms/step\n",
      "1/1 [==============================] - 0s 14ms/step\n",
      "1/1 [==============================] - 0s 14ms/step\n",
      "1/1 [==============================] - 0s 14ms/step\n",
      "1/1 [==============================] - 0s 14ms/step\n"
     ]
    },
    {
     "name": "stderr",
     "output_type": "stream",
     "text": [
      "2024-01-26 12:21:54 WaideMBP-3.bahnhof.se root[83734] DEBUG Buy at: $57.77\n"
     ]
    },
    {
     "name": "stdout",
     "output_type": "stream",
     "text": [
      "1/1 [==============================] - 0s 14ms/step\n"
     ]
    },
    {
     "name": "stderr",
     "output_type": "stream",
     "text": [
      "2024-01-26 12:21:54 WaideMBP-3.bahnhof.se root[83734] DEBUG Sell at: $57.99 | Position: +$0.22\n"
     ]
    },
    {
     "name": "stdout",
     "output_type": "stream",
     "text": [
      "1/1 [==============================] - 0s 14ms/step\n"
     ]
    },
    {
     "name": "stderr",
     "output_type": "stream",
     "text": [
      "2024-01-26 12:21:54 WaideMBP-3.bahnhof.se root[83734] DEBUG Buy at: $57.77\n"
     ]
    },
    {
     "name": "stdout",
     "output_type": "stream",
     "text": [
      "1/1 [==============================] - 0s 14ms/step\n"
     ]
    },
    {
     "name": "stderr",
     "output_type": "stream",
     "text": [
      "2024-01-26 12:21:54 WaideMBP-3.bahnhof.se root[83734] DEBUG Sell at: $58.27 | Position: +$0.50\n"
     ]
    },
    {
     "name": "stdout",
     "output_type": "stream",
     "text": [
      "1/1 [==============================] - 0s 14ms/step\n",
      "1/1 [==============================] - 0s 15ms/step\n",
      "1/1 [==============================] - 0s 14ms/step\n"
     ]
    },
    {
     "name": "stderr",
     "output_type": "stream",
     "text": [
      "2024-01-26 12:21:54 WaideMBP-3.bahnhof.se root[83734] DEBUG Buy at: $62.00\n"
     ]
    },
    {
     "name": "stdout",
     "output_type": "stream",
     "text": [
      "1/1 [==============================] - 0s 14ms/step\n"
     ]
    },
    {
     "name": "stderr",
     "output_type": "stream",
     "text": [
      "2024-01-26 12:21:54 WaideMBP-3.bahnhof.se root[83734] DEBUG Sell at: $61.28 | Position: -$0.72\n"
     ]
    },
    {
     "name": "stdout",
     "output_type": "stream",
     "text": [
      "1/1 [==============================] - 0s 14ms/step\n",
      "1/1 [==============================] - 0s 56ms/step\n",
      "1/1 [==============================] - 0s 22ms/step\n",
      "1/1 [==============================] - 0s 16ms/step\n",
      "1/1 [==============================] - 0s 16ms/step\n",
      "1/1 [==============================] - 0s 16ms/step\n",
      "1/1 [==============================] - 0s 16ms/step\n",
      "1/1 [==============================] - 0s 16ms/step\n",
      "1/1 [==============================] - 0s 16ms/step\n"
     ]
    },
    {
     "name": "stderr",
     "output_type": "stream",
     "text": [
      "2024-01-26 12:21:55 WaideMBP-3.bahnhof.se root[83734] DEBUG Buy at: $64.11\n"
     ]
    },
    {
     "name": "stdout",
     "output_type": "stream",
     "text": [
      "1/1 [==============================] - 0s 16ms/step\n"
     ]
    },
    {
     "name": "stderr",
     "output_type": "stream",
     "text": [
      "2024-01-26 12:21:55 WaideMBP-3.bahnhof.se root[83734] DEBUG Sell at: $64.60 | Position: +$0.49\n"
     ]
    },
    {
     "name": "stdout",
     "output_type": "stream",
     "text": [
      "1/1 [==============================] - 0s 16ms/step\n"
     ]
    },
    {
     "name": "stderr",
     "output_type": "stream",
     "text": [
      "2024-01-26 12:21:55 WaideMBP-3.bahnhof.se root[83734] DEBUG Buy at: $63.66\n"
     ]
    },
    {
     "name": "stdout",
     "output_type": "stream",
     "text": [
      "1/1 [==============================] - 0s 17ms/step\n"
     ]
    },
    {
     "name": "stderr",
     "output_type": "stream",
     "text": [
      "2024-01-26 12:21:55 WaideMBP-3.bahnhof.se root[83734] DEBUG Sell at: $63.66 | Position: -$0.01\n"
     ]
    },
    {
     "name": "stdout",
     "output_type": "stream",
     "text": [
      "1/1 [==============================] - 0s 16ms/step\n",
      "1/1 [==============================] - 0s 16ms/step\n",
      "1/1 [==============================] - 0s 14ms/step\n",
      "1/1 [==============================] - 0s 14ms/step\n",
      "1/1 [==============================] - 0s 14ms/step\n",
      "1/1 [==============================] - 0s 14ms/step\n",
      "1/1 [==============================] - 0s 14ms/step\n",
      "1/1 [==============================] - 0s 14ms/step\n",
      "1/1 [==============================] - 0s 14ms/step\n",
      "1/1 [==============================] - 0s 15ms/step\n",
      "1/1 [==============================] - 0s 14ms/step\n",
      "1/1 [==============================] - 0s 14ms/step\n",
      "1/1 [==============================] - 0s 14ms/step\n",
      "1/1 [==============================] - 0s 14ms/step\n",
      "1/1 [==============================] - 0s 14ms/step\n",
      "1/1 [==============================] - 0s 14ms/step\n",
      "1/1 [==============================] - 0s 14ms/step\n",
      "1/1 [==============================] - 0s 14ms/step\n"
     ]
    },
    {
     "name": "stderr",
     "output_type": "stream",
     "text": [
      "2024-01-26 12:21:55 WaideMBP-3.bahnhof.se root[83734] DEBUG Buy at: $52.03\n"
     ]
    },
    {
     "name": "stdout",
     "output_type": "stream",
     "text": [
      "1/1 [==============================] - 0s 14ms/step\n"
     ]
    },
    {
     "name": "stderr",
     "output_type": "stream",
     "text": [
      "2024-01-26 12:21:56 WaideMBP-3.bahnhof.se root[83734] DEBUG Buy at: $51.27\n"
     ]
    },
    {
     "name": "stdout",
     "output_type": "stream",
     "text": [
      "1/1 [==============================] - 0s 14ms/step\n"
     ]
    },
    {
     "name": "stderr",
     "output_type": "stream",
     "text": [
      "2024-01-26 12:21:56 WaideMBP-3.bahnhof.se root[83734] DEBUG Buy at: $50.29\n"
     ]
    },
    {
     "name": "stdout",
     "output_type": "stream",
     "text": [
      "1/1 [==============================] - 0s 14ms/step\n"
     ]
    },
    {
     "name": "stderr",
     "output_type": "stream",
     "text": [
      "2024-01-26 12:21:56 WaideMBP-3.bahnhof.se root[83734] DEBUG Buy at: $52.10\n"
     ]
    },
    {
     "name": "stdout",
     "output_type": "stream",
     "text": [
      "1/1 [==============================] - 0s 14ms/step\n"
     ]
    },
    {
     "name": "stderr",
     "output_type": "stream",
     "text": [
      "2024-01-26 12:21:56 WaideMBP-3.bahnhof.se root[83734] DEBUG Sell at: $51.84 | Position: -$0.19\n"
     ]
    },
    {
     "name": "stdout",
     "output_type": "stream",
     "text": [
      "1/1 [==============================] - 0s 14ms/step\n"
     ]
    },
    {
     "name": "stderr",
     "output_type": "stream",
     "text": [
      "2024-01-26 12:21:56 WaideMBP-3.bahnhof.se root[83734] DEBUG Sell at: $50.67 | Position: -$0.60\n"
     ]
    },
    {
     "name": "stdout",
     "output_type": "stream",
     "text": [
      "1/1 [==============================] - 0s 14ms/step\n"
     ]
    },
    {
     "name": "stderr",
     "output_type": "stream",
     "text": [
      "2024-01-26 12:21:56 WaideMBP-3.bahnhof.se root[83734] DEBUG Buy at: $48.19\n"
     ]
    },
    {
     "name": "stdout",
     "output_type": "stream",
     "text": [
      "1/1 [==============================] - 0s 14ms/step\n"
     ]
    },
    {
     "name": "stderr",
     "output_type": "stream",
     "text": [
      "2024-01-26 12:21:56 WaideMBP-3.bahnhof.se root[83734] DEBUG Sell at: $48.29 | Position: -$2.00\n"
     ]
    },
    {
     "name": "stdout",
     "output_type": "stream",
     "text": [
      "1/1 [==============================] - 0s 14ms/step\n"
     ]
    },
    {
     "name": "stderr",
     "output_type": "stream",
     "text": [
      "2024-01-26 12:21:56 WaideMBP-3.bahnhof.se root[83734] DEBUG Sell at: $49.84 | Position: -$2.26\n"
     ]
    },
    {
     "name": "stdout",
     "output_type": "stream",
     "text": [
      "1/1 [==============================] - 0s 14ms/step\n"
     ]
    },
    {
     "name": "stderr",
     "output_type": "stream",
     "text": [
      "2024-01-26 12:21:56 WaideMBP-3.bahnhof.se root[83734] DEBUG Sell at: $50.43 | Position: +$2.25\n"
     ]
    },
    {
     "name": "stdout",
     "output_type": "stream",
     "text": [
      "1/1 [==============================] - 0s 14ms/step\n"
     ]
    },
    {
     "name": "stderr",
     "output_type": "stream",
     "text": [
      "2024-01-26 12:21:56 WaideMBP-3.bahnhof.se root[83734] DEBUG Buy at: $47.82\n"
     ]
    },
    {
     "name": "stdout",
     "output_type": "stream",
     "text": [
      "1/1 [==============================] - 0s 14ms/step\n",
      "1/1 [==============================] - 0s 14ms/step\n"
     ]
    },
    {
     "name": "stderr",
     "output_type": "stream",
     "text": [
      "2024-01-26 12:21:56 WaideMBP-3.bahnhof.se root[83734] DEBUG Sell at: $47.37 | Position: -$0.45\n"
     ]
    },
    {
     "name": "stdout",
     "output_type": "stream",
     "text": [
      "1/1 [==============================] - 0s 14ms/step\n",
      "1/1 [==============================] - 0s 14ms/step\n"
     ]
    },
    {
     "name": "stderr",
     "output_type": "stream",
     "text": [
      "2024-01-26 12:21:56 WaideMBP-3.bahnhof.se root[83734] DEBUG Buy at: $47.34\n"
     ]
    },
    {
     "name": "stdout",
     "output_type": "stream",
     "text": [
      "1/1 [==============================] - 0s 14ms/step\n"
     ]
    },
    {
     "name": "stderr",
     "output_type": "stream",
     "text": [
      "2024-01-26 12:21:56 WaideMBP-3.bahnhof.se root[83734] DEBUG Sell at: $49.39 | Position: +$2.05\n"
     ]
    },
    {
     "name": "stdout",
     "output_type": "stream",
     "text": [
      "1/1 [==============================] - 0s 15ms/step\n",
      "1/1 [==============================] - 0s 14ms/step\n",
      "1/1 [==============================] - 0s 14ms/step\n",
      "1/1 [==============================] - 0s 14ms/step\n"
     ]
    },
    {
     "name": "stderr",
     "output_type": "stream",
     "text": [
      "2024-01-26 12:21:56 WaideMBP-3.bahnhof.se root[83734] DEBUG Buy at: $49.15\n"
     ]
    },
    {
     "name": "stdout",
     "output_type": "stream",
     "text": [
      "1/1 [==============================] - 0s 14ms/step\n"
     ]
    },
    {
     "name": "stderr",
     "output_type": "stream",
     "text": [
      "2024-01-26 12:21:56 WaideMBP-3.bahnhof.se root[83734] DEBUG Sell at: $46.01 | Position: -$3.14\n"
     ]
    },
    {
     "name": "stdout",
     "output_type": "stream",
     "text": [
      "1/1 [==============================] - 0s 14ms/step\n",
      "1/1 [==============================] - 0s 14ms/step\n",
      "1/1 [==============================] - 0s 14ms/step\n",
      "1/1 [==============================] - 0s 14ms/step\n",
      "1/1 [==============================] - 0s 14ms/step\n"
     ]
    },
    {
     "name": "stderr",
     "output_type": "stream",
     "text": [
      "2024-01-26 12:21:56 WaideMBP-3.bahnhof.se root[83734] DEBUG Buy at: $48.66\n"
     ]
    },
    {
     "name": "stdout",
     "output_type": "stream",
     "text": [
      "1/1 [==============================] - 0s 15ms/step\n"
     ]
    },
    {
     "name": "stderr",
     "output_type": "stream",
     "text": [
      "2024-01-26 12:21:56 WaideMBP-3.bahnhof.se root[83734] DEBUG Sell at: $49.20 | Position: +$0.53\n"
     ]
    },
    {
     "name": "stdout",
     "output_type": "stream",
     "text": [
      "1/1 [==============================] - 0s 14ms/step\n",
      "1/1 [==============================] - 0s 14ms/step\n",
      "1/1 [==============================] - 0s 14ms/step\n"
     ]
    },
    {
     "name": "stderr",
     "output_type": "stream",
     "text": [
      "2024-01-26 12:21:57 WaideMBP-3.bahnhof.se root[83734] DEBUG Buy at: $45.95\n"
     ]
    },
    {
     "name": "stdout",
     "output_type": "stream",
     "text": [
      "1/1 [==============================] - 0s 14ms/step\n"
     ]
    },
    {
     "name": "stderr",
     "output_type": "stream",
     "text": [
      "2024-01-26 12:21:57 WaideMBP-3.bahnhof.se root[83734] DEBUG Sell at: $46.94 | Position: +$0.98\n"
     ]
    },
    {
     "name": "stdout",
     "output_type": "stream",
     "text": [
      "1/1 [==============================] - 0s 14ms/step\n",
      "1/1 [==============================] - 0s 14ms/step\n",
      "1/1 [==============================] - 0s 14ms/step\n",
      "1/1 [==============================] - 0s 14ms/step\n",
      "1/1 [==============================] - 0s 14ms/step\n",
      "1/1 [==============================] - 0s 14ms/step\n",
      "1/1 [==============================] - 0s 14ms/step\n",
      "1/1 [==============================] - 0s 14ms/step\n",
      "1/1 [==============================] - 0s 14ms/step\n",
      "1/1 [==============================] - 0s 14ms/step\n",
      "1/1 [==============================] - 0s 14ms/step\n",
      "1/1 [==============================] - 0s 14ms/step\n",
      "1/1 [==============================] - 0s 14ms/step\n",
      "1/1 [==============================] - 0s 14ms/step\n",
      "1/1 [==============================] - 0s 14ms/step\n",
      "1/1 [==============================] - 0s 15ms/step\n",
      "1/1 [==============================] - 0s 14ms/step\n",
      "1/1 [==============================] - 0s 14ms/step\n",
      "1/1 [==============================] - 0s 14ms/step\n",
      "1/1 [==============================] - 0s 14ms/step\n"
     ]
    },
    {
     "name": "stderr",
     "output_type": "stream",
     "text": [
      "2024-01-26 12:21:57 WaideMBP-3.bahnhof.se root[83734] DEBUG Buy at: $60.44\n"
     ]
    },
    {
     "name": "stdout",
     "output_type": "stream",
     "text": [
      "1/1 [==============================] - 0s 14ms/step\n"
     ]
    },
    {
     "name": "stderr",
     "output_type": "stream",
     "text": [
      "2024-01-26 12:21:57 WaideMBP-3.bahnhof.se root[83734] DEBUG Sell at: $61.18 | Position: +$0.74\n"
     ]
    },
    {
     "name": "stdout",
     "output_type": "stream",
     "text": [
      "1/1 [==============================] - 0s 14ms/step\n",
      "1/1 [==============================] - 0s 14ms/step\n",
      "1/1 [==============================] - 0s 14ms/step\n",
      "1/1 [==============================] - 0s 15ms/step\n",
      "1/1 [==============================] - 0s 14ms/step\n",
      "1/1 [==============================] - 0s 14ms/step\n",
      "1/1 [==============================] - 0s 14ms/step\n"
     ]
    },
    {
     "name": "stderr",
     "output_type": "stream",
     "text": [
      "2024-01-26 12:21:58 WaideMBP-3.bahnhof.se root[83734] DEBUG Buy at: $63.06\n"
     ]
    },
    {
     "name": "stdout",
     "output_type": "stream",
     "text": [
      "1/1 [==============================] - 0s 14ms/step\n"
     ]
    },
    {
     "name": "stderr",
     "output_type": "stream",
     "text": [
      "2024-01-26 12:21:58 WaideMBP-3.bahnhof.se root[83734] DEBUG Sell at: $62.88 | Position: -$0.17\n"
     ]
    },
    {
     "name": "stdout",
     "output_type": "stream",
     "text": [
      "1/1 [==============================] - 0s 14ms/step\n",
      "1/1 [==============================] - 0s 14ms/step\n",
      "1/1 [==============================] - 0s 14ms/step\n",
      "1/1 [==============================] - 0s 14ms/step\n",
      "1/1 [==============================] - 0s 14ms/step\n",
      "1/1 [==============================] - 0s 14ms/step\n",
      "1/1 [==============================] - 0s 14ms/step\n",
      "1/1 [==============================] - 0s 14ms/step\n",
      "1/1 [==============================] - 0s 14ms/step\n",
      "1/1 [==============================] - 0s 14ms/step\n",
      "1/1 [==============================] - 0s 14ms/step\n",
      "1/1 [==============================] - 0s 14ms/step\n",
      "1/1 [==============================] - 0s 17ms/step\n",
      "1/1 [==============================] - 0s 16ms/step\n",
      "1/1 [==============================] - 0s 14ms/step\n",
      "1/1 [==============================] - 0s 14ms/step\n"
     ]
    },
    {
     "name": "stderr",
     "output_type": "stream",
     "text": [
      "2024-01-26 12:21:58 WaideMBP-3.bahnhof.se root[83734] DEBUG Buy at: $64.16\n"
     ]
    },
    {
     "name": "stdout",
     "output_type": "stream",
     "text": [
      "1/1 [==============================] - 0s 15ms/step\n"
     ]
    },
    {
     "name": "stderr",
     "output_type": "stream",
     "text": [
      "2024-01-26 12:21:58 WaideMBP-3.bahnhof.se root[83734] DEBUG Sell at: $63.49 | Position: -$0.66\n"
     ]
    },
    {
     "name": "stdout",
     "output_type": "stream",
     "text": [
      "1/1 [==============================] - 0s 15ms/step\n",
      "1/1 [==============================] - 0s 14ms/step\n"
     ]
    },
    {
     "name": "stderr",
     "output_type": "stream",
     "text": [
      "2024-01-26 12:21:58 WaideMBP-3.bahnhof.se root[83734] DEBUG Buy at: $63.45\n"
     ]
    },
    {
     "name": "stdout",
     "output_type": "stream",
     "text": [
      "1/1 [==============================] - 0s 15ms/step\n"
     ]
    },
    {
     "name": "stderr",
     "output_type": "stream",
     "text": [
      "2024-01-26 12:21:59 WaideMBP-3.bahnhof.se root[83734] DEBUG Sell at: $64.56 | Position: +$1.11\n"
     ]
    },
    {
     "name": "stdout",
     "output_type": "stream",
     "text": [
      "1/1 [==============================] - 0s 16ms/step\n"
     ]
    },
    {
     "name": "stderr",
     "output_type": "stream",
     "text": [
      "2024-01-26 12:21:59 WaideMBP-3.bahnhof.se root[83734] DEBUG Buy at: $61.58\n"
     ]
    },
    {
     "name": "stdout",
     "output_type": "stream",
     "text": [
      "1/1 [==============================] - 0s 15ms/step\n"
     ]
    },
    {
     "name": "stderr",
     "output_type": "stream",
     "text": [
      "2024-01-26 12:21:59 WaideMBP-3.bahnhof.se root[83734] DEBUG Buy at: $61.13\n"
     ]
    },
    {
     "name": "stdout",
     "output_type": "stream",
     "text": [
      "1/1 [==============================] - 0s 16ms/step\n"
     ]
    },
    {
     "name": "stderr",
     "output_type": "stream",
     "text": [
      "2024-01-26 12:21:59 WaideMBP-3.bahnhof.se root[83734] DEBUG Sell at: $60.77 | Position: -$0.82\n"
     ]
    },
    {
     "name": "stdout",
     "output_type": "stream",
     "text": [
      "1/1 [==============================] - 0s 15ms/step\n"
     ]
    },
    {
     "name": "stderr",
     "output_type": "stream",
     "text": [
      "2024-01-26 12:21:59 WaideMBP-3.bahnhof.se root[83734] DEBUG Sell at: $60.27 | Position: -$0.86\n"
     ]
    },
    {
     "name": "stdout",
     "output_type": "stream",
     "text": [
      "1/1 [==============================] - 0s 15ms/step\n"
     ]
    },
    {
     "name": "stderr",
     "output_type": "stream",
     "text": [
      "2024-01-26 12:21:59 WaideMBP-3.bahnhof.se root[83734] DEBUG Buy at: $60.67\n"
     ]
    },
    {
     "name": "stdout",
     "output_type": "stream",
     "text": [
      "1/1 [==============================] - 0s 15ms/step\n"
     ]
    },
    {
     "name": "stderr",
     "output_type": "stream",
     "text": [
      "2024-01-26 12:21:59 WaideMBP-3.bahnhof.se root[83734] DEBUG Sell at: $60.61 | Position: -$0.05\n"
     ]
    },
    {
     "name": "stdout",
     "output_type": "stream",
     "text": [
      "1/1 [==============================] - 0s 30ms/step\n",
      "1/1 [==============================] - 0s 20ms/step\n",
      "1/1 [==============================] - 0s 16ms/step\n",
      "1/1 [==============================] - 0s 14ms/step\n"
     ]
    },
    {
     "name": "stderr",
     "output_type": "stream",
     "text": [
      "2024-01-26 12:21:59 WaideMBP-3.bahnhof.se root[83734] DEBUG Buy at: $60.39\n"
     ]
    },
    {
     "name": "stdout",
     "output_type": "stream",
     "text": [
      "1/1 [==============================] - 0s 15ms/step\n"
     ]
    },
    {
     "name": "stderr",
     "output_type": "stream",
     "text": [
      "2024-01-26 12:21:59 WaideMBP-3.bahnhof.se root[83734] DEBUG Sell at: $60.41 | Position: +$0.02\n"
     ]
    },
    {
     "name": "stdout",
     "output_type": "stream",
     "text": [
      "1/1 [==============================] - 0s 15ms/step\n",
      "1/1 [==============================] - 0s 14ms/step\n",
      "1/1 [==============================] - 0s 14ms/step\n",
      "1/1 [==============================] - 0s 14ms/step\n",
      "1/1 [==============================] - 0s 15ms/step\n",
      "1/1 [==============================] - 0s 15ms/step\n",
      "1/1 [==============================] - 0s 15ms/step\n",
      "1/1 [==============================] - 0s 15ms/step\n",
      "1/1 [==============================] - 0s 14ms/step\n",
      "1/1 [==============================] - 0s 14ms/step\n",
      "1/1 [==============================] - 0s 14ms/step\n",
      "1/1 [==============================] - 0s 15ms/step\n",
      "1/1 [==============================] - 0s 14ms/step\n",
      "1/1 [==============================] - 0s 14ms/step\n",
      "1/1 [==============================] - 0s 14ms/step\n",
      "1/1 [==============================] - 0s 15ms/step\n"
     ]
    },
    {
     "name": "stderr",
     "output_type": "stream",
     "text": [
      "2024-01-26 12:22:00 WaideMBP-3.bahnhof.se root[83734] DEBUG Buy at: $67.81\n"
     ]
    },
    {
     "name": "stdout",
     "output_type": "stream",
     "text": [
      "1/1 [==============================] - 0s 15ms/step\n"
     ]
    },
    {
     "name": "stderr",
     "output_type": "stream",
     "text": [
      "2024-01-26 12:22:00 WaideMBP-3.bahnhof.se root[83734] DEBUG Sell at: $67.89 | Position: +$0.07\n"
     ]
    },
    {
     "name": "stdout",
     "output_type": "stream",
     "text": [
      "1/1 [==============================] - 0s 16ms/step\n",
      "1/1 [==============================] - 0s 15ms/step\n",
      "1/1 [==============================] - 0s 14ms/step\n",
      "1/1 [==============================] - 0s 14ms/step\n",
      "1/1 [==============================] - 0s 14ms/step\n",
      "1/1 [==============================] - 0s 15ms/step\n",
      "1/1 [==============================] - 0s 14ms/step\n"
     ]
    },
    {
     "name": "stderr",
     "output_type": "stream",
     "text": [
      "2024-01-26 12:22:00 WaideMBP-3.bahnhof.se root[83734] DEBUG Buy at: $68.43\n"
     ]
    },
    {
     "name": "stdout",
     "output_type": "stream",
     "text": [
      "1/1 [==============================] - 0s 15ms/step\n"
     ]
    },
    {
     "name": "stderr",
     "output_type": "stream",
     "text": [
      "2024-01-26 12:22:00 WaideMBP-3.bahnhof.se root[83734] DEBUG Sell at: $69.20 | Position: +$0.77\n"
     ]
    },
    {
     "name": "stdout",
     "output_type": "stream",
     "text": [
      "1/1 [==============================] - 0s 15ms/step\n",
      "1/1 [==============================] - 0s 14ms/step\n",
      "1/1 [==============================] - 0s 15ms/step\n",
      "1/1 [==============================] - 0s 16ms/step\n",
      "1/1 [==============================] - 0s 15ms/step\n",
      "1/1 [==============================] - 0s 15ms/step\n",
      "1/1 [==============================] - 0s 14ms/step\n",
      "1/1 [==============================] - 0s 15ms/step\n",
      "1/1 [==============================] - 0s 21ms/step\n",
      "1/1 [==============================] - 0s 61ms/step\n",
      "1/1 [==============================] - 0s 18ms/step\n",
      "1/1 [==============================] - 0s 15ms/step\n",
      "1/1 [==============================] - 0s 15ms/step\n",
      "1/1 [==============================] - 0s 14ms/step\n",
      "1/1 [==============================] - 0s 14ms/step\n"
     ]
    },
    {
     "name": "stderr",
     "output_type": "stream",
     "text": [
      "2024-01-26 12:22:01 WaideMBP-3.bahnhof.se root[83734] DEBUG Buy at: $62.69\n"
     ]
    },
    {
     "name": "stdout",
     "output_type": "stream",
     "text": [
      "1/1 [==============================] - 0s 14ms/step\n"
     ]
    },
    {
     "name": "stderr",
     "output_type": "stream",
     "text": [
      "2024-01-26 12:22:01 WaideMBP-3.bahnhof.se root[83734] DEBUG Buy at: $64.28\n"
     ]
    },
    {
     "name": "stdout",
     "output_type": "stream",
     "text": [
      "1/1 [==============================] - 0s 14ms/step\n"
     ]
    },
    {
     "name": "stderr",
     "output_type": "stream",
     "text": [
      "2024-01-26 12:22:01 WaideMBP-3.bahnhof.se root[83734] DEBUG Sell at: $65.65 | Position: +$2.96\n"
     ]
    },
    {
     "name": "stdout",
     "output_type": "stream",
     "text": [
      "1/1 [==============================] - 0s 15ms/step\n"
     ]
    },
    {
     "name": "stderr",
     "output_type": "stream",
     "text": [
      "2024-01-26 12:22:01 WaideMBP-3.bahnhof.se root[83734] DEBUG Sell at: $66.21 | Position: +$1.93\n"
     ]
    },
    {
     "name": "stdout",
     "output_type": "stream",
     "text": [
      "1/1 [==============================] - 0s 15ms/step\n"
     ]
    },
    {
     "name": "stderr",
     "output_type": "stream",
     "text": [
      "2024-01-26 12:22:01 WaideMBP-3.bahnhof.se root[83734] DEBUG Buy at: $65.18\n"
     ]
    },
    {
     "name": "stdout",
     "output_type": "stream",
     "text": [
      "1/1 [==============================] - 0s 14ms/step\n"
     ]
    },
    {
     "name": "stderr",
     "output_type": "stream",
     "text": [
      "2024-01-26 12:22:01 WaideMBP-3.bahnhof.se root[83734] DEBUG Sell at: $66.69 | Position: +$1.52\n"
     ]
    },
    {
     "name": "stdout",
     "output_type": "stream",
     "text": [
      "1/1 [==============================] - 0s 14ms/step\n",
      "1/1 [==============================] - 0s 15ms/step\n",
      "1/1 [==============================] - 0s 14ms/step\n"
     ]
    },
    {
     "name": "stderr",
     "output_type": "stream",
     "text": [
      "2024-01-26 12:22:01 WaideMBP-3.bahnhof.se root[83734] DEBUG Buy at: $62.65\n"
     ]
    },
    {
     "name": "stdout",
     "output_type": "stream",
     "text": [
      "1/1 [==============================] - 0s 14ms/step\n"
     ]
    },
    {
     "name": "stderr",
     "output_type": "stream",
     "text": [
      "2024-01-26 12:22:01 WaideMBP-3.bahnhof.se root[83734] DEBUG Sell at: $64.16 | Position: +$1.51\n"
     ]
    },
    {
     "name": "stdout",
     "output_type": "stream",
     "text": [
      "1/1 [==============================] - 0s 14ms/step\n"
     ]
    },
    {
     "name": "stderr",
     "output_type": "stream",
     "text": [
      "2024-01-26 12:22:01 WaideMBP-3.bahnhof.se root[83734] DEBUG Buy at: $64.08\n"
     ]
    },
    {
     "name": "stdout",
     "output_type": "stream",
     "text": [
      "1/1 [==============================] - 0s 15ms/step\n"
     ]
    },
    {
     "name": "stderr",
     "output_type": "stream",
     "text": [
      "2024-01-26 12:22:01 WaideMBP-3.bahnhof.se root[83734] DEBUG Buy at: $51.67\n"
     ]
    },
    {
     "name": "stdout",
     "output_type": "stream",
     "text": [
      "1/1 [==============================] - 0s 14ms/step\n"
     ]
    },
    {
     "name": "stderr",
     "output_type": "stream",
     "text": [
      "2024-01-26 12:22:01 WaideMBP-3.bahnhof.se root[83734] DEBUG Buy at: $51.01\n"
     ]
    },
    {
     "name": "stdout",
     "output_type": "stream",
     "text": [
      "1/1 [==============================] - 0s 15ms/step\n"
     ]
    },
    {
     "name": "stderr",
     "output_type": "stream",
     "text": [
      "2024-01-26 12:22:01 WaideMBP-3.bahnhof.se root[83734] DEBUG Buy at: $51.32\n"
     ]
    },
    {
     "name": "stdout",
     "output_type": "stream",
     "text": [
      "1/1 [==============================] - 0s 14ms/step\n"
     ]
    },
    {
     "name": "stderr",
     "output_type": "stream",
     "text": [
      "2024-01-26 12:22:01 WaideMBP-3.bahnhof.se root[83734] DEBUG Sell at: $52.28 | Position: -$11.80\n"
     ]
    },
    {
     "name": "stdout",
     "output_type": "stream",
     "text": [
      "1/1 [==============================] - 0s 14ms/step\n"
     ]
    },
    {
     "name": "stderr",
     "output_type": "stream",
     "text": [
      "2024-01-26 12:22:01 WaideMBP-3.bahnhof.se root[83734] DEBUG Sell at: $53.52 | Position: +$1.85\n"
     ]
    },
    {
     "name": "stdout",
     "output_type": "stream",
     "text": [
      "1/1 [==============================] - 0s 15ms/step\n"
     ]
    },
    {
     "name": "stderr",
     "output_type": "stream",
     "text": [
      "2024-01-26 12:22:01 WaideMBP-3.bahnhof.se root[83734] DEBUG Sell at: $54.72 | Position: +$3.71\n"
     ]
    },
    {
     "name": "stdout",
     "output_type": "stream",
     "text": [
      "1/1 [==============================] - 0s 14ms/step\n"
     ]
    },
    {
     "name": "stderr",
     "output_type": "stream",
     "text": [
      "2024-01-26 12:22:01 WaideMBP-3.bahnhof.se root[83734] DEBUG Sell at: $55.00 | Position: +$3.69\n"
     ]
    },
    {
     "name": "stdout",
     "output_type": "stream",
     "text": [
      "1/1 [==============================] - 0s 14ms/step\n",
      "1/1 [==============================] - 0s 14ms/step\n",
      "1/1 [==============================] - 0s 14ms/step\n",
      "1/1 [==============================] - 0s 18ms/step\n",
      "1/1 [==============================] - 0s 14ms/step\n",
      "1/1 [==============================] - 0s 15ms/step\n",
      "1/1 [==============================] - 0s 14ms/step\n"
     ]
    },
    {
     "name": "stderr",
     "output_type": "stream",
     "text": [
      "2024-01-26 12:22:02 WaideMBP-3.bahnhof.se root[83734] DEBUG Buy at: $54.68\n"
     ]
    },
    {
     "name": "stdout",
     "output_type": "stream",
     "text": [
      "1/1 [==============================] - 0s 15ms/step\n"
     ]
    },
    {
     "name": "stderr",
     "output_type": "stream",
     "text": [
      "2024-01-26 12:22:02 WaideMBP-3.bahnhof.se root[83734] DEBUG Sell at: $54.34 | Position: -$0.34\n"
     ]
    },
    {
     "name": "stdout",
     "output_type": "stream",
     "text": [
      "1/1 [==============================] - 0s 15ms/step\n",
      "1/1 [==============================] - 0s 15ms/step\n",
      "1/1 [==============================] - 0s 15ms/step\n",
      "1/1 [==============================] - 0s 15ms/step\n"
     ]
    },
    {
     "name": "stderr",
     "output_type": "stream",
     "text": [
      "2024-01-26 12:22:02 WaideMBP-3.bahnhof.se root[83734] DEBUG Buy at: $54.65\n"
     ]
    },
    {
     "name": "stdout",
     "output_type": "stream",
     "text": [
      "1/1 [==============================] - 0s 15ms/step\n"
     ]
    },
    {
     "name": "stderr",
     "output_type": "stream",
     "text": [
      "2024-01-26 12:22:02 WaideMBP-3.bahnhof.se root[83734] DEBUG Sell at: $54.84 | Position: +$0.19\n"
     ]
    },
    {
     "name": "stdout",
     "output_type": "stream",
     "text": [
      "1/1 [==============================] - 0s 15ms/step\n",
      "1/1 [==============================] - 0s 15ms/step\n",
      "1/1 [==============================] - 0s 16ms/step\n"
     ]
    },
    {
     "name": "stderr",
     "output_type": "stream",
     "text": [
      "2024-01-26 12:22:02 WaideMBP-3.bahnhof.se root[83734] DEBUG Buy at: $54.45\n"
     ]
    },
    {
     "name": "stdout",
     "output_type": "stream",
     "text": [
      "1/1 [==============================] - 0s 17ms/step\n"
     ]
    },
    {
     "name": "stderr",
     "output_type": "stream",
     "text": [
      "2024-01-26 12:22:02 WaideMBP-3.bahnhof.se root[83734] DEBUG Buy at: $54.43\n"
     ]
    },
    {
     "name": "stdout",
     "output_type": "stream",
     "text": [
      "1/1 [==============================] - 0s 17ms/step\n"
     ]
    },
    {
     "name": "stderr",
     "output_type": "stream",
     "text": [
      "2024-01-26 12:22:02 WaideMBP-3.bahnhof.se root[83734] DEBUG Sell at: $51.87 | Position: -$2.58\n"
     ]
    },
    {
     "name": "stdout",
     "output_type": "stream",
     "text": [
      "1/1 [==============================] - 0s 16ms/step\n"
     ]
    },
    {
     "name": "stderr",
     "output_type": "stream",
     "text": [
      "2024-01-26 12:22:02 WaideMBP-3.bahnhof.se root[83734] DEBUG Sell at: $52.59 | Position: -$1.84\n"
     ]
    },
    {
     "name": "stdout",
     "output_type": "stream",
     "text": [
      "1/1 [==============================] - 0s 18ms/step\n",
      "1/1 [==============================] - 0s 16ms/step\n"
     ]
    },
    {
     "name": "stderr",
     "output_type": "stream",
     "text": [
      "2024-01-26 12:22:02 WaideMBP-3.bahnhof.se root[83734] DEBUG Buy at: $50.92\n"
     ]
    },
    {
     "name": "stdout",
     "output_type": "stream",
     "text": [
      "1/1 [==============================] - 0s 16ms/step\n"
     ]
    },
    {
     "name": "stderr",
     "output_type": "stream",
     "text": [
      "2024-01-26 12:22:02 WaideMBP-3.bahnhof.se root[83734] DEBUG Buy at: $49.86\n"
     ]
    },
    {
     "name": "stdout",
     "output_type": "stream",
     "text": [
      "1/1 [==============================] - 0s 16ms/step\n"
     ]
    },
    {
     "name": "stderr",
     "output_type": "stream",
     "text": [
      "2024-01-26 12:22:02 WaideMBP-3.bahnhof.se root[83734] DEBUG Sell at: $50.17 | Position: -$0.76\n"
     ]
    },
    {
     "name": "stdout",
     "output_type": "stream",
     "text": [
      "1/1 [==============================] - 0s 14ms/step\n"
     ]
    },
    {
     "name": "stderr",
     "output_type": "stream",
     "text": [
      "2024-01-26 12:22:02 WaideMBP-3.bahnhof.se root[83734] DEBUG Sell at: $49.51 | Position: -$0.34\n"
     ]
    },
    {
     "name": "stdout",
     "output_type": "stream",
     "text": [
      "1/1 [==============================] - 0s 14ms/step\n",
      "1/1 [==============================] - 0s 14ms/step\n",
      "1/1 [==============================] - 0s 15ms/step\n",
      "1/1 [==============================] - 0s 14ms/step\n",
      "1/1 [==============================] - 0s 14ms/step\n",
      "1/1 [==============================] - 0s 14ms/step\n",
      "1/1 [==============================] - 0s 14ms/step\n",
      "1/1 [==============================] - 0s 14ms/step\n",
      "1/1 [==============================] - 0s 14ms/step\n",
      "1/1 [==============================] - 0s 15ms/step\n",
      "1/1 [==============================] - 0s 15ms/step\n",
      "1/1 [==============================] - 0s 15ms/step\n"
     ]
    },
    {
     "name": "stderr",
     "output_type": "stream",
     "text": [
      "2024-01-26 12:22:03 WaideMBP-3.bahnhof.se root[83734] DEBUG Buy at: $45.21\n"
     ]
    },
    {
     "name": "stdout",
     "output_type": "stream",
     "text": [
      "1/1 [==============================] - 0s 14ms/step\n"
     ]
    },
    {
     "name": "stderr",
     "output_type": "stream",
     "text": [
      "2024-01-26 12:22:03 WaideMBP-3.bahnhof.se root[83734] DEBUG Sell at: $47.66 | Position: +$2.46\n"
     ]
    },
    {
     "name": "stdout",
     "output_type": "stream",
     "text": [
      "1/1 [==============================] - 0s 14ms/step\n",
      "1/1 [==============================] - 0s 14ms/step\n",
      "1/1 [==============================] - 0s 15ms/step\n",
      "1/1 [==============================] - 0s 14ms/step\n",
      "1/1 [==============================] - 0s 15ms/step\n",
      "1/1 [==============================] - 0s 14ms/step\n",
      "1/1 [==============================] - 0s 14ms/step\n",
      "1/1 [==============================] - 0s 14ms/step\n",
      "1/1 [==============================] - 0s 15ms/step\n",
      "1/1 [==============================] - 0s 16ms/step\n",
      "1/1 [==============================] - 0s 14ms/step\n"
     ]
    },
    {
     "name": "stderr",
     "output_type": "stream",
     "text": [
      "2024-01-26 12:22:03 WaideMBP-3.bahnhof.se root[83734] DEBUG Buy at: $47.31\n"
     ]
    },
    {
     "name": "stdout",
     "output_type": "stream",
     "text": [
      "1/1 [==============================] - 0s 14ms/step\n"
     ]
    },
    {
     "name": "stderr",
     "output_type": "stream",
     "text": [
      "2024-01-26 12:22:03 WaideMBP-3.bahnhof.se root[83734] DEBUG Buy at: $46.50\n"
     ]
    },
    {
     "name": "stdout",
     "output_type": "stream",
     "text": [
      "1/1 [==============================] - 0s 15ms/step\n"
     ]
    },
    {
     "name": "stderr",
     "output_type": "stream",
     "text": [
      "2024-01-26 12:22:03 WaideMBP-3.bahnhof.se root[83734] DEBUG Sell at: $46.74 | Position: -$0.57\n"
     ]
    },
    {
     "name": "stdout",
     "output_type": "stream",
     "text": [
      "1/1 [==============================] - 0s 14ms/step\n"
     ]
    },
    {
     "name": "stderr",
     "output_type": "stream",
     "text": [
      "2024-01-26 12:22:03 WaideMBP-3.bahnhof.se root[83734] DEBUG Sell at: $47.78 | Position: +$1.28\n"
     ]
    },
    {
     "name": "stdout",
     "output_type": "stream",
     "text": [
      "1/1 [==============================] - 0s 16ms/step\n",
      "1/1 [==============================] - 0s 14ms/step\n",
      "1/1 [==============================] - 0s 16ms/step\n",
      "1/1 [==============================] - 0s 15ms/step\n"
     ]
    },
    {
     "name": "stderr",
     "output_type": "stream",
     "text": [
      "2024-01-26 12:22:04 WaideMBP-3.bahnhof.se root[83734] DEBUG Buy at: $46.32\n"
     ]
    },
    {
     "name": "stdout",
     "output_type": "stream",
     "text": [
      "1/1 [==============================] - 0s 15ms/step\n"
     ]
    },
    {
     "name": "stderr",
     "output_type": "stream",
     "text": [
      "2024-01-26 12:22:04 WaideMBP-3.bahnhof.se root[83734] DEBUG Sell at: $46.25 | Position: -$0.07\n"
     ]
    },
    {
     "name": "stdout",
     "output_type": "stream",
     "text": [
      "1/1 [==============================] - 0s 15ms/step\n",
      "1/1 [==============================] - 0s 14ms/step\n",
      "1/1 [==============================] - 0s 15ms/step\n",
      "1/1 [==============================] - 0s 15ms/step\n",
      "1/1 [==============================] - 0s 14ms/step\n",
      "1/1 [==============================] - 0s 14ms/step\n",
      "1/1 [==============================] - 0s 14ms/step\n",
      "1/1 [==============================] - 0s 14ms/step\n",
      "1/1 [==============================] - 0s 15ms/step\n",
      "1/1 [==============================] - 0s 14ms/step\n",
      "1/1 [==============================] - 0s 14ms/step\n",
      "1/1 [==============================] - 0s 15ms/step\n",
      "1/1 [==============================] - 0s 15ms/step\n",
      "1/1 [==============================] - 0s 15ms/step\n",
      "1/1 [==============================] - 0s 14ms/step\n",
      "1/1 [==============================] - 0s 14ms/step\n",
      "1/1 [==============================] - 0s 14ms/step\n",
      "1/1 [==============================] - 0s 15ms/step\n",
      "1/1 [==============================] - 0s 15ms/step\n"
     ]
    },
    {
     "name": "stderr",
     "output_type": "stream",
     "text": [
      "2024-01-26 12:22:04 WaideMBP-3.bahnhof.se root[83734] DEBUG Buy at: $65.25\n"
     ]
    },
    {
     "name": "stdout",
     "output_type": "stream",
     "text": [
      "1/1 [==============================] - 0s 14ms/step\n"
     ]
    },
    {
     "name": "stderr",
     "output_type": "stream",
     "text": [
      "2024-01-26 12:22:04 WaideMBP-3.bahnhof.se root[83734] DEBUG Sell at: $66.59 | Position: +$1.34\n"
     ]
    },
    {
     "name": "stdout",
     "output_type": "stream",
     "text": [
      "1/1 [==============================] - 0s 14ms/step\n",
      "1/1 [==============================] - 0s 15ms/step\n",
      "1/1 [==============================] - 0s 17ms/step\n",
      "1/1 [==============================] - 0s 16ms/step\n",
      "1/1 [==============================] - 0s 15ms/step\n"
     ]
    },
    {
     "name": "stderr",
     "output_type": "stream",
     "text": [
      "2024-01-26 12:22:05 WaideMBP-3.bahnhof.se root[83734] DEBUG Buy at: $67.41\n"
     ]
    },
    {
     "name": "stdout",
     "output_type": "stream",
     "text": [
      "1/1 [==============================] - 0s 15ms/step\n"
     ]
    },
    {
     "name": "stderr",
     "output_type": "stream",
     "text": [
      "2024-01-26 12:22:05 WaideMBP-3.bahnhof.se root[83734] DEBUG Sell at: $67.84 | Position: +$0.43\n"
     ]
    },
    {
     "name": "stdout",
     "output_type": "stream",
     "text": [
      "1/1 [==============================] - 0s 15ms/step\n",
      "1/1 [==============================] - 0s 15ms/step\n",
      "1/1 [==============================] - 0s 15ms/step\n",
      "1/1 [==============================] - 0s 15ms/step\n",
      "1/1 [==============================] - 0s 15ms/step\n",
      "1/1 [==============================] - 0s 15ms/step\n",
      "1/1 [==============================] - 0s 15ms/step\n",
      "1/1 [==============================] - 0s 15ms/step\n",
      "1/1 [==============================] - 0s 15ms/step\n"
     ]
    },
    {
     "name": "stderr",
     "output_type": "stream",
     "text": [
      "2024-01-26 12:22:05 WaideMBP-3.bahnhof.se root[83734] DEBUG Buy at: $63.66\n"
     ]
    },
    {
     "name": "stdout",
     "output_type": "stream",
     "text": [
      "1/1 [==============================] - 0s 14ms/step\n"
     ]
    },
    {
     "name": "stderr",
     "output_type": "stream",
     "text": [
      "2024-01-26 12:22:05 WaideMBP-3.bahnhof.se root[83734] DEBUG Sell at: $62.15 | Position: -$1.51\n"
     ]
    },
    {
     "name": "stdout",
     "output_type": "stream",
     "text": [
      "1/1 [==============================] - 0s 15ms/step\n",
      "1/1 [==============================] - 0s 15ms/step\n",
      "1/1 [==============================] - 0s 14ms/step\n",
      "1/1 [==============================] - 0s 15ms/step\n"
     ]
    },
    {
     "name": "stderr",
     "output_type": "stream",
     "text": [
      "2024-01-26 12:22:05 WaideMBP-3.bahnhof.se root[83734] DEBUG Buy at: $60.28\n"
     ]
    },
    {
     "name": "stdout",
     "output_type": "stream",
     "text": [
      "1/1 [==============================] - 0s 14ms/step\n"
     ]
    },
    {
     "name": "stderr",
     "output_type": "stream",
     "text": [
      "2024-01-26 12:22:05 WaideMBP-3.bahnhof.se root[83734] DEBUG Sell at: $59.79 | Position: -$0.49\n"
     ]
    },
    {
     "name": "stdout",
     "output_type": "stream",
     "text": [
      "1/1 [==============================] - 0s 15ms/step\n",
      "1/1 [==============================] - 0s 14ms/step\n",
      "1/1 [==============================] - 0s 14ms/step\n",
      "1/1 [==============================] - 0s 15ms/step\n",
      "1/1 [==============================] - 0s 15ms/step\n",
      "1/1 [==============================] - 0s 15ms/step\n",
      "1/1 [==============================] - 0s 14ms/step\n",
      "1/1 [==============================] - 0s 14ms/step\n"
     ]
    },
    {
     "name": "stderr",
     "output_type": "stream",
     "text": [
      "2024-01-26 12:22:06 WaideMBP-3.bahnhof.se root[83734] DEBUG Buy at: $59.25\n"
     ]
    },
    {
     "name": "stdout",
     "output_type": "stream",
     "text": [
      "1/1 [==============================] - 0s 15ms/step\n"
     ]
    },
    {
     "name": "stderr",
     "output_type": "stream",
     "text": [
      "2024-01-26 12:22:06 WaideMBP-3.bahnhof.se root[83734] DEBUG Sell at: $60.37 | Position: +$1.11\n"
     ]
    },
    {
     "name": "stdout",
     "output_type": "stream",
     "text": [
      "1/1 [==============================] - 0s 15ms/step\n",
      "1/1 [==============================] - 0s 15ms/step\n",
      "1/1 [==============================] - 0s 15ms/step\n",
      "1/1 [==============================] - 0s 15ms/step\n",
      "1/1 [==============================] - 0s 15ms/step\n",
      "1/1 [==============================] - 0s 15ms/step\n",
      "1/1 [==============================] - 0s 15ms/step\n"
     ]
    },
    {
     "name": "stderr",
     "output_type": "stream",
     "text": [
      "2024-01-26 12:22:06 WaideMBP-3.bahnhof.se root[83734] DEBUG Buy at: $62.79\n"
     ]
    },
    {
     "name": "stdout",
     "output_type": "stream",
     "text": [
      "1/1 [==============================] - 0s 14ms/step\n"
     ]
    },
    {
     "name": "stderr",
     "output_type": "stream",
     "text": [
      "2024-01-26 12:22:06 WaideMBP-3.bahnhof.se root[83734] DEBUG Sell at: $64.94 | Position: +$2.15\n"
     ]
    },
    {
     "name": "stdout",
     "output_type": "stream",
     "text": [
      "1/1 [==============================] - 0s 15ms/step\n",
      "1/1 [==============================] - 0s 16ms/step\n",
      "1/1 [==============================] - 0s 15ms/step\n",
      "1/1 [==============================] - 0s 15ms/step\n",
      "1/1 [==============================] - 0s 16ms/step\n",
      "1/1 [==============================] - 0s 15ms/step\n",
      "1/1 [==============================] - 0s 14ms/step\n",
      "1/1 [==============================] - 0s 15ms/step\n"
     ]
    },
    {
     "name": "stderr",
     "output_type": "stream",
     "text": [
      "2024-01-26 12:22:06 WaideMBP-3.bahnhof.se root[83734] DEBUG Buy at: $79.67\n"
     ]
    },
    {
     "name": "stdout",
     "output_type": "stream",
     "text": [
      "1/1 [==============================] - 0s 14ms/step\n"
     ]
    },
    {
     "name": "stderr",
     "output_type": "stream",
     "text": [
      "2024-01-26 12:22:06 WaideMBP-3.bahnhof.se root[83734] DEBUG Sell at: $79.87 | Position: +$0.20\n"
     ]
    },
    {
     "name": "stdout",
     "output_type": "stream",
     "text": [
      "1/1 [==============================] - 0s 14ms/step\n",
      "1/1 [==============================] - 0s 15ms/step\n",
      "1/1 [==============================] - 0s 15ms/step\n",
      "1/1 [==============================] - 0s 15ms/step\n",
      "1/1 [==============================] - 0s 15ms/step\n",
      "1/1 [==============================] - 0s 15ms/step\n",
      "1/1 [==============================] - 0s 14ms/step\n",
      "1/1 [==============================] - 0s 15ms/step\n",
      "1/1 [==============================] - 0s 15ms/step\n",
      "1/1 [==============================] - 0s 14ms/step\n",
      "1/1 [==============================] - 0s 15ms/step\n",
      "1/1 [==============================] - 0s 15ms/step\n",
      "1/1 [==============================] - 0s 14ms/step\n",
      "1/1 [==============================] - 0s 15ms/step\n"
     ]
    },
    {
     "name": "stderr",
     "output_type": "stream",
     "text": [
      "2024-01-26 12:22:07 WaideMBP-3.bahnhof.se root[83734] DEBUG Buy at: $82.87\n"
     ]
    },
    {
     "name": "stdout",
     "output_type": "stream",
     "text": [
      "1/1 [==============================] - 0s 14ms/step\n"
     ]
    },
    {
     "name": "stderr",
     "output_type": "stream",
     "text": [
      "2024-01-26 12:22:07 WaideMBP-3.bahnhof.se root[83734] DEBUG Sell at: $83.84 | Position: +$0.96\n"
     ]
    },
    {
     "name": "stdout",
     "output_type": "stream",
     "text": [
      "1/1 [==============================] - 0s 15ms/step\n",
      "1/1 [==============================] - 0s 15ms/step\n",
      "1/1 [==============================] - 0s 14ms/step\n",
      "1/1 [==============================] - 0s 14ms/step\n",
      "1/1 [==============================] - 0s 15ms/step\n",
      "1/1 [==============================] - 0s 14ms/step\n",
      "1/1 [==============================] - 0s 15ms/step\n",
      "1/1 [==============================] - 0s 15ms/step\n",
      "1/1 [==============================] - 0s 15ms/step\n",
      "1/1 [==============================] - 0s 15ms/step\n",
      "1/1 [==============================] - 0s 14ms/step\n",
      "1/1 [==============================] - 0s 15ms/step\n",
      "1/1 [==============================] - 0s 14ms/step\n",
      "1/1 [==============================] - 0s 16ms/step\n",
      "1/1 [==============================] - 0s 19ms/step\n",
      "1/1 [==============================] - 0s 15ms/step\n",
      "1/1 [==============================] - 0s 14ms/step\n",
      "1/1 [==============================] - 0s 14ms/step\n",
      "1/1 [==============================] - 0s 15ms/step\n",
      "1/1 [==============================] - 0s 15ms/step\n",
      "1/1 [==============================] - 0s 15ms/step\n",
      "1/1 [==============================] - 0s 14ms/step\n",
      "1/1 [==============================] - 0s 14ms/step\n"
     ]
    },
    {
     "name": "stderr",
     "output_type": "stream",
     "text": [
      "2024-01-26 12:22:08 WaideMBP-3.bahnhof.se root[83734] DEBUG Buy at: $94.27\n"
     ]
    },
    {
     "name": "stdout",
     "output_type": "stream",
     "text": [
      "1/1 [==============================] - 0s 14ms/step\n"
     ]
    },
    {
     "name": "stderr",
     "output_type": "stream",
     "text": [
      "2024-01-26 12:22:08 WaideMBP-3.bahnhof.se root[83734] DEBUG Sell at: $94.74 | Position: +$0.47\n"
     ]
    },
    {
     "name": "stdout",
     "output_type": "stream",
     "text": [
      "1/1 [==============================] - 0s 15ms/step\n"
     ]
    },
    {
     "name": "stderr",
     "output_type": "stream",
     "text": [
      "2024-01-26 12:22:08 WaideMBP-3.bahnhof.se root[83734] DEBUG Buy at: $93.87\n"
     ]
    },
    {
     "name": "stdout",
     "output_type": "stream",
     "text": [
      "1/1 [==============================] - 0s 14ms/step\n"
     ]
    },
    {
     "name": "stderr",
     "output_type": "stream",
     "text": [
      "2024-01-26 12:22:08 WaideMBP-3.bahnhof.se root[83734] DEBUG Sell at: $96.41 | Position: +$2.54\n"
     ]
    },
    {
     "name": "stdout",
     "output_type": "stream",
     "text": [
      "1/1 [==============================] - 0s 14ms/step\n",
      "1/1 [==============================] - 0s 15ms/step\n",
      "1/1 [==============================] - 0s 15ms/step\n",
      "1/1 [==============================] - 0s 14ms/step\n"
     ]
    },
    {
     "name": "stderr",
     "output_type": "stream",
     "text": [
      "2024-01-26 12:22:08 WaideMBP-3.bahnhof.se root[83734] DEBUG Buy at: $93.09\n"
     ]
    },
    {
     "name": "stdout",
     "output_type": "stream",
     "text": [
      "1/1 [==============================] - 0s 15ms/step\n"
     ]
    },
    {
     "name": "stderr",
     "output_type": "stream",
     "text": [
      "2024-01-26 12:22:08 WaideMBP-3.bahnhof.se root[83734] DEBUG Sell at: $92.23 | Position: -$0.86\n"
     ]
    },
    {
     "name": "stdout",
     "output_type": "stream",
     "text": [
      "1/1 [==============================] - 0s 14ms/step\n"
     ]
    },
    {
     "name": "stderr",
     "output_type": "stream",
     "text": [
      "2024-01-26 12:22:08 WaideMBP-3.bahnhof.se root[83734] DEBUG Buy at: $93.85\n"
     ]
    },
    {
     "name": "stdout",
     "output_type": "stream",
     "text": [
      "1/1 [==============================] - 0s 15ms/step\n"
     ]
    },
    {
     "name": "stderr",
     "output_type": "stream",
     "text": [
      "2024-01-26 12:22:08 WaideMBP-3.bahnhof.se root[83734] DEBUG Buy at: $93.64\n"
     ]
    },
    {
     "name": "stdout",
     "output_type": "stream",
     "text": [
      "1/1 [==============================] - 0s 15ms/step\n"
     ]
    },
    {
     "name": "stderr",
     "output_type": "stream",
     "text": [
      "2024-01-26 12:22:08 WaideMBP-3.bahnhof.se root[83734] DEBUG Sell at: $94.04 | Position: +$0.20\n"
     ]
    },
    {
     "name": "stdout",
     "output_type": "stream",
     "text": [
      "1/1 [==============================] - 0s 15ms/step\n"
     ]
    },
    {
     "name": "stderr",
     "output_type": "stream",
     "text": [
      "2024-01-26 12:22:08 WaideMBP-3.bahnhof.se root[83734] DEBUG Buy at: $94.57\n"
     ]
    },
    {
     "name": "stdout",
     "output_type": "stream",
     "text": [
      "1/1 [==============================] - 0s 14ms/step\n"
     ]
    },
    {
     "name": "stderr",
     "output_type": "stream",
     "text": [
      "2024-01-26 12:22:08 WaideMBP-3.bahnhof.se root[83734] DEBUG Sell at: $94.09 | Position: +$0.46\n"
     ]
    },
    {
     "name": "stdout",
     "output_type": "stream",
     "text": [
      "1/1 [==============================] - 0s 14ms/step\n"
     ]
    },
    {
     "name": "stderr",
     "output_type": "stream",
     "text": [
      "2024-01-26 12:22:08 WaideMBP-3.bahnhof.se root[83734] DEBUG Sell at: $93.51 | Position: -$1.06\n"
     ]
    },
    {
     "name": "stdout",
     "output_type": "stream",
     "text": [
      "1/1 [==============================] - 0s 14ms/step\n",
      "1/1 [==============================] - 0s 14ms/step\n",
      "1/1 [==============================] - 0s 14ms/step\n",
      "1/1 [==============================] - 0s 14ms/step\n"
     ]
    },
    {
     "name": "stderr",
     "output_type": "stream",
     "text": [
      "2024-01-26 12:22:09 WaideMBP-3.bahnhof.se root[83734] DEBUG Buy at: $100.37\n"
     ]
    },
    {
     "name": "stdout",
     "output_type": "stream",
     "text": [
      "1/1 [==============================] - 0s 15ms/step\n"
     ]
    },
    {
     "name": "stderr",
     "output_type": "stream",
     "text": [
      "2024-01-26 12:22:09 WaideMBP-3.bahnhof.se root[83734] DEBUG Sell at: $98.13 | Position: -$2.24\n"
     ]
    },
    {
     "name": "stdout",
     "output_type": "stream",
     "text": [
      "1/1 [==============================] - 0s 14ms/step\n",
      "1/1 [==============================] - 0s 14ms/step\n",
      "1/1 [==============================] - 0s 14ms/step\n",
      "1/1 [==============================] - 0s 14ms/step\n",
      "1/1 [==============================] - 0s 15ms/step\n",
      "1/1 [==============================] - 0s 15ms/step\n",
      "1/1 [==============================] - 0s 14ms/step\n"
     ]
    },
    {
     "name": "stderr",
     "output_type": "stream",
     "text": [
      "2024-01-26 12:22:09 WaideMBP-3.bahnhof.se root[83734] DEBUG Buy at: $109.34\n"
     ]
    },
    {
     "name": "stdout",
     "output_type": "stream",
     "text": [
      "1/1 [==============================] - 0s 15ms/step\n"
     ]
    },
    {
     "name": "stderr",
     "output_type": "stream",
     "text": [
      "2024-01-26 12:22:09 WaideMBP-3.bahnhof.se root[83734] DEBUG Sell at: $106.43 | Position: -$2.91\n"
     ]
    },
    {
     "name": "stdout",
     "output_type": "stream",
     "text": [
      "1/1 [==============================] - 0s 15ms/step\n",
      "1/1 [==============================] - 0s 14ms/step\n",
      "1/1 [==============================] - 0s 15ms/step\n",
      "1/1 [==============================] - 0s 14ms/step\n",
      "1/1 [==============================] - 0s 15ms/step\n",
      "1/1 [==============================] - 0s 14ms/step\n",
      "1/1 [==============================] - 0s 15ms/step\n",
      "1/1 [==============================] - 0s 14ms/step\n",
      "1/1 [==============================] - 0s 18ms/step\n",
      "1/1 [==============================] - 0s 18ms/step\n",
      "1/1 [==============================] - 0s 14ms/step\n"
     ]
    },
    {
     "name": "stderr",
     "output_type": "stream",
     "text": [
      "2024-01-26 12:22:09 WaideMBP-3.bahnhof.se root[83734] DEBUG Buy at: $122.74\n"
     ]
    },
    {
     "name": "stdout",
     "output_type": "stream",
     "text": [
      "1/1 [==============================] - 0s 14ms/step\n"
     ]
    },
    {
     "name": "stderr",
     "output_type": "stream",
     "text": [
      "2024-01-26 12:22:09 WaideMBP-3.bahnhof.se root[83734] DEBUG Sell at: $120.51 | Position: -$2.23\n"
     ]
    },
    {
     "name": "stdout",
     "output_type": "stream",
     "text": [
      "1/1 [==============================] - 0s 15ms/step\n",
      "1/1 [==============================] - 0s 15ms/step\n"
     ]
    },
    {
     "name": "stderr",
     "output_type": "stream",
     "text": [
      "2024-01-26 12:22:10 WaideMBP-3.bahnhof.se root[83734] DEBUG Buy at: $123.39\n"
     ]
    },
    {
     "name": "stdout",
     "output_type": "stream",
     "text": [
      "1/1 [==============================] - 0s 15ms/step\n"
     ]
    },
    {
     "name": "stderr",
     "output_type": "stream",
     "text": [
      "2024-01-26 12:22:10 WaideMBP-3.bahnhof.se root[83734] DEBUG Sell at: $125.36 | Position: +$1.97\n"
     ]
    },
    {
     "name": "stdout",
     "output_type": "stream",
     "text": [
      "1/1 [==============================] - 0s 14ms/step\n",
      "1/1 [==============================] - 0s 14ms/step\n",
      "1/1 [==============================] - 0s 15ms/step\n",
      "1/1 [==============================] - 0s 15ms/step\n"
     ]
    },
    {
     "name": "stderr",
     "output_type": "stream",
     "text": [
      "2024-01-26 12:22:10 WaideMBP-3.bahnhof.se root[83734] DEBUG Buy at: $103.96\n"
     ]
    },
    {
     "name": "stdout",
     "output_type": "stream",
     "text": [
      "1/1 [==============================] - 0s 14ms/step\n"
     ]
    },
    {
     "name": "stderr",
     "output_type": "stream",
     "text": [
      "2024-01-26 12:22:10 WaideMBP-3.bahnhof.se root[83734] DEBUG Buy at: $96.88\n"
     ]
    },
    {
     "name": "stdout",
     "output_type": "stream",
     "text": [
      "1/1 [==============================] - 0s 15ms/step\n"
     ]
    },
    {
     "name": "stderr",
     "output_type": "stream",
     "text": [
      "2024-01-26 12:22:10 WaideMBP-3.bahnhof.se root[83734] DEBUG Buy at: $101.52\n"
     ]
    },
    {
     "name": "stdout",
     "output_type": "stream",
     "text": [
      "1/1 [==============================] - 0s 15ms/step\n"
     ]
    },
    {
     "name": "stderr",
     "output_type": "stream",
     "text": [
      "2024-01-26 12:22:10 WaideMBP-3.bahnhof.se root[83734] DEBUG Buy at: $110.13\n"
     ]
    },
    {
     "name": "stdout",
     "output_type": "stream",
     "text": [
      "1/1 [==============================] - 0s 14ms/step\n"
     ]
    },
    {
     "name": "stderr",
     "output_type": "stream",
     "text": [
      "2024-01-26 12:22:10 WaideMBP-3.bahnhof.se root[83734] DEBUG Sell at: $117.66 | Position: +$13.70\n"
     ]
    },
    {
     "name": "stdout",
     "output_type": "stream",
     "text": [
      "1/1 [==============================] - 0s 15ms/step\n"
     ]
    },
    {
     "name": "stderr",
     "output_type": "stream",
     "text": [
      "2024-01-26 12:22:10 WaideMBP-3.bahnhof.se root[83734] DEBUG Sell at: $117.63 | Position: +$20.75\n"
     ]
    },
    {
     "name": "stdout",
     "output_type": "stream",
     "text": [
      "1/1 [==============================] - 0s 15ms/step\n"
     ]
    },
    {
     "name": "stderr",
     "output_type": "stream",
     "text": [
      "2024-01-26 12:22:10 WaideMBP-3.bahnhof.se root[83734] DEBUG Buy at: $115.03\n"
     ]
    },
    {
     "name": "stdout",
     "output_type": "stream",
     "text": [
      "1/1 [==============================] - 0s 14ms/step\n"
     ]
    },
    {
     "name": "stderr",
     "output_type": "stream",
     "text": [
      "2024-01-26 12:22:10 WaideMBP-3.bahnhof.se root[83734] DEBUG Buy at: $105.79\n"
     ]
    },
    {
     "name": "stdout",
     "output_type": "stream",
     "text": [
      "1/1 [==============================] - 0s 15ms/step\n"
     ]
    },
    {
     "name": "stderr",
     "output_type": "stream",
     "text": [
      "2024-01-26 12:22:10 WaideMBP-3.bahnhof.se root[83734] DEBUG Buy at: $105.44\n"
     ]
    },
    {
     "name": "stdout",
     "output_type": "stream",
     "text": [
      "1/1 [==============================] - 0s 14ms/step\n"
     ]
    },
    {
     "name": "stderr",
     "output_type": "stream",
     "text": [
      "2024-01-26 12:22:10 WaideMBP-3.bahnhof.se root[83734] DEBUG Sell at: $101.06 | Position: -$0.46\n"
     ]
    },
    {
     "name": "stdout",
     "output_type": "stream",
     "text": [
      "1/1 [==============================] - 0s 14ms/step\n"
     ]
    },
    {
     "name": "stderr",
     "output_type": "stream",
     "text": [
      "2024-01-26 12:22:10 WaideMBP-3.bahnhof.se root[83734] DEBUG Sell at: $98.79 | Position: -$11.34\n"
     ]
    },
    {
     "name": "stdout",
     "output_type": "stream",
     "text": [
      "1/1 [==============================] - 0s 15ms/step\n"
     ]
    },
    {
     "name": "stderr",
     "output_type": "stream",
     "text": [
      "2024-01-26 12:22:10 WaideMBP-3.bahnhof.se root[83734] DEBUG Buy at: $94.95\n"
     ]
    },
    {
     "name": "stdout",
     "output_type": "stream",
     "text": [
      "1/1 [==============================] - 0s 15ms/step\n"
     ]
    },
    {
     "name": "stderr",
     "output_type": "stream",
     "text": [
      "2024-01-26 12:22:10 WaideMBP-3.bahnhof.se root[83734] DEBUG Buy at: $99.18\n"
     ]
    },
    {
     "name": "stdout",
     "output_type": "stream",
     "text": [
      "1/1 [==============================] - 0s 14ms/step\n"
     ]
    },
    {
     "name": "stderr",
     "output_type": "stream",
     "text": [
      "2024-01-26 12:22:10 WaideMBP-3.bahnhof.se root[83734] DEBUG Buy at: $99.48\n"
     ]
    },
    {
     "name": "stdout",
     "output_type": "stream",
     "text": [
      "1/1 [==============================] - 0s 14ms/step\n"
     ]
    },
    {
     "name": "stderr",
     "output_type": "stream",
     "text": [
      "2024-01-26 12:22:10 WaideMBP-3.bahnhof.se root[83734] DEBUG Buy at: $97.51\n"
     ]
    },
    {
     "name": "stdout",
     "output_type": "stream",
     "text": [
      "1/1 [==============================] - 0s 15ms/step\n"
     ]
    },
    {
     "name": "stderr",
     "output_type": "stream",
     "text": [
      "2024-01-26 12:22:10 WaideMBP-3.bahnhof.se root[83734] DEBUG Buy at: $95.69\n"
     ]
    },
    {
     "name": "stdout",
     "output_type": "stream",
     "text": [
      "1/1 [==============================] - 0s 16ms/step\n"
     ]
    },
    {
     "name": "stderr",
     "output_type": "stream",
     "text": [
      "2024-01-26 12:22:10 WaideMBP-3.bahnhof.se root[83734] DEBUG Buy at: $99.16\n"
     ]
    },
    {
     "name": "stdout",
     "output_type": "stream",
     "text": [
      "1/1 [==============================] - 0s 14ms/step\n"
     ]
    },
    {
     "name": "stderr",
     "output_type": "stream",
     "text": [
      "2024-01-26 12:22:10 WaideMBP-3.bahnhof.se root[83734] DEBUG Sell at: $104.08 | Position: -$10.95\n"
     ]
    },
    {
     "name": "stdout",
     "output_type": "stream",
     "text": [
      "1/1 [==============================] - 0s 15ms/step\n"
     ]
    },
    {
     "name": "stderr",
     "output_type": "stream",
     "text": [
      "2024-01-26 12:22:10 WaideMBP-3.bahnhof.se root[83734] DEBUG Buy at: $104.21\n"
     ]
    },
    {
     "name": "stdout",
     "output_type": "stream",
     "text": [
      "1/1 [==============================] - 0s 14ms/step\n"
     ]
    },
    {
     "name": "stderr",
     "output_type": "stream",
     "text": [
      "2024-01-26 12:22:10 WaideMBP-3.bahnhof.se root[83734] DEBUG Buy at: $102.62\n"
     ]
    },
    {
     "name": "stdout",
     "output_type": "stream",
     "text": [
      "1/1 [==============================] - 0s 14ms/step\n",
      "1/1 [==============================] - 0s 14ms/step\n"
     ]
    },
    {
     "name": "stderr",
     "output_type": "stream",
     "text": [
      "2024-01-26 12:22:11 WaideMBP-3.bahnhof.se root[83734] DEBUG Buy at: $98.47\n"
     ]
    },
    {
     "name": "stdout",
     "output_type": "stream",
     "text": [
      "1/1 [==============================] - 0s 15ms/step\n"
     ]
    },
    {
     "name": "stderr",
     "output_type": "stream",
     "text": [
      "2024-01-26 12:22:11 WaideMBP-3.bahnhof.se root[83734] DEBUG Sell at: $98.07 | Position: -$7.72\n"
     ]
    },
    {
     "name": "stdout",
     "output_type": "stream",
     "text": [
      "1/1 [==============================] - 0s 15ms/step\n"
     ]
    },
    {
     "name": "stderr",
     "output_type": "stream",
     "text": [
      "2024-01-26 12:22:11 WaideMBP-3.bahnhof.se root[83734] DEBUG Buy at: $103.76\n"
     ]
    },
    {
     "name": "stdout",
     "output_type": "stream",
     "text": [
      "1/1 [==============================] - 0s 14ms/step\n"
     ]
    },
    {
     "name": "stderr",
     "output_type": "stream",
     "text": [
      "2024-01-26 12:22:11 WaideMBP-3.bahnhof.se root[83734] DEBUG Sell at: $102.24 | Position: -$3.20\n"
     ]
    },
    {
     "name": "stdout",
     "output_type": "stream",
     "text": [
      "1/1 [==============================] - 0s 14ms/step\n"
     ]
    },
    {
     "name": "stderr",
     "output_type": "stream",
     "text": [
      "2024-01-26 12:22:11 WaideMBP-3.bahnhof.se root[83734] DEBUG Buy at: $99.47\n"
     ]
    },
    {
     "name": "stdout",
     "output_type": "stream",
     "text": [
      "1/1 [==============================] - 0s 14ms/step\n"
     ]
    },
    {
     "name": "stderr",
     "output_type": "stream",
     "text": [
      "2024-01-26 12:22:11 WaideMBP-3.bahnhof.se root[83734] DEBUG Sell at: $98.35 | Position: +$3.40\n"
     ]
    },
    {
     "name": "stdout",
     "output_type": "stream",
     "text": [
      "1/1 [==============================] - 0s 14ms/step\n"
     ]
    },
    {
     "name": "stderr",
     "output_type": "stream",
     "text": [
      "2024-01-26 12:22:11 WaideMBP-3.bahnhof.se root[83734] DEBUG Buy at: $103.26\n"
     ]
    },
    {
     "name": "stdout",
     "output_type": "stream",
     "text": [
      "1/1 [==============================] - 0s 14ms/step\n"
     ]
    },
    {
     "name": "stderr",
     "output_type": "stream",
     "text": [
      "2024-01-26 12:22:11 WaideMBP-3.bahnhof.se root[83734] DEBUG Buy at: $105.98\n"
     ]
    },
    {
     "name": "stdout",
     "output_type": "stream",
     "text": [
      "1/1 [==============================] - 0s 15ms/step\n"
     ]
    },
    {
     "name": "stderr",
     "output_type": "stream",
     "text": [
      "2024-01-26 12:22:11 WaideMBP-3.bahnhof.se root[83734] DEBUG Sell at: $106.11 | Position: +$6.93\n"
     ]
    },
    {
     "name": "stdout",
     "output_type": "stream",
     "text": [
      "1/1 [==============================] - 0s 15ms/step\n"
     ]
    },
    {
     "name": "stderr",
     "output_type": "stream",
     "text": [
      "2024-01-26 12:22:11 WaideMBP-3.bahnhof.se root[83734] DEBUG Sell at: $111.25 | Position: +$11.77\n"
     ]
    },
    {
     "name": "stdout",
     "output_type": "stream",
     "text": [
      "1/1 [==============================] - 0s 14ms/step\n"
     ]
    },
    {
     "name": "stderr",
     "output_type": "stream",
     "text": [
      "2024-01-26 12:22:11 WaideMBP-3.bahnhof.se root[83734] DEBUG Sell at: $108.33 | Position: +$10.82\n"
     ]
    },
    {
     "name": "stdout",
     "output_type": "stream",
     "text": [
      "1/1 [==============================] - 0s 15ms/step\n"
     ]
    },
    {
     "name": "stderr",
     "output_type": "stream",
     "text": [
      "2024-01-26 12:22:11 WaideMBP-3.bahnhof.se root[83734] DEBUG Sell at: $108.10 | Position: +$12.41\n"
     ]
    },
    {
     "name": "stdout",
     "output_type": "stream",
     "text": [
      "1/1 [==============================] - 0s 14ms/step\n"
     ]
    },
    {
     "name": "stderr",
     "output_type": "stream",
     "text": [
      "2024-01-26 12:22:11 WaideMBP-3.bahnhof.se root[83734] DEBUG Sell at: $114.93 | Position: +$15.77\n"
     ]
    },
    {
     "name": "stdout",
     "output_type": "stream",
     "text": [
      "1/1 [==============================] - 0s 14ms/step\n"
     ]
    },
    {
     "name": "stderr",
     "output_type": "stream",
     "text": [
      "2024-01-26 12:22:11 WaideMBP-3.bahnhof.se root[83734] DEBUG Sell at: $113.33 | Position: +$9.12\n"
     ]
    },
    {
     "name": "stdout",
     "output_type": "stream",
     "text": [
      "1/1 [==============================] - 0s 15ms/step\n"
     ]
    },
    {
     "name": "stderr",
     "output_type": "stream",
     "text": [
      "2024-01-26 12:22:11 WaideMBP-3.bahnhof.se root[83734] DEBUG Sell at: $113.45 | Position: +$10.83\n"
     ]
    },
    {
     "name": "stdout",
     "output_type": "stream",
     "text": [
      "1/1 [==============================] - 0s 14ms/step\n"
     ]
    },
    {
     "name": "stderr",
     "output_type": "stream",
     "text": [
      "2024-01-26 12:22:11 WaideMBP-3.bahnhof.se root[83734] DEBUG Sell at: $109.73 | Position: +$11.26\n"
     ]
    },
    {
     "name": "stdout",
     "output_type": "stream",
     "text": [
      "1/1 [==============================] - 0s 15ms/step\n"
     ]
    },
    {
     "name": "stderr",
     "output_type": "stream",
     "text": [
      "2024-01-26 12:22:11 WaideMBP-3.bahnhof.se root[83734] DEBUG Sell at: $110.23 | Position: +$6.47\n"
     ]
    },
    {
     "name": "stdout",
     "output_type": "stream",
     "text": [
      "1/1 [==============================] - 0s 14ms/step\n"
     ]
    },
    {
     "name": "stderr",
     "output_type": "stream",
     "text": [
      "2024-01-26 12:22:11 WaideMBP-3.bahnhof.se root[83734] DEBUG Buy at: $101.09\n"
     ]
    },
    {
     "name": "stdout",
     "output_type": "stream",
     "text": [
      "1/1 [==============================] - 0s 14ms/step\n"
     ]
    },
    {
     "name": "stderr",
     "output_type": "stream",
     "text": [
      "2024-01-26 12:22:11 WaideMBP-3.bahnhof.se root[83734] DEBUG Buy at: $98.99\n"
     ]
    },
    {
     "name": "stdout",
     "output_type": "stream",
     "text": [
      "1/1 [==============================] - 0s 14ms/step\n"
     ]
    },
    {
     "name": "stderr",
     "output_type": "stream",
     "text": [
      "2024-01-26 12:22:11 WaideMBP-3.bahnhof.se root[83734] DEBUG Buy at: $101.69\n"
     ]
    },
    {
     "name": "stdout",
     "output_type": "stream",
     "text": [
      "1/1 [==============================] - 0s 14ms/step\n"
     ]
    },
    {
     "name": "stderr",
     "output_type": "stream",
     "text": [
      "2024-01-26 12:22:11 WaideMBP-3.bahnhof.se root[83734] DEBUG Sell at: $98.99 | Position: -$0.48\n"
     ]
    },
    {
     "name": "stdout",
     "output_type": "stream",
     "text": [
      "1/1 [==============================] - 0s 15ms/step\n",
      "1/1 [==============================] - 0s 15ms/step\n",
      "1/1 [==============================] - 0s 14ms/step\n"
     ]
    },
    {
     "name": "stderr",
     "output_type": "stream",
     "text": [
      "2024-01-26 12:22:11 WaideMBP-3.bahnhof.se root[83734] DEBUG Sell at: $100.04 | Position: -$3.22\n"
     ]
    },
    {
     "name": "stdout",
     "output_type": "stream",
     "text": [
      "1/1 [==============================] - 0s 16ms/step\n"
     ]
    },
    {
     "name": "stderr",
     "output_type": "stream",
     "text": [
      "2024-01-26 12:22:11 WaideMBP-3.bahnhof.se root[83734] DEBUG Sell at: $103.04 | Position: -$2.94\n"
     ]
    },
    {
     "name": "stdout",
     "output_type": "stream",
     "text": [
      "1/1 [==============================] - 0s 15ms/step\n"
     ]
    },
    {
     "name": "stderr",
     "output_type": "stream",
     "text": [
      "2024-01-26 12:22:12 WaideMBP-3.bahnhof.se root[83734] DEBUG Sell at: $103.07 | Position: +$1.98\n"
     ]
    },
    {
     "name": "stdout",
     "output_type": "stream",
     "text": [
      "1/1 [==============================] - 0s 14ms/step\n"
     ]
    },
    {
     "name": "stderr",
     "output_type": "stream",
     "text": [
      "2024-01-26 12:22:12 WaideMBP-3.bahnhof.se root[83734] DEBUG Sell at: $105.80 | Position: +$6.81\n"
     ]
    },
    {
     "name": "stdout",
     "output_type": "stream",
     "text": [
      "1/1 [==============================] - 0s 14ms/step\n"
     ]
    },
    {
     "name": "stderr",
     "output_type": "stream",
     "text": [
      "2024-01-26 12:22:12 WaideMBP-3.bahnhof.se root[83734] DEBUG Sell at: $105.12 | Position: +$3.43\n"
     ]
    },
    {
     "name": "stdout",
     "output_type": "stream",
     "text": [
      "1/1 [==============================] - 0s 14ms/step\n",
      "1/1 [==============================] - 0s 14ms/step\n"
     ]
    },
    {
     "name": "stderr",
     "output_type": "stream",
     "text": [
      "2024-01-26 12:22:12 WaideMBP-3.bahnhof.se root[83734] DEBUG Buy at: $107.64\n"
     ]
    },
    {
     "name": "stdout",
     "output_type": "stream",
     "text": [
      "1/1 [==============================] - 0s 15ms/step\n"
     ]
    },
    {
     "name": "stderr",
     "output_type": "stream",
     "text": [
      "2024-01-26 12:22:12 WaideMBP-3.bahnhof.se root[83734] DEBUG Sell at: $109.74 | Position: +$2.10\n"
     ]
    },
    {
     "name": "stdout",
     "output_type": "stream",
     "text": [
      "1/1 [==============================] - 0s 14ms/step\n"
     ]
    },
    {
     "name": "stderr",
     "output_type": "stream",
     "text": [
      "2024-01-26 12:22:12 WaideMBP-3.bahnhof.se root[83734] DEBUG Buy at: $114.05\n"
     ]
    },
    {
     "name": "stdout",
     "output_type": "stream",
     "text": [
      "1/1 [==============================] - 0s 15ms/step\n"
     ]
    },
    {
     "name": "stderr",
     "output_type": "stream",
     "text": [
      "2024-01-26 12:22:12 WaideMBP-3.bahnhof.se root[83734] DEBUG Sell at: $113.50 | Position: -$0.55\n"
     ]
    },
    {
     "name": "stdout",
     "output_type": "stream",
     "text": [
      "1/1 [==============================] - 0s 15ms/step\n",
      "1/1 [==============================] - 0s 14ms/step\n",
      "1/1 [==============================] - 0s 14ms/step\n",
      "1/1 [==============================] - 0s 14ms/step\n"
     ]
    },
    {
     "name": "stderr",
     "output_type": "stream",
     "text": [
      "2024-01-26 12:22:12 WaideMBP-3.bahnhof.se root[83734] DEBUG Buy at: $112.86\n"
     ]
    },
    {
     "name": "stdout",
     "output_type": "stream",
     "text": [
      "1/1 [==============================] - 0s 14ms/step\n"
     ]
    },
    {
     "name": "stderr",
     "output_type": "stream",
     "text": [
      "2024-01-26 12:22:12 WaideMBP-3.bahnhof.se root[83734] DEBUG Sell at: $108.92 | Position: -$3.94\n"
     ]
    },
    {
     "name": "stdout",
     "output_type": "stream",
     "text": [
      "1/1 [==============================] - 0s 14ms/step\n"
     ]
    },
    {
     "name": "stderr",
     "output_type": "stream",
     "text": [
      "2024-01-26 12:22:12 WaideMBP-3.bahnhof.se root[83734] DEBUG Buy at: $103.65\n"
     ]
    },
    {
     "name": "stdout",
     "output_type": "stream",
     "text": [
      "1/1 [==============================] - 0s 14ms/step\n"
     ]
    },
    {
     "name": "stderr",
     "output_type": "stream",
     "text": [
      "2024-01-26 12:22:12 WaideMBP-3.bahnhof.se root[83734] DEBUG Sell at: $111.35 | Position: +$7.70\n"
     ]
    },
    {
     "name": "stdout",
     "output_type": "stream",
     "text": [
      "1/1 [==============================] - 0s 14ms/step\n",
      "1/1 [==============================] - 0s 15ms/step\n",
      "1/1 [==============================] - 0s 15ms/step\n",
      "1/1 [==============================] - 0s 14ms/step\n",
      "1/1 [==============================] - 0s 14ms/step\n",
      "1/1 [==============================] - 0s 14ms/step\n",
      "1/1 [==============================] - 0s 14ms/step\n",
      "1/1 [==============================] - 0s 14ms/step\n"
     ]
    },
    {
     "name": "stderr",
     "output_type": "stream",
     "text": [
      "2024-01-26 12:22:12 WaideMBP-3.bahnhof.se root[83734] DEBUG Buy at: $125.44\n"
     ]
    },
    {
     "name": "stdout",
     "output_type": "stream",
     "text": [
      "1/1 [==============================] - 0s 14ms/step\n"
     ]
    },
    {
     "name": "stderr",
     "output_type": "stream",
     "text": [
      "2024-01-26 12:22:12 WaideMBP-3.bahnhof.se root[83734] DEBUG Sell at: $123.33 | Position: -$2.11\n"
     ]
    },
    {
     "name": "stdout",
     "output_type": "stream",
     "text": [
      "1/1 [==============================] - 0s 15ms/step\n"
     ]
    },
    {
     "name": "stderr",
     "output_type": "stream",
     "text": [
      "2024-01-26 12:22:12 WaideMBP-3.bahnhof.se root[83734] DEBUG Buy at: $125.37\n"
     ]
    },
    {
     "name": "stdout",
     "output_type": "stream",
     "text": [
      "1/1 [==============================] - 0s 15ms/step\n"
     ]
    },
    {
     "name": "stderr",
     "output_type": "stream",
     "text": [
      "2024-01-26 12:22:12 WaideMBP-3.bahnhof.se root[83734] DEBUG Sell at: $128.93 | Position: +$3.56\n"
     ]
    },
    {
     "name": "stdout",
     "output_type": "stream",
     "text": [
      "1/1 [==============================] - 0s 14ms/step\n",
      "1/1 [==============================] - 0s 14ms/step\n"
     ]
    },
    {
     "name": "stderr",
     "output_type": "stream",
     "text": [
      "2024-01-26 12:22:13 WaideMBP-3.bahnhof.se root[83734] DEBUG Buy at: $130.93\n"
     ]
    },
    {
     "name": "stdout",
     "output_type": "stream",
     "text": [
      "1/1 [==============================] - 0s 14ms/step\n"
     ]
    },
    {
     "name": "stderr",
     "output_type": "stream",
     "text": [
      "2024-01-26 12:22:13 WaideMBP-3.bahnhof.se root[83734] DEBUG Sell at: $125.36 | Position: -$5.57\n"
     ]
    },
    {
     "name": "stdout",
     "output_type": "stream",
     "text": [
      "1/1 [==============================] - 0s 14ms/step\n",
      "1/1 [==============================] - 0s 14ms/step\n",
      "1/1 [==============================] - 0s 14ms/step\n"
     ]
    },
    {
     "name": "stderr",
     "output_type": "stream",
     "text": [
      "2024-01-26 12:22:13 WaideMBP-3.bahnhof.se root[83734] DEBUG Buy at: $122.91\n"
     ]
    },
    {
     "name": "stdout",
     "output_type": "stream",
     "text": [
      "1/1 [==============================] - 0s 14ms/step\n"
     ]
    },
    {
     "name": "stderr",
     "output_type": "stream",
     "text": [
      "2024-01-26 12:22:13 WaideMBP-3.bahnhof.se root[83734] DEBUG Sell at: $118.91 | Position: -$4.00\n"
     ]
    },
    {
     "name": "stdout",
     "output_type": "stream",
     "text": [
      "1/1 [==============================] - 0s 14ms/step\n",
      "1/1 [==============================] - 0s 14ms/step\n"
     ]
    },
    {
     "name": "stderr",
     "output_type": "stream",
     "text": [
      "2024-01-26 12:22:13 WaideMBP-3.bahnhof.se root[83734] DEBUG Buy at: $118.60\n"
     ]
    },
    {
     "name": "stdout",
     "output_type": "stream",
     "text": [
      "1/1 [==============================] - 0s 15ms/step\n"
     ]
    },
    {
     "name": "stderr",
     "output_type": "stream",
     "text": [
      "2024-01-26 12:22:13 WaideMBP-3.bahnhof.se root[83734] DEBUG Buy at: $122.64\n"
     ]
    },
    {
     "name": "stdout",
     "output_type": "stream",
     "text": [
      "1/1 [==============================] - 0s 14ms/step\n"
     ]
    },
    {
     "name": "stderr",
     "output_type": "stream",
     "text": [
      "2024-01-26 12:22:13 WaideMBP-3.bahnhof.se root[83734] DEBUG Buy at: $122.51\n"
     ]
    },
    {
     "name": "stdout",
     "output_type": "stream",
     "text": [
      "1/1 [==============================] - 0s 15ms/step\n"
     ]
    },
    {
     "name": "stderr",
     "output_type": "stream",
     "text": [
      "2024-01-26 12:22:13 WaideMBP-3.bahnhof.se root[83734] DEBUG Buy at: $118.02\n"
     ]
    },
    {
     "name": "stdout",
     "output_type": "stream",
     "text": [
      "1/1 [==============================] - 0s 14ms/step\n"
     ]
    },
    {
     "name": "stderr",
     "output_type": "stream",
     "text": [
      "2024-01-26 12:22:13 WaideMBP-3.bahnhof.se root[83734] DEBUG Sell at: $116.63 | Position: -$1.97\n"
     ]
    },
    {
     "name": "stdout",
     "output_type": "stream",
     "text": [
      "1/1 [==============================] - 0s 14ms/step\n"
     ]
    },
    {
     "name": "stderr",
     "output_type": "stream",
     "text": [
      "2024-01-26 12:22:13 WaideMBP-3.bahnhof.se root[83734] DEBUG Buy at: $116.24\n"
     ]
    },
    {
     "name": "stdout",
     "output_type": "stream",
     "text": [
      "1/1 [==============================] - 0s 14ms/step\n"
     ]
    },
    {
     "name": "stderr",
     "output_type": "stream",
     "text": [
      "2024-01-26 12:22:13 WaideMBP-3.bahnhof.se root[83734] DEBUG Sell at: $118.16 | Position: -$4.48\n"
     ]
    },
    {
     "name": "stdout",
     "output_type": "stream",
     "text": [
      "1/1 [==============================] - 0s 14ms/step\n"
     ]
    },
    {
     "name": "stderr",
     "output_type": "stream",
     "text": [
      "2024-01-26 12:22:13 WaideMBP-3.bahnhof.se root[83734] DEBUG Sell at: $117.33 | Position: -$5.18\n"
     ]
    },
    {
     "name": "stdout",
     "output_type": "stream",
     "text": [
      "1/1 [==============================] - 0s 14ms/step\n"
     ]
    },
    {
     "name": "stderr",
     "output_type": "stream",
     "text": [
      "2024-01-26 12:22:13 WaideMBP-3.bahnhof.se root[83734] DEBUG Buy at: $117.11\n"
     ]
    },
    {
     "name": "stdout",
     "output_type": "stream",
     "text": [
      "1/1 [==============================] - 0s 16ms/step\n"
     ]
    },
    {
     "name": "stderr",
     "output_type": "stream",
     "text": [
      "2024-01-26 12:22:13 WaideMBP-3.bahnhof.se root[83734] DEBUG Buy at: $119.12\n"
     ]
    },
    {
     "name": "stdout",
     "output_type": "stream",
     "text": [
      "1/1 [==============================] - 0s 14ms/step\n"
     ]
    },
    {
     "name": "stderr",
     "output_type": "stream",
     "text": [
      "2024-01-26 12:22:13 WaideMBP-3.bahnhof.se root[83734] DEBUG Buy at: $116.71\n"
     ]
    },
    {
     "name": "stdout",
     "output_type": "stream",
     "text": [
      "1/1 [==============================] - 0s 15ms/step\n"
     ]
    },
    {
     "name": "stderr",
     "output_type": "stream",
     "text": [
      "2024-01-26 12:22:13 WaideMBP-3.bahnhof.se root[83734] DEBUG Buy at: $114.38\n"
     ]
    },
    {
     "name": "stdout",
     "output_type": "stream",
     "text": [
      "1/1 [==============================] - 0s 14ms/step\n"
     ]
    },
    {
     "name": "stderr",
     "output_type": "stream",
     "text": [
      "2024-01-26 12:22:13 WaideMBP-3.bahnhof.se root[83734] DEBUG Buy at: $109.96\n"
     ]
    },
    {
     "name": "stdout",
     "output_type": "stream",
     "text": [
      "1/1 [==============================] - 0s 14ms/step\n"
     ]
    },
    {
     "name": "stderr",
     "output_type": "stream",
     "text": [
      "2024-01-26 12:22:13 WaideMBP-3.bahnhof.se root[83734] DEBUG Buy at: $107.66\n"
     ]
    },
    {
     "name": "stdout",
     "output_type": "stream",
     "text": [
      "1/1 [==============================] - 0s 14ms/step\n"
     ]
    },
    {
     "name": "stderr",
     "output_type": "stream",
     "text": [
      "2024-01-26 12:22:13 WaideMBP-3.bahnhof.se root[83734] DEBUG Buy at: $117.68\n"
     ]
    },
    {
     "name": "stdout",
     "output_type": "stream",
     "text": [
      "1/1 [==============================] - 0s 14ms/step\n"
     ]
    },
    {
     "name": "stderr",
     "output_type": "stream",
     "text": [
      "2024-01-26 12:22:13 WaideMBP-3.bahnhof.se root[83734] DEBUG Buy at: $114.56\n"
     ]
    },
    {
     "name": "stdout",
     "output_type": "stream",
     "text": [
      "1/1 [==============================] - 0s 15ms/step\n",
      "1/1 [==============================] - 0s 14ms/step\n"
     ]
    },
    {
     "name": "stderr",
     "output_type": "stream",
     "text": [
      "2024-01-26 12:22:14 WaideMBP-3.bahnhof.se root[83734] DEBUG Buy at: $114.97\n"
     ]
    },
    {
     "name": "stdout",
     "output_type": "stream",
     "text": [
      "1/1 [==============================] - 0s 15ms/step\n"
     ]
    },
    {
     "name": "stderr",
     "output_type": "stream",
     "text": [
      "2024-01-26 12:22:14 WaideMBP-3.bahnhof.se root[83734] DEBUG Sell at: $116.58 | Position: -$1.44\n"
     ]
    },
    {
     "name": "stdout",
     "output_type": "stream",
     "text": [
      "1/1 [==============================] - 0s 15ms/step\n"
     ]
    },
    {
     "name": "stderr",
     "output_type": "stream",
     "text": [
      "2024-01-26 12:22:14 WaideMBP-3.bahnhof.se root[83734] DEBUG Buy at: $106.56\n"
     ]
    },
    {
     "name": "stdout",
     "output_type": "stream",
     "text": [
      "1/1 [==============================] - 0s 14ms/step\n",
      "1/1 [==============================] - 0s 14ms/step\n"
     ]
    },
    {
     "name": "stderr",
     "output_type": "stream",
     "text": [
      "2024-01-26 12:22:14 WaideMBP-3.bahnhof.se root[83734] DEBUG Buy at: $104.04\n"
     ]
    },
    {
     "name": "stdout",
     "output_type": "stream",
     "text": [
      "1/1 [==============================] - 0s 14ms/step\n",
      "1/1 [==============================] - 0s 14ms/step\n"
     ]
    },
    {
     "name": "stderr",
     "output_type": "stream",
     "text": [
      "2024-01-26 12:22:14 WaideMBP-3.bahnhof.se root[83734] DEBUG Buy at: $107.74\n"
     ]
    },
    {
     "name": "stdout",
     "output_type": "stream",
     "text": [
      "1/1 [==============================] - 0s 14ms/step\n"
     ]
    },
    {
     "name": "stderr",
     "output_type": "stream",
     "text": [
      "2024-01-26 12:22:14 WaideMBP-3.bahnhof.se root[83734] DEBUG Sell at: $102.35 | Position: -$13.89\n"
     ]
    },
    {
     "name": "stdout",
     "output_type": "stream",
     "text": [
      "1/1 [==============================] - 0s 14ms/step\n"
     ]
    },
    {
     "name": "stderr",
     "output_type": "stream",
     "text": [
      "2024-01-26 12:22:14 WaideMBP-3.bahnhof.se root[83734] DEBUG Sell at: $100.72 | Position: -$16.39\n"
     ]
    },
    {
     "name": "stdout",
     "output_type": "stream",
     "text": [
      "1/1 [==============================] - 0s 15ms/step\n"
     ]
    },
    {
     "name": "stderr",
     "output_type": "stream",
     "text": [
      "2024-01-26 12:22:14 WaideMBP-3.bahnhof.se root[83734] DEBUG Buy at: $99.12\n"
     ]
    },
    {
     "name": "stdout",
     "output_type": "stream",
     "text": [
      "1/1 [==============================] - 0s 14ms/step\n"
     ]
    },
    {
     "name": "stderr",
     "output_type": "stream",
     "text": [
      "2024-01-26 12:22:14 WaideMBP-3.bahnhof.se root[83734] DEBUG Sell at: $97.83 | Position: -$21.29\n"
     ]
    },
    {
     "name": "stdout",
     "output_type": "stream",
     "text": [
      "1/1 [==============================] - 0s 14ms/step\n"
     ]
    },
    {
     "name": "stderr",
     "output_type": "stream",
     "text": [
      "2024-01-26 12:22:14 WaideMBP-3.bahnhof.se root[83734] DEBUG Sell at: $91.15 | Position: -$25.56\n"
     ]
    },
    {
     "name": "stdout",
     "output_type": "stream",
     "text": [
      "1/1 [==============================] - 0s 14ms/step\n"
     ]
    },
    {
     "name": "stderr",
     "output_type": "stream",
     "text": [
      "2024-01-26 12:22:14 WaideMBP-3.bahnhof.se root[83734] DEBUG Sell at: $94.41 | Position: -$19.97\n"
     ]
    },
    {
     "name": "stdout",
     "output_type": "stream",
     "text": [
      "1/1 [==============================] - 0s 14ms/step\n"
     ]
    },
    {
     "name": "stderr",
     "output_type": "stream",
     "text": [
      "2024-01-26 12:22:14 WaideMBP-3.bahnhof.se root[83734] DEBUG Buy at: $91.84\n"
     ]
    },
    {
     "name": "stdout",
     "output_type": "stream",
     "text": [
      "1/1 [==============================] - 0s 15ms/step\n"
     ]
    },
    {
     "name": "stderr",
     "output_type": "stream",
     "text": [
      "2024-01-26 12:22:14 WaideMBP-3.bahnhof.se root[83734] DEBUG Buy at: $94.09\n"
     ]
    },
    {
     "name": "stdout",
     "output_type": "stream",
     "text": [
      "1/1 [==============================] - 0s 16ms/step\n"
     ]
    },
    {
     "name": "stderr",
     "output_type": "stream",
     "text": [
      "2024-01-26 12:22:14 WaideMBP-3.bahnhof.se root[83734] DEBUG Buy at: $91.49\n"
     ]
    },
    {
     "name": "stdout",
     "output_type": "stream",
     "text": [
      "1/1 [==============================] - 0s 14ms/step\n"
     ]
    },
    {
     "name": "stderr",
     "output_type": "stream",
     "text": [
      "2024-01-26 12:22:14 WaideMBP-3.bahnhof.se root[83734] DEBUG Buy at: $90.74\n"
     ]
    },
    {
     "name": "stdout",
     "output_type": "stream",
     "text": [
      "1/1 [==============================] - 0s 15ms/step\n"
     ]
    },
    {
     "name": "stderr",
     "output_type": "stream",
     "text": [
      "2024-01-26 12:22:14 WaideMBP-3.bahnhof.se root[83734] DEBUG Sell at: $89.71 | Position: -$20.25\n"
     ]
    },
    {
     "name": "stdout",
     "output_type": "stream",
     "text": [
      "1/1 [==============================] - 0s 14ms/step\n"
     ]
    },
    {
     "name": "stderr",
     "output_type": "stream",
     "text": [
      "2024-01-26 12:22:14 WaideMBP-3.bahnhof.se root[83734] DEBUG Buy at: $82.79\n"
     ]
    },
    {
     "name": "stdout",
     "output_type": "stream",
     "text": [
      "1/1 [==============================] - 0s 15ms/step\n"
     ]
    },
    {
     "name": "stderr",
     "output_type": "stream",
     "text": [
      "2024-01-26 12:22:14 WaideMBP-3.bahnhof.se root[83734] DEBUG Buy at: $83.32\n"
     ]
    },
    {
     "name": "stdout",
     "output_type": "stream",
     "text": [
      "1/1 [==============================] - 0s 14ms/step\n"
     ]
    },
    {
     "name": "stderr",
     "output_type": "stream",
     "text": [
      "2024-01-26 12:22:14 WaideMBP-3.bahnhof.se root[83734] DEBUG Buy at: $86.13\n"
     ]
    },
    {
     "name": "stdout",
     "output_type": "stream",
     "text": [
      "1/1 [==============================] - 0s 14ms/step\n"
     ]
    },
    {
     "name": "stderr",
     "output_type": "stream",
     "text": [
      "2024-01-26 12:22:14 WaideMBP-3.bahnhof.se root[83734] DEBUG Sell at: $88.45 | Position: -$19.21\n"
     ]
    },
    {
     "name": "stdout",
     "output_type": "stream",
     "text": [
      "1/1 [==============================] - 0s 15ms/step\n"
     ]
    },
    {
     "name": "stderr",
     "output_type": "stream",
     "text": [
      "2024-01-26 12:22:14 WaideMBP-3.bahnhof.se root[83734] DEBUG Sell at: $86.35 | Position: -$31.33\n"
     ]
    },
    {
     "name": "stdout",
     "output_type": "stream",
     "text": [
      "1/1 [==============================] - 0s 14ms/step\n"
     ]
    },
    {
     "name": "stderr",
     "output_type": "stream",
     "text": [
      "2024-01-26 12:22:14 WaideMBP-3.bahnhof.se root[83734] DEBUG Sell at: $87.40 | Position: -$27.16\n"
     ]
    },
    {
     "name": "stdout",
     "output_type": "stream",
     "text": [
      "1/1 [==============================] - 0s 15ms/step\n"
     ]
    },
    {
     "name": "stderr",
     "output_type": "stream",
     "text": [
      "2024-01-26 12:22:14 WaideMBP-3.bahnhof.se root[83734] DEBUG Buy at: $89.05\n"
     ]
    },
    {
     "name": "stdout",
     "output_type": "stream",
     "text": [
      "1/1 [==============================] - 0s 15ms/step\n"
     ]
    },
    {
     "name": "stderr",
     "output_type": "stream",
     "text": [
      "2024-01-26 12:22:15 WaideMBP-3.bahnhof.se root[83734] DEBUG Buy at: $94.76\n"
     ]
    },
    {
     "name": "stdout",
     "output_type": "stream",
     "text": [
      "1/1 [==============================] - 0s 14ms/step\n"
     ]
    },
    {
     "name": "stderr",
     "output_type": "stream",
     "text": [
      "2024-01-26 12:22:15 WaideMBP-3.bahnhof.se root[83734] DEBUG Sell at: $90.49 | Position: -$24.48\n"
     ]
    },
    {
     "name": "stdout",
     "output_type": "stream",
     "text": [
      "1/1 [==============================] - 0s 15ms/step\n"
     ]
    },
    {
     "name": "stderr",
     "output_type": "stream",
     "text": [
      "2024-01-26 12:22:15 WaideMBP-3.bahnhof.se root[83734] DEBUG Buy at: $89.23\n"
     ]
    },
    {
     "name": "stdout",
     "output_type": "stream",
     "text": [
      "1/1 [==============================] - 0s 14ms/step\n"
     ]
    },
    {
     "name": "stderr",
     "output_type": "stream",
     "text": [
      "2024-01-26 12:22:15 WaideMBP-3.bahnhof.se root[83734] DEBUG Sell at: $91.93 | Position: -$14.63\n"
     ]
    },
    {
     "name": "stdout",
     "output_type": "stream",
     "text": [
      "1/1 [==============================] - 0s 14ms/step\n"
     ]
    },
    {
     "name": "stderr",
     "output_type": "stream",
     "text": [
      "2024-01-26 12:22:15 WaideMBP-3.bahnhof.se root[83734] DEBUG Sell at: $89.12 | Position: -$14.92\n"
     ]
    },
    {
     "name": "stdout",
     "output_type": "stream",
     "text": [
      "1/1 [==============================] - 0s 14ms/step\n"
     ]
    },
    {
     "name": "stderr",
     "output_type": "stream",
     "text": [
      "2024-01-26 12:22:15 WaideMBP-3.bahnhof.se root[83734] DEBUG Sell at: $91.61 | Position: -$16.13\n"
     ]
    },
    {
     "name": "stdout",
     "output_type": "stream",
     "text": [
      "1/1 [==============================] - 0s 15ms/step\n"
     ]
    },
    {
     "name": "stderr",
     "output_type": "stream",
     "text": [
      "2024-01-26 12:22:15 WaideMBP-3.bahnhof.se root[83734] DEBUG Buy at: $94.53\n"
     ]
    },
    {
     "name": "stdout",
     "output_type": "stream",
     "text": [
      "1/1 [==============================] - 0s 14ms/step\n"
     ]
    },
    {
     "name": "stderr",
     "output_type": "stream",
     "text": [
      "2024-01-26 12:22:15 WaideMBP-3.bahnhof.se root[83734] DEBUG Sell at: $94.79 | Position: -$4.33\n"
     ]
    },
    {
     "name": "stdout",
     "output_type": "stream",
     "text": [
      "1/1 [==============================] - 0s 18ms/step\n"
     ]
    },
    {
     "name": "stderr",
     "output_type": "stream",
     "text": [
      "2024-01-26 12:22:15 WaideMBP-3.bahnhof.se root[83734] DEBUG Sell at: $93.41 | Position: +$1.57\n"
     ]
    },
    {
     "name": "stdout",
     "output_type": "stream",
     "text": [
      "1/1 [==============================] - 0s 15ms/step\n"
     ]
    },
    {
     "name": "stderr",
     "output_type": "stream",
     "text": [
      "2024-01-26 12:22:15 WaideMBP-3.bahnhof.se root[83734] DEBUG Buy at: $98.30\n"
     ]
    },
    {
     "name": "stdout",
     "output_type": "stream",
     "text": [
      "1/1 [==============================] - 0s 14ms/step\n"
     ]
    },
    {
     "name": "stderr",
     "output_type": "stream",
     "text": [
      "2024-01-26 12:22:15 WaideMBP-3.bahnhof.se root[83734] DEBUG Buy at: $97.61\n"
     ]
    },
    {
     "name": "stdout",
     "output_type": "stream",
     "text": [
      "1/1 [==============================] - 0s 14ms/step\n"
     ]
    },
    {
     "name": "stderr",
     "output_type": "stream",
     "text": [
      "2024-01-26 12:22:15 WaideMBP-3.bahnhof.se root[83734] DEBUG Sell at: $97.93 | Position: +$3.84\n"
     ]
    },
    {
     "name": "stdout",
     "output_type": "stream",
     "text": [
      "1/1 [==============================] - 0s 14ms/step\n"
     ]
    },
    {
     "name": "stderr",
     "output_type": "stream",
     "text": [
      "2024-01-26 12:22:15 WaideMBP-3.bahnhof.se root[83734] DEBUG Sell at: $101.58 | Position: +$10.09\n"
     ]
    },
    {
     "name": "stdout",
     "output_type": "stream",
     "text": [
      "1/1 [==============================] - 0s 14ms/step\n"
     ]
    },
    {
     "name": "stderr",
     "output_type": "stream",
     "text": [
      "2024-01-26 12:22:15 WaideMBP-3.bahnhof.se root[83734] DEBUG Sell at: $95.49 | Position: +$4.75\n"
     ]
    },
    {
     "name": "stdout",
     "output_type": "stream",
     "text": [
      "1/1 [==============================] - 0s 14ms/step\n"
     ]
    },
    {
     "name": "stderr",
     "output_type": "stream",
     "text": [
      "2024-01-26 12:22:15 WaideMBP-3.bahnhof.se root[83734] DEBUG Sell at: $96.23 | Position: +$13.44\n"
     ]
    },
    {
     "name": "stdout",
     "output_type": "stream",
     "text": [
      "1/1 [==============================] - 0s 14ms/step\n"
     ]
    },
    {
     "name": "stderr",
     "output_type": "stream",
     "text": [
      "2024-01-26 12:22:15 WaideMBP-3.bahnhof.se root[83734] DEBUG Buy at: $98.00\n"
     ]
    },
    {
     "name": "stdout",
     "output_type": "stream",
     "text": [
      "1/1 [==============================] - 0s 14ms/step\n"
     ]
    },
    {
     "name": "stderr",
     "output_type": "stream",
     "text": [
      "2024-01-26 12:22:15 WaideMBP-3.bahnhof.se root[83734] DEBUG Sell at: $97.36 | Position: +$14.04\n"
     ]
    },
    {
     "name": "stdout",
     "output_type": "stream",
     "text": [
      "1/1 [==============================] - 0s 15ms/step\n"
     ]
    },
    {
     "name": "stderr",
     "output_type": "stream",
     "text": [
      "2024-01-26 12:22:15 WaideMBP-3.bahnhof.se root[83734] DEBUG Sell at: $97.66 | Position: +$11.53\n"
     ]
    },
    {
     "name": "stdout",
     "output_type": "stream",
     "text": [
      "1/1 [==============================] - 0s 15ms/step\n"
     ]
    },
    {
     "name": "stderr",
     "output_type": "stream",
     "text": [
      "2024-01-26 12:22:15 WaideMBP-3.bahnhof.se root[83734] DEBUG Sell at: $98.13 | Position: +$9.08\n"
     ]
    },
    {
     "name": "stdout",
     "output_type": "stream",
     "text": [
      "1/1 [==============================] - 0s 15ms/step\n"
     ]
    },
    {
     "name": "stderr",
     "output_type": "stream",
     "text": [
      "2024-01-26 12:22:15 WaideMBP-3.bahnhof.se root[83734] DEBUG Sell at: $97.86 | Position: +$3.10\n"
     ]
    },
    {
     "name": "stdout",
     "output_type": "stream",
     "text": [
      "1/1 [==============================] - 0s 15ms/step\n"
     ]
    },
    {
     "name": "stderr",
     "output_type": "stream",
     "text": [
      "2024-01-26 12:22:15 WaideMBP-3.bahnhof.se root[83734] DEBUG Sell at: $99.35 | Position: +$10.12\n"
     ]
    },
    {
     "name": "stdout",
     "output_type": "stream",
     "text": [
      "1/1 [==============================] - 0s 14ms/step\n"
     ]
    },
    {
     "name": "stderr",
     "output_type": "stream",
     "text": [
      "2024-01-26 12:22:15 WaideMBP-3.bahnhof.se root[83734] DEBUG Sell at: $99.72 | Position: +$5.19\n"
     ]
    },
    {
     "name": "stdout",
     "output_type": "stream",
     "text": [
      "1/1 [==============================] - 0s 14ms/step\n"
     ]
    },
    {
     "name": "stderr",
     "output_type": "stream",
     "text": [
      "2024-01-26 12:22:15 WaideMBP-3.bahnhof.se root[83734] DEBUG Sell at: $101.12 | Position: +$2.82\n"
     ]
    },
    {
     "name": "stdout",
     "output_type": "stream",
     "text": [
      "1/1 [==============================] - 0s 14ms/step\n"
     ]
    },
    {
     "name": "stderr",
     "output_type": "stream",
     "text": [
      "2024-01-26 12:22:15 WaideMBP-3.bahnhof.se root[83734] DEBUG Sell at: $101.06 | Position: +$3.45\n"
     ]
    },
    {
     "name": "stdout",
     "output_type": "stream",
     "text": [
      "1/1 [==============================] - 0s 15ms/step\n"
     ]
    },
    {
     "name": "stderr",
     "output_type": "stream",
     "text": [
      "2024-01-26 12:22:15 WaideMBP-3.bahnhof.se root[83734] DEBUG Sell at: $99.84 | Position: +$1.84\n"
     ]
    },
    {
     "name": "stdout",
     "output_type": "stream",
     "text": [
      "1/1 [==============================] - 0s 15ms/step\n"
     ]
    },
    {
     "name": "stderr",
     "output_type": "stream",
     "text": [
      "2024-01-26 12:22:15 WaideMBP-3.bahnhof.se root[83734] DEBUG Buy at: $99.59\n"
     ]
    },
    {
     "name": "stdout",
     "output_type": "stream",
     "text": [
      "1/1 [==============================] - 0s 14ms/step\n"
     ]
    },
    {
     "name": "stderr",
     "output_type": "stream",
     "text": [
      "2024-01-26 12:22:16 WaideMBP-3.bahnhof.se root[83734] DEBUG Sell at: $98.36 | Position: -$1.23\n"
     ]
    },
    {
     "name": "stdout",
     "output_type": "stream",
     "text": [
      "1/1 [==============================] - 0s 14ms/step\n",
      "1/1 [==============================] - 0s 14ms/step\n",
      "1/1 [==============================] - 0s 14ms/step\n"
     ]
    },
    {
     "name": "stderr",
     "output_type": "stream",
     "text": [
      "2024-01-26 12:22:16 WaideMBP-3.bahnhof.se root[83734] DEBUG Buy at: $102.19\n"
     ]
    },
    {
     "name": "stdout",
     "output_type": "stream",
     "text": [
      "1/1 [==============================] - 0s 14ms/step\n"
     ]
    },
    {
     "name": "stderr",
     "output_type": "stream",
     "text": [
      "2024-01-26 12:22:16 WaideMBP-3.bahnhof.se root[83734] DEBUG Buy at: $102.23\n"
     ]
    },
    {
     "name": "stdout",
     "output_type": "stream",
     "text": [
      "1/1 [==============================] - 0s 15ms/step\n"
     ]
    },
    {
     "name": "stderr",
     "output_type": "stream",
     "text": [
      "2024-01-26 12:22:16 WaideMBP-3.bahnhof.se root[83734] DEBUG Buy at: $105.70\n"
     ]
    },
    {
     "name": "stdout",
     "output_type": "stream",
     "text": [
      "1/1 [==============================] - 0s 15ms/step\n"
     ]
    },
    {
     "name": "stderr",
     "output_type": "stream",
     "text": [
      "2024-01-26 12:22:16 WaideMBP-3.bahnhof.se root[83734] DEBUG Sell at: $104.35 | Position: +$2.16\n"
     ]
    },
    {
     "name": "stdout",
     "output_type": "stream",
     "text": [
      "1/1 [==============================] - 0s 15ms/step\n"
     ]
    },
    {
     "name": "stderr",
     "output_type": "stream",
     "text": [
      "2024-01-26 12:22:16 WaideMBP-3.bahnhof.se root[83734] DEBUG Sell at: $104.94 | Position: +$2.71\n"
     ]
    },
    {
     "name": "stdout",
     "output_type": "stream",
     "text": [
      "1/1 [==============================] - 0s 15ms/step\n"
     ]
    },
    {
     "name": "stderr",
     "output_type": "stream",
     "text": [
      "2024-01-26 12:22:16 WaideMBP-3.bahnhof.se root[83734] DEBUG Sell at: $104.83 | Position: -$0.87\n"
     ]
    },
    {
     "name": "stdout",
     "output_type": "stream",
     "text": [
      "1/1 [==============================] - 0s 15ms/step\n",
      "1/1 [==============================] - 0s 14ms/step\n"
     ]
    },
    {
     "name": "stderr",
     "output_type": "stream",
     "text": [
      "2024-01-26 12:22:16 WaideMBP-3.bahnhof.se root[83734] DEBUG Buy at: $103.81\n"
     ]
    },
    {
     "name": "stdout",
     "output_type": "stream",
     "text": [
      "1/1 [==============================] - 0s 14ms/step\n"
     ]
    },
    {
     "name": "stderr",
     "output_type": "stream",
     "text": [
      "2024-01-26 12:22:16 WaideMBP-3.bahnhof.se root[83734] DEBUG Buy at: $102.68\n"
     ]
    },
    {
     "name": "stdout",
     "output_type": "stream",
     "text": [
      "1/1 [==============================] - 0s 14ms/step\n"
     ]
    },
    {
     "name": "stderr",
     "output_type": "stream",
     "text": [
      "2024-01-26 12:22:16 WaideMBP-3.bahnhof.se root[83734] DEBUG Sell at: $106.98 | Position: +$3.17\n"
     ]
    },
    {
     "name": "stdout",
     "output_type": "stream",
     "text": [
      "1/1 [==============================] - 0s 15ms/step\n"
     ]
    },
    {
     "name": "stderr",
     "output_type": "stream",
     "text": [
      "2024-01-26 12:22:16 WaideMBP-3.bahnhof.se root[83734] DEBUG Sell at: $109.65 | Position: +$6.97\n"
     ]
    },
    {
     "name": "stdout",
     "output_type": "stream",
     "text": [
      "1/1 [==============================] - 0s 14ms/step\n",
      "1/1 [==============================] - 0s 14ms/step\n",
      "1/1 [==============================] - 0s 14ms/step\n",
      "1/1 [==============================] - 0s 15ms/step\n"
     ]
    },
    {
     "name": "stderr",
     "output_type": "stream",
     "text": [
      "2024-01-26 12:22:16 WaideMBP-3.bahnhof.se root[83734] DEBUG Buy at: $94.34\n"
     ]
    },
    {
     "name": "stdout",
     "output_type": "stream",
     "text": [
      "1/1 [==============================] - 0s 15ms/step\n"
     ]
    },
    {
     "name": "stderr",
     "output_type": "stream",
     "text": [
      "2024-01-26 12:22:16 WaideMBP-3.bahnhof.se root[83734] DEBUG Sell at: $96.77 | Position: +$2.43\n"
     ]
    },
    {
     "name": "stdout",
     "output_type": "stream",
     "text": [
      "1/1 [==============================] - 0s 14ms/step\n",
      "1/1 [==============================] - 0s 14ms/step\n",
      "1/1 [==============================] - 0s 14ms/step\n"
     ]
    },
    {
     "name": "stderr",
     "output_type": "stream",
     "text": [
      "2024-01-26 12:22:16 WaideMBP-3.bahnhof.se root[83734] DEBUG Buy at: $93.56\n"
     ]
    },
    {
     "name": "stdout",
     "output_type": "stream",
     "text": [
      "1/1 [==============================] - 0s 14ms/step\n"
     ]
    },
    {
     "name": "stderr",
     "output_type": "stream",
     "text": [
      "2024-01-26 12:22:16 WaideMBP-3.bahnhof.se root[83734] DEBUG Buy at: $92.43\n"
     ]
    },
    {
     "name": "stdout",
     "output_type": "stream",
     "text": [
      "1/1 [==============================] - 0s 14ms/step\n"
     ]
    },
    {
     "name": "stderr",
     "output_type": "stream",
     "text": [
      "2024-01-26 12:22:16 WaideMBP-3.bahnhof.se root[83734] DEBUG Sell at: $91.04 | Position: -$2.52\n"
     ]
    },
    {
     "name": "stdout",
     "output_type": "stream",
     "text": [
      "1/1 [==============================] - 0s 14ms/step\n"
     ]
    },
    {
     "name": "stderr",
     "output_type": "stream",
     "text": [
      "2024-01-26 12:22:16 WaideMBP-3.bahnhof.se root[83734] DEBUG Sell at: $90.28 | Position: -$2.15\n"
     ]
    },
    {
     "name": "stdout",
     "output_type": "stream",
     "text": [
      "1/1 [==============================] - 0s 15ms/step\n"
     ]
    },
    {
     "name": "stderr",
     "output_type": "stream",
     "text": [
      "2024-01-26 12:22:17 WaideMBP-3.bahnhof.se root[83734] DEBUG Buy at: $90.03\n"
     ]
    },
    {
     "name": "stdout",
     "output_type": "stream",
     "text": [
      "1/1 [==============================] - 0s 14ms/step\n"
     ]
    },
    {
     "name": "stderr",
     "output_type": "stream",
     "text": [
      "2024-01-26 12:22:17 WaideMBP-3.bahnhof.se root[83734] DEBUG Buy at: $93.11\n"
     ]
    },
    {
     "name": "stdout",
     "output_type": "stream",
     "text": [
      "1/1 [==============================] - 0s 15ms/step\n"
     ]
    },
    {
     "name": "stderr",
     "output_type": "stream",
     "text": [
      "2024-01-26 12:22:17 WaideMBP-3.bahnhof.se root[83734] DEBUG Buy at: $91.54\n"
     ]
    },
    {
     "name": "stdout",
     "output_type": "stream",
     "text": [
      "1/1 [==============================] - 0s 15ms/step\n"
     ]
    },
    {
     "name": "stderr",
     "output_type": "stream",
     "text": [
      "2024-01-26 12:22:17 WaideMBP-3.bahnhof.se root[83734] DEBUG Sell at: $90.79 | Position: +$0.76\n"
     ]
    },
    {
     "name": "stdout",
     "output_type": "stream",
     "text": [
      "1/1 [==============================] - 0s 15ms/step\n"
     ]
    },
    {
     "name": "stderr",
     "output_type": "stream",
     "text": [
      "2024-01-26 12:22:17 WaideMBP-3.bahnhof.se root[83734] DEBUG Sell at: $89.37 | Position: -$3.74\n"
     ]
    },
    {
     "name": "stdout",
     "output_type": "stream",
     "text": [
      "1/1 [==============================] - 0s 15ms/step\n",
      "1/1 [==============================] - 0s 14ms/step\n"
     ]
    },
    {
     "name": "stderr",
     "output_type": "stream",
     "text": [
      "2024-01-26 12:22:17 WaideMBP-3.bahnhof.se root[83734] DEBUG Sell at: $90.54 | Position: -$1.00\n"
     ]
    },
    {
     "name": "stdout",
     "output_type": "stream",
     "text": [
      "1/1 [==============================] - 0s 14ms/step\n",
      "1/1 [==============================] - 0s 14ms/step\n",
      "1/1 [==============================] - 0s 14ms/step\n",
      "1/1 [==============================] - 0s 14ms/step\n",
      "1/1 [==============================] - 0s 14ms/step\n",
      "1/1 [==============================] - 0s 15ms/step\n",
      "1/1 [==============================] - 0s 15ms/step\n",
      "1/1 [==============================] - 0s 15ms/step\n"
     ]
    },
    {
     "name": "stderr",
     "output_type": "stream",
     "text": [
      "2024-01-26 12:22:17 WaideMBP-3.bahnhof.se root[83734] DEBUG Buy at: $89.55\n"
     ]
    },
    {
     "name": "stdout",
     "output_type": "stream",
     "text": [
      "1/1 [==============================] - 0s 14ms/step\n"
     ]
    },
    {
     "name": "stderr",
     "output_type": "stream",
     "text": [
      "2024-01-26 12:22:17 WaideMBP-3.bahnhof.se root[83734] DEBUG Buy at: $92.49\n"
     ]
    },
    {
     "name": "stdout",
     "output_type": "stream",
     "text": [
      "1/1 [==============================] - 0s 14ms/step\n"
     ]
    },
    {
     "name": "stderr",
     "output_type": "stream",
     "text": [
      "2024-01-26 12:22:17 WaideMBP-3.bahnhof.se root[83734] DEBUG Sell at: $94.89 | Position: +$5.34\n"
     ]
    },
    {
     "name": "stdout",
     "output_type": "stream",
     "text": [
      "1/1 [==============================] - 0s 14ms/step\n"
     ]
    },
    {
     "name": "stderr",
     "output_type": "stream",
     "text": [
      "2024-01-26 12:22:17 WaideMBP-3.bahnhof.se root[83734] DEBUG Sell at: $97.89 | Position: +$5.40\n"
     ]
    },
    {
     "name": "stdout",
     "output_type": "stream",
     "text": [
      "1/1 [==============================] - 0s 14ms/step\n",
      "1/1 [==============================] - 0s 14ms/step\n",
      "1/1 [==============================] - 0s 15ms/step\n",
      "1/1 [==============================] - 0s 15ms/step\n",
      "1/1 [==============================] - 0s 14ms/step\n",
      "1/1 [==============================] - 0s 14ms/step\n",
      "1/1 [==============================] - 0s 14ms/step\n",
      "1/1 [==============================] - 0s 14ms/step\n",
      "1/1 [==============================] - 0s 16ms/step\n",
      "1/1 [==============================] - 0s 14ms/step\n"
     ]
    },
    {
     "name": "stderr",
     "output_type": "stream",
     "text": [
      "2024-01-26 12:22:18 WaideMBP-3.bahnhof.se root[83734] DEBUG Buy at: $97.86\n"
     ]
    },
    {
     "name": "stdout",
     "output_type": "stream",
     "text": [
      "1/1 [==============================] - 0s 15ms/step\n"
     ]
    },
    {
     "name": "stderr",
     "output_type": "stream",
     "text": [
      "2024-01-26 12:22:18 WaideMBP-3.bahnhof.se root[83734] DEBUG Sell at: $97.09 | Position: -$0.77\n"
     ]
    },
    {
     "name": "stdout",
     "output_type": "stream",
     "text": [
      "1/1 [==============================] - 0s 14ms/step\n"
     ]
    },
    {
     "name": "stderr",
     "output_type": "stream",
     "text": [
      "2024-01-26 12:22:18 WaideMBP-3.bahnhof.se root[83734] DEBUG Buy at: $93.75\n"
     ]
    },
    {
     "name": "stdout",
     "output_type": "stream",
     "text": [
      "1/1 [==============================] - 0s 15ms/step\n"
     ]
    },
    {
     "name": "stderr",
     "output_type": "stream",
     "text": [
      "2024-01-26 12:22:18 WaideMBP-3.bahnhof.se root[83734] DEBUG Sell at: $93.85 | Position: +$0.10\n"
     ]
    },
    {
     "name": "stdout",
     "output_type": "stream",
     "text": [
      "1/1 [==============================] - 0s 14ms/step\n"
     ]
    },
    {
     "name": "stderr",
     "output_type": "stream",
     "text": [
      "2024-01-26 12:22:18 WaideMBP-3.bahnhof.se root[83734] DEBUG Buy at: $94.12\n"
     ]
    },
    {
     "name": "stdout",
     "output_type": "stream",
     "text": [
      "1/1 [==============================] - 0s 15ms/step\n"
     ]
    },
    {
     "name": "stderr",
     "output_type": "stream",
     "text": [
      "2024-01-26 12:22:18 WaideMBP-3.bahnhof.se root[83734] DEBUG Sell at: $94.29 | Position: +$0.17\n"
     ]
    },
    {
     "name": "stdout",
     "output_type": "stream",
     "text": [
      "1/1 [==============================] - 0s 15ms/step\n"
     ]
    },
    {
     "name": "stderr",
     "output_type": "stream",
     "text": [
      "2024-01-26 12:22:18 WaideMBP-3.bahnhof.se root[83734] DEBUG Buy at: $95.44\n"
     ]
    },
    {
     "name": "stdout",
     "output_type": "stream",
     "text": [
      "1/1 [==============================] - 0s 14ms/step\n"
     ]
    },
    {
     "name": "stderr",
     "output_type": "stream",
     "text": [
      "2024-01-26 12:22:18 WaideMBP-3.bahnhof.se root[83734] DEBUG Sell at: $94.45 | Position: -$0.99\n"
     ]
    },
    {
     "name": "stdout",
     "output_type": "stream",
     "text": [
      "1/1 [==============================] - 0s 14ms/step\n",
      "1/1 [==============================] - 0s 14ms/step\n",
      "1/1 [==============================] - 0s 15ms/step\n",
      "1/1 [==============================] - 0s 14ms/step\n",
      "1/1 [==============================] - 0s 15ms/step\n",
      "1/1 [==============================] - 0s 15ms/step\n",
      "1/1 [==============================] - 0s 14ms/step\n"
     ]
    },
    {
     "name": "stderr",
     "output_type": "stream",
     "text": [
      "2024-01-26 12:22:18 WaideMBP-3.bahnhof.se root[83734] DEBUG Buy at: $87.97\n"
     ]
    },
    {
     "name": "stdout",
     "output_type": "stream",
     "text": [
      "1/1 [==============================] - 0s 16ms/step\n"
     ]
    },
    {
     "name": "stderr",
     "output_type": "stream",
     "text": [
      "2024-01-26 12:22:18 WaideMBP-3.bahnhof.se root[83734] DEBUG Sell at: $91.06 | Position: +$3.09\n"
     ]
    },
    {
     "name": "stdout",
     "output_type": "stream",
     "text": [
      "1/1 [==============================] - 0s 15ms/step\n",
      "1/1 [==============================] - 0s 14ms/step\n",
      "1/1 [==============================] - 0s 14ms/step\n",
      "1/1 [==============================] - 0s 14ms/step\n",
      "1/1 [==============================] - 0s 14ms/step\n",
      "1/1 [==============================] - 0s 15ms/step\n",
      "1/1 [==============================] - 0s 15ms/step\n",
      "1/1 [==============================] - 0s 14ms/step\n"
     ]
    },
    {
     "name": "stderr",
     "output_type": "stream",
     "text": [
      "2024-01-26 12:22:18 WaideMBP-3.bahnhof.se root[83734] DEBUG Buy at: $95.97\n"
     ]
    },
    {
     "name": "stdout",
     "output_type": "stream",
     "text": [
      "1/1 [==============================] - 0s 14ms/step\n"
     ]
    },
    {
     "name": "stderr",
     "output_type": "stream",
     "text": [
      "2024-01-26 12:22:19 WaideMBP-3.bahnhof.se root[83734] DEBUG Sell at: $96.43 | Position: +$0.46\n"
     ]
    },
    {
     "name": "stdout",
     "output_type": "stream",
     "text": [
      "1/1 [==============================] - 0s 14ms/step\n"
     ]
    },
    {
     "name": "stderr",
     "output_type": "stream",
     "text": [
      "2024-01-26 12:22:19 WaideMBP-3.bahnhof.se root[83734] DEBUG Buy at: $98.02\n"
     ]
    },
    {
     "name": "stdout",
     "output_type": "stream",
     "text": [
      "1/1 [==============================] - 0s 15ms/step\n"
     ]
    },
    {
     "name": "stderr",
     "output_type": "stream",
     "text": [
      "2024-01-26 12:22:19 WaideMBP-3.bahnhof.se root[83734] DEBUG Sell at: $98.39 | Position: +$0.37\n"
     ]
    },
    {
     "name": "stdout",
     "output_type": "stream",
     "text": [
      "1/1 [==============================] - 0s 14ms/step\n",
      "1/1 [==============================] - 0s 14ms/step\n",
      "1/1 [==============================] - 0s 14ms/step\n",
      "1/1 [==============================] - 0s 15ms/step\n",
      "1/1 [==============================] - 0s 15ms/step\n",
      "1/1 [==============================] - 0s 15ms/step\n",
      "1/1 [==============================] - 0s 15ms/step\n",
      "1/1 [==============================] - 0s 14ms/step\n",
      "1/1 [==============================] - 0s 14ms/step\n",
      "1/1 [==============================] - 0s 14ms/step\n",
      "1/1 [==============================] - 0s 15ms/step\n",
      "1/1 [==============================] - 0s 14ms/step\n",
      "1/1 [==============================] - 0s 15ms/step\n",
      "1/1 [==============================] - 0s 14ms/step\n",
      "1/1 [==============================] - 0s 14ms/step\n",
      "1/1 [==============================] - 0s 14ms/step\n"
     ]
    },
    {
     "name": "stderr",
     "output_type": "stream",
     "text": [
      "2024-01-26 12:22:19 WaideMBP-3.bahnhof.se root[83734] DEBUG Buy at: $95.11\n"
     ]
    },
    {
     "name": "stdout",
     "output_type": "stream",
     "text": [
      "1/1 [==============================] - 0s 15ms/step\n"
     ]
    },
    {
     "name": "stderr",
     "output_type": "stream",
     "text": [
      "2024-01-26 12:22:19 WaideMBP-3.bahnhof.se root[83734] DEBUG Buy at: $93.99\n"
     ]
    },
    {
     "name": "stdout",
     "output_type": "stream",
     "text": [
      "1/1 [==============================] - 0s 15ms/step\n"
     ]
    },
    {
     "name": "stderr",
     "output_type": "stream",
     "text": [
      "2024-01-26 12:22:19 WaideMBP-3.bahnhof.se root[83734] DEBUG Buy at: $93.93\n"
     ]
    },
    {
     "name": "stdout",
     "output_type": "stream",
     "text": [
      "1/1 [==============================] - 0s 14ms/step\n"
     ]
    },
    {
     "name": "stderr",
     "output_type": "stream",
     "text": [
      "2024-01-26 12:22:19 WaideMBP-3.bahnhof.se root[83734] DEBUG Sell at: $95.89 | Position: +$0.78\n"
     ]
    },
    {
     "name": "stdout",
     "output_type": "stream",
     "text": [
      "1/1 [==============================] - 0s 14ms/step\n"
     ]
    },
    {
     "name": "stderr",
     "output_type": "stream",
     "text": [
      "2024-01-26 12:22:19 WaideMBP-3.bahnhof.se root[83734] DEBUG Sell at: $96.59 | Position: +$2.60\n"
     ]
    },
    {
     "name": "stdout",
     "output_type": "stream",
     "text": [
      "1/1 [==============================] - 0s 14ms/step\n"
     ]
    },
    {
     "name": "stderr",
     "output_type": "stream",
     "text": [
      "2024-01-26 12:22:19 WaideMBP-3.bahnhof.se root[83734] DEBUG Sell at: $95.31 | Position: +$1.38\n"
     ]
    },
    {
     "name": "stdout",
     "output_type": "stream",
     "text": [
      "1/1 [==============================] - 0s 14ms/step\n",
      "1/1 [==============================] - 0s 15ms/step\n",
      "1/1 [==============================] - 0s 14ms/step\n",
      "1/1 [==============================] - 0s 15ms/step\n",
      "1/1 [==============================] - 0s 14ms/step\n"
     ]
    },
    {
     "name": "stderr",
     "output_type": "stream",
     "text": [
      "2024-01-26 12:22:20 WaideMBP-3.bahnhof.se root[83734] DEBUG Buy at: $95.26\n"
     ]
    },
    {
     "name": "stdout",
     "output_type": "stream",
     "text": [
      "1/1 [==============================] - 0s 14ms/step\n"
     ]
    },
    {
     "name": "stderr",
     "output_type": "stream",
     "text": [
      "2024-01-26 12:22:20 WaideMBP-3.bahnhof.se root[83734] DEBUG Sell at: $95.94 | Position: +$0.68\n"
     ]
    },
    {
     "name": "stdout",
     "output_type": "stream",
     "text": [
      "1/1 [==============================] - 0s 15ms/step\n"
     ]
    },
    {
     "name": "stderr",
     "output_type": "stream",
     "text": [
      "2024-01-26 12:22:20 WaideMBP-3.bahnhof.se root[83734] DEBUG Buy at: $95.18\n"
     ]
    },
    {
     "name": "stdout",
     "output_type": "stream",
     "text": [
      "1/1 [==============================] - 0s 14ms/step\n"
     ]
    },
    {
     "name": "stderr",
     "output_type": "stream",
     "text": [
      "2024-01-26 12:22:20 WaideMBP-3.bahnhof.se root[83734] DEBUG Sell at: $97.32 | Position: +$2.14\n"
     ]
    },
    {
     "name": "stdout",
     "output_type": "stream",
     "text": [
      "1/1 [==============================] - 0s 14ms/step\n",
      "1/1 [==============================] - 0s 14ms/step\n"
     ]
    },
    {
     "name": "stderr",
     "output_type": "stream",
     "text": [
      "2024-01-26 12:22:20 WaideMBP-3.bahnhof.se root[83734] DEBUG Buy at: $97.30\n"
     ]
    },
    {
     "name": "stdout",
     "output_type": "stream",
     "text": [
      "1/1 [==============================] - 0s 14ms/step\n"
     ]
    },
    {
     "name": "stderr",
     "output_type": "stream",
     "text": [
      "2024-01-26 12:22:20 WaideMBP-3.bahnhof.se root[83734] DEBUG Sell at: $97.45 | Position: +$0.15\n"
     ]
    },
    {
     "name": "stdout",
     "output_type": "stream",
     "text": [
      "1/1 [==============================] - 0s 15ms/step\n",
      "1/1 [==============================] - 0s 14ms/step\n",
      "1/1 [==============================] - 0s 14ms/step\n",
      "1/1 [==============================] - 0s 14ms/step\n",
      "1/1 [==============================] - 0s 14ms/step\n",
      "1/1 [==============================] - 0s 14ms/step\n",
      "1/1 [==============================] - 0s 15ms/step\n",
      "1/1 [==============================] - 0s 14ms/step\n",
      "1/1 [==============================] - 0s 14ms/step\n",
      "1/1 [==============================] - 0s 15ms/step\n",
      "1/1 [==============================] - 0s 15ms/step\n",
      "1/1 [==============================] - 0s 15ms/step\n"
     ]
    },
    {
     "name": "stderr",
     "output_type": "stream",
     "text": [
      "2024-01-26 12:22:20 WaideMBP-3.bahnhof.se root[83734] DEBUG Buy at: $99.48\n"
     ]
    },
    {
     "name": "stdout",
     "output_type": "stream",
     "text": [
      "1/1 [==============================] - 0s 15ms/step\n"
     ]
    },
    {
     "name": "stderr",
     "output_type": "stream",
     "text": [
      "2024-01-26 12:22:20 WaideMBP-3.bahnhof.se root[83734] DEBUG Sell at: $98.06 | Position: -$1.42\n"
     ]
    },
    {
     "name": "stdout",
     "output_type": "stream",
     "text": [
      "1/1 [==============================] - 0s 14ms/step\n",
      "1/1 [==============================] - 0s 14ms/step\n",
      "1/1 [==============================] - 0s 14ms/step\n",
      "1/1 [==============================] - 0s 14ms/step\n",
      "1/1 [==============================] - 0s 14ms/step\n",
      "1/1 [==============================] - 0s 15ms/step\n",
      "1/1 [==============================] - 0s 15ms/step\n",
      "1/1 [==============================] - 0s 14ms/step\n",
      "1/1 [==============================] - 0s 17ms/step\n",
      "1/1 [==============================] - 0s 14ms/step\n",
      "1/1 [==============================] - 0s 14ms/step\n",
      "1/1 [==============================] - 0s 14ms/step\n",
      "1/1 [==============================] - 0s 14ms/step\n",
      "1/1 [==============================] - 0s 14ms/step\n"
     ]
    },
    {
     "name": "stderr",
     "output_type": "stream",
     "text": [
      "2024-01-26 12:22:21 WaideMBP-3.bahnhof.se root[83734] DEBUG Buy at: $104.82\n"
     ]
    },
    {
     "name": "stdout",
     "output_type": "stream",
     "text": [
      "1/1 [==============================] - 0s 14ms/step\n"
     ]
    },
    {
     "name": "stderr",
     "output_type": "stream",
     "text": [
      "2024-01-26 12:22:21 WaideMBP-3.bahnhof.se root[83734] DEBUG Buy at: $103.33\n"
     ]
    },
    {
     "name": "stdout",
     "output_type": "stream",
     "text": [
      "1/1 [==============================] - 0s 14ms/step\n"
     ]
    },
    {
     "name": "stderr",
     "output_type": "stream",
     "text": [
      "2024-01-26 12:22:21 WaideMBP-3.bahnhof.se root[83734] DEBUG Sell at: $100.59 | Position: -$4.23\n"
     ]
    },
    {
     "name": "stdout",
     "output_type": "stream",
     "text": [
      "1/1 [==============================] - 0s 14ms/step\n"
     ]
    },
    {
     "name": "stderr",
     "output_type": "stream",
     "text": [
      "2024-01-26 12:22:21 WaideMBP-3.bahnhof.se root[83734] DEBUG Buy at: $99.50\n"
     ]
    },
    {
     "name": "stdout",
     "output_type": "stream",
     "text": [
      "1/1 [==============================] - 0s 14ms/step\n"
     ]
    },
    {
     "name": "stderr",
     "output_type": "stream",
     "text": [
      "2024-01-26 12:22:21 WaideMBP-3.bahnhof.se root[83734] DEBUG Buy at: $100.23\n"
     ]
    },
    {
     "name": "stdout",
     "output_type": "stream",
     "text": [
      "1/1 [==============================] - 0s 14ms/step\n"
     ]
    },
    {
     "name": "stderr",
     "output_type": "stream",
     "text": [
      "2024-01-26 12:22:21 WaideMBP-3.bahnhof.se root[83734] DEBUG Sell at: $101.47 | Position: -$1.86\n"
     ]
    },
    {
     "name": "stdout",
     "output_type": "stream",
     "text": [
      "1/1 [==============================] - 0s 15ms/step\n"
     ]
    },
    {
     "name": "stderr",
     "output_type": "stream",
     "text": [
      "2024-01-26 12:22:21 WaideMBP-3.bahnhof.se root[83734] DEBUG Sell at: $99.80 | Position: +$0.30\n"
     ]
    },
    {
     "name": "stdout",
     "output_type": "stream",
     "text": [
      "1/1 [==============================] - 0s 14ms/step\n"
     ]
    },
    {
     "name": "stderr",
     "output_type": "stream",
     "text": [
      "2024-01-26 12:22:21 WaideMBP-3.bahnhof.se root[83734] DEBUG Sell at: $118.79 | Position: +$18.56\n"
     ]
    },
    {
     "name": "stdout",
     "output_type": "stream",
     "text": [
      "1/1 [==============================] - 0s 17ms/step\n"
     ]
    },
    {
     "name": "stderr",
     "output_type": "stream",
     "text": [
      "2024-01-26 12:22:21 WaideMBP-3.bahnhof.se root[83734] DEBUG Buy at: $121.87\n"
     ]
    },
    {
     "name": "stdout",
     "output_type": "stream",
     "text": [
      "1/1 [==============================] - 0s 14ms/step\n"
     ]
    },
    {
     "name": "stderr",
     "output_type": "stream",
     "text": [
      "2024-01-26 12:22:21 WaideMBP-3.bahnhof.se root[83734] DEBUG Buy at: $123.35\n"
     ]
    },
    {
     "name": "stdout",
     "output_type": "stream",
     "text": [
      "1/1 [==============================] - 0s 14ms/step\n"
     ]
    },
    {
     "name": "stderr",
     "output_type": "stream",
     "text": [
      "2024-01-26 12:22:21 WaideMBP-3.bahnhof.se root[83734] DEBUG Sell at: $127.50 | Position: +$5.63\n"
     ]
    },
    {
     "name": "stdout",
     "output_type": "stream",
     "text": [
      "1/1 [==============================] - 0s 15ms/step\n"
     ]
    },
    {
     "name": "stderr",
     "output_type": "stream",
     "text": [
      "2024-01-26 12:22:21 WaideMBP-3.bahnhof.se root[83734] DEBUG Sell at: $127.33 | Position: +$3.98\n"
     ]
    },
    {
     "name": "stdout",
     "output_type": "stream",
     "text": [
      "1/1 [==============================] - 0s 16ms/step\n",
      "1/1 [==============================] - 0s 14ms/step\n",
      "1/1 [==============================] - 0s 16ms/step\n",
      "1/1 [==============================] - 0s 14ms/step\n",
      "1/1 [==============================] - 0s 16ms/step\n",
      "1/1 [==============================] - 0s 14ms/step\n",
      "1/1 [==============================] - 0s 14ms/step\n",
      "1/1 [==============================] - 0s 14ms/step\n",
      "1/1 [==============================] - 0s 14ms/step\n",
      "1/1 [==============================] - 0s 14ms/step\n",
      "1/1 [==============================] - 0s 14ms/step\n",
      "1/1 [==============================] - 0s 14ms/step\n",
      "1/1 [==============================] - 0s 14ms/step\n"
     ]
    },
    {
     "name": "stderr",
     "output_type": "stream",
     "text": [
      "2024-01-26 12:22:22 WaideMBP-3.bahnhof.se root[83734] DEBUG Buy at: $115.42\n"
     ]
    },
    {
     "name": "stdout",
     "output_type": "stream",
     "text": [
      "1/1 [==============================] - 0s 14ms/step\n"
     ]
    },
    {
     "name": "stderr",
     "output_type": "stream",
     "text": [
      "2024-01-26 12:22:22 WaideMBP-3.bahnhof.se root[83734] DEBUG Sell at: $114.78 | Position: -$0.64\n"
     ]
    },
    {
     "name": "stdout",
     "output_type": "stream",
     "text": [
      "1/1 [==============================] - 0s 15ms/step\n",
      "1/1 [==============================] - 0s 14ms/step\n"
     ]
    },
    {
     "name": "stderr",
     "output_type": "stream",
     "text": [
      "2024-01-26 12:22:22 WaideMBP-3.bahnhof.se root[83734] DEBUG Buy at: $113.59\n"
     ]
    },
    {
     "name": "stdout",
     "output_type": "stream",
     "text": [
      "1/1 [==============================] - 0s 14ms/step\n"
     ]
    },
    {
     "name": "stderr",
     "output_type": "stream",
     "text": [
      "2024-01-26 12:22:22 WaideMBP-3.bahnhof.se root[83734] DEBUG Sell at: $115.19 | Position: +$1.60\n"
     ]
    },
    {
     "name": "stdout",
     "output_type": "stream",
     "text": [
      "1/1 [==============================] - 0s 14ms/step\n",
      "1/1 [==============================] - 0s 14ms/step\n",
      "1/1 [==============================] - 0s 15ms/step\n",
      "1/1 [==============================] - 0s 14ms/step\n",
      "1/1 [==============================] - 0s 14ms/step\n",
      "1/1 [==============================] - 0s 14ms/step\n",
      "1/1 [==============================] - 0s 14ms/step\n"
     ]
    },
    {
     "name": "stderr",
     "output_type": "stream",
     "text": [
      "2024-01-26 12:22:22 WaideMBP-3.bahnhof.se root[83734] DEBUG Buy at: $116.93\n"
     ]
    },
    {
     "name": "stdout",
     "output_type": "stream",
     "text": [
      "1/1 [==============================] - 0s 14ms/step\n"
     ]
    },
    {
     "name": "stderr",
     "output_type": "stream",
     "text": [
      "2024-01-26 12:22:22 WaideMBP-3.bahnhof.se root[83734] DEBUG Sell at: $117.51 | Position: +$0.58\n"
     ]
    },
    {
     "name": "stdout",
     "output_type": "stream",
     "text": [
      "1/1 [==============================] - 0s 14ms/step\n",
      "1/1 [==============================] - 0s 14ms/step\n",
      "1/1 [==============================] - 0s 14ms/step\n",
      "1/1 [==============================] - 0s 14ms/step\n",
      "1/1 [==============================] - 0s 15ms/step\n",
      "1/1 [==============================] - 0s 14ms/step\n",
      "1/1 [==============================] - 0s 14ms/step\n",
      "1/1 [==============================] - 0s 14ms/step\n"
     ]
    },
    {
     "name": "stderr",
     "output_type": "stream",
     "text": [
      "2024-01-26 12:22:23 WaideMBP-3.bahnhof.se root[83734] DEBUG Buy at: $122.88\n"
     ]
    },
    {
     "name": "stdout",
     "output_type": "stream",
     "text": [
      "1/1 [==============================] - 0s 14ms/step\n"
     ]
    },
    {
     "name": "stderr",
     "output_type": "stream",
     "text": [
      "2024-01-26 12:22:23 WaideMBP-3.bahnhof.se root[83734] DEBUG Buy at: $122.83\n"
     ]
    },
    {
     "name": "stdout",
     "output_type": "stream",
     "text": [
      "1/1 [==============================] - 0s 15ms/step\n"
     ]
    },
    {
     "name": "stderr",
     "output_type": "stream",
     "text": [
      "2024-01-26 12:22:23 WaideMBP-3.bahnhof.se root[83734] DEBUG Sell at: $123.78 | Position: +$0.90\n"
     ]
    },
    {
     "name": "stdout",
     "output_type": "stream",
     "text": [
      "1/1 [==============================] - 0s 14ms/step\n"
     ]
    },
    {
     "name": "stderr",
     "output_type": "stream",
     "text": [
      "2024-01-26 12:22:23 WaideMBP-3.bahnhof.se root[83734] DEBUG Sell at: $123.44 | Position: +$0.61\n"
     ]
    },
    {
     "name": "stdout",
     "output_type": "stream",
     "text": [
      "1/1 [==============================] - 0s 14ms/step\n",
      "1/1 [==============================] - 0s 15ms/step\n",
      "1/1 [==============================] - 0s 14ms/step\n"
     ]
    },
    {
     "name": "stderr",
     "output_type": "stream",
     "text": [
      "2024-01-26 12:22:23 WaideMBP-3.bahnhof.se root[83734] DEBUG Buy at: $125.45\n"
     ]
    },
    {
     "name": "stdout",
     "output_type": "stream",
     "text": [
      "1/1 [==============================] - 0s 14ms/step\n"
     ]
    },
    {
     "name": "stderr",
     "output_type": "stream",
     "text": [
      "2024-01-26 12:22:23 WaideMBP-3.bahnhof.se root[83734] DEBUG Sell at: $125.12 | Position: -$0.33\n"
     ]
    },
    {
     "name": "stdout",
     "output_type": "stream",
     "text": [
      "1/1 [==============================] - 0s 15ms/step\n",
      "1/1 [==============================] - 0s 14ms/step\n",
      "1/1 [==============================] - 0s 14ms/step\n"
     ]
    },
    {
     "name": "stderr",
     "output_type": "stream",
     "text": [
      "2024-01-26 12:22:23 WaideMBP-3.bahnhof.se root[83734] DEBUG Buy at: $125.59\n"
     ]
    },
    {
     "name": "stdout",
     "output_type": "stream",
     "text": [
      "1/1 [==============================] - 0s 14ms/step\n"
     ]
    },
    {
     "name": "stderr",
     "output_type": "stream",
     "text": [
      "2024-01-26 12:22:23 WaideMBP-3.bahnhof.se root[83734] DEBUG Sell at: $128.35 | Position: +$2.76\n"
     ]
    },
    {
     "name": "stdout",
     "output_type": "stream",
     "text": [
      "1/1 [==============================] - 0s 14ms/step\n",
      "1/1 [==============================] - 0s 14ms/step\n",
      "1/1 [==============================] - 0s 14ms/step\n",
      "1/1 [==============================] - 0s 14ms/step\n",
      "1/1 [==============================] - 0s 16ms/step\n",
      "1/1 [==============================] - 0s 14ms/step\n",
      "1/1 [==============================] - 0s 14ms/step\n",
      "1/1 [==============================] - 0s 14ms/step\n",
      "1/1 [==============================] - 0s 14ms/step\n"
     ]
    },
    {
     "name": "stderr",
     "output_type": "stream",
     "text": [
      "2024-01-26 12:22:23 WaideMBP-3.bahnhof.se root[83734] DEBUG Buy at: $129.89\n"
     ]
    },
    {
     "name": "stdout",
     "output_type": "stream",
     "text": [
      "1/1 [==============================] - 0s 14ms/step\n"
     ]
    },
    {
     "name": "stderr",
     "output_type": "stream",
     "text": [
      "2024-01-26 12:22:24 WaideMBP-3.bahnhof.se root[83734] DEBUG Sell at: $130.50 | Position: +$0.61\n"
     ]
    },
    {
     "name": "stdout",
     "output_type": "stream",
     "text": [
      "1/1 [==============================] - 0s 14ms/step\n",
      "1/1 [==============================] - 0s 14ms/step\n",
      "1/1 [==============================] - 0s 15ms/step\n",
      "1/1 [==============================] - 0s 14ms/step\n",
      "1/1 [==============================] - 0s 14ms/step\n",
      "1/1 [==============================] - 0s 14ms/step\n",
      "1/1 [==============================] - 0s 14ms/step\n"
     ]
    },
    {
     "name": "stderr",
     "output_type": "stream",
     "text": [
      "2024-01-26 12:22:24 WaideMBP-3.bahnhof.se root[83734] DEBUG Buy at: $137.39\n"
     ]
    },
    {
     "name": "stdout",
     "output_type": "stream",
     "text": [
      "1/1 [==============================] - 0s 14ms/step\n"
     ]
    },
    {
     "name": "stderr",
     "output_type": "stream",
     "text": [
      "2024-01-26 12:22:24 WaideMBP-3.bahnhof.se root[83734] DEBUG Sell at: $140.11 | Position: +$2.72\n"
     ]
    },
    {
     "name": "stdout",
     "output_type": "stream",
     "text": [
      "1/1 [==============================] - 0s 15ms/step\n",
      "1/1 [==============================] - 0s 14ms/step\n",
      "1/1 [==============================] - 0s 14ms/step\n"
     ]
    },
    {
     "name": "stderr",
     "output_type": "stream",
     "text": [
      "2024-01-26 12:22:24 WaideMBP-3.bahnhof.se root[83734] DEBUG Buy at: $142.45\n"
     ]
    },
    {
     "name": "stdout",
     "output_type": "stream",
     "text": [
      "1/1 [==============================] - 0s 14ms/step\n"
     ]
    },
    {
     "name": "stderr",
     "output_type": "stream",
     "text": [
      "2024-01-26 12:22:24 WaideMBP-3.bahnhof.se root[83734] DEBUG Sell at: $141.22 | Position: -$1.23\n"
     ]
    },
    {
     "name": "stdout",
     "output_type": "stream",
     "text": [
      "1/1 [==============================] - 0s 14ms/step\n",
      "1/1 [==============================] - 0s 14ms/step\n",
      "1/1 [==============================] - 0s 14ms/step\n",
      "1/1 [==============================] - 0s 15ms/step\n",
      "1/1 [==============================] - 0s 13ms/step\n"
     ]
    },
    {
     "name": "stderr",
     "output_type": "stream",
     "text": [
      "2024-01-26 12:22:24 WaideMBP-3.bahnhof.se root[83734] DEBUG Buy at: $140.97\n"
     ]
    },
    {
     "name": "stdout",
     "output_type": "stream",
     "text": [
      "1/1 [==============================] - 0s 14ms/step\n"
     ]
    },
    {
     "name": "stderr",
     "output_type": "stream",
     "text": [
      "2024-01-26 12:22:24 WaideMBP-3.bahnhof.se root[83734] DEBUG Sell at: $144.00 | Position: +$3.03\n"
     ]
    },
    {
     "name": "stdout",
     "output_type": "stream",
     "text": [
      "1/1 [==============================] - 0s 14ms/step\n",
      "1/1 [==============================] - 0s 14ms/step\n",
      "1/1 [==============================] - 0s 14ms/step\n"
     ]
    },
    {
     "name": "stderr",
     "output_type": "stream",
     "text": [
      "2024-01-26 12:22:24 WaideMBP-3.bahnhof.se root[83734] DEBUG Buy at: $144.82\n"
     ]
    },
    {
     "name": "stdout",
     "output_type": "stream",
     "text": [
      "1/1 [==============================] - 0s 14ms/step\n"
     ]
    },
    {
     "name": "stderr",
     "output_type": "stream",
     "text": [
      "2024-01-26 12:22:24 WaideMBP-3.bahnhof.se root[83734] DEBUG Sell at: $143.20 | Position: -$1.62\n"
     ]
    },
    {
     "name": "stdout",
     "output_type": "stream",
     "text": [
      "1/1 [==============================] - 0s 14ms/step\n"
     ]
    },
    {
     "name": "stderr",
     "output_type": "stream",
     "text": [
      "2024-01-26 12:22:24 WaideMBP-3.bahnhof.se root[83734] DEBUG Buy at: $140.82\n"
     ]
    },
    {
     "name": "stdout",
     "output_type": "stream",
     "text": [
      "1/1 [==============================] - 0s 14ms/step\n"
     ]
    },
    {
     "name": "stderr",
     "output_type": "stream",
     "text": [
      "2024-01-26 12:22:24 WaideMBP-3.bahnhof.se root[83734] DEBUG Sell at: $142.27 | Position: +$1.45\n"
     ]
    },
    {
     "name": "stdout",
     "output_type": "stream",
     "text": [
      "1/1 [==============================] - 0s 14ms/step\n",
      "1/1 [==============================] - 0s 14ms/step\n",
      "1/1 [==============================] - 0s 14ms/step\n",
      "1/1 [==============================] - 0s 14ms/step\n",
      "1/1 [==============================] - 0s 14ms/step\n",
      "1/1 [==============================] - 0s 14ms/step\n"
     ]
    },
    {
     "name": "stderr",
     "output_type": "stream",
     "text": [
      "2024-01-26 12:22:25 WaideMBP-3.bahnhof.se root[83734] DEBUG Buy at: $143.25\n"
     ]
    },
    {
     "name": "stdout",
     "output_type": "stream",
     "text": [
      "1/1 [==============================] - 0s 14ms/step\n"
     ]
    },
    {
     "name": "stderr",
     "output_type": "stream",
     "text": [
      "2024-01-26 12:22:25 WaideMBP-3.bahnhof.se root[83734] DEBUG Sell at: $143.41 | Position: +$0.16\n"
     ]
    },
    {
     "name": "stdout",
     "output_type": "stream",
     "text": [
      "1/1 [==============================] - 0s 14ms/step\n"
     ]
    },
    {
     "name": "stderr",
     "output_type": "stream",
     "text": [
      "2024-01-26 12:22:25 WaideMBP-3.bahnhof.se root[83734] DEBUG Buy at: $142.13\n"
     ]
    },
    {
     "name": "stdout",
     "output_type": "stream",
     "text": [
      "1/1 [==============================] - 0s 14ms/step\n"
     ]
    },
    {
     "name": "stderr",
     "output_type": "stream",
     "text": [
      "2024-01-26 12:22:25 WaideMBP-3.bahnhof.se root[83734] DEBUG Sell at: $142.65 | Position: +$0.52\n"
     ]
    },
    {
     "name": "stdout",
     "output_type": "stream",
     "text": [
      "1/1 [==============================] - 0s 14ms/step\n",
      "1/1 [==============================] - 0s 14ms/step\n",
      "1/1 [==============================] - 0s 14ms/step\n",
      "1/1 [==============================] - 0s 14ms/step\n"
     ]
    },
    {
     "name": "stderr",
     "output_type": "stream",
     "text": [
      "2024-01-26 12:22:25 WaideMBP-3.bahnhof.se root[83734] DEBUG Buy at: $141.43\n"
     ]
    },
    {
     "name": "stdout",
     "output_type": "stream",
     "text": [
      "1/1 [==============================] - 0s 14ms/step\n"
     ]
    },
    {
     "name": "stderr",
     "output_type": "stream",
     "text": [
      "2024-01-26 12:22:25 WaideMBP-3.bahnhof.se root[83734] DEBUG Sell at: $140.32 | Position: -$1.11\n"
     ]
    },
    {
     "name": "stdout",
     "output_type": "stream",
     "text": [
      "1/1 [==============================] - 0s 14ms/step\n",
      "1/1 [==============================] - 0s 14ms/step\n",
      "1/1 [==============================] - 0s 14ms/step\n",
      "1/1 [==============================] - 0s 14ms/step\n",
      "1/1 [==============================] - 0s 14ms/step\n",
      "1/1 [==============================] - 0s 14ms/step\n",
      "1/1 [==============================] - 0s 14ms/step\n",
      "1/1 [==============================] - 0s 14ms/step\n"
     ]
    },
    {
     "name": "stderr",
     "output_type": "stream",
     "text": [
      "2024-01-26 12:22:25 WaideMBP-3.bahnhof.se root[83734] DEBUG Buy at: $145.83\n"
     ]
    },
    {
     "name": "stdout",
     "output_type": "stream",
     "text": [
      "1/1 [==============================] - 0s 14ms/step\n"
     ]
    },
    {
     "name": "stderr",
     "output_type": "stream",
     "text": [
      "2024-01-26 12:22:25 WaideMBP-3.bahnhof.se root[83734] DEBUG Sell at: $142.42 | Position: -$3.41\n"
     ]
    },
    {
     "name": "stdout",
     "output_type": "stream",
     "text": [
      "1/1 [==============================] - 0s 16ms/step\n",
      "1/1 [==============================] - 0s 14ms/step\n",
      "1/1 [==============================] - 0s 14ms/step\n",
      "1/1 [==============================] - 0s 14ms/step\n"
     ]
    },
    {
     "name": "stderr",
     "output_type": "stream",
     "text": [
      "2024-01-26 12:22:26 WaideMBP-3.bahnhof.se root[83734] DEBUG Buy at: $144.06\n"
     ]
    },
    {
     "name": "stdout",
     "output_type": "stream",
     "text": [
      "1/1 [==============================] - 0s 14ms/step\n"
     ]
    },
    {
     "name": "stderr",
     "output_type": "stream",
     "text": [
      "2024-01-26 12:22:26 WaideMBP-3.bahnhof.se root[83734] DEBUG Sell at: $145.17 | Position: +$1.11\n"
     ]
    },
    {
     "name": "stdout",
     "output_type": "stream",
     "text": [
      "1/1 [==============================] - 0s 14ms/step\n"
     ]
    },
    {
     "name": "stderr",
     "output_type": "stream",
     "text": [
      "2024-01-26 12:22:26 WaideMBP-3.bahnhof.se root[83734] DEBUG Buy at: $146.47\n"
     ]
    },
    {
     "name": "stdout",
     "output_type": "stream",
     "text": [
      "1/1 [==============================] - 0s 14ms/step\n"
     ]
    },
    {
     "name": "stderr",
     "output_type": "stream",
     "text": [
      "2024-01-26 12:22:26 WaideMBP-3.bahnhof.se root[83734] DEBUG Sell at: $148.06 | Position: +$1.59\n"
     ]
    },
    {
     "name": "stdout",
     "output_type": "stream",
     "text": [
      "1/1 [==============================] - 0s 14ms/step\n",
      "1/1 [==============================] - 0s 14ms/step\n"
     ]
    },
    {
     "name": "stderr",
     "output_type": "stream",
     "text": [
      "2024-01-26 12:22:26 WaideMBP-3.bahnhof.se root[83734] DEBUG Buy at: $146.92\n"
     ]
    },
    {
     "name": "stdout",
     "output_type": "stream",
     "text": [
      "1/1 [==============================] - 0s 14ms/step\n"
     ]
    },
    {
     "name": "stderr",
     "output_type": "stream",
     "text": [
      "2024-01-26 12:22:26 WaideMBP-3.bahnhof.se root[83734] DEBUG Sell at: $145.50 | Position: -$1.42\n"
     ]
    },
    {
     "name": "stdout",
     "output_type": "stream",
     "text": [
      "1/1 [==============================] - 0s 14ms/step\n",
      "1/1 [==============================] - 0s 14ms/step\n",
      "1/1 [==============================] - 0s 14ms/step\n",
      "1/1 [==============================] - 0s 14ms/step\n",
      "1/1 [==============================] - 0s 14ms/step\n",
      "1/1 [==============================] - 0s 14ms/step\n",
      "1/1 [==============================] - 0s 14ms/step\n",
      "1/1 [==============================] - 0s 14ms/step\n",
      "1/1 [==============================] - 0s 14ms/step\n",
      "1/1 [==============================] - 0s 14ms/step\n"
     ]
    },
    {
     "name": "stderr",
     "output_type": "stream",
     "text": [
      "2024-01-26 12:22:26 WaideMBP-3.bahnhof.se root[83734] DEBUG Buy at: $139.76\n"
     ]
    },
    {
     "name": "stdout",
     "output_type": "stream",
     "text": [
      "1/1 [==============================] - 0s 14ms/step\n"
     ]
    },
    {
     "name": "stderr",
     "output_type": "stream",
     "text": [
      "2024-01-26 12:22:26 WaideMBP-3.bahnhof.se root[83734] DEBUG Buy at: $141.18\n"
     ]
    },
    {
     "name": "stdout",
     "output_type": "stream",
     "text": [
      "1/1 [==============================] - 0s 14ms/step\n"
     ]
    },
    {
     "name": "stderr",
     "output_type": "stream",
     "text": [
      "2024-01-26 12:22:26 WaideMBP-3.bahnhof.se root[83734] DEBUG Sell at: $142.87 | Position: +$3.11\n"
     ]
    },
    {
     "name": "stdout",
     "output_type": "stream",
     "text": [
      "1/1 [==============================] - 0s 14ms/step\n"
     ]
    },
    {
     "name": "stderr",
     "output_type": "stream",
     "text": [
      "2024-01-26 12:22:26 WaideMBP-3.bahnhof.se root[83734] DEBUG Sell at: $143.83 | Position: +$2.65\n"
     ]
    },
    {
     "name": "stdout",
     "output_type": "stream",
     "text": [
      "1/1 [==============================] - 0s 14ms/step\n",
      "1/1 [==============================] - 0s 14ms/step\n",
      "1/1 [==============================] - 0s 14ms/step\n"
     ]
    },
    {
     "name": "stderr",
     "output_type": "stream",
     "text": [
      "2024-01-26 12:22:26 WaideMBP-3.bahnhof.se root[83734] DEBUG Buy at: $153.08\n"
     ]
    },
    {
     "name": "stdout",
     "output_type": "stream",
     "text": [
      "1/1 [==============================] - 0s 14ms/step\n",
      "1/1 [==============================] - 0s 14ms/step\n"
     ]
    },
    {
     "name": "stderr",
     "output_type": "stream",
     "text": [
      "2024-01-26 12:22:26 WaideMBP-3.bahnhof.se root[83734] DEBUG Sell at: $155.35 | Position: +$2.27\n"
     ]
    },
    {
     "name": "stdout",
     "output_type": "stream",
     "text": [
      "1/1 [==============================] - 0s 14ms/step\n",
      "1/1 [==============================] - 0s 14ms/step\n",
      "1/1 [==============================] - 0s 14ms/step\n",
      "1/1 [==============================] - 0s 14ms/step\n",
      "1/1 [==============================] - 0s 14ms/step\n"
     ]
    },
    {
     "name": "stderr",
     "output_type": "stream",
     "text": [
      "2024-01-26 12:22:27 WaideMBP-3.bahnhof.se root[83734] DEBUG Buy at: $156.38\n"
     ]
    },
    {
     "name": "stdout",
     "output_type": "stream",
     "text": [
      "1/1 [==============================] - 0s 14ms/step\n"
     ]
    },
    {
     "name": "stderr",
     "output_type": "stream",
     "text": [
      "2024-01-26 12:22:27 WaideMBP-3.bahnhof.se root[83734] DEBUG Sell at: $157.46 | Position: +$1.08\n"
     ]
    },
    {
     "name": "stdout",
     "output_type": "stream",
     "text": [
      "1/1 [==============================] - 0s 14ms/step\n",
      "1/1 [==============================] - 0s 14ms/step\n",
      "1/1 [==============================] - 0s 14ms/step\n",
      "1/1 [==============================] - 0s 14ms/step\n",
      "1/1 [==============================] - 0s 14ms/step\n",
      "1/1 [==============================] - 0s 14ms/step\n"
     ]
    },
    {
     "name": "stderr",
     "output_type": "stream",
     "text": [
      "2024-01-26 12:22:27 WaideMBP-3.bahnhof.se root[83734] DEBUG Buy at: $153.20\n"
     ]
    },
    {
     "name": "stdout",
     "output_type": "stream",
     "text": [
      "1/1 [==============================] - 0s 14ms/step\n"
     ]
    },
    {
     "name": "stderr",
     "output_type": "stream",
     "text": [
      "2024-01-26 12:22:27 WaideMBP-3.bahnhof.se root[83734] DEBUG Sell at: $155.70 | Position: +$2.50\n"
     ]
    },
    {
     "name": "stdout",
     "output_type": "stream",
     "text": [
      "1/1 [==============================] - 0s 14ms/step\n",
      "1/1 [==============================] - 0s 14ms/step\n",
      "1/1 [==============================] - 0s 14ms/step\n",
      "1/1 [==============================] - 0s 14ms/step\n"
     ]
    },
    {
     "name": "stderr",
     "output_type": "stream",
     "text": [
      "2024-01-26 12:22:27 WaideMBP-3.bahnhof.se root[83734] DEBUG Buy at: $157.75\n"
     ]
    },
    {
     "name": "stdout",
     "output_type": "stream",
     "text": [
      "1/1 [==============================] - 0s 14ms/step\n"
     ]
    },
    {
     "name": "stderr",
     "output_type": "stream",
     "text": [
      "2024-01-26 12:22:27 WaideMBP-3.bahnhof.se root[83734] DEBUG Sell at: $163.05 | Position: +$5.30\n"
     ]
    },
    {
     "name": "stdout",
     "output_type": "stream",
     "text": [
      "1/1 [==============================] - 0s 14ms/step\n",
      "1/1 [==============================] - 0s 14ms/step\n",
      "1/1 [==============================] - 0s 14ms/step\n",
      "1/1 [==============================] - 0s 14ms/step\n",
      "1/1 [==============================] - 0s 14ms/step\n",
      "1/1 [==============================] - 0s 14ms/step\n",
      "1/1 [==============================] - 0s 15ms/step\n"
     ]
    },
    {
     "name": "stderr",
     "output_type": "stream",
     "text": [
      "2024-01-26 12:22:27 WaideMBP-3.bahnhof.se root[83734] DEBUG Buy at: $165.17\n"
     ]
    },
    {
     "name": "stdout",
     "output_type": "stream",
     "text": [
      "1/1 [==============================] - 0s 14ms/step\n"
     ]
    },
    {
     "name": "stderr",
     "output_type": "stream",
     "text": [
      "2024-01-26 12:22:27 WaideMBP-3.bahnhof.se root[83734] DEBUG Sell at: $165.61 | Position: +$0.44\n"
     ]
    },
    {
     "name": "stdout",
     "output_type": "stream",
     "text": [
      "1/1 [==============================] - 0s 14ms/step\n",
      "1/1 [==============================] - 0s 14ms/step\n",
      "1/1 [==============================] - 0s 14ms/step\n"
     ]
    },
    {
     "name": "stderr",
     "output_type": "stream",
     "text": [
      "2024-01-26 12:22:28 WaideMBP-3.bahnhof.se root[83734] DEBUG Buy at: $151.44\n"
     ]
    },
    {
     "name": "stdout",
     "output_type": "stream",
     "text": [
      "1/1 [==============================] - 0s 14ms/step\n"
     ]
    },
    {
     "name": "stderr",
     "output_type": "stream",
     "text": [
      "2024-01-26 12:22:28 WaideMBP-3.bahnhof.se root[83734] DEBUG Sell at: $152.72 | Position: +$1.28\n"
     ]
    },
    {
     "name": "stdout",
     "output_type": "stream",
     "text": [
      "1/1 [==============================] - 0s 14ms/step\n"
     ]
    },
    {
     "name": "stderr",
     "output_type": "stream",
     "text": [
      "2024-01-26 12:22:28 WaideMBP-3.bahnhof.se root[83734] DEBUG Buy at: $152.20\n"
     ]
    },
    {
     "name": "stdout",
     "output_type": "stream",
     "text": [
      "1/1 [==============================] - 0s 15ms/step\n"
     ]
    },
    {
     "name": "stderr",
     "output_type": "stream",
     "text": [
      "2024-01-26 12:22:28 WaideMBP-3.bahnhof.se root[83734] DEBUG Buy at: $151.76\n"
     ]
    },
    {
     "name": "stdout",
     "output_type": "stream",
     "text": [
      "1/1 [==============================] - 0s 14ms/step\n"
     ]
    },
    {
     "name": "stderr",
     "output_type": "stream",
     "text": [
      "2024-01-26 12:22:28 WaideMBP-3.bahnhof.se root[83734] DEBUG Sell at: $152.38 | Position: +$0.18\n"
     ]
    },
    {
     "name": "stdout",
     "output_type": "stream",
     "text": [
      "1/1 [==============================] - 0s 14ms/step\n"
     ]
    },
    {
     "name": "stderr",
     "output_type": "stream",
     "text": [
      "2024-01-26 12:22:28 WaideMBP-3.bahnhof.se root[83734] DEBUG Sell at: $153.40 | Position: +$1.64\n"
     ]
    },
    {
     "name": "stdout",
     "output_type": "stream",
     "text": [
      "1/1 [==============================] - 0s 14ms/step\n",
      "1/1 [==============================] - 0s 14ms/step\n",
      "1/1 [==============================] - 0s 14ms/step\n",
      "1/1 [==============================] - 0s 14ms/step\n"
     ]
    },
    {
     "name": "stderr",
     "output_type": "stream",
     "text": [
      "2024-01-26 12:22:28 WaideMBP-3.bahnhof.se root[83734] DEBUG Buy at: $158.02\n"
     ]
    },
    {
     "name": "stdout",
     "output_type": "stream",
     "text": [
      "1/1 [==============================] - 0s 14ms/step\n"
     ]
    },
    {
     "name": "stderr",
     "output_type": "stream",
     "text": [
      "2024-01-26 12:22:28 WaideMBP-3.bahnhof.se root[83734] DEBUG Sell at: $157.50 | Position: -$0.52\n"
     ]
    },
    {
     "name": "stdout",
     "output_type": "stream",
     "text": [
      "1/1 [==============================] - 0s 14ms/step\n",
      "1/1 [==============================] - 0s 14ms/step\n",
      "1/1 [==============================] - 0s 14ms/step\n",
      "1/1 [==============================] - 0s 14ms/step\n",
      "1/1 [==============================] - 0s 14ms/step\n",
      "1/1 [==============================] - 0s 14ms/step\n"
     ]
    },
    {
     "name": "stderr",
     "output_type": "stream",
     "text": [
      "2024-01-26 12:22:28 WaideMBP-3.bahnhof.se root[83734] DEBUG Buy at: $147.61\n"
     ]
    },
    {
     "name": "stdout",
     "output_type": "stream",
     "text": [
      "1/1 [==============================] - 0s 14ms/step\n"
     ]
    },
    {
     "name": "stderr",
     "output_type": "stream",
     "text": [
      "2024-01-26 12:22:28 WaideMBP-3.bahnhof.se root[83734] DEBUG Sell at: $146.25 | Position: -$1.36\n"
     ]
    },
    {
     "name": "stdout",
     "output_type": "stream",
     "text": [
      "1/1 [==============================] - 0s 15ms/step\n"
     ]
    },
    {
     "name": "stderr",
     "output_type": "stream",
     "text": [
      "2024-01-26 12:22:28 WaideMBP-3.bahnhof.se root[83734] DEBUG Buy at: $150.18\n"
     ]
    },
    {
     "name": "stdout",
     "output_type": "stream",
     "text": [
      "1/1 [==============================] - 0s 14ms/step\n"
     ]
    },
    {
     "name": "stderr",
     "output_type": "stream",
     "text": [
      "2024-01-26 12:22:28 WaideMBP-3.bahnhof.se root[83734] DEBUG Buy at: $152.67\n"
     ]
    },
    {
     "name": "stdout",
     "output_type": "stream",
     "text": [
      "1/1 [==============================] - 0s 14ms/step\n"
     ]
    },
    {
     "name": "stderr",
     "output_type": "stream",
     "text": [
      "2024-01-26 12:22:28 WaideMBP-3.bahnhof.se root[83734] DEBUG Sell at: $154.33 | Position: +$4.15\n"
     ]
    },
    {
     "name": "stdout",
     "output_type": "stream",
     "text": [
      "1/1 [==============================] - 0s 14ms/step\n"
     ]
    },
    {
     "name": "stderr",
     "output_type": "stream",
     "text": [
      "2024-01-26 12:22:28 WaideMBP-3.bahnhof.se root[83734] DEBUG Sell at: $158.75 | Position: +$6.08\n"
     ]
    },
    {
     "name": "stdout",
     "output_type": "stream",
     "text": [
      "1/1 [==============================] - 0s 15ms/step\n",
      "1/1 [==============================] - 0s 14ms/step\n",
      "1/1 [==============================] - 0s 14ms/step\n",
      "1/1 [==============================] - 0s 14ms/step\n",
      "1/1 [==============================] - 0s 14ms/step\n",
      "1/1 [==============================] - 0s 14ms/step\n",
      "1/1 [==============================] - 0s 14ms/step\n",
      "1/1 [==============================] - 0s 14ms/step\n",
      "1/1 [==============================] - 0s 14ms/step\n"
     ]
    },
    {
     "name": "stderr",
     "output_type": "stream",
     "text": [
      "2024-01-26 12:22:29 WaideMBP-3.bahnhof.se root[83734] DEBUG Buy at: $186.97\n"
     ]
    },
    {
     "name": "stdout",
     "output_type": "stream",
     "text": [
      "1/1 [==============================] - 0s 16ms/step\n"
     ]
    },
    {
     "name": "stderr",
     "output_type": "stream",
     "text": [
      "2024-01-26 12:22:29 WaideMBP-3.bahnhof.se root[83734] DEBUG Sell at: $189.08 | Position: +$2.11\n"
     ]
    },
    {
     "name": "stdout",
     "output_type": "stream",
     "text": [
      "1/1 [==============================] - 0s 16ms/step\n",
      "1/1 [==============================] - 0s 14ms/step\n",
      "1/1 [==============================] - 0s 14ms/step\n",
      "1/1 [==============================] - 0s 14ms/step\n"
     ]
    },
    {
     "name": "stderr",
     "output_type": "stream",
     "text": [
      "2024-01-26 12:22:29 WaideMBP-3.bahnhof.se root[83734] DEBUG Buy at: $182.03\n"
     ]
    },
    {
     "name": "stdout",
     "output_type": "stream",
     "text": [
      "1/1 [==============================] - 0s 14ms/step\n"
     ]
    },
    {
     "name": "stderr",
     "output_type": "stream",
     "text": [
      "2024-01-26 12:22:29 WaideMBP-3.bahnhof.se root[83734] DEBUG Sell at: $180.74 | Position: -$1.29\n"
     ]
    },
    {
     "name": "stdout",
     "output_type": "stream",
     "text": [
      "1/1 [==============================] - 0s 15ms/step\n"
     ]
    },
    {
     "name": "stderr",
     "output_type": "stream",
     "text": [
      "2024-01-26 12:22:29 WaideMBP-3.bahnhof.se root[83734] DEBUG Buy at: $179.23\n"
     ]
    },
    {
     "name": "stdout",
     "output_type": "stream",
     "text": [
      "1/1 [==============================] - 0s 14ms/step\n"
     ]
    },
    {
     "name": "stderr",
     "output_type": "stream",
     "text": [
      "2024-01-26 12:22:29 WaideMBP-3.bahnhof.se root[83734] DEBUG Sell at: $180.27 | Position: +$1.04\n"
     ]
    },
    {
     "name": "stdout",
     "output_type": "stream",
     "text": [
      "1/1 [==============================] - 0s 14ms/step\n",
      "1/1 [==============================] - 0s 14ms/step\n"
     ]
    },
    {
     "name": "stderr",
     "output_type": "stream",
     "text": [
      "2024-01-26 12:22:29 WaideMBP-3.bahnhof.se root[83734] DEBUG Buy at: $178.36\n"
     ]
    },
    {
     "name": "stdout",
     "output_type": "stream",
     "text": [
      "1/1 [==============================] - 0s 14ms/step\n"
     ]
    },
    {
     "name": "stderr",
     "output_type": "stream",
     "text": [
      "2024-01-26 12:22:29 WaideMBP-3.bahnhof.se root[83734] DEBUG Buy at: $175.78\n"
     ]
    },
    {
     "name": "stdout",
     "output_type": "stream",
     "text": [
      "1/1 [==============================] - 0s 14ms/step\n"
     ]
    },
    {
     "name": "stderr",
     "output_type": "stream",
     "text": [
      "2024-01-26 12:22:29 WaideMBP-3.bahnhof.se root[83734] DEBUG Buy at: $169.14\n"
     ]
    },
    {
     "name": "stdout",
     "output_type": "stream",
     "text": [
      "1/1 [==============================] - 0s 14ms/step\n",
      "1/1 [==============================] - 0s 15ms/step\n"
     ]
    },
    {
     "name": "stderr",
     "output_type": "stream",
     "text": [
      "2024-01-26 12:22:30 WaideMBP-3.bahnhof.se root[83734] DEBUG Buy at: $171.00\n"
     ]
    },
    {
     "name": "stdout",
     "output_type": "stream",
     "text": [
      "1/1 [==============================] - 0s 14ms/step\n"
     ]
    },
    {
     "name": "stderr",
     "output_type": "stream",
     "text": [
      "2024-01-26 12:22:30 WaideMBP-3.bahnhof.se root[83734] DEBUG Buy at: $168.50\n"
     ]
    },
    {
     "name": "stdout",
     "output_type": "stream",
     "text": [
      "1/1 [==============================] - 0s 14ms/step\n"
     ]
    },
    {
     "name": "stderr",
     "output_type": "stream",
     "text": [
      "2024-01-26 12:22:30 WaideMBP-3.bahnhof.se root[83734] DEBUG Sell at: $169.98 | Position: -$8.38\n"
     ]
    },
    {
     "name": "stdout",
     "output_type": "stream",
     "text": [
      "1/1 [==============================] - 0s 15ms/step\n"
     ]
    },
    {
     "name": "stderr",
     "output_type": "stream",
     "text": [
      "2024-01-26 12:22:30 WaideMBP-3.bahnhof.se root[83734] DEBUG Buy at: $166.09\n"
     ]
    },
    {
     "name": "stdout",
     "output_type": "stream",
     "text": [
      "1/1 [==============================] - 0s 14ms/step\n"
     ]
    },
    {
     "name": "stderr",
     "output_type": "stream",
     "text": [
      "2024-01-26 12:22:30 WaideMBP-3.bahnhof.se root[83734] DEBUG Buy at: $166.54\n"
     ]
    },
    {
     "name": "stdout",
     "output_type": "stream",
     "text": [
      "1/1 [==============================] - 0s 16ms/step\n"
     ]
    },
    {
     "name": "stderr",
     "output_type": "stream",
     "text": [
      "2024-01-26 12:22:30 WaideMBP-3.bahnhof.se root[83734] DEBUG Buy at: $166.76\n"
     ]
    },
    {
     "name": "stdout",
     "output_type": "stream",
     "text": [
      "1/1 [==============================] - 0s 15ms/step\n"
     ]
    },
    {
     "name": "stderr",
     "output_type": "stream",
     "text": [
      "2024-01-26 12:22:30 WaideMBP-3.bahnhof.se root[83734] DEBUG Buy at: $169.34\n"
     ]
    },
    {
     "name": "stdout",
     "output_type": "stream",
     "text": [
      "1/1 [==============================] - 0s 15ms/step\n"
     ]
    },
    {
     "name": "stderr",
     "output_type": "stream",
     "text": [
      "2024-01-26 12:22:30 WaideMBP-3.bahnhof.se root[83734] DEBUG Sell at: $169.06 | Position: -$6.72\n"
     ]
    },
    {
     "name": "stdout",
     "output_type": "stream",
     "text": [
      "1/1 [==============================] - 0s 14ms/step\n"
     ]
    },
    {
     "name": "stderr",
     "output_type": "stream",
     "text": [
      "2024-01-26 12:22:30 WaideMBP-3.bahnhof.se root[83734] DEBUG Sell at: $168.13 | Position: -$1.01\n"
     ]
    },
    {
     "name": "stdout",
     "output_type": "stream",
     "text": [
      "1/1 [==============================] - 0s 15ms/step\n"
     ]
    },
    {
     "name": "stderr",
     "output_type": "stream",
     "text": [
      "2024-01-26 12:22:30 WaideMBP-3.bahnhof.se root[83734] DEBUG Sell at: $165.95 | Position: -$5.05\n"
     ]
    },
    {
     "name": "stdout",
     "output_type": "stream",
     "text": [
      "1/1 [==============================] - 0s 15ms/step\n",
      "1/1 [==============================] - 0s 14ms/step\n"
     ]
    },
    {
     "name": "stderr",
     "output_type": "stream",
     "text": [
      "2024-01-26 12:22:30 WaideMBP-3.bahnhof.se root[83734] DEBUG Sell at: $168.81 | Position: +$0.31\n"
     ]
    },
    {
     "name": "stdout",
     "output_type": "stream",
     "text": [
      "1/1 [==============================] - 0s 15ms/step\n"
     ]
    },
    {
     "name": "stderr",
     "output_type": "stream",
     "text": [
      "2024-01-26 12:22:30 WaideMBP-3.bahnhof.se root[83734] DEBUG Sell at: $174.69 | Position: +$8.60\n"
     ]
    },
    {
     "name": "stdout",
     "output_type": "stream",
     "text": [
      "1/1 [==============================] - 0s 15ms/step\n"
     ]
    },
    {
     "name": "stderr",
     "output_type": "stream",
     "text": [
      "2024-01-26 12:22:30 WaideMBP-3.bahnhof.se root[83734] DEBUG Sell at: $174.71 | Position: +$8.17\n"
     ]
    },
    {
     "name": "stdout",
     "output_type": "stream",
     "text": [
      "1/1 [==============================] - 0s 15ms/step\n"
     ]
    },
    {
     "name": "stderr",
     "output_type": "stream",
     "text": [
      "2024-01-26 12:22:30 WaideMBP-3.bahnhof.se root[83734] DEBUG Sell at: $174.74 | Position: +$7.98\n"
     ]
    },
    {
     "name": "stdout",
     "output_type": "stream",
     "text": [
      "1/1 [==============================] - 0s 15ms/step\n"
     ]
    },
    {
     "name": "stderr",
     "output_type": "stream",
     "text": [
      "2024-01-26 12:22:30 WaideMBP-3.bahnhof.se root[83734] DEBUG Sell at: $174.52 | Position: +$5.18\n"
     ]
    },
    {
     "name": "stdout",
     "output_type": "stream",
     "text": [
      "1/1 [==============================] - 0s 14ms/step\n",
      "1/1 [==============================] - 0s 14ms/step\n",
      "1/1 [==============================] - 0s 15ms/step\n",
      "1/1 [==============================] - 0s 14ms/step\n",
      "1/1 [==============================] - 0s 14ms/step\n",
      "1/1 [==============================] - 0s 14ms/step\n",
      "1/1 [==============================] - 0s 14ms/step\n",
      "1/1 [==============================] - 0s 15ms/step\n",
      "1/1 [==============================] - 0s 14ms/step\n",
      "1/1 [==============================] - 0s 14ms/step\n",
      "1/1 [==============================] - 0s 14ms/step\n",
      "1/1 [==============================] - 0s 15ms/step\n",
      "1/1 [==============================] - 0s 15ms/step\n",
      "1/1 [==============================] - 0s 14ms/step\n",
      "1/1 [==============================] - 0s 15ms/step\n",
      "1/1 [==============================] - 0s 14ms/step\n"
     ]
    },
    {
     "name": "stderr",
     "output_type": "stream",
     "text": [
      "2024-01-26 12:22:31 WaideMBP-3.bahnhof.se root[83734] DEBUG Buy at: $181.97\n"
     ]
    },
    {
     "name": "stdout",
     "output_type": "stream",
     "text": [
      "1/1 [==============================] - 0s 14ms/step\n"
     ]
    },
    {
     "name": "stderr",
     "output_type": "stream",
     "text": [
      "2024-01-26 12:22:31 WaideMBP-3.bahnhof.se root[83734] DEBUG Buy at: $180.70\n"
     ]
    },
    {
     "name": "stdout",
     "output_type": "stream",
     "text": [
      "1/1 [==============================] - 0s 14ms/step\n"
     ]
    },
    {
     "name": "stderr",
     "output_type": "stream",
     "text": [
      "2024-01-26 12:22:31 WaideMBP-3.bahnhof.se root[83734] DEBUG Sell at: $181.35 | Position: -$0.62\n"
     ]
    },
    {
     "name": "stdout",
     "output_type": "stream",
     "text": [
      "1/1 [==============================] - 0s 15ms/step\n"
     ]
    },
    {
     "name": "stderr",
     "output_type": "stream",
     "text": [
      "2024-01-26 12:22:31 WaideMBP-3.bahnhof.se root[83734] DEBUG Sell at: $177.01 | Position: -$3.69\n"
     ]
    },
    {
     "name": "stdout",
     "output_type": "stream",
     "text": [
      "1/1 [==============================] - 0s 14ms/step\n"
     ]
    },
    {
     "name": "stderr",
     "output_type": "stream",
     "text": [
      "2024-01-26 12:22:31 WaideMBP-3.bahnhof.se root[83734] DEBUG Buy at: $179.19\n"
     ]
    },
    {
     "name": "stdout",
     "output_type": "stream",
     "text": [
      "1/1 [==============================] - 0s 14ms/step\n",
      "1/1 [==============================] - 0s 14ms/step\n"
     ]
    },
    {
     "name": "stderr",
     "output_type": "stream",
     "text": [
      "2024-01-26 12:22:31 WaideMBP-3.bahnhof.se root[83734] DEBUG Sell at: $194.39 | Position: +$15.20\n"
     ]
    },
    {
     "name": "stdout",
     "output_type": "stream",
     "text": [
      "1/1 [==============================] - 0s 14ms/step\n",
      "1/1 [==============================] - 0s 14ms/step\n",
      "1/1 [==============================] - 0s 14ms/step\n",
      "1/1 [==============================] - 0s 15ms/step\n",
      "1/1 [==============================] - 0s 14ms/step\n",
      "1/1 [==============================] - 0s 14ms/step\n"
     ]
    },
    {
     "name": "stderr",
     "output_type": "stream",
     "text": [
      "2024-01-26 12:22:31 WaideMBP-3.bahnhof.se root[83734] DEBUG Buy at: $199.49\n"
     ]
    },
    {
     "name": "stdout",
     "output_type": "stream",
     "text": [
      "1/1 [==============================] - 0s 15ms/step\n"
     ]
    },
    {
     "name": "stderr",
     "output_type": "stream",
     "text": [
      "2024-01-26 12:22:31 WaideMBP-3.bahnhof.se root[83734] DEBUG Sell at: $202.68 | Position: +$3.19\n"
     ]
    },
    {
     "name": "stdout",
     "output_type": "stream",
     "text": [
      "1/1 [==============================] - 0s 14ms/step\n",
      "1/1 [==============================] - 0s 15ms/step\n",
      "1/1 [==============================] - 0s 15ms/step\n",
      "1/1 [==============================] - 0s 15ms/step\n",
      "1/1 [==============================] - 0s 15ms/step\n",
      "1/1 [==============================] - 0s 15ms/step\n",
      "1/1 [==============================] - 0s 15ms/step\n"
     ]
    },
    {
     "name": "stderr",
     "output_type": "stream",
     "text": [
      "2024-01-26 12:22:32 WaideMBP-3.bahnhof.se root[83734] DEBUG Buy at: $193.77\n"
     ]
    },
    {
     "name": "stdout",
     "output_type": "stream",
     "text": [
      "1/1 [==============================] - 0s 15ms/step\n"
     ]
    },
    {
     "name": "stderr",
     "output_type": "stream",
     "text": [
      "2024-01-26 12:22:32 WaideMBP-3.bahnhof.se root[83734] DEBUG Buy at: $195.21\n"
     ]
    },
    {
     "name": "stdout",
     "output_type": "stream",
     "text": [
      "1/1 [==============================] - 0s 14ms/step\n"
     ]
    },
    {
     "name": "stderr",
     "output_type": "stream",
     "text": [
      "2024-01-26 12:22:32 WaideMBP-3.bahnhof.se root[83734] DEBUG Sell at: $199.54 | Position: +$5.77\n"
     ]
    },
    {
     "name": "stdout",
     "output_type": "stream",
     "text": [
      "1/1 [==============================] - 0s 15ms/step\n"
     ]
    },
    {
     "name": "stderr",
     "output_type": "stream",
     "text": [
      "2024-01-26 12:22:32 WaideMBP-3.bahnhof.se root[83734] DEBUG Buy at: $198.37\n"
     ]
    },
    {
     "name": "stdout",
     "output_type": "stream",
     "text": [
      "1/1 [==============================] - 0s 15ms/step\n"
     ]
    },
    {
     "name": "stderr",
     "output_type": "stream",
     "text": [
      "2024-01-26 12:22:32 WaideMBP-3.bahnhof.se root[83734] DEBUG Sell at: $196.43 | Position: +$1.22\n"
     ]
    },
    {
     "name": "stdout",
     "output_type": "stream",
     "text": [
      "1/1 [==============================] - 0s 14ms/step\n"
     ]
    },
    {
     "name": "stderr",
     "output_type": "stream",
     "text": [
      "2024-01-26 12:22:32 WaideMBP-3.bahnhof.se root[83734] DEBUG Sell at: $198.00 | Position: -$0.37\n"
     ]
    },
    {
     "name": "stdout",
     "output_type": "stream",
     "text": [
      "1/1 [==============================] - 0s 14ms/step\n",
      "1/1 [==============================] - 0s 17ms/step\n"
     ]
    },
    {
     "name": "stderr",
     "output_type": "stream",
     "text": [
      "2024-01-26 12:22:32 WaideMBP-3.bahnhof.se root[83734] DEBUG Buy at: $200.01\n"
     ]
    },
    {
     "name": "stdout",
     "output_type": "stream",
     "text": [
      "1/1 [==============================] - 0s 14ms/step\n"
     ]
    },
    {
     "name": "stderr",
     "output_type": "stream",
     "text": [
      "2024-01-26 12:22:32 WaideMBP-3.bahnhof.se root[83734] DEBUG Sell at: $200.13 | Position: +$0.12\n"
     ]
    },
    {
     "name": "stdout",
     "output_type": "stream",
     "text": [
      "1/1 [==============================] - 0s 15ms/step\n",
      "1/1 [==============================] - 0s 15ms/step\n",
      "1/1 [==============================] - 0s 15ms/step\n"
     ]
    },
    {
     "name": "stderr",
     "output_type": "stream",
     "text": [
      "2024-01-26 12:22:32 WaideMBP-3.bahnhof.se root[83734] DEBUG Buy at: $193.90\n"
     ]
    },
    {
     "name": "stdout",
     "output_type": "stream",
     "text": [
      "1/1 [==============================] - 0s 15ms/step\n"
     ]
    },
    {
     "name": "stderr",
     "output_type": "stream",
     "text": [
      "2024-01-26 12:22:32 WaideMBP-3.bahnhof.se root[83734] DEBUG Sell at: $192.02 | Position: -$1.88\n"
     ]
    },
    {
     "name": "stdout",
     "output_type": "stream",
     "text": [
      "1/1 [==============================] - 0s 14ms/step\n",
      "1/1 [==============================] - 0s 15ms/step\n",
      "1/1 [==============================] - 0s 15ms/step\n",
      "1/1 [==============================] - 0s 15ms/step\n",
      "1/1 [==============================] - 0s 15ms/step\n",
      "1/1 [==============================] - 0s 14ms/step\n",
      "1/1 [==============================] - 0s 14ms/step\n"
     ]
    },
    {
     "name": "stderr",
     "output_type": "stream",
     "text": [
      "2024-01-26 12:22:32 WaideMBP-3.bahnhof.se root[83734] DEBUG Buy at: $196.23\n"
     ]
    },
    {
     "name": "stdout",
     "output_type": "stream",
     "text": [
      "1/1 [==============================] - 0s 15ms/step\n"
     ]
    },
    {
     "name": "stderr",
     "output_type": "stream",
     "text": [
      "2024-01-26 12:22:32 WaideMBP-3.bahnhof.se root[83734] DEBUG Sell at: $196.32 | Position: +$0.09\n"
     ]
    },
    {
     "name": "stdout",
     "output_type": "stream",
     "text": [
      "1/1 [==============================] - 0s 14ms/step\n",
      "1/1 [==============================] - 0s 18ms/step\n",
      "1/1 [==============================] - 0s 15ms/step\n",
      "1/1 [==============================] - 0s 15ms/step\n",
      "1/1 [==============================] - 0s 14ms/step\n",
      "1/1 [==============================] - 0s 14ms/step\n"
     ]
    },
    {
     "name": "stderr",
     "output_type": "stream",
     "text": [
      "2024-01-26 12:22:33 WaideMBP-3.bahnhof.se root[83734] DEBUG Buy at: $186.82\n"
     ]
    },
    {
     "name": "stdout",
     "output_type": "stream",
     "text": [
      "1/1 [==============================] - 0s 15ms/step\n",
      "1/1 [==============================] - 0s 15ms/step\n"
     ]
    },
    {
     "name": "stderr",
     "output_type": "stream",
     "text": [
      "2024-01-26 12:22:33 WaideMBP-3.bahnhof.se root[83734] DEBUG Sell at: $184.21 | Position: -$2.61\n"
     ]
    },
    {
     "name": "stdout",
     "output_type": "stream",
     "text": [
      "1/1 [==============================] - 0s 15ms/step\n",
      "1/1 [==============================] - 0s 15ms/step\n",
      "1/1 [==============================] - 0s 15ms/step\n",
      "1/1 [==============================] - 0s 15ms/step\n"
     ]
    },
    {
     "name": "stderr",
     "output_type": "stream",
     "text": [
      "2024-01-26 12:22:33 WaideMBP-3.bahnhof.se root[83734] DEBUG Buy at: $186.22\n"
     ]
    },
    {
     "name": "stdout",
     "output_type": "stream",
     "text": [
      "1/1 [==============================] - 0s 14ms/step\n"
     ]
    },
    {
     "name": "stderr",
     "output_type": "stream",
     "text": [
      "2024-01-26 12:22:33 WaideMBP-3.bahnhof.se root[83734] DEBUG Buy at: $185.73\n"
     ]
    },
    {
     "name": "stdout",
     "output_type": "stream",
     "text": [
      "1/1 [==============================] - 0s 14ms/step\n"
     ]
    },
    {
     "name": "stderr",
     "output_type": "stream",
     "text": [
      "2024-01-26 12:22:33 WaideMBP-3.bahnhof.se root[83734] DEBUG Sell at: $187.86 | Position: +$1.64\n"
     ]
    },
    {
     "name": "stdout",
     "output_type": "stream",
     "text": [
      "1/1 [==============================] - 0s 14ms/step\n"
     ]
    },
    {
     "name": "stderr",
     "output_type": "stream",
     "text": [
      "2024-01-26 12:22:33 WaideMBP-3.bahnhof.se root[83734] DEBUG Sell at: $189.56 | Position: +$3.83\n"
     ]
    },
    {
     "name": "stdout",
     "output_type": "stream",
     "text": [
      "1/1 [==============================] - 0s 15ms/step\n",
      "1/1 [==============================] - 0s 15ms/step\n",
      "1/1 [==============================] - 0s 14ms/step\n",
      "1/1 [==============================] - 0s 15ms/step\n",
      "1/1 [==============================] - 0s 14ms/step\n",
      "1/1 [==============================] - 0s 15ms/step\n",
      "1/1 [==============================] - 0s 15ms/step\n",
      "1/1 [==============================] - 0s 14ms/step\n"
     ]
    },
    {
     "name": "stderr",
     "output_type": "stream",
     "text": [
      "2024-01-26 12:22:33 WaideMBP-3.bahnhof.se root[83734] DEBUG Buy at: $186.24\n"
     ]
    },
    {
     "name": "stdout",
     "output_type": "stream",
     "text": [
      "1/1 [==============================] - 0s 17ms/step\n"
     ]
    },
    {
     "name": "stderr",
     "output_type": "stream",
     "text": [
      "2024-01-26 12:22:33 WaideMBP-3.bahnhof.se root[83734] DEBUG Sell at: $192.71 | Position: +$6.47\n"
     ]
    },
    {
     "name": "stdout",
     "output_type": "stream",
     "text": [
      "1/1 [==============================] - 0s 15ms/step\n",
      "1/1 [==============================] - 0s 14ms/step\n",
      "1/1 [==============================] - 0s 15ms/step\n",
      "1/1 [==============================] - 0s 15ms/step\n",
      "1/1 [==============================] - 0s 15ms/step\n",
      "1/1 [==============================] - 0s 15ms/step\n",
      "1/1 [==============================] - 0s 14ms/step\n",
      "1/1 [==============================] - 0s 15ms/step\n",
      "1/1 [==============================] - 0s 14ms/step\n",
      "1/1 [==============================] - 0s 15ms/step\n",
      "1/1 [==============================] - 0s 15ms/step\n",
      "1/1 [==============================] - 0s 15ms/step\n",
      "1/1 [==============================] - 0s 14ms/step\n",
      "1/1 [==============================] - 0s 14ms/step\n",
      "1/1 [==============================] - 0s 16ms/step\n",
      "1/1 [==============================] - 0s 18ms/step\n",
      "1/1 [==============================] - 0s 16ms/step\n",
      "1/1 [==============================] - 0s 14ms/step\n",
      "1/1 [==============================] - 0s 14ms/step\n",
      "1/1 [==============================] - 0s 14ms/step\n",
      "1/1 [==============================] - 0s 15ms/step\n",
      "1/1 [==============================] - 0s 15ms/step\n",
      "1/1 [==============================] - 0s 14ms/step\n",
      "1/1 [==============================] - 0s 15ms/step\n",
      "1/1 [==============================] - 0s 15ms/step\n"
     ]
    },
    {
     "name": "stderr",
     "output_type": "stream",
     "text": [
      "2024-01-26 12:22:34 WaideMBP-3.bahnhof.se root[83734] DEBUG Buy at: $254.26\n"
     ]
    },
    {
     "name": "stdout",
     "output_type": "stream",
     "text": [
      "1/1 [==============================] - 0s 16ms/step\n"
     ]
    },
    {
     "name": "stderr",
     "output_type": "stream",
     "text": [
      "2024-01-26 12:22:34 WaideMBP-3.bahnhof.se root[83734] DEBUG Sell at: $265.72 | Position: +$11.46\n"
     ]
    },
    {
     "name": "stdout",
     "output_type": "stream",
     "text": [
      "1/1 [==============================] - 0s 14ms/step\n"
     ]
    },
    {
     "name": "stderr",
     "output_type": "stream",
     "text": [
      "2024-01-26 12:22:34 WaideMBP-3.bahnhof.se root[83734] DEBUG Buy at: $264.56\n"
     ]
    },
    {
     "name": "stdout",
     "output_type": "stream",
     "text": [
      "1/1 [==============================] - 0s 14ms/step\n"
     ]
    },
    {
     "name": "stderr",
     "output_type": "stream",
     "text": [
      "2024-01-26 12:22:35 WaideMBP-3.bahnhof.se root[83734] DEBUG Buy at: $250.10\n"
     ]
    },
    {
     "name": "stdout",
     "output_type": "stream",
     "text": [
      "1/1 [==============================] - 0s 14ms/step\n"
     ]
    },
    {
     "name": "stderr",
     "output_type": "stream",
     "text": [
      "2024-01-26 12:22:35 WaideMBP-3.bahnhof.se root[83734] DEBUG Buy at: $249.47\n"
     ]
    },
    {
     "name": "stdout",
     "output_type": "stream",
     "text": [
      "1/1 [==============================] - 0s 15ms/step\n"
     ]
    },
    {
     "name": "stderr",
     "output_type": "stream",
     "text": [
      "2024-01-26 12:22:35 WaideMBP-3.bahnhof.se root[83734] DEBUG Sell at: $257.95 | Position: -$6.61\n"
     ]
    },
    {
     "name": "stdout",
     "output_type": "stream",
     "text": [
      "1/1 [==============================] - 0s 14ms/step\n"
     ]
    },
    {
     "name": "stderr",
     "output_type": "stream",
     "text": [
      "2024-01-26 12:22:35 WaideMBP-3.bahnhof.se root[83734] DEBUG Buy at: $258.27\n"
     ]
    },
    {
     "name": "stdout",
     "output_type": "stream",
     "text": [
      "1/1 [==============================] - 0s 15ms/step\n"
     ]
    },
    {
     "name": "stderr",
     "output_type": "stream",
     "text": [
      "2024-01-26 12:22:35 WaideMBP-3.bahnhof.se root[83734] DEBUG Sell at: $266.00 | Position: +$15.90\n"
     ]
    },
    {
     "name": "stdout",
     "output_type": "stream",
     "text": [
      "1/1 [==============================] - 0s 15ms/step\n"
     ]
    },
    {
     "name": "stderr",
     "output_type": "stream",
     "text": [
      "2024-01-26 12:22:35 WaideMBP-3.bahnhof.se root[83734] DEBUG Sell at: $280.27 | Position: +$30.80\n"
     ]
    },
    {
     "name": "stdout",
     "output_type": "stream",
     "text": [
      "1/1 [==============================] - 0s 15ms/step\n"
     ]
    },
    {
     "name": "stderr",
     "output_type": "stream",
     "text": [
      "2024-01-26 12:22:35 WaideMBP-3.bahnhof.se root[83734] DEBUG Sell at: $278.52 | Position: +$20.25\n"
     ]
    },
    {
     "name": "stdout",
     "output_type": "stream",
     "text": [
      "1/1 [==============================] - 0s 15ms/step\n",
      "1/1 [==============================] - 0s 15ms/step\n",
      "1/1 [==============================] - 0s 15ms/step\n",
      "1/1 [==============================] - 0s 14ms/step\n",
      "1/1 [==============================] - 0s 15ms/step\n",
      "1/1 [==============================] - 0s 15ms/step\n",
      "1/1 [==============================] - 0s 14ms/step\n",
      "1/1 [==============================] - 0s 14ms/step\n",
      "1/1 [==============================] - 0s 16ms/step\n",
      "1/1 [==============================] - 0s 15ms/step\n",
      "1/1 [==============================] - 0s 14ms/step\n",
      "1/1 [==============================] - 0s 18ms/step\n",
      "1/1 [==============================] - 0s 14ms/step\n",
      "1/1 [==============================] - 0s 14ms/step\n",
      "1/1 [==============================] - 0s 15ms/step\n"
     ]
    },
    {
     "name": "stderr",
     "output_type": "stream",
     "text": [
      "2024-01-26 12:22:35 WaideMBP-3.bahnhof.se root[83734] DEBUG Buy at: $321.30\n"
     ]
    },
    {
     "name": "stdout",
     "output_type": "stream",
     "text": [
      "1/1 [==============================] - 0s 15ms/step\n"
     ]
    },
    {
     "name": "stderr",
     "output_type": "stream",
     "text": [
      "2024-01-26 12:22:35 WaideMBP-3.bahnhof.se root[83734] DEBUG Sell at: $315.88 | Position: -$5.42\n"
     ]
    },
    {
     "name": "stdout",
     "output_type": "stream",
     "text": [
      "1/1 [==============================] - 0s 15ms/step\n",
      "1/1 [==============================] - 0s 14ms/step\n",
      "1/1 [==============================] - 0s 15ms/step\n",
      "1/1 [==============================] - 0s 15ms/step\n"
     ]
    },
    {
     "name": "stderr",
     "output_type": "stream",
     "text": [
      "2024-01-26 12:22:36 WaideMBP-3.bahnhof.se root[83734] DEBUG Buy at: $313.48\n"
     ]
    },
    {
     "name": "stdout",
     "output_type": "stream",
     "text": [
      "1/1 [==============================] - 0s 15ms/step\n"
     ]
    },
    {
     "name": "stderr",
     "output_type": "stream",
     "text": [
      "2024-01-26 12:22:36 WaideMBP-3.bahnhof.se root[83734] DEBUG Buy at: $317.50\n"
     ]
    },
    {
     "name": "stdout",
     "output_type": "stream",
     "text": [
      "1/1 [==============================] - 0s 15ms/step\n"
     ]
    },
    {
     "name": "stderr",
     "output_type": "stream",
     "text": [
      "2024-01-26 12:22:36 WaideMBP-3.bahnhof.se root[83734] DEBUG Sell at: $316.48 | Position: +$3.00\n"
     ]
    },
    {
     "name": "stdout",
     "output_type": "stream",
     "text": [
      "1/1 [==============================] - 0s 15ms/step\n",
      "1/1 [==============================] - 0s 15ms/step\n"
     ]
    },
    {
     "name": "stderr",
     "output_type": "stream",
     "text": [
      "2024-01-26 12:22:36 WaideMBP-3.bahnhof.se root[83734] DEBUG Buy at: $300.94\n"
     ]
    },
    {
     "name": "stdout",
     "output_type": "stream",
     "text": [
      "1/1 [==============================] - 0s 14ms/step\n"
     ]
    },
    {
     "name": "stderr",
     "output_type": "stream",
     "text": [
      "2024-01-26 12:22:36 WaideMBP-3.bahnhof.se root[83734] DEBUG Buy at: $320.35\n"
     ]
    },
    {
     "name": "stdout",
     "output_type": "stream",
     "text": [
      "1/1 [==============================] - 0s 15ms/step\n",
      "1/1 [==============================] - 0s 15ms/step\n"
     ]
    },
    {
     "name": "stderr",
     "output_type": "stream",
     "text": [
      "2024-01-26 12:22:36 WaideMBP-3.bahnhof.se root[83734] DEBUG Buy at: $285.77\n"
     ]
    },
    {
     "name": "stdout",
     "output_type": "stream",
     "text": [
      "1/1 [==============================] - 0s 14ms/step\n",
      "1/1 [==============================] - 0s 14ms/step\n"
     ]
    },
    {
     "name": "stderr",
     "output_type": "stream",
     "text": [
      "2024-01-26 12:22:36 WaideMBP-3.bahnhof.se root[83734] DEBUG Sell at: $280.29 | Position: -$37.21\n"
     ]
    },
    {
     "name": "stdout",
     "output_type": "stream",
     "text": [
      "1/1 [==============================] - 0s 18ms/step\n",
      "1/1 [==============================] - 0s 14ms/step\n"
     ]
    },
    {
     "name": "stderr",
     "output_type": "stream",
     "text": [
      "2024-01-26 12:22:36 WaideMBP-3.bahnhof.se root[83734] DEBUG Buy at: $288.94\n"
     ]
    },
    {
     "name": "stdout",
     "output_type": "stream",
     "text": [
      "1/1 [==============================] - 0s 15ms/step\n"
     ]
    },
    {
     "name": "stderr",
     "output_type": "stream",
     "text": [
      "2024-01-26 12:22:36 WaideMBP-3.bahnhof.se root[83734] DEBUG Sell at: $293.97 | Position: -$6.97\n"
     ]
    },
    {
     "name": "stdout",
     "output_type": "stream",
     "text": [
      "1/1 [==============================] - 0s 15ms/step\n"
     ]
    },
    {
     "name": "stderr",
     "output_type": "stream",
     "text": [
      "2024-01-26 12:22:36 WaideMBP-3.bahnhof.se root[83734] DEBUG Buy at: $288.85\n"
     ]
    },
    {
     "name": "stdout",
     "output_type": "stream",
     "text": [
      "1/1 [==============================] - 0s 15ms/step\n"
     ]
    },
    {
     "name": "stderr",
     "output_type": "stream",
     "text": [
      "2024-01-26 12:22:36 WaideMBP-3.bahnhof.se root[83734] DEBUG Sell at: $289.93 | Position: -$30.42\n"
     ]
    },
    {
     "name": "stdout",
     "output_type": "stream",
     "text": [
      "1/1 [==============================] - 0s 15ms/step\n",
      "1/1 [==============================] - 0s 14ms/step\n"
     ]
    },
    {
     "name": "stderr",
     "output_type": "stream",
     "text": [
      "2024-01-26 12:22:36 WaideMBP-3.bahnhof.se root[83734] DEBUG Sell at: $303.67 | Position: +$17.90\n"
     ]
    },
    {
     "name": "stdout",
     "output_type": "stream",
     "text": [
      "1/1 [==============================] - 0s 15ms/step\n"
     ]
    },
    {
     "name": "stderr",
     "output_type": "stream",
     "text": [
      "2024-01-26 12:22:36 WaideMBP-3.bahnhof.se root[83734] DEBUG Sell at: $309.25 | Position: +$20.31\n"
     ]
    },
    {
     "name": "stdout",
     "output_type": "stream",
     "text": [
      "1/1 [==============================] - 0s 15ms/step\n"
     ]
    },
    {
     "name": "stderr",
     "output_type": "stream",
     "text": [
      "2024-01-26 12:22:36 WaideMBP-3.bahnhof.se root[83734] DEBUG Sell at: $311.65 | Position: +$22.80\n"
     ]
    },
    {
     "name": "stdout",
     "output_type": "stream",
     "text": [
      "1/1 [==============================] - 0s 15ms/step\n",
      "1/1 [==============================] - 0s 15ms/step\n",
      "1/1 [==============================] - 0s 14ms/step\n",
      "1/1 [==============================] - 0s 15ms/step\n"
     ]
    },
    {
     "name": "stderr",
     "output_type": "stream",
     "text": [
      "2024-01-26 12:22:36 WaideMBP-3.bahnhof.se root[83734] DEBUG Buy at: $332.70\n"
     ]
    },
    {
     "name": "stdout",
     "output_type": "stream",
     "text": [
      "1/1 [==============================] - 0s 15ms/step\n",
      "1/1 [==============================] - 0s 16ms/step\n"
     ]
    },
    {
     "name": "stderr",
     "output_type": "stream",
     "text": [
      "2024-01-26 12:22:37 WaideMBP-3.bahnhof.se root[83734] DEBUG Buy at: $318.69\n"
     ]
    },
    {
     "name": "stdout",
     "output_type": "stream",
     "text": [
      "1/1 [==============================] - 0s 15ms/step\n"
     ]
    },
    {
     "name": "stderr",
     "output_type": "stream",
     "text": [
      "2024-01-26 12:22:37 WaideMBP-3.bahnhof.se root[83734] DEBUG Buy at: $307.02\n"
     ]
    },
    {
     "name": "stdout",
     "output_type": "stream",
     "text": [
      "1/1 [==============================] - 0s 15ms/step\n"
     ]
    },
    {
     "name": "stderr",
     "output_type": "stream",
     "text": [
      "2024-01-26 12:22:37 WaideMBP-3.bahnhof.se root[83734] DEBUG Buy at: $305.76\n"
     ]
    },
    {
     "name": "stdout",
     "output_type": "stream",
     "text": [
      "1/1 [==============================] - 0s 15ms/step\n"
     ]
    },
    {
     "name": "stderr",
     "output_type": "stream",
     "text": [
      "2024-01-26 12:22:37 WaideMBP-3.bahnhof.se root[83734] DEBUG Sell at: $313.98 | Position: -$18.72\n"
     ]
    },
    {
     "name": "stdout",
     "output_type": "stream",
     "text": [
      "1/1 [==============================] - 0s 16ms/step\n"
     ]
    },
    {
     "name": "stderr",
     "output_type": "stream",
     "text": [
      "2024-01-26 12:22:37 WaideMBP-3.bahnhof.se root[83734] DEBUG Buy at: $311.76\n"
     ]
    },
    {
     "name": "stdout",
     "output_type": "stream",
     "text": [
      "1/1 [==============================] - 0s 14ms/step\n"
     ]
    },
    {
     "name": "stderr",
     "output_type": "stream",
     "text": [
      "2024-01-26 12:22:37 WaideMBP-3.bahnhof.se root[83734] DEBUG Sell at: $312.46 | Position: -$6.23\n"
     ]
    },
    {
     "name": "stdout",
     "output_type": "stream",
     "text": [
      "1/1 [==============================] - 0s 15ms/step\n"
     ]
    },
    {
     "name": "stderr",
     "output_type": "stream",
     "text": [
      "2024-01-26 12:22:37 WaideMBP-3.bahnhof.se root[83734] DEBUG Buy at: $313.30\n"
     ]
    },
    {
     "name": "stdout",
     "output_type": "stream",
     "text": [
      "1/1 [==============================] - 0s 15ms/step\n"
     ]
    },
    {
     "name": "stderr",
     "output_type": "stream",
     "text": [
      "2024-01-26 12:22:37 WaideMBP-3.bahnhof.se root[83734] DEBUG Buy at: $313.36\n"
     ]
    },
    {
     "name": "stdout",
     "output_type": "stream",
     "text": [
      "1/1 [==============================] - 0s 15ms/step\n"
     ]
    },
    {
     "name": "stderr",
     "output_type": "stream",
     "text": [
      "2024-01-26 12:22:37 WaideMBP-3.bahnhof.se root[83734] DEBUG Buy at: $311.69\n"
     ]
    },
    {
     "name": "stdout",
     "output_type": "stream",
     "text": [
      "1/1 [==============================] - 0s 14ms/step\n"
     ]
    },
    {
     "name": "stderr",
     "output_type": "stream",
     "text": [
      "2024-01-26 12:22:37 WaideMBP-3.bahnhof.se root[83734] DEBUG Sell at: $320.09 | Position: +$13.07\n"
     ]
    },
    {
     "name": "stdout",
     "output_type": "stream",
     "text": [
      "1/1 [==============================] - 0s 15ms/step\n"
     ]
    },
    {
     "name": "stderr",
     "output_type": "stream",
     "text": [
      "2024-01-26 12:22:37 WaideMBP-3.bahnhof.se root[83734] DEBUG Sell at: $326.26 | Position: +$20.50\n"
     ]
    },
    {
     "name": "stdout",
     "output_type": "stream",
     "text": [
      "1/1 [==============================] - 0s 15ms/step\n"
     ]
    },
    {
     "name": "stderr",
     "output_type": "stream",
     "text": [
      "2024-01-26 12:22:37 WaideMBP-3.bahnhof.se root[83734] DEBUG Sell at: $326.89 | Position: +$15.13\n"
     ]
    },
    {
     "name": "stdout",
     "output_type": "stream",
     "text": [
      "1/1 [==============================] - 0s 14ms/step\n"
     ]
    },
    {
     "name": "stderr",
     "output_type": "stream",
     "text": [
      "2024-01-26 12:22:37 WaideMBP-3.bahnhof.se root[83734] DEBUG Sell at: $330.30 | Position: +$17.00\n"
     ]
    },
    {
     "name": "stdout",
     "output_type": "stream",
     "text": [
      "1/1 [==============================] - 0s 14ms/step\n"
     ]
    },
    {
     "name": "stderr",
     "output_type": "stream",
     "text": [
      "2024-01-26 12:22:37 WaideMBP-3.bahnhof.se root[83734] DEBUG Sell at: $329.60 | Position: +$16.24\n"
     ]
    },
    {
     "name": "stdout",
     "output_type": "stream",
     "text": [
      "1/1 [==============================] - 0s 15ms/step\n"
     ]
    },
    {
     "name": "stderr",
     "output_type": "stream",
     "text": [
      "2024-01-26 12:22:37 WaideMBP-3.bahnhof.se root[83734] DEBUG Sell at: $326.46 | Position: +$14.77\n"
     ]
    },
    {
     "name": "stdout",
     "output_type": "stream",
     "text": [
      "1/1 [==============================] - 0s 15ms/step\n",
      "1/1 [==============================] - 0s 14ms/step\n",
      "1/1 [==============================] - 0s 15ms/step\n",
      "1/1 [==============================] - 0s 14ms/step\n",
      "1/1 [==============================] - 0s 15ms/step\n"
     ]
    },
    {
     "name": "stderr",
     "output_type": "stream",
     "text": [
      "2024-01-26 12:22:37 WaideMBP-3.bahnhof.se root[83734] DEBUG Buy at: $324.18\n"
     ]
    },
    {
     "name": "stdout",
     "output_type": "stream",
     "text": [
      "1/1 [==============================] - 0s 15ms/step\n"
     ]
    },
    {
     "name": "stderr",
     "output_type": "stream",
     "text": [
      "2024-01-26 12:22:37 WaideMBP-3.bahnhof.se root[83734] DEBUG Sell at: $331.82 | Position: +$7.64\n"
     ]
    },
    {
     "name": "stdout",
     "output_type": "stream",
     "text": [
      "1/1 [==============================] - 0s 14ms/step\n",
      "1/1 [==============================] - 0s 15ms/step\n",
      "1/1 [==============================] - 0s 14ms/step\n",
      "1/1 [==============================] - 0s 15ms/step\n",
      "1/1 [==============================] - 0s 15ms/step\n",
      "1/1 [==============================] - 0s 14ms/step\n"
     ]
    },
    {
     "name": "stderr",
     "output_type": "stream",
     "text": [
      "2024-01-26 12:22:38 WaideMBP-3.bahnhof.se root[83734] DEBUG Buy at: $353.54\n"
     ]
    },
    {
     "name": "stdout",
     "output_type": "stream",
     "text": [
      "1/1 [==============================] - 0s 15ms/step\n"
     ]
    },
    {
     "name": "stderr",
     "output_type": "stream",
     "text": [
      "2024-01-26 12:22:38 WaideMBP-3.bahnhof.se root[83734] DEBUG Sell at: $351.60 | Position: -$1.94\n"
     ]
    },
    {
     "name": "stdout",
     "output_type": "stream",
     "text": [
      "1/1 [==============================] - 0s 14ms/step\n",
      "1/1 [==============================] - 0s 15ms/step\n",
      "1/1 [==============================] - 0s 15ms/step\n",
      "1/1 [==============================] - 0s 15ms/step\n",
      "1/1 [==============================] - 0s 15ms/step\n",
      "1/1 [==============================] - 0s 14ms/step\n",
      "1/1 [==============================] - 0s 45ms/step\n",
      "1/1 [==============================] - 0s 15ms/step\n"
     ]
    },
    {
     "name": "stderr",
     "output_type": "stream",
     "text": [
      "2024-01-26 12:22:38 WaideMBP-3.bahnhof.se root[83734] DEBUG Buy at: $363.83\n"
     ]
    },
    {
     "name": "stdout",
     "output_type": "stream",
     "text": [
      "1/1 [==============================] - 0s 15ms/step\n"
     ]
    },
    {
     "name": "stderr",
     "output_type": "stream",
     "text": [
      "2024-01-26 12:22:38 WaideMBP-3.bahnhof.se root[83734] DEBUG Buy at: $379.93\n"
     ]
    },
    {
     "name": "stdout",
     "output_type": "stream",
     "text": [
      "1/1 [==============================] - 0s 15ms/step\n"
     ]
    },
    {
     "name": "stderr",
     "output_type": "stream",
     "text": [
      "2024-01-26 12:22:38 WaideMBP-3.bahnhof.se root[83734] DEBUG Sell at: $392.87 | Position: +$29.04\n"
     ]
    },
    {
     "name": "stdout",
     "output_type": "stream",
     "text": [
      "1/1 [==============================] - 0s 15ms/step\n"
     ]
    },
    {
     "name": "stderr",
     "output_type": "stream",
     "text": [
      "2024-01-26 12:22:38 WaideMBP-3.bahnhof.se root[83734] DEBUG Sell at: $391.98 | Position: +$12.05\n"
     ]
    },
    {
     "name": "stdout",
     "output_type": "stream",
     "text": [
      "1/1 [==============================] - 0s 16ms/step\n",
      "1/1 [==============================] - 0s 14ms/step\n",
      "1/1 [==============================] - 0s 15ms/step\n",
      "1/1 [==============================] - 0s 15ms/step\n",
      "1/1 [==============================] - 0s 15ms/step\n",
      "1/1 [==============================] - 0s 15ms/step\n"
     ]
    },
    {
     "name": "stderr",
     "output_type": "stream",
     "text": [
      "2024-01-26 12:22:38 WaideMBP-3.bahnhof.se root[83734] DEBUG Buy at: $384.48\n"
     ]
    },
    {
     "name": "stdout",
     "output_type": "stream",
     "text": [
      "1/1 [==============================] - 0s 15ms/step\n"
     ]
    },
    {
     "name": "stderr",
     "output_type": "stream",
     "text": [
      "2024-01-26 12:22:38 WaideMBP-3.bahnhof.se root[83734] DEBUG Sell at: $399.39 | Position: +$14.91\n"
     ]
    },
    {
     "name": "stdout",
     "output_type": "stream",
     "text": [
      "1/1 [==============================] - 0s 14ms/step\n"
     ]
    },
    {
     "name": "stderr",
     "output_type": "stream",
     "text": [
      "2024-01-26 12:22:38 WaideMBP-3.bahnhof.se root[83734] DEBUG Buy at: $390.39\n"
     ]
    },
    {
     "name": "stdout",
     "output_type": "stream",
     "text": [
      "1/1 [==============================] - 0s 15ms/step\n"
     ]
    },
    {
     "name": "stderr",
     "output_type": "stream",
     "text": [
      "2024-01-26 12:22:38 WaideMBP-3.bahnhof.se root[83734] DEBUG Sell at: $395.42 | Position: +$5.03\n"
     ]
    },
    {
     "name": "stdout",
     "output_type": "stream",
     "text": [
      "1/1 [==============================] - 0s 14ms/step\n"
     ]
    },
    {
     "name": "stderr",
     "output_type": "stream",
     "text": [
      "2024-01-26 12:22:38 WaideMBP-3.bahnhof.se root[83734] DEBUG Buy at: $391.43\n"
     ]
    },
    {
     "name": "stdout",
     "output_type": "stream",
     "text": [
      "1/1 [==============================] - 0s 15ms/step\n"
     ]
    },
    {
     "name": "stderr",
     "output_type": "stream",
     "text": [
      "2024-01-26 12:22:39 WaideMBP-3.bahnhof.se root[83734] DEBUG Buy at: $398.18\n"
     ]
    },
    {
     "name": "stdout",
     "output_type": "stream",
     "text": [
      "1/1 [==============================] - 0s 14ms/step\n"
     ]
    },
    {
     "name": "stderr",
     "output_type": "stream",
     "text": [
      "2024-01-26 12:22:39 WaideMBP-3.bahnhof.se root[83734] DEBUG Buy at: $390.52\n"
     ]
    },
    {
     "name": "stdout",
     "output_type": "stream",
     "text": [
      "1/1 [==============================] - 0s 15ms/step\n"
     ]
    },
    {
     "name": "stderr",
     "output_type": "stream",
     "text": [
      "2024-01-26 12:22:39 WaideMBP-3.bahnhof.se root[83734] DEBUG Sell at: $398.39 | Position: +$6.96\n"
     ]
    },
    {
     "name": "stdout",
     "output_type": "stream",
     "text": [
      "1/1 [==============================] - 0s 15ms/step\n"
     ]
    },
    {
     "name": "stderr",
     "output_type": "stream",
     "text": [
      "2024-01-26 12:22:39 WaideMBP-3.bahnhof.se root[83734] DEBUG Sell at: $408.25 | Position: +$10.07\n"
     ]
    },
    {
     "name": "stdout",
     "output_type": "stream",
     "text": [
      "1/1 [==============================] - 0s 15ms/step\n"
     ]
    },
    {
     "name": "stderr",
     "output_type": "stream",
     "text": [
      "2024-01-26 12:22:39 WaideMBP-3.bahnhof.se root[83734] DEBUG Sell at: $418.97 | Position: +$28.45\n"
     ]
    },
    {
     "name": "stdout",
     "output_type": "stream",
     "text": [
      "1/1 [==============================] - 0s 15ms/step\n",
      "1/1 [==============================] - 0s 16ms/step\n",
      "1/1 [==============================] - 0s 15ms/step\n",
      "1/1 [==============================] - 0s 14ms/step\n"
     ]
    },
    {
     "name": "stderr",
     "output_type": "stream",
     "text": [
      "2024-01-26 12:22:39 WaideMBP-3.bahnhof.se root[83734] DEBUG Buy at: $395.80\n"
     ]
    },
    {
     "name": "stdout",
     "output_type": "stream",
     "text": [
      "1/1 [==============================] - 0s 15ms/step\n"
     ]
    },
    {
     "name": "stderr",
     "output_type": "stream",
     "text": [
      "2024-01-26 12:22:39 WaideMBP-3.bahnhof.se root[83734] DEBUG Sell at: $400.48 | Position: +$4.68\n"
     ]
    },
    {
     "name": "stdout",
     "output_type": "stream",
     "text": [
      "1/1 [==============================] - 0s 16ms/step\n",
      "1/1 [==============================] - 0s 15ms/step\n",
      "1/1 [==============================] - 0s 14ms/step\n",
      "1/1 [==============================] - 0s 15ms/step\n"
     ]
    },
    {
     "name": "stderr",
     "output_type": "stream",
     "text": [
      "2024-01-26 12:22:39 WaideMBP-3.bahnhof.se root[83734] DEBUG Buy at: $361.05\n"
     ]
    },
    {
     "name": "stdout",
     "output_type": "stream",
     "text": [
      "1/1 [==============================] - 0s 15ms/step\n",
      "1/1 [==============================] - 0s 15ms/step\n"
     ]
    },
    {
     "name": "stderr",
     "output_type": "stream",
     "text": [
      "2024-01-26 12:22:39 WaideMBP-3.bahnhof.se root[83734] DEBUG Buy at: $357.32\n"
     ]
    },
    {
     "name": "stdout",
     "output_type": "stream",
     "text": [
      "1/1 [==============================] - 0s 14ms/step\n"
     ]
    },
    {
     "name": "stderr",
     "output_type": "stream",
     "text": [
      "2024-01-26 12:22:39 WaideMBP-3.bahnhof.se root[83734] DEBUG Buy at: $362.87\n"
     ]
    },
    {
     "name": "stdout",
     "output_type": "stream",
     "text": [
      "1/1 [==============================] - 0s 14ms/step\n"
     ]
    },
    {
     "name": "stderr",
     "output_type": "stream",
     "text": [
      "2024-01-26 12:22:39 WaideMBP-3.bahnhof.se root[83734] DEBUG Buy at: $363.09\n"
     ]
    },
    {
     "name": "stdout",
     "output_type": "stream",
     "text": [
      "1/1 [==============================] - 0s 15ms/step\n"
     ]
    },
    {
     "name": "stderr",
     "output_type": "stream",
     "text": [
      "2024-01-26 12:22:39 WaideMBP-3.bahnhof.se root[83734] DEBUG Buy at: $355.21\n"
     ]
    },
    {
     "name": "stdout",
     "output_type": "stream",
     "text": [
      "1/1 [==============================] - 0s 15ms/step\n",
      "1/1 [==============================] - 0s 14ms/step\n"
     ]
    },
    {
     "name": "stderr",
     "output_type": "stream",
     "text": [
      "2024-01-26 12:22:39 WaideMBP-3.bahnhof.se root[83734] DEBUG Buy at: $337.45\n"
     ]
    },
    {
     "name": "stdout",
     "output_type": "stream",
     "text": [
      "1/1 [==============================] - 0s 17ms/step\n"
     ]
    },
    {
     "name": "stderr",
     "output_type": "stream",
     "text": [
      "2024-01-26 12:22:39 WaideMBP-3.bahnhof.se root[83734] DEBUG Sell at: $338.38 | Position: -$22.67\n"
     ]
    },
    {
     "name": "stdout",
     "output_type": "stream",
     "text": [
      "1/1 [==============================] - 0s 15ms/step\n"
     ]
    },
    {
     "name": "stderr",
     "output_type": "stream",
     "text": [
      "2024-01-26 12:22:39 WaideMBP-3.bahnhof.se root[83734] DEBUG Sell at: $344.50 | Position: -$12.82\n"
     ]
    },
    {
     "name": "stdout",
     "output_type": "stream",
     "text": [
      "1/1 [==============================] - 0s 15ms/step\n"
     ]
    },
    {
     "name": "stderr",
     "output_type": "stream",
     "text": [
      "2024-01-26 12:22:39 WaideMBP-3.bahnhof.se root[83734] DEBUG Buy at: $343.09\n"
     ]
    },
    {
     "name": "stdout",
     "output_type": "stream",
     "text": [
      "1/1 [==============================] - 0s 14ms/step\n"
     ]
    },
    {
     "name": "stderr",
     "output_type": "stream",
     "text": [
      "2024-01-26 12:22:40 WaideMBP-3.bahnhof.se root[83734] DEBUG Buy at: $350.92\n"
     ]
    },
    {
     "name": "stdout",
     "output_type": "stream",
     "text": [
      "1/1 [==============================] - 0s 15ms/step\n"
     ]
    },
    {
     "name": "stderr",
     "output_type": "stream",
     "text": [
      "2024-01-26 12:22:40 WaideMBP-3.bahnhof.se root[83734] DEBUG Sell at: $351.83 | Position: -$11.04\n"
     ]
    },
    {
     "name": "stdout",
     "output_type": "stream",
     "text": [
      "1/1 [==============================] - 0s 14ms/step\n"
     ]
    },
    {
     "name": "stderr",
     "output_type": "stream",
     "text": [
      "2024-01-26 12:22:40 WaideMBP-3.bahnhof.se root[83734] DEBUG Buy at: $347.61\n"
     ]
    },
    {
     "name": "stdout",
     "output_type": "stream",
     "text": [
      "1/1 [==============================] - 0s 15ms/step\n"
     ]
    },
    {
     "name": "stderr",
     "output_type": "stream",
     "text": [
      "2024-01-26 12:22:40 WaideMBP-3.bahnhof.se root[83734] DEBUG Buy at: $349.36\n",
      "2024-01-26 12:22:40 WaideMBP-3.bahnhof.se root[83734] INFO model_dqn_GOOG_50: +$249.86\n",
      "\n"
     ]
    }
   ],
   "source": [
    "import logging\n",
    "import coloredlogs\n",
    "\n",
    "from trading_bot.utils import show_eval_result, switch_k_backend_device, get_stock_data\n",
    "from trading_bot.methods import evaluate_model\n",
    "\n",
    "coloredlogs.install(level='DEBUG')\n",
    "switch_k_backend_device()\n",
    "\n",
    "test_data = get_stock_data(test_stock)\n",
    "initial_offset = test_data[1] - test_data[0]\n",
    "\n",
    "test_result, history = evaluate_model(agent, test_data, window_size, debug)\n",
    "show_eval_result(model_name, test_result, initial_offset)"
   ]
  },
  {
   "cell_type": "markdown",
   "metadata": {},
   "source": [
    "### 4. Visualize"
   ]
  },
  {
   "cell_type": "code",
   "execution_count": 44,
   "metadata": {},
   "outputs": [],
   "source": [
    "def visualize(df, history, title=\"trading session\"):\n",
    "    # add history to dataframe\n",
    "    position = [history[0][0]] + [x[0] for x in history]\n",
    "    actions = ['HOLD'] + [x[1] for x in history]\n",
    "    df['position'] = position\n",
    "    df['action'] = actions\n",
    "    \n",
    "    # specify y-axis scale for stock prices\n",
    "    scale = alt.Scale(domain=(min(min(df['actual']), min(df['position'])) - 50, max(max(df['actual']), max(df['position'])) + 50), clamp=True)\n",
    "    \n",
    "    # plot a line chart for stock positions\n",
    "    actual = alt.Chart(df).mark_line(\n",
    "        color='green',\n",
    "        opacity=0.5\n",
    "    ).encode(\n",
    "        x='date:T',\n",
    "        y=alt.Y('position', axis=alt.Axis(format='$.2f', title='Price'), scale=scale)\n",
    "    ).interactive(\n",
    "        bind_y=False\n",
    "    )\n",
    "    \n",
    "    # plot the BUY and SELL actions as points\n",
    "    points = alt.Chart(df).transform_filter(\n",
    "        alt.datum.action != 'HOLD'\n",
    "    ).mark_point(\n",
    "        filled=True\n",
    "    ).encode(\n",
    "        x=alt.X('date:T', axis=alt.Axis(title='Date')),\n",
    "        y=alt.Y('position', axis=alt.Axis(format='$.2f', title='Price'), scale=scale),\n",
    "        color='action'\n",
    "    ).interactive(bind_y=False)\n",
    "\n",
    "    # merge the two charts\n",
    "    chart = alt.layer(actual, points, title=title).properties(height=300, width=1000)\n",
    "    \n",
    "    return chart"
   ]
  },
  {
   "cell_type": "code",
   "execution_count": 45,
   "metadata": {},
   "outputs": [
    {
     "data": {
      "text/html": [
       "\n",
       "<style>\n",
       "  #altair-viz-bf36f06bb57e4b6cae28d3ab1426424a.vega-embed {\n",
       "    width: 100%;\n",
       "    display: flex;\n",
       "  }\n",
       "\n",
       "  #altair-viz-bf36f06bb57e4b6cae28d3ab1426424a.vega-embed details,\n",
       "  #altair-viz-bf36f06bb57e4b6cae28d3ab1426424a.vega-embed details summary {\n",
       "    position: relative;\n",
       "  }\n",
       "</style>\n",
       "<div id=\"altair-viz-bf36f06bb57e4b6cae28d3ab1426424a\"></div>\n",
       "<script type=\"text/javascript\">\n",
       "  var VEGA_DEBUG = (typeof VEGA_DEBUG == \"undefined\") ? {} : VEGA_DEBUG;\n",
       "  (function(spec, embedOpt){\n",
       "    let outputDiv = document.currentScript.previousElementSibling;\n",
       "    if (outputDiv.id !== \"altair-viz-bf36f06bb57e4b6cae28d3ab1426424a\") {\n",
       "      outputDiv = document.getElementById(\"altair-viz-bf36f06bb57e4b6cae28d3ab1426424a\");\n",
       "    }\n",
       "    const paths = {\n",
       "      \"vega\": \"https://cdn.jsdelivr.net/npm/vega@5?noext\",\n",
       "      \"vega-lib\": \"https://cdn.jsdelivr.net/npm/vega-lib?noext\",\n",
       "      \"vega-lite\": \"https://cdn.jsdelivr.net/npm/vega-lite@5.16.3?noext\",\n",
       "      \"vega-embed\": \"https://cdn.jsdelivr.net/npm/vega-embed@6?noext\",\n",
       "    };\n",
       "\n",
       "    function maybeLoadScript(lib, version) {\n",
       "      var key = `${lib.replace(\"-\", \"\")}_version`;\n",
       "      return (VEGA_DEBUG[key] == version) ?\n",
       "        Promise.resolve(paths[lib]) :\n",
       "        new Promise(function(resolve, reject) {\n",
       "          var s = document.createElement('script');\n",
       "          document.getElementsByTagName(\"head\")[0].appendChild(s);\n",
       "          s.async = true;\n",
       "          s.onload = () => {\n",
       "            VEGA_DEBUG[key] = version;\n",
       "            return resolve(paths[lib]);\n",
       "          };\n",
       "          s.onerror = () => reject(`Error loading script: ${paths[lib]}`);\n",
       "          s.src = paths[lib];\n",
       "        });\n",
       "    }\n",
       "\n",
       "    function showError(err) {\n",
       "      outputDiv.innerHTML = `<div class=\"error\" style=\"color:red;\">${err}</div>`;\n",
       "      throw err;\n",
       "    }\n",
       "\n",
       "    function displayChart(vegaEmbed) {\n",
       "      vegaEmbed(outputDiv, spec, embedOpt)\n",
       "        .catch(err => showError(`Javascript Error: ${err.message}<br>This usually means there's a typo in your chart specification. See the javascript console for the full traceback.`));\n",
       "    }\n",
       "\n",
       "    if(typeof define === \"function\" && define.amd) {\n",
       "      requirejs.config({paths});\n",
       "      require([\"vega-embed\"], displayChart, err => showError(`Error loading script: ${err.message}`));\n",
       "    } else {\n",
       "      maybeLoadScript(\"vega\", \"5\")\n",
       "        .then(() => maybeLoadScript(\"vega-lite\", \"5.16.3\"))\n",
       "        .then(() => maybeLoadScript(\"vega-embed\", \"6\"))\n",
       "        .catch(showError)\n",
       "        .then(() => displayChart(vegaEmbed));\n",
       "    }\n",
       "  })({\"config\": {\"view\": {\"continuousWidth\": 300, \"continuousHeight\": 300}}, \"layer\": [{\"mark\": {\"type\": \"line\", \"color\": \"green\", \"opacity\": 0.5}, \"encoding\": {\"x\": {\"field\": \"date\", \"type\": \"temporal\"}, \"y\": {\"axis\": {\"format\": \"$.2f\", \"title\": \"Price\"}, \"field\": \"position\", \"scale\": {\"clamp\": true, \"domain\": [-42.314286, 468.970001]}, \"type\": \"quantitative\"}}, \"name\": \"view_5\"}, {\"mark\": {\"type\": \"point\", \"filled\": true}, \"encoding\": {\"color\": {\"field\": \"action\", \"type\": \"nominal\"}, \"x\": {\"axis\": {\"title\": \"Date\"}, \"field\": \"date\", \"type\": \"temporal\"}, \"y\": {\"axis\": {\"format\": \"$.2f\", \"title\": \"Price\"}, \"field\": \"position\", \"scale\": {\"clamp\": true, \"domain\": [-42.314286, 468.970001]}, \"type\": \"quantitative\"}}, \"name\": \"view_6\", \"transform\": [{\"filter\": \"(datum.action !== 'HOLD')\"}]}], \"data\": {\"name\": \"data-a51bc0ff3e18d28b1e771f3bf3fcdbad\"}, \"height\": 300, \"params\": [{\"name\": \"param_5\", \"select\": {\"type\": \"interval\", \"encodings\": [\"x\"]}, \"bind\": \"scales\", \"views\": [\"view_5\"]}, {\"name\": \"param_6\", \"select\": {\"type\": \"interval\", \"encodings\": [\"x\"]}, \"bind\": \"scales\", \"views\": [\"view_6\"]}], \"title\": \"data/NFLX.csv\", \"width\": 1000, \"$schema\": \"https://vega.github.io/schema/vega-lite/v5.16.3.json\", \"datasets\": {\"data-a51bc0ff3e18d28b1e771f3bf3fcdbad\": [{\"date\": \"2010-08-12T00:00:00\", \"actual\": 19.007143, \"position\": 19.007143, \"action\": \"HOLD\"}, {\"date\": \"2010-08-13T00:00:00\", \"actual\": 18.894285, \"position\": 19.007143, \"action\": \"BUY\"}, {\"date\": \"2010-08-16T00:00:00\", \"actual\": 19.602858, \"position\": 18.894285, \"action\": \"SELL\"}, {\"date\": \"2010-08-17T00:00:00\", \"actual\": 18.995714, \"position\": 19.602858, \"action\": \"HOLD\"}, {\"date\": \"2010-08-18T00:00:00\", \"actual\": 17.957144, \"position\": 18.995714, \"action\": \"HOLD\"}, {\"date\": \"2010-08-19T00:00:00\", \"actual\": 18.32, \"position\": 17.957144, \"action\": \"BUY\"}, {\"date\": \"2010-08-20T00:00:00\", \"actual\": 18.565714, \"position\": 18.32, \"action\": \"SELL\"}, {\"date\": \"2010-08-23T00:00:00\", \"actual\": 18.128571, \"position\": 18.565714, \"action\": \"HOLD\"}, {\"date\": \"2010-08-24T00:00:00\", \"actual\": 17.325714, \"position\": 18.128571, \"action\": \"HOLD\"}, {\"date\": \"2010-08-25T00:00:00\", \"actual\": 17.75, \"position\": 17.325714, \"action\": \"HOLD\"}, {\"date\": \"2010-08-26T00:00:00\", \"actual\": 17.977142, \"position\": 17.75, \"action\": \"HOLD\"}, {\"date\": \"2010-08-27T00:00:00\", \"actual\": 18.014286, \"position\": 17.977142, \"action\": \"HOLD\"}, {\"date\": \"2010-08-30T00:00:00\", \"actual\": 17.585714, \"position\": 18.014286, \"action\": \"HOLD\"}, {\"date\": \"2010-08-31T00:00:00\", \"actual\": 17.931429, \"position\": 17.585714, \"action\": \"BUY\"}, {\"date\": \"2010-09-01T00:00:00\", \"actual\": 19.272858, \"position\": 17.931429, \"action\": \"SELL\"}, {\"date\": \"2010-09-02T00:00:00\", \"actual\": 19.714285, \"position\": 19.272858, \"action\": \"HOLD\"}, {\"date\": \"2010-09-03T00:00:00\", \"actual\": 19.782858, \"position\": 19.714285, \"action\": \"HOLD\"}, {\"date\": \"2010-09-07T00:00:00\", \"actual\": 20.255714, \"position\": 19.782858, \"action\": \"HOLD\"}, {\"date\": \"2010-09-08T00:00:00\", \"actual\": 20.857143, \"position\": 20.255714, \"action\": \"HOLD\"}, {\"date\": \"2010-09-09T00:00:00\", \"actual\": 20.811428, \"position\": 20.857143, \"action\": \"HOLD\"}, {\"date\": \"2010-09-10T00:00:00\", \"actual\": 20.879999, \"position\": 20.811428, \"action\": \"HOLD\"}, {\"date\": \"2010-09-13T00:00:00\", \"actual\": 21.134285, \"position\": 20.879999, \"action\": \"HOLD\"}, {\"date\": \"2010-09-14T00:00:00\", \"actual\": 20.950001, \"position\": 21.134285, \"action\": \"HOLD\"}, {\"date\": \"2010-09-15T00:00:00\", \"actual\": 20.445715, \"position\": 20.950001, \"action\": \"HOLD\"}, {\"date\": \"2010-09-16T00:00:00\", \"actual\": 20.071428, \"position\": 20.445715, \"action\": \"HOLD\"}, {\"date\": \"2010-09-17T00:00:00\", \"actual\": 20.065714, \"position\": 20.071428, \"action\": \"HOLD\"}, {\"date\": \"2010-09-20T00:00:00\", \"actual\": 20.412857, \"position\": 20.065714, \"action\": \"HOLD\"}, {\"date\": \"2010-09-21T00:00:00\", \"actual\": 21.028572, \"position\": 20.412857, \"action\": \"HOLD\"}, {\"date\": \"2010-09-22T00:00:00\", \"actual\": 22.418571, \"position\": 21.028572, \"action\": \"HOLD\"}, {\"date\": \"2010-09-23T00:00:00\", \"actual\": 22.924286, \"position\": 22.418571, \"action\": \"HOLD\"}, {\"date\": \"2010-09-24T00:00:00\", \"actual\": 23.172857, \"position\": 22.924286, \"action\": \"HOLD\"}, {\"date\": \"2010-09-27T00:00:00\", \"actual\": 23.57, \"position\": 23.172857, \"action\": \"HOLD\"}, {\"date\": \"2010-09-28T00:00:00\", \"actual\": 23.122858, \"position\": 23.57, \"action\": \"HOLD\"}, {\"date\": \"2010-09-29T00:00:00\", \"actual\": 24.375713, \"position\": 23.122858, \"action\": \"HOLD\"}, {\"date\": \"2010-09-30T00:00:00\", \"actual\": 23.165714, \"position\": 24.375713, \"action\": \"HOLD\"}, {\"date\": \"2010-10-01T00:00:00\", \"actual\": 22.094286, \"position\": 23.165714, \"action\": \"HOLD\"}, {\"date\": \"2010-10-04T00:00:00\", \"actual\": 22.341429, \"position\": 22.094286, \"action\": \"HOLD\"}, {\"date\": \"2010-10-05T00:00:00\", \"actual\": 22.308571, \"position\": 22.341429, \"action\": \"HOLD\"}, {\"date\": \"2010-10-06T00:00:00\", \"actual\": 21.467142, \"position\": 22.308571, \"action\": \"HOLD\"}, {\"date\": \"2010-10-07T00:00:00\", \"actual\": 21.632856, \"position\": 21.467142, \"action\": \"HOLD\"}, {\"date\": \"2010-10-08T00:00:00\", \"actual\": 21.377142, \"position\": 21.632856, \"action\": \"HOLD\"}, {\"date\": \"2010-10-11T00:00:00\", \"actual\": 21.955715, \"position\": 21.377142, \"action\": \"HOLD\"}, {\"date\": \"2010-10-12T00:00:00\", \"actual\": 22.198572, \"position\": 21.955715, \"action\": \"HOLD\"}, {\"date\": \"2010-10-13T00:00:00\", \"actual\": 22.087143, \"position\": 22.198572, \"action\": \"HOLD\"}, {\"date\": \"2010-10-14T00:00:00\", \"actual\": 21.825714, \"position\": 22.087143, \"action\": \"BUY\"}, {\"date\": \"2010-10-15T00:00:00\", \"actual\": 22.245714, \"position\": 21.825714, \"action\": \"BUY\"}, {\"date\": \"2010-10-18T00:00:00\", \"actual\": 21.857143, \"position\": 22.245714, \"action\": \"SELL\"}, {\"date\": \"2010-10-19T00:00:00\", \"actual\": 21.332857, \"position\": 21.857143, \"action\": \"BUY\"}, {\"date\": \"2010-10-20T00:00:00\", \"actual\": 21.878571, \"position\": 21.332857, \"action\": \"BUY\"}, {\"date\": \"2010-10-21T00:00:00\", \"actual\": 24.67, \"position\": 21.878571, \"action\": \"SELL\"}, {\"date\": \"2010-10-22T00:00:00\", \"actual\": 24.014286, \"position\": 24.67, \"action\": \"SELL\"}, {\"date\": \"2010-10-25T00:00:00\", \"actual\": 23.834286, \"position\": 24.014286, \"action\": \"SELL\"}, {\"date\": \"2010-10-26T00:00:00\", \"actual\": 25.374287, \"position\": 23.834286, \"action\": \"HOLD\"}, {\"date\": \"2010-10-27T00:00:00\", \"actual\": 25.5, \"position\": 25.374287, \"action\": \"HOLD\"}, {\"date\": \"2010-10-28T00:00:00\", \"actual\": 25.1, \"position\": 25.5, \"action\": \"HOLD\"}, {\"date\": \"2010-10-29T00:00:00\", \"actual\": 24.795713, \"position\": 25.1, \"action\": \"HOLD\"}, {\"date\": \"2010-11-01T00:00:00\", \"actual\": 23.91, \"position\": 24.795713, \"action\": \"HOLD\"}, {\"date\": \"2010-11-02T00:00:00\", \"actual\": 24.515715, \"position\": 23.91, \"action\": \"HOLD\"}, {\"date\": \"2010-11-03T00:00:00\", \"actual\": 24.494286, \"position\": 24.515715, \"action\": \"HOLD\"}, {\"date\": \"2010-11-04T00:00:00\", \"actual\": 23.974285, \"position\": 24.494286, \"action\": \"HOLD\"}, {\"date\": \"2010-11-05T00:00:00\", \"actual\": 24.014286, \"position\": 23.974285, \"action\": \"HOLD\"}, {\"date\": \"2010-11-08T00:00:00\", \"actual\": 24.161428, \"position\": 24.014286, \"action\": \"HOLD\"}, {\"date\": \"2010-11-09T00:00:00\", \"actual\": 24.351429, \"position\": 24.161428, \"action\": \"HOLD\"}, {\"date\": \"2010-11-10T00:00:00\", \"actual\": 25.267143, \"position\": 24.351429, \"action\": \"HOLD\"}, {\"date\": \"2010-11-11T00:00:00\", \"actual\": 25.02, \"position\": 25.267143, \"action\": \"HOLD\"}, {\"date\": \"2010-11-12T00:00:00\", \"actual\": 24.714285, \"position\": 25.02, \"action\": \"BUY\"}, {\"date\": \"2010-11-15T00:00:00\", \"actual\": 24.042856, \"position\": 24.714285, \"action\": \"BUY\"}, {\"date\": \"2010-11-16T00:00:00\", \"actual\": 23.628571, \"position\": 24.042856, \"action\": \"SELL\"}, {\"date\": \"2010-11-17T00:00:00\", \"actual\": 23.811428, \"position\": 23.628571, \"action\": \"SELL\"}, {\"date\": \"2010-11-18T00:00:00\", \"actual\": 24.047142, \"position\": 23.811428, \"action\": \"HOLD\"}, {\"date\": \"2010-11-19T00:00:00\", \"actual\": 24.719999, \"position\": 24.047142, \"action\": \"HOLD\"}, {\"date\": \"2010-11-22T00:00:00\", \"actual\": 26.902857, \"position\": 24.719999, \"action\": \"HOLD\"}, {\"date\": \"2010-11-23T00:00:00\", \"actual\": 26.815714, \"position\": 26.902857, \"action\": \"HOLD\"}, {\"date\": \"2010-11-24T00:00:00\", \"actual\": 26.967142, \"position\": 26.815714, \"action\": \"HOLD\"}, {\"date\": \"2010-11-26T00:00:00\", \"actual\": 27.414286, \"position\": 26.967142, \"action\": \"HOLD\"}, {\"date\": \"2010-11-29T00:00:00\", \"actual\": 28.417143, \"position\": 27.414286, \"action\": \"HOLD\"}, {\"date\": \"2010-11-30T00:00:00\", \"actual\": 29.414286, \"position\": 28.417143, \"action\": \"HOLD\"}, {\"date\": \"2010-12-01T00:00:00\", \"actual\": 28.591429, \"position\": 29.414286, \"action\": \"HOLD\"}, {\"date\": \"2010-12-02T00:00:00\", \"actual\": 27.631428, \"position\": 28.591429, \"action\": \"HOLD\"}, {\"date\": \"2010-12-03T00:00:00\", \"actual\": 26.492857, \"position\": 27.631428, \"action\": \"HOLD\"}, {\"date\": \"2010-12-06T00:00:00\", \"actual\": 27.638571, \"position\": 26.492857, \"action\": \"BUY\"}, {\"date\": \"2010-12-07T00:00:00\", \"actual\": 27.115715, \"position\": 27.638571, \"action\": \"SELL\"}, {\"date\": \"2010-12-08T00:00:00\", \"actual\": 26.889999, \"position\": 27.115715, \"action\": \"HOLD\"}, {\"date\": \"2010-12-09T00:00:00\", \"actual\": 27.292856, \"position\": 26.889999, \"action\": \"HOLD\"}, {\"date\": \"2010-12-10T00:00:00\", \"actual\": 27.804285, \"position\": 27.292856, \"action\": \"HOLD\"}, {\"date\": \"2010-12-13T00:00:00\", \"actual\": 26.257143, \"position\": 27.804285, \"action\": \"HOLD\"}, {\"date\": \"2010-12-14T00:00:00\", \"actual\": 25.492857, \"position\": 26.257143, \"action\": \"HOLD\"}, {\"date\": \"2010-12-15T00:00:00\", \"actual\": 25.5, \"position\": 25.492857, \"action\": \"BUY\"}, {\"date\": \"2010-12-16T00:00:00\", \"actual\": 25.950001, \"position\": 25.5, \"action\": \"SELL\"}, {\"date\": \"2010-12-17T00:00:00\", \"actual\": 25.717142, \"position\": 25.950001, \"action\": \"HOLD\"}, {\"date\": \"2010-12-20T00:00:00\", \"actual\": 25.435715, \"position\": 25.717142, \"action\": \"HOLD\"}, {\"date\": \"2010-12-21T00:00:00\", \"actual\": 26.605715, \"position\": 25.435715, \"action\": \"BUY\"}, {\"date\": \"2010-12-22T00:00:00\", \"actual\": 26.478571, \"position\": 26.605715, \"action\": \"SELL\"}, {\"date\": \"2010-12-23T00:00:00\", \"actual\": 26.368572, \"position\": 26.478571, \"action\": \"HOLD\"}, {\"date\": \"2010-12-27T00:00:00\", \"actual\": 25.715714, \"position\": 26.368572, \"action\": \"HOLD\"}, {\"date\": \"2010-12-28T00:00:00\", \"actual\": 26.238571, \"position\": 25.715714, \"action\": \"BUY\"}, {\"date\": \"2010-12-29T00:00:00\", \"actual\": 25.752857, \"position\": 26.238571, \"action\": \"SELL\"}, {\"date\": \"2010-12-30T00:00:00\", \"actual\": 25.685715, \"position\": 25.752857, \"action\": \"HOLD\"}, {\"date\": \"2010-12-31T00:00:00\", \"actual\": 25.1, \"position\": 25.685715, \"action\": \"HOLD\"}, {\"date\": \"2011-01-03T00:00:00\", \"actual\": 25.487143, \"position\": 25.1, \"action\": \"BUY\"}, {\"date\": \"2011-01-04T00:00:00\", \"actual\": 25.91, \"position\": 25.487143, \"action\": \"SELL\"}, {\"date\": \"2011-01-05T00:00:00\", \"actual\": 25.675714, \"position\": 25.91, \"action\": \"HOLD\"}, {\"date\": \"2011-01-06T00:00:00\", \"actual\": 25.427143, \"position\": 25.675714, \"action\": \"HOLD\"}, {\"date\": \"2011-01-07T00:00:00\", \"actual\": 25.614286, \"position\": 25.427143, \"action\": \"BUY\"}, {\"date\": \"2011-01-10T00:00:00\", \"actual\": 26.84, \"position\": 25.614286, \"action\": \"SELL\"}, {\"date\": \"2011-01-11T00:00:00\", \"actual\": 26.664286, \"position\": 26.84, \"action\": \"HOLD\"}, {\"date\": \"2011-01-12T00:00:00\", \"actual\": 26.985714, \"position\": 26.664286, \"action\": \"HOLD\"}, {\"date\": \"2011-01-13T00:00:00\", \"actual\": 27.355715, \"position\": 26.985714, \"action\": \"HOLD\"}, {\"date\": \"2011-01-14T00:00:00\", \"actual\": 27.354286, \"position\": 27.355715, \"action\": \"HOLD\"}, {\"date\": \"2011-01-18T00:00:00\", \"actual\": 27.668571, \"position\": 27.354286, \"action\": \"HOLD\"}, {\"date\": \"2011-01-19T00:00:00\", \"actual\": 27.267143, \"position\": 27.668571, \"action\": \"HOLD\"}, {\"date\": \"2011-01-20T00:00:00\", \"actual\": 26.428572, \"position\": 27.267143, \"action\": \"HOLD\"}, {\"date\": \"2011-01-21T00:00:00\", \"actual\": 26.012857, \"position\": 26.428572, \"action\": \"HOLD\"}, {\"date\": \"2011-01-24T00:00:00\", \"actual\": 26.280001, \"position\": 26.012857, \"action\": \"HOLD\"}, {\"date\": \"2011-01-25T00:00:00\", \"actual\": 26.677143, \"position\": 26.280001, \"action\": \"HOLD\"}, {\"date\": \"2011-01-26T00:00:00\", \"actual\": 26.147142, \"position\": 26.677143, \"action\": \"HOLD\"}, {\"date\": \"2011-01-27T00:00:00\", \"actual\": 30.124287, \"position\": 26.147142, \"action\": \"HOLD\"}, {\"date\": \"2011-01-28T00:00:00\", \"actual\": 31.139999, \"position\": 30.124287, \"action\": \"HOLD\"}, {\"date\": \"2011-01-31T00:00:00\", \"actual\": 30.582857, \"position\": 31.139999, \"action\": \"HOLD\"}, {\"date\": \"2011-02-01T00:00:00\", \"actual\": 30.414286, \"position\": 30.582857, \"action\": \"HOLD\"}, {\"date\": \"2011-02-02T00:00:00\", \"actual\": 30.18, \"position\": 30.414286, \"action\": \"HOLD\"}, {\"date\": \"2011-02-03T00:00:00\", \"actual\": 30.212856, \"position\": 30.18, \"action\": \"BUY\"}, {\"date\": \"2011-02-04T00:00:00\", \"actual\": 31.438572, \"position\": 30.212856, \"action\": \"SELL\"}, {\"date\": \"2011-02-07T00:00:00\", \"actual\": 31.145714, \"position\": 31.438572, \"action\": \"HOLD\"}, {\"date\": \"2011-02-08T00:00:00\", \"actual\": 31.09, \"position\": 31.145714, \"action\": \"HOLD\"}, {\"date\": \"2011-02-09T00:00:00\", \"actual\": 31.755714, \"position\": 31.09, \"action\": \"HOLD\"}, {\"date\": \"2011-02-10T00:00:00\", \"actual\": 31.885714, \"position\": 31.755714, \"action\": \"HOLD\"}, {\"date\": \"2011-02-11T00:00:00\", \"actual\": 33.009998, \"position\": 31.885714, \"action\": \"HOLD\"}, {\"date\": \"2011-02-14T00:00:00\", \"actual\": 35.364285, \"position\": 33.009998, \"action\": \"HOLD\"}, {\"date\": \"2011-02-15T00:00:00\", \"actual\": 34.398571, \"position\": 35.364285, \"action\": \"HOLD\"}, {\"date\": \"2011-02-16T00:00:00\", \"actual\": 33.959999, \"position\": 34.398571, \"action\": \"HOLD\"}, {\"date\": \"2011-02-17T00:00:00\", \"actual\": 33.66143, \"position\": 33.959999, \"action\": \"HOLD\"}, {\"date\": \"2011-02-18T00:00:00\", \"actual\": 33.644287, \"position\": 33.66143, \"action\": \"HOLD\"}, {\"date\": \"2011-02-22T00:00:00\", \"actual\": 31.657143, \"position\": 33.644287, \"action\": \"HOLD\"}, {\"date\": \"2011-02-23T00:00:00\", \"actual\": 30.171429, \"position\": 31.657143, \"action\": \"HOLD\"}, {\"date\": \"2011-02-24T00:00:00\", \"actual\": 30.74, \"position\": 30.171429, \"action\": \"BUY\"}, {\"date\": \"2011-02-25T00:00:00\", \"actual\": 30.348572, \"position\": 30.74, \"action\": \"SELL\"}, {\"date\": \"2011-02-28T00:00:00\", \"actual\": 29.524286, \"position\": 30.348572, \"action\": \"HOLD\"}, {\"date\": \"2011-03-01T00:00:00\", \"actual\": 29.232857, \"position\": 29.524286, \"action\": \"HOLD\"}, {\"date\": \"2011-03-02T00:00:00\", \"actual\": 29.175714, \"position\": 29.232857, \"action\": \"HOLD\"}, {\"date\": \"2011-03-03T00:00:00\", \"actual\": 29.052856, \"position\": 29.175714, \"action\": \"HOLD\"}, {\"date\": \"2011-03-04T00:00:00\", \"actual\": 30.102858, \"position\": 29.052856, \"action\": \"HOLD\"}, {\"date\": \"2011-03-07T00:00:00\", \"actual\": 29.628571, \"position\": 30.102858, \"action\": \"HOLD\"}, {\"date\": \"2011-03-08T00:00:00\", \"actual\": 27.921429, \"position\": 29.628571, \"action\": \"BUY\"}, {\"date\": \"2011-03-09T00:00:00\", \"actual\": 27.57, \"position\": 27.921429, \"action\": \"SELL\"}, {\"date\": \"2011-03-10T00:00:00\", \"actual\": 28.574286, \"position\": 27.57, \"action\": \"HOLD\"}, {\"date\": \"2011-03-11T00:00:00\", \"actual\": 29.219999, \"position\": 28.574286, \"action\": \"HOLD\"}, {\"date\": \"2011-03-14T00:00:00\", \"actual\": 28.742857, \"position\": 29.219999, \"action\": \"HOLD\"}, {\"date\": \"2011-03-15T00:00:00\", \"actual\": 31.015715, \"position\": 28.742857, \"action\": \"BUY\"}, {\"date\": \"2011-03-16T00:00:00\", \"actual\": 30.548571, \"position\": 31.015715, \"action\": \"SELL\"}, {\"date\": \"2011-03-17T00:00:00\", \"actual\": 30.557142, \"position\": 30.548571, \"action\": \"HOLD\"}, {\"date\": \"2011-03-18T00:00:00\", \"actual\": 29.914286, \"position\": 30.557142, \"action\": \"HOLD\"}, {\"date\": \"2011-03-21T00:00:00\", \"actual\": 30.405714, \"position\": 29.914286, \"action\": \"HOLD\"}, {\"date\": \"2011-03-22T00:00:00\", \"actual\": 31.627142, \"position\": 30.405714, \"action\": \"BUY\"}, {\"date\": \"2011-03-23T00:00:00\", \"actual\": 32.722858, \"position\": 31.627142, \"action\": \"SELL\"}, {\"date\": \"2011-03-24T00:00:00\", \"actual\": 32.732857, \"position\": 32.722858, \"action\": \"HOLD\"}, {\"date\": \"2011-03-25T00:00:00\", \"actual\": 32.85857, \"position\": 32.732857, \"action\": \"HOLD\"}, {\"date\": \"2011-03-28T00:00:00\", \"actual\": 33.902859, \"position\": 32.85857, \"action\": \"HOLD\"}, {\"date\": \"2011-03-29T00:00:00\", \"actual\": 33.91143, \"position\": 33.902859, \"action\": \"HOLD\"}, {\"date\": \"2011-03-30T00:00:00\", \"actual\": 33.992859, \"position\": 33.91143, \"action\": \"HOLD\"}, {\"date\": \"2011-03-31T00:00:00\", \"actual\": 33.968571, \"position\": 33.992859, \"action\": \"HOLD\"}, {\"date\": \"2011-04-01T00:00:00\", \"actual\": 34.584286, \"position\": 33.968571, \"action\": \"HOLD\"}, {\"date\": \"2011-04-04T00:00:00\", \"actual\": 34.959999, \"position\": 34.584286, \"action\": \"HOLD\"}, {\"date\": \"2011-04-05T00:00:00\", \"actual\": 34.889999, \"position\": 34.959999, \"action\": \"HOLD\"}, {\"date\": \"2011-04-06T00:00:00\", \"actual\": 34.281429, \"position\": 34.889999, \"action\": \"HOLD\"}, {\"date\": \"2011-04-07T00:00:00\", \"actual\": 33.422855, \"position\": 34.281429, \"action\": \"BUY\"}, {\"date\": \"2011-04-08T00:00:00\", \"actual\": 33.55143, \"position\": 33.422855, \"action\": \"BUY\"}, {\"date\": \"2011-04-11T00:00:00\", \"actual\": 32.594284, \"position\": 33.55143, \"action\": \"SELL\"}, {\"date\": \"2011-04-12T00:00:00\", \"actual\": 33.417141, \"position\": 32.594284, \"action\": \"SELL\"}, {\"date\": \"2011-04-13T00:00:00\", \"actual\": 34.107143, \"position\": 33.417141, \"action\": \"HOLD\"}, {\"date\": \"2011-04-14T00:00:00\", \"actual\": 33.818573, \"position\": 34.107143, \"action\": \"HOLD\"}, {\"date\": \"2011-04-15T00:00:00\", \"actual\": 33.64143, \"position\": 33.818573, \"action\": \"HOLD\"}, {\"date\": \"2011-04-18T00:00:00\", \"actual\": 33.332859, \"position\": 33.64143, \"action\": \"BUY\"}, {\"date\": \"2011-04-19T00:00:00\", \"actual\": 34.507141, \"position\": 33.332859, \"action\": \"SELL\"}, {\"date\": \"2011-04-20T00:00:00\", \"actual\": 34.918571, \"position\": 34.507141, \"action\": \"HOLD\"}, {\"date\": \"2011-04-21T00:00:00\", \"actual\": 36.031429, \"position\": 34.918571, \"action\": \"HOLD\"}, {\"date\": \"2011-04-25T00:00:00\", \"actual\": 35.952858, \"position\": 36.031429, \"action\": \"HOLD\"}, {\"date\": \"2011-04-26T00:00:00\", \"actual\": 32.701427, \"position\": 35.952858, \"action\": \"HOLD\"}, {\"date\": \"2011-04-27T00:00:00\", \"actual\": 33.708572, \"position\": 32.701427, \"action\": \"HOLD\"}, {\"date\": \"2011-04-28T00:00:00\", \"actual\": 33.48143, \"position\": 33.708572, \"action\": \"HOLD\"}, {\"date\": \"2011-04-29T00:00:00\", \"actual\": 33.238571, \"position\": 33.48143, \"action\": \"HOLD\"}, {\"date\": \"2011-05-02T00:00:00\", \"actual\": 33.884285, \"position\": 33.238571, \"action\": \"HOLD\"}, {\"date\": \"2011-05-03T00:00:00\", \"actual\": 33.034286, \"position\": 33.884285, \"action\": \"HOLD\"}, {\"date\": \"2011-05-04T00:00:00\", \"actual\": 32.741428, \"position\": 33.034286, \"action\": \"HOLD\"}, {\"date\": \"2011-05-05T00:00:00\", \"actual\": 32.901428, \"position\": 32.741428, \"action\": \"HOLD\"}, {\"date\": \"2011-05-06T00:00:00\", \"actual\": 32.781429, \"position\": 32.901428, \"action\": \"HOLD\"}, {\"date\": \"2011-05-09T00:00:00\", \"actual\": 33.772858, \"position\": 32.781429, \"action\": \"HOLD\"}, {\"date\": \"2011-05-10T00:00:00\", \"actual\": 33.947144, \"position\": 33.772858, \"action\": \"HOLD\"}, {\"date\": \"2011-05-11T00:00:00\", \"actual\": 34.381428, \"position\": 33.947144, \"action\": \"HOLD\"}, {\"date\": \"2011-05-12T00:00:00\", \"actual\": 35.110001, \"position\": 34.381428, \"action\": \"HOLD\"}, {\"date\": \"2011-05-13T00:00:00\", \"actual\": 35.217144, \"position\": 35.110001, \"action\": \"HOLD\"}, {\"date\": \"2011-05-16T00:00:00\", \"actual\": 33.869999, \"position\": 35.217144, \"action\": \"HOLD\"}, {\"date\": \"2011-05-17T00:00:00\", \"actual\": 33.848572, \"position\": 33.869999, \"action\": \"BUY\"}, {\"date\": \"2011-05-18T00:00:00\", \"actual\": 34.648571, \"position\": 33.848572, \"action\": \"BUY\"}, {\"date\": \"2011-05-19T00:00:00\", \"actual\": 34.675713, \"position\": 34.648571, \"action\": \"SELL\"}, {\"date\": \"2011-05-20T00:00:00\", \"actual\": 35.128571, \"position\": 34.675713, \"action\": \"SELL\"}, {\"date\": \"2011-05-23T00:00:00\", \"actual\": 35.404285, \"position\": 35.128571, \"action\": \"HOLD\"}, {\"date\": \"2011-05-24T00:00:00\", \"actual\": 35.371429, \"position\": 35.404285, \"action\": \"HOLD\"}, {\"date\": \"2011-05-25T00:00:00\", \"actual\": 37.067142, \"position\": 35.371429, \"action\": \"HOLD\"}, {\"date\": \"2011-05-26T00:00:00\", \"actual\": 37.67857, \"position\": 37.067142, \"action\": \"HOLD\"}, {\"date\": \"2011-05-27T00:00:00\", \"actual\": 37.787144, \"position\": 37.67857, \"action\": \"HOLD\"}, {\"date\": \"2011-05-31T00:00:00\", \"actual\": 38.685715, \"position\": 37.787144, \"action\": \"HOLD\"}, {\"date\": \"2011-06-01T00:00:00\", \"actual\": 38.18, \"position\": 38.685715, \"action\": \"HOLD\"}, {\"date\": \"2011-06-02T00:00:00\", \"actual\": 38.814285, \"position\": 38.18, \"action\": \"HOLD\"}, {\"date\": \"2011-06-03T00:00:00\", \"actual\": 39.099998, \"position\": 38.814285, \"action\": \"HOLD\"}, {\"date\": \"2011-06-06T00:00:00\", \"actual\": 37.512856, \"position\": 39.099998, \"action\": \"HOLD\"}, {\"date\": \"2011-06-07T00:00:00\", \"actual\": 37.669998, \"position\": 37.512856, \"action\": \"HOLD\"}, {\"date\": \"2011-06-08T00:00:00\", \"actual\": 37.465714, \"position\": 37.669998, \"action\": \"BUY\"}, {\"date\": \"2011-06-09T00:00:00\", \"actual\": 37.509998, \"position\": 37.465714, \"action\": \"SELL\"}, {\"date\": \"2011-06-10T00:00:00\", \"actual\": 36.945713, \"position\": 37.509998, \"action\": \"HOLD\"}, {\"date\": \"2011-06-13T00:00:00\", \"actual\": 36.745716, \"position\": 36.945713, \"action\": \"HOLD\"}, {\"date\": \"2011-06-14T00:00:00\", \"actual\": 37.304287, \"position\": 36.745716, \"action\": \"HOLD\"}, {\"date\": \"2011-06-15T00:00:00\", \"actual\": 36.73143, \"position\": 37.304287, \"action\": \"HOLD\"}, {\"date\": \"2011-06-16T00:00:00\", \"actual\": 35.614285, \"position\": 36.73143, \"action\": \"HOLD\"}, {\"date\": \"2011-06-17T00:00:00\", \"actual\": 35.095715, \"position\": 35.614285, \"action\": \"BUY\"}, {\"date\": \"2011-06-20T00:00:00\", \"actual\": 35.09, \"position\": 35.095715, \"action\": \"SELL\"}, {\"date\": \"2011-06-21T00:00:00\", \"actual\": 36.235714, \"position\": 35.09, \"action\": \"HOLD\"}, {\"date\": \"2011-06-22T00:00:00\", \"actual\": 35.522858, \"position\": 36.235714, \"action\": \"HOLD\"}, {\"date\": \"2011-06-23T00:00:00\", \"actual\": 36.531429, \"position\": 35.522858, \"action\": \"HOLD\"}, {\"date\": \"2011-06-24T00:00:00\", \"actual\": 36.708572, \"position\": 36.531429, \"action\": \"HOLD\"}, {\"date\": \"2011-06-27T00:00:00\", \"actual\": 37.16, \"position\": 36.708572, \"action\": \"HOLD\"}, {\"date\": \"2011-06-28T00:00:00\", \"actual\": 37.869999, \"position\": 37.16, \"action\": \"HOLD\"}, {\"date\": \"2011-06-29T00:00:00\", \"actual\": 37.848572, \"position\": 37.869999, \"action\": \"HOLD\"}, {\"date\": \"2011-06-30T00:00:00\", \"actual\": 37.527142, \"position\": 37.848572, \"action\": \"HOLD\"}, {\"date\": \"2011-07-01T00:00:00\", \"actual\": 38.284286, \"position\": 37.527142, \"action\": \"BUY\"}, {\"date\": \"2011-07-05T00:00:00\", \"actual\": 41.375713, \"position\": 38.284286, \"action\": \"SELL\"}, {\"date\": \"2011-07-06T00:00:00\", \"actual\": 41.565716, \"position\": 41.375713, \"action\": \"HOLD\"}, {\"date\": \"2011-07-07T00:00:00\", \"actual\": 41.774284, \"position\": 41.565716, \"action\": \"HOLD\"}, {\"date\": \"2011-07-08T00:00:00\", \"actual\": 42.162857, \"position\": 41.774284, \"action\": \"HOLD\"}, {\"date\": \"2011-07-11T00:00:00\", \"actual\": 41.534286, \"position\": 42.162857, \"action\": \"HOLD\"}, {\"date\": \"2011-07-12T00:00:00\", \"actual\": 41.610001, \"position\": 41.534286, \"action\": \"HOLD\"}, {\"date\": \"2011-07-13T00:00:00\", \"actual\": 42.675713, \"position\": 41.610001, \"action\": \"HOLD\"}, {\"date\": \"2011-07-14T00:00:00\", \"actual\": 40.945713, \"position\": 42.675713, \"action\": \"HOLD\"}, {\"date\": \"2011-07-15T00:00:00\", \"actual\": 40.990002, \"position\": 40.945713, \"action\": \"HOLD\"}, {\"date\": \"2011-07-18T00:00:00\", \"actual\": 39.857143, \"position\": 40.990002, \"action\": \"HOLD\"}, {\"date\": \"2011-07-19T00:00:00\", \"actual\": 41.041428, \"position\": 39.857143, \"action\": \"BUY\"}, {\"date\": \"2011-07-20T00:00:00\", \"actual\": 40.200001, \"position\": 41.041428, \"action\": \"SELL\"}, {\"date\": \"2011-07-21T00:00:00\", \"actual\": 39.401428, \"position\": 40.200001, \"action\": \"HOLD\"}, {\"date\": \"2011-07-22T00:00:00\", \"actual\": 39.511429, \"position\": 39.401428, \"action\": \"BUY\"}, {\"date\": \"2011-07-25T00:00:00\", \"actual\": 40.218571, \"position\": 39.511429, \"action\": \"SELL\"}, {\"date\": \"2011-07-26T00:00:00\", \"actual\": 38.130001, \"position\": 40.218571, \"action\": \"HOLD\"}, {\"date\": \"2011-07-27T00:00:00\", \"actual\": 38.488571, \"position\": 38.130001, \"action\": \"HOLD\"}, {\"date\": \"2011-07-28T00:00:00\", \"actual\": 38.08857, \"position\": 38.488571, \"action\": \"HOLD\"}, {\"date\": \"2011-07-29T00:00:00\", \"actual\": 37.998573, \"position\": 38.08857, \"action\": \"BUY\"}, {\"date\": \"2011-08-01T00:00:00\", \"actual\": 37.625713, \"position\": 37.998573, \"action\": \"SELL\"}, {\"date\": \"2011-08-02T00:00:00\", \"actual\": 36.742859, \"position\": 37.625713, \"action\": \"BUY\"}, {\"date\": \"2011-08-03T00:00:00\", \"actual\": 37.142857, \"position\": 36.742859, \"action\": \"SELL\"}, {\"date\": \"2011-08-04T00:00:00\", \"actual\": 35.110001, \"position\": 37.142857, \"action\": \"HOLD\"}, {\"date\": \"2011-08-05T00:00:00\", \"actual\": 34.444286, \"position\": 35.110001, \"action\": \"HOLD\"}, {\"date\": \"2011-08-08T00:00:00\", \"actual\": 32.377144, \"position\": 34.444286, \"action\": \"BUY\"}, {\"date\": \"2011-08-09T00:00:00\", \"actual\": 33.971428, \"position\": 32.377144, \"action\": \"BUY\"}, {\"date\": \"2011-08-10T00:00:00\", \"actual\": 33.202858, \"position\": 33.971428, \"action\": \"SELL\"}, {\"date\": \"2011-08-11T00:00:00\", \"actual\": 34.732857, \"position\": 33.202858, \"action\": \"SELL\"}, {\"date\": \"2011-08-12T00:00:00\", \"actual\": 34.857143, \"position\": 34.732857, \"action\": \"HOLD\"}, {\"date\": \"2011-08-15T00:00:00\", \"actual\": 35.182858, \"position\": 34.857143, \"action\": \"HOLD\"}, {\"date\": \"2011-08-16T00:00:00\", \"actual\": 34.148571, \"position\": 35.182858, \"action\": \"HOLD\"}, {\"date\": \"2011-08-17T00:00:00\", \"actual\": 33.177143, \"position\": 34.148571, \"action\": \"HOLD\"}, {\"date\": \"2011-08-18T00:00:00\", \"actual\": 31.068571, \"position\": 33.177143, \"action\": \"BUY\"}, {\"date\": \"2011-08-19T00:00:00\", \"actual\": 29.315714, \"position\": 31.068571, \"action\": \"SELL\"}, {\"date\": \"2011-08-22T00:00:00\", \"actual\": 29.315714, \"position\": 29.315714, \"action\": \"HOLD\"}, {\"date\": \"2011-08-23T00:00:00\", \"actual\": 31.362858, \"position\": 29.315714, \"action\": \"BUY\"}, {\"date\": \"2011-08-24T00:00:00\", \"actual\": 30.861429, \"position\": 31.362858, \"action\": \"SELL\"}, {\"date\": \"2011-08-25T00:00:00\", \"actual\": 30.832857, \"position\": 30.861429, \"action\": \"HOLD\"}, {\"date\": \"2011-08-26T00:00:00\", \"actual\": 31.698572, \"position\": 30.832857, \"action\": \"BUY\"}, {\"date\": \"2011-08-29T00:00:00\", \"actual\": 32.148571, \"position\": 31.698572, \"action\": \"SELL\"}, {\"date\": \"2011-08-30T00:00:00\", \"actual\": 33.754284, \"position\": 32.148571, \"action\": \"HOLD\"}, {\"date\": \"2011-08-31T00:00:00\", \"actual\": 33.572857, \"position\": 33.754284, \"action\": \"HOLD\"}, {\"date\": \"2011-09-01T00:00:00\", \"actual\": 33.324287, \"position\": 33.572857, \"action\": \"HOLD\"}, {\"date\": \"2011-09-02T00:00:00\", \"actual\": 30.444286, \"position\": 33.324287, \"action\": \"BUY\"}, {\"date\": \"2011-09-06T00:00:00\", \"actual\": 31.252857, \"position\": 30.444286, \"action\": \"SELL\"}, {\"date\": \"2011-09-07T00:00:00\", \"actual\": 30.857143, \"position\": 31.252857, \"action\": \"HOLD\"}, {\"date\": \"2011-09-08T00:00:00\", \"actual\": 30.171429, \"position\": 30.857143, \"action\": \"HOLD\"}, {\"date\": \"2011-09-09T00:00:00\", \"actual\": 29.138571, \"position\": 30.171429, \"action\": \"HOLD\"}, {\"date\": \"2011-09-12T00:00:00\", \"actual\": 30.007143, \"position\": 29.138571, \"action\": \"HOLD\"}, {\"date\": \"2011-09-13T00:00:00\", \"actual\": 29.821428, \"position\": 30.007143, \"action\": \"HOLD\"}, {\"date\": \"2011-09-14T00:00:00\", \"actual\": 29.815714, \"position\": 29.821428, \"action\": \"HOLD\"}, {\"date\": \"2011-09-15T00:00:00\", \"actual\": 24.178572, \"position\": 29.815714, \"action\": \"HOLD\"}, {\"date\": \"2011-09-16T00:00:00\", \"actual\": 22.17, \"position\": 24.178572, \"action\": \"BUY\"}, {\"date\": \"2011-09-19T00:00:00\", \"actual\": 20.535715, \"position\": 22.17, \"action\": \"BUY\"}, {\"date\": \"2011-09-20T00:00:00\", \"actual\": 18.575714, \"position\": 20.535715, \"action\": \"SELL\"}, {\"date\": \"2011-09-21T00:00:00\", \"actual\": 18.357143, \"position\": 18.575714, \"action\": \"BUY\"}, {\"date\": \"2011-09-22T00:00:00\", \"actual\": 18.361429, \"position\": 18.357143, \"action\": \"BUY\"}, {\"date\": \"2011-09-23T00:00:00\", \"actual\": 18.48, \"position\": 18.361429, \"action\": \"BUY\"}, {\"date\": \"2011-09-26T00:00:00\", \"actual\": 18.888571, \"position\": 18.48, \"action\": \"SELL\"}, {\"date\": \"2011-09-27T00:00:00\", \"actual\": 18.212856, \"position\": 18.888571, \"action\": \"SELL\"}, {\"date\": \"2011-09-28T00:00:00\", \"actual\": 18.162857, \"position\": 18.212856, \"action\": \"SELL\"}, {\"date\": \"2011-09-29T00:00:00\", \"actual\": 16.17, \"position\": 18.162857, \"action\": \"SELL\"}, {\"date\": \"2011-09-30T00:00:00\", \"actual\": 16.181429, \"position\": 16.17, \"action\": \"HOLD\"}, {\"date\": \"2011-10-03T00:00:00\", \"actual\": 16.178572, \"position\": 16.181429, \"action\": \"HOLD\"}, {\"date\": \"2011-10-04T00:00:00\", \"actual\": 16.414286, \"position\": 16.178572, \"action\": \"HOLD\"}, {\"date\": \"2011-10-05T00:00:00\", \"actual\": 17.108572, \"position\": 16.414286, \"action\": \"HOLD\"}, {\"date\": \"2011-10-06T00:00:00\", \"actual\": 17.605715, \"position\": 17.108572, \"action\": \"HOLD\"}, {\"date\": \"2011-10-07T00:00:00\", \"actual\": 16.744286, \"position\": 17.605715, \"action\": \"HOLD\"}, {\"date\": \"2011-10-10T00:00:00\", \"actual\": 15.945714, \"position\": 16.744286, \"action\": \"HOLD\"}, {\"date\": \"2011-10-11T00:00:00\", \"actual\": 15.522857, \"position\": 15.945714, \"action\": \"BUY\"}, {\"date\": \"2011-10-12T00:00:00\", \"actual\": 16.231428, \"position\": 15.522857, \"action\": \"SELL\"}, {\"date\": \"2011-10-13T00:00:00\", \"actual\": 16.715714, \"position\": 16.231428, \"action\": \"HOLD\"}, {\"date\": \"2011-10-14T00:00:00\", \"actual\": 16.577143, \"position\": 16.715714, \"action\": \"HOLD\"}, {\"date\": \"2011-10-17T00:00:00\", \"actual\": 16.761429, \"position\": 16.577143, \"action\": \"HOLD\"}, {\"date\": \"2011-10-18T00:00:00\", \"actual\": 15.962857, \"position\": 16.761429, \"action\": \"HOLD\"}, {\"date\": \"2011-10-19T00:00:00\", \"actual\": 15.631429, \"position\": 15.962857, \"action\": \"HOLD\"}, {\"date\": \"2011-10-20T00:00:00\", \"actual\": 15.925714, \"position\": 15.631429, \"action\": \"HOLD\"}, {\"date\": \"2011-10-21T00:00:00\", \"actual\": 16.719999, \"position\": 15.925714, \"action\": \"HOLD\"}, {\"date\": \"2011-10-24T00:00:00\", \"actual\": 16.977142, \"position\": 16.719999, \"action\": \"HOLD\"}, {\"date\": \"2011-10-25T00:00:00\", \"actual\": 11.052857, \"position\": 16.977142, \"action\": \"HOLD\"}, {\"date\": \"2011-10-26T00:00:00\", \"actual\": 11.342857, \"position\": 11.052857, \"action\": \"BUY\"}, {\"date\": \"2011-10-27T00:00:00\", \"actual\": 11.551429, \"position\": 11.342857, \"action\": \"SELL\"}, {\"date\": \"2011-10-28T00:00:00\", \"actual\": 12.02, \"position\": 11.551429, \"action\": \"HOLD\"}, {\"date\": \"2011-10-31T00:00:00\", \"actual\": 11.725715, \"position\": 12.02, \"action\": \"HOLD\"}, {\"date\": \"2011-11-01T00:00:00\", \"actual\": 11.441428, \"position\": 11.725715, \"action\": \"BUY\"}, {\"date\": \"2011-11-02T00:00:00\", \"actual\": 11.912857, \"position\": 11.441428, \"action\": \"SELL\"}, {\"date\": \"2011-11-03T00:00:00\", \"actual\": 13.184286, \"position\": 11.912857, \"action\": \"HOLD\"}, {\"date\": \"2011-11-04T00:00:00\", \"actual\": 12.86, \"position\": 13.184286, \"action\": \"HOLD\"}, {\"date\": \"2011-11-07T00:00:00\", \"actual\": 12.975715, \"position\": 12.86, \"action\": \"HOLD\"}, {\"date\": \"2011-11-08T00:00:00\", \"actual\": 12.924286, \"position\": 12.975715, \"action\": \"HOLD\"}, {\"date\": \"2011-11-09T00:00:00\", \"actual\": 12.578571, \"position\": 12.924286, \"action\": \"HOLD\"}, {\"date\": \"2011-11-10T00:00:00\", \"actual\": 12.16, \"position\": 12.578571, \"action\": \"HOLD\"}, {\"date\": \"2011-11-11T00:00:00\", \"actual\": 12.535714, \"position\": 12.16, \"action\": \"HOLD\"}, {\"date\": \"2011-11-14T00:00:00\", \"actual\": 12.245714, \"position\": 12.535714, \"action\": \"HOLD\"}, {\"date\": \"2011-11-15T00:00:00\", \"actual\": 12.325714, \"position\": 12.245714, \"action\": \"HOLD\"}, {\"date\": \"2011-11-16T00:00:00\", \"actual\": 11.597143, \"position\": 12.325714, \"action\": \"HOLD\"}, {\"date\": \"2011-11-17T00:00:00\", \"actual\": 10.922857, \"position\": 11.597143, \"action\": \"HOLD\"}, {\"date\": \"2011-11-18T00:00:00\", \"actual\": 11.151428, \"position\": 10.922857, \"action\": \"HOLD\"}, {\"date\": \"2011-11-21T00:00:00\", \"actual\": 10.638572, \"position\": 11.151428, \"action\": \"HOLD\"}, {\"date\": \"2011-11-22T00:00:00\", \"actual\": 10.064285, \"position\": 10.638572, \"action\": \"HOLD\"}, {\"date\": \"2011-11-23T00:00:00\", \"actual\": 9.785714, \"position\": 10.064285, \"action\": \"HOLD\"}, {\"date\": \"2011-11-25T00:00:00\", \"actual\": 9.122857, \"position\": 9.785714, \"action\": \"HOLD\"}, {\"date\": \"2011-11-28T00:00:00\", \"actual\": 9.992857, \"position\": 9.122857, \"action\": \"HOLD\"}, {\"date\": \"2011-11-29T00:00:00\", \"actual\": 9.652857, \"position\": 9.992857, \"action\": \"HOLD\"}, {\"date\": \"2011-11-30T00:00:00\", \"actual\": 9.218572, \"position\": 9.652857, \"action\": \"HOLD\"}, {\"date\": \"2011-12-01T00:00:00\", \"actual\": 9.595715, \"position\": 9.218572, \"action\": \"BUY\"}, {\"date\": \"2011-12-02T00:00:00\", \"actual\": 9.481428, \"position\": 9.595715, \"action\": \"SELL\"}, {\"date\": \"2011-12-05T00:00:00\", \"actual\": 10.017143, \"position\": 9.481428, \"action\": \"HOLD\"}, {\"date\": \"2011-12-06T00:00:00\", \"actual\": 9.734285, \"position\": 10.017143, \"action\": \"HOLD\"}, {\"date\": \"2011-12-07T00:00:00\", \"actual\": 10.28, \"position\": 9.734285, \"action\": \"HOLD\"}, {\"date\": \"2011-12-08T00:00:00\", \"actual\": 9.917143, \"position\": 10.28, \"action\": \"HOLD\"}, {\"date\": \"2011-12-09T00:00:00\", \"actual\": 10.127143, \"position\": 9.917143, \"action\": \"HOLD\"}, {\"date\": \"2011-12-12T00:00:00\", \"actual\": 10.751429, \"position\": 10.127143, \"action\": \"HOLD\"}, {\"date\": \"2011-12-13T00:00:00\", \"actual\": 10.301429, \"position\": 10.751429, \"action\": \"HOLD\"}, {\"date\": \"2011-12-14T00:00:00\", \"actual\": 10.148571, \"position\": 10.301429, \"action\": \"BUY\"}, {\"date\": \"2011-12-15T00:00:00\", \"actual\": 9.96, \"position\": 10.148571, \"action\": \"SELL\"}, {\"date\": \"2011-12-16T00:00:00\", \"actual\": 9.974286, \"position\": 9.96, \"action\": \"HOLD\"}, {\"date\": \"2011-12-19T00:00:00\", \"actual\": 9.592857, \"position\": 9.974286, \"action\": \"HOLD\"}, {\"date\": \"2011-12-20T00:00:00\", \"actual\": 10.2, \"position\": 9.592857, \"action\": \"HOLD\"}, {\"date\": \"2011-12-21T00:00:00\", \"actual\": 10.138572, \"position\": 10.2, \"action\": \"HOLD\"}, {\"date\": \"2011-12-22T00:00:00\", \"actual\": 10.548572, \"position\": 10.138572, \"action\": \"HOLD\"}, {\"date\": \"2011-12-23T00:00:00\", \"actual\": 10.374286, \"position\": 10.548572, \"action\": \"HOLD\"}, {\"date\": \"2011-12-27T00:00:00\", \"actual\": 10.085714, \"position\": 10.374286, \"action\": \"HOLD\"}, {\"date\": \"2011-12-28T00:00:00\", \"actual\": 9.885715, \"position\": 10.085714, \"action\": \"BUY\"}, {\"date\": \"2011-12-29T00:00:00\", \"actual\": 9.9, \"position\": 9.885715, \"action\": \"BUY\"}, {\"date\": \"2011-12-30T00:00:00\", \"actual\": 9.898571, \"position\": 9.9, \"action\": \"SELL\"}, {\"date\": \"2012-01-03T00:00:00\", \"actual\": 10.32, \"position\": 9.898571, \"action\": \"SELL\"}, {\"date\": \"2012-01-04T00:00:00\", \"actual\": 11.492857, \"position\": 10.32, \"action\": \"HOLD\"}, {\"date\": \"2012-01-05T00:00:00\", \"actual\": 11.328571, \"position\": 11.492857, \"action\": \"HOLD\"}, {\"date\": \"2012-01-06T00:00:00\", \"actual\": 12.327143, \"position\": 11.328571, \"action\": \"HOLD\"}, {\"date\": \"2012-01-09T00:00:00\", \"actual\": 14.025714, \"position\": 12.327143, \"action\": \"HOLD\"}, {\"date\": \"2012-01-10T00:00:00\", \"actual\": 13.69, \"position\": 14.025714, \"action\": \"HOLD\"}, {\"date\": \"2012-01-11T00:00:00\", \"actual\": 13.164286, \"position\": 13.69, \"action\": \"HOLD\"}, {\"date\": \"2012-01-12T00:00:00\", \"actual\": 13.164286, \"position\": 13.164286, \"action\": \"HOLD\"}, {\"date\": \"2012-01-13T00:00:00\", \"actual\": 13.482857, \"position\": 13.164286, \"action\": \"HOLD\"}, {\"date\": \"2012-01-17T00:00:00\", \"actual\": 13.531428, \"position\": 13.482857, \"action\": \"HOLD\"}, {\"date\": \"2012-01-18T00:00:00\", \"actual\": 14.077143, \"position\": 13.531428, \"action\": \"HOLD\"}, {\"date\": \"2012-01-19T00:00:00\", \"actual\": 14.78, \"position\": 14.077143, \"action\": \"HOLD\"}, {\"date\": \"2012-01-20T00:00:00\", \"actual\": 14.32, \"position\": 14.78, \"action\": \"HOLD\"}, {\"date\": \"2012-01-23T00:00:00\", \"actual\": 13.422857, \"position\": 14.32, \"action\": \"HOLD\"}, {\"date\": \"2012-01-24T00:00:00\", \"actual\": 13.238571, \"position\": 13.422857, \"action\": \"HOLD\"}, {\"date\": \"2012-01-25T00:00:00\", \"actual\": 13.577143, \"position\": 13.238571, \"action\": \"BUY\"}, {\"date\": \"2012-01-26T00:00:00\", \"actual\": 16.572857, \"position\": 13.577143, \"action\": \"SELL\"}, {\"date\": \"2012-01-27T00:00:00\", \"actual\": 17.684286, \"position\": 16.572857, \"action\": \"HOLD\"}, {\"date\": \"2012-01-30T00:00:00\", \"actual\": 17.918571, \"position\": 17.684286, \"action\": \"HOLD\"}, {\"date\": \"2012-01-31T00:00:00\", \"actual\": 17.171429, \"position\": 17.918571, \"action\": \"BUY\"}, {\"date\": \"2012-02-01T00:00:00\", \"actual\": 17.567142, \"position\": 17.171429, \"action\": \"SELL\"}, {\"date\": \"2012-02-02T00:00:00\", \"actual\": 17.714285, \"position\": 17.567142, \"action\": \"HOLD\"}, {\"date\": \"2012-02-03T00:00:00\", \"actual\": 18.061428, \"position\": 17.714285, \"action\": \"HOLD\"}, {\"date\": \"2012-02-06T00:00:00\", \"actual\": 18.464285, \"position\": 18.061428, \"action\": \"HOLD\"}, {\"date\": \"2012-02-07T00:00:00\", \"actual\": 18.268572, \"position\": 18.464285, \"action\": \"HOLD\"}, {\"date\": \"2012-02-08T00:00:00\", \"actual\": 17.714285, \"position\": 18.268572, \"action\": \"HOLD\"}, {\"date\": \"2012-02-09T00:00:00\", \"actual\": 17.834286, \"position\": 17.714285, \"action\": \"HOLD\"}, {\"date\": \"2012-02-10T00:00:00\", \"actual\": 17.704287, \"position\": 17.834286, \"action\": \"HOLD\"}, {\"date\": \"2012-02-13T00:00:00\", \"actual\": 16.9, \"position\": 17.704287, \"action\": \"HOLD\"}, {\"date\": \"2012-02-14T00:00:00\", \"actual\": 17.581429, \"position\": 16.9, \"action\": \"BUY\"}, {\"date\": \"2012-02-15T00:00:00\", \"actual\": 17.437143, \"position\": 17.581429, \"action\": \"SELL\"}, {\"date\": \"2012-02-16T00:00:00\", \"actual\": 17.415714, \"position\": 17.437143, \"action\": \"HOLD\"}, {\"date\": \"2012-02-17T00:00:00\", \"actual\": 17.407143, \"position\": 17.415714, \"action\": \"HOLD\"}, {\"date\": \"2012-02-21T00:00:00\", \"actual\": 16.771429, \"position\": 17.407143, \"action\": \"HOLD\"}, {\"date\": \"2012-02-22T00:00:00\", \"actual\": 16.057142, \"position\": 16.771429, \"action\": \"HOLD\"}, {\"date\": \"2012-02-23T00:00:00\", \"actual\": 16.141428, \"position\": 16.057142, \"action\": \"BUY\"}, {\"date\": \"2012-02-24T00:00:00\", \"actual\": 15.952857, \"position\": 16.141428, \"action\": \"SELL\"}, {\"date\": \"2012-02-27T00:00:00\", \"actual\": 15.63, \"position\": 15.952857, \"action\": \"HOLD\"}, {\"date\": \"2012-02-28T00:00:00\", \"actual\": 16.188572, \"position\": 15.63, \"action\": \"HOLD\"}, {\"date\": \"2012-02-29T00:00:00\", \"actual\": 15.818571, \"position\": 16.188572, \"action\": \"HOLD\"}, {\"date\": \"2012-03-01T00:00:00\", \"actual\": 16.107143, \"position\": 15.818571, \"action\": \"HOLD\"}, {\"date\": \"2012-03-02T00:00:00\", \"actual\": 16.442858, \"position\": 16.107143, \"action\": \"HOLD\"}, {\"date\": \"2012-03-05T00:00:00\", \"actual\": 15.83, \"position\": 16.442858, \"action\": \"HOLD\"}, {\"date\": \"2012-03-06T00:00:00\", \"actual\": 15.304286, \"position\": 15.83, \"action\": \"BUY\"}, {\"date\": \"2012-03-07T00:00:00\", \"actual\": 15.027143, \"position\": 15.304286, \"action\": \"BUY\"}, {\"date\": \"2012-03-08T00:00:00\", \"actual\": 15.438571, \"position\": 15.027143, \"action\": \"SELL\"}, {\"date\": \"2012-03-09T00:00:00\", \"actual\": 15.59, \"position\": 15.438571, \"action\": \"SELL\"}, {\"date\": \"2012-03-12T00:00:00\", \"actual\": 15.171429, \"position\": 15.59, \"action\": \"HOLD\"}, {\"date\": \"2012-03-13T00:00:00\", \"actual\": 15.192857, \"position\": 15.171429, \"action\": \"HOLD\"}, {\"date\": \"2012-03-14T00:00:00\", \"actual\": 15.035714, \"position\": 15.192857, \"action\": \"HOLD\"}, {\"date\": \"2012-03-15T00:00:00\", \"actual\": 15.738571, \"position\": 15.035714, \"action\": \"HOLD\"}, {\"date\": \"2012-03-16T00:00:00\", \"actual\": 15.708571, \"position\": 15.738571, \"action\": \"HOLD\"}, {\"date\": \"2012-03-19T00:00:00\", \"actual\": 16.332857, \"position\": 15.708571, \"action\": \"BUY\"}, {\"date\": \"2012-03-20T00:00:00\", \"actual\": 16.431429, \"position\": 16.332857, \"action\": \"BUY\"}, {\"date\": \"2012-03-21T00:00:00\", \"actual\": 17.157143, \"position\": 16.431429, \"action\": \"SELL\"}, {\"date\": \"2012-03-22T00:00:00\", \"actual\": 16.961428, \"position\": 17.157143, \"action\": \"SELL\"}, {\"date\": \"2012-03-23T00:00:00\", \"actual\": 17.17, \"position\": 16.961428, \"action\": \"HOLD\"}, {\"date\": \"2012-03-26T00:00:00\", \"actual\": 17.427143, \"position\": 17.17, \"action\": \"HOLD\"}, {\"date\": \"2012-03-27T00:00:00\", \"actual\": 17.238571, \"position\": 17.427143, \"action\": \"HOLD\"}, {\"date\": \"2012-03-28T00:00:00\", \"actual\": 16.972857, \"position\": 17.238571, \"action\": \"HOLD\"}, {\"date\": \"2012-03-29T00:00:00\", \"actual\": 16.435715, \"position\": 16.972857, \"action\": \"HOLD\"}, {\"date\": \"2012-03-30T00:00:00\", \"actual\": 16.434286, \"position\": 16.435715, \"action\": \"HOLD\"}, {\"date\": \"2012-04-02T00:00:00\", \"actual\": 16.281429, \"position\": 16.434286, \"action\": \"HOLD\"}, {\"date\": \"2012-04-03T00:00:00\", \"actual\": 16.137142, \"position\": 16.281429, \"action\": \"HOLD\"}, {\"date\": \"2012-04-04T00:00:00\", \"actual\": 15.751429, \"position\": 16.137142, \"action\": \"HOLD\"}, {\"date\": \"2012-04-05T00:00:00\", \"actual\": 15.785714, \"position\": 15.751429, \"action\": \"HOLD\"}, {\"date\": \"2012-04-09T00:00:00\", \"actual\": 15.24, \"position\": 15.785714, \"action\": \"HOLD\"}, {\"date\": \"2012-04-10T00:00:00\", \"actual\": 14.56, \"position\": 15.24, \"action\": \"HOLD\"}, {\"date\": \"2012-04-11T00:00:00\", \"actual\": 14.258572, \"position\": 14.56, \"action\": \"HOLD\"}, {\"date\": \"2012-04-12T00:00:00\", \"actual\": 14.894286, \"position\": 14.258572, \"action\": \"HOLD\"}, {\"date\": \"2012-04-13T00:00:00\", \"actual\": 14.881429, \"position\": 14.894286, \"action\": \"HOLD\"}, {\"date\": \"2012-04-16T00:00:00\", \"actual\": 14.45, \"position\": 14.881429, \"action\": \"HOLD\"}, {\"date\": \"2012-04-17T00:00:00\", \"actual\": 15.288571, \"position\": 14.45, \"action\": \"HOLD\"}, {\"date\": \"2012-04-18T00:00:00\", \"actual\": 15.28, \"position\": 15.288571, \"action\": \"HOLD\"}, {\"date\": \"2012-04-19T00:00:00\", \"actual\": 15.298572, \"position\": 15.28, \"action\": \"HOLD\"}, {\"date\": \"2012-04-20T00:00:00\", \"actual\": 15.158571, \"position\": 15.298572, \"action\": \"HOLD\"}, {\"date\": \"2012-04-23T00:00:00\", \"actual\": 14.548572, \"position\": 15.158571, \"action\": \"BUY\"}, {\"date\": \"2012-04-24T00:00:00\", \"actual\": 12.525714, \"position\": 14.548572, \"action\": \"BUY\"}, {\"date\": \"2012-04-25T00:00:00\", \"actual\": 12.335714, \"position\": 12.525714, \"action\": \"BUY\"}, {\"date\": \"2012-04-26T00:00:00\", \"actual\": 12.152857, \"position\": 12.335714, \"action\": \"SELL\"}, {\"date\": \"2012-04-27T00:00:00\", \"actual\": 11.962857, \"position\": 12.152857, \"action\": \"SELL\"}, {\"date\": \"2012-04-30T00:00:00\", \"actual\": 11.448571, \"position\": 11.962857, \"action\": \"SELL\"}, {\"date\": \"2012-05-01T00:00:00\", \"actual\": 11.622857, \"position\": 11.448571, \"action\": \"HOLD\"}, {\"date\": \"2012-05-02T00:00:00\", \"actual\": 11.747143, \"position\": 11.622857, \"action\": \"HOLD\"}, {\"date\": \"2012-05-03T00:00:00\", \"actual\": 10.852858, \"position\": 11.747143, \"action\": \"HOLD\"}, {\"date\": \"2012-05-04T00:00:00\", \"actual\": 10.448571, \"position\": 10.852858, \"action\": \"HOLD\"}, {\"date\": \"2012-05-07T00:00:00\", \"actual\": 10.492857, \"position\": 10.448571, \"action\": \"BUY\"}, {\"date\": \"2012-05-08T00:00:00\", \"actual\": 10.398571, \"position\": 10.492857, \"action\": \"SELL\"}, {\"date\": \"2012-05-09T00:00:00\", \"actual\": 10.621428, \"position\": 10.398571, \"action\": \"HOLD\"}, {\"date\": \"2012-05-10T00:00:00\", \"actual\": 10.345715, \"position\": 10.621428, \"action\": \"HOLD\"}, {\"date\": \"2012-05-11T00:00:00\", \"actual\": 11.054286, \"position\": 10.345715, \"action\": \"HOLD\"}, {\"date\": \"2012-05-14T00:00:00\", \"actual\": 10.994286, \"position\": 11.054286, \"action\": \"HOLD\"}, {\"date\": \"2012-05-15T00:00:00\", \"actual\": 11.068571, \"position\": 10.994286, \"action\": \"HOLD\"}, {\"date\": \"2012-05-16T00:00:00\", \"actual\": 10.6, \"position\": 11.068571, \"action\": \"BUY\"}, {\"date\": \"2012-05-17T00:00:00\", \"actual\": 10.281428, \"position\": 10.6, \"action\": \"BUY\"}, {\"date\": \"2012-05-18T00:00:00\", \"actual\": 9.994286, \"position\": 10.281428, \"action\": \"BUY\"}, {\"date\": \"2012-05-21T00:00:00\", \"actual\": 10.248571, \"position\": 9.994286, \"action\": \"SELL\"}, {\"date\": \"2012-05-22T00:00:00\", \"actual\": 9.672857, \"position\": 10.248571, \"action\": \"SELL\"}, {\"date\": \"2012-05-23T00:00:00\", \"actual\": 10.272857, \"position\": 9.672857, \"action\": \"SELL\"}, {\"date\": \"2012-05-24T00:00:00\", \"actual\": 10.038571, \"position\": 10.272857, \"action\": \"HOLD\"}, {\"date\": \"2012-05-25T00:00:00\", \"actual\": 10.031428, \"position\": 10.038571, \"action\": \"HOLD\"}, {\"date\": \"2012-05-29T00:00:00\", \"actual\": 9.92, \"position\": 10.031428, \"action\": \"HOLD\"}, {\"date\": \"2012-05-30T00:00:00\", \"actual\": 9.62, \"position\": 9.92, \"action\": \"HOLD\"}, {\"date\": \"2012-05-31T00:00:00\", \"actual\": 9.062857, \"position\": 9.62, \"action\": \"HOLD\"}, {\"date\": \"2012-06-01T00:00:00\", \"actual\": 8.992857, \"position\": 9.062857, \"action\": \"BUY\"}, {\"date\": \"2012-06-04T00:00:00\", \"actual\": 9.285714, \"position\": 8.992857, \"action\": \"SELL\"}, {\"date\": \"2012-06-05T00:00:00\", \"actual\": 9.261429, \"position\": 9.285714, \"action\": \"HOLD\"}, {\"date\": \"2012-06-06T00:00:00\", \"actual\": 9.411428, \"position\": 9.261429, \"action\": \"HOLD\"}, {\"date\": \"2012-06-07T00:00:00\", \"actual\": 9.234285, \"position\": 9.411428, \"action\": \"HOLD\"}, {\"date\": \"2012-06-08T00:00:00\", \"actual\": 9.377143, \"position\": 9.234285, \"action\": \"HOLD\"}, {\"date\": \"2012-06-11T00:00:00\", \"actual\": 9.0, \"position\": 9.377143, \"action\": \"HOLD\"}, {\"date\": \"2012-06-12T00:00:00\", \"actual\": 9.002857, \"position\": 9.0, \"action\": \"HOLD\"}, {\"date\": \"2012-06-13T00:00:00\", \"actual\": 8.975715, \"position\": 9.002857, \"action\": \"BUY\"}, {\"date\": \"2012-06-14T00:00:00\", \"actual\": 8.951428, \"position\": 8.975715, \"action\": \"SELL\"}, {\"date\": \"2012-06-15T00:00:00\", \"actual\": 9.398571, \"position\": 8.951428, \"action\": \"HOLD\"}, {\"date\": \"2012-06-18T00:00:00\", \"actual\": 9.532857, \"position\": 9.398571, \"action\": \"HOLD\"}, {\"date\": \"2012-06-19T00:00:00\", \"actual\": 9.975715, \"position\": 9.532857, \"action\": \"HOLD\"}, {\"date\": \"2012-06-20T00:00:00\", \"actual\": 9.737143, \"position\": 9.975715, \"action\": \"HOLD\"}, {\"date\": \"2012-06-21T00:00:00\", \"actual\": 9.405714, \"position\": 9.737143, \"action\": \"HOLD\"}, {\"date\": \"2012-06-22T00:00:00\", \"actual\": 9.694285, \"position\": 9.405714, \"action\": \"BUY\"}, {\"date\": \"2012-06-25T00:00:00\", \"actual\": 9.575714, \"position\": 9.694285, \"action\": \"BUY\"}, {\"date\": \"2012-06-26T00:00:00\", \"actual\": 9.542857, \"position\": 9.575714, \"action\": \"SELL\"}, {\"date\": \"2012-06-27T00:00:00\", \"actual\": 9.498571, \"position\": 9.542857, \"action\": \"BUY\"}, {\"date\": \"2012-06-28T00:00:00\", \"actual\": 9.622857, \"position\": 9.498571, \"action\": \"SELL\"}, {\"date\": \"2012-06-29T00:00:00\", \"actual\": 9.784286, \"position\": 9.622857, \"action\": \"SELL\"}, {\"date\": \"2012-07-02T00:00:00\", \"actual\": 9.692857, \"position\": 9.784286, \"action\": \"HOLD\"}, {\"date\": \"2012-07-03T00:00:00\", \"actual\": 10.291429, \"position\": 9.692857, \"action\": \"HOLD\"}, {\"date\": \"2012-07-05T00:00:00\", \"actual\": 11.674286, \"position\": 10.291429, \"action\": \"HOLD\"}, {\"date\": \"2012-07-06T00:00:00\", \"actual\": 11.698571, \"position\": 11.674286, \"action\": \"HOLD\"}, {\"date\": \"2012-07-09T00:00:00\", \"actual\": 11.855714, \"position\": 11.698571, \"action\": \"HOLD\"}, {\"date\": \"2012-07-10T00:00:00\", \"actual\": 11.461429, \"position\": 11.855714, \"action\": \"HOLD\"}, {\"date\": \"2012-07-11T00:00:00\", \"actual\": 11.662857, \"position\": 11.461429, \"action\": \"HOLD\"}, {\"date\": \"2012-07-12T00:00:00\", \"actual\": 12.138572, \"position\": 11.662857, \"action\": \"HOLD\"}, {\"date\": \"2012-07-13T00:00:00\", \"actual\": 12.128572, \"position\": 12.138572, \"action\": \"HOLD\"}, {\"date\": \"2012-07-16T00:00:00\", \"actual\": 11.854285, \"position\": 12.128572, \"action\": \"HOLD\"}, {\"date\": \"2012-07-17T00:00:00\", \"actual\": 11.682858, \"position\": 11.854285, \"action\": \"HOLD\"}, {\"date\": \"2012-07-18T00:00:00\", \"actual\": 11.61, \"position\": 11.682858, \"action\": \"HOLD\"}, {\"date\": \"2012-07-19T00:00:00\", \"actual\": 11.874286, \"position\": 11.61, \"action\": \"HOLD\"}, {\"date\": \"2012-07-20T00:00:00\", \"actual\": 11.688571, \"position\": 11.874286, \"action\": \"HOLD\"}, {\"date\": \"2012-07-23T00:00:00\", \"actual\": 11.42, \"position\": 11.688571, \"action\": \"HOLD\"}, {\"date\": \"2012-07-24T00:00:00\", \"actual\": 11.484285, \"position\": 11.42, \"action\": \"BUY\"}, {\"date\": \"2012-07-25T00:00:00\", \"actual\": 8.611428, \"position\": 11.484285, \"action\": \"SELL\"}, {\"date\": \"2012-07-26T00:00:00\", \"actual\": 8.144286, \"position\": 8.611428, \"action\": \"HOLD\"}, {\"date\": \"2012-07-27T00:00:00\", \"actual\": 8.417143, \"position\": 8.144286, \"action\": \"HOLD\"}, {\"date\": \"2012-07-30T00:00:00\", \"actual\": 8.25, \"position\": 8.417143, \"action\": \"HOLD\"}, {\"date\": \"2012-07-31T00:00:00\", \"actual\": 8.121428, \"position\": 8.25, \"action\": \"HOLD\"}, {\"date\": \"2012-08-01T00:00:00\", \"actual\": 7.785714, \"position\": 8.121428, \"action\": \"HOLD\"}, {\"date\": \"2012-08-02T00:00:00\", \"actual\": 7.695714, \"position\": 7.785714, \"action\": \"HOLD\"}, {\"date\": \"2012-08-03T00:00:00\", \"actual\": 7.701428, \"position\": 7.695714, \"action\": \"HOLD\"}, {\"date\": \"2012-08-06T00:00:00\", \"actual\": 8.112857, \"position\": 7.701428, \"action\": \"HOLD\"}, {\"date\": \"2012-08-07T00:00:00\", \"actual\": 8.271428, \"position\": 8.112857, \"action\": \"HOLD\"}, {\"date\": \"2012-08-08T00:00:00\", \"actual\": 8.257143, \"position\": 8.271428, \"action\": \"BUY\"}, {\"date\": \"2012-08-09T00:00:00\", \"actual\": 8.272857, \"position\": 8.257143, \"action\": \"BUY\"}, {\"date\": \"2012-08-10T00:00:00\", \"actual\": 8.557143, \"position\": 8.272857, \"action\": \"SELL\"}, {\"date\": \"2012-08-13T00:00:00\", \"actual\": 8.558572, \"position\": 8.557143, \"action\": \"SELL\"}, {\"date\": \"2012-08-14T00:00:00\", \"actual\": 8.822857, \"position\": 8.558572, \"action\": \"BUY\"}, {\"date\": \"2012-08-15T00:00:00\", \"actual\": 9.037143, \"position\": 8.822857, \"action\": \"BUY\"}, {\"date\": \"2012-08-16T00:00:00\", \"actual\": 9.187143, \"position\": 9.037143, \"action\": \"SELL\"}, {\"date\": \"2012-08-17T00:00:00\", \"actual\": 9.098572, \"position\": 9.187143, \"action\": \"SELL\"}, {\"date\": \"2012-08-20T00:00:00\", \"actual\": 9.177143, \"position\": 9.098572, \"action\": \"HOLD\"}, {\"date\": \"2012-08-21T00:00:00\", \"actual\": 9.371428, \"position\": 9.177143, \"action\": \"HOLD\"}, {\"date\": \"2012-08-22T00:00:00\", \"actual\": 9.342857, \"position\": 9.371428, \"action\": \"HOLD\"}, {\"date\": \"2012-08-23T00:00:00\", \"actual\": 9.15, \"position\": 9.342857, \"action\": \"HOLD\"}, {\"date\": \"2012-08-24T00:00:00\", \"actual\": 9.022857, \"position\": 9.15, \"action\": \"HOLD\"}, {\"date\": \"2012-08-27T00:00:00\", \"actual\": 8.912857, \"position\": 9.022857, \"action\": \"HOLD\"}, {\"date\": \"2012-08-28T00:00:00\", \"actual\": 8.992857, \"position\": 8.912857, \"action\": \"HOLD\"}, {\"date\": \"2012-08-29T00:00:00\", \"actual\": 9.062857, \"position\": 8.992857, \"action\": \"HOLD\"}, {\"date\": \"2012-08-30T00:00:00\", \"actual\": 8.64, \"position\": 9.062857, \"action\": \"HOLD\"}, {\"date\": \"2012-08-31T00:00:00\", \"actual\": 8.531428, \"position\": 8.64, \"action\": \"HOLD\"}, {\"date\": \"2012-09-04T00:00:00\", \"actual\": 7.99, \"position\": 8.531428, \"action\": \"HOLD\"}, {\"date\": \"2012-09-05T00:00:00\", \"actual\": 7.851429, \"position\": 7.99, \"action\": \"HOLD\"}, {\"date\": \"2012-09-06T00:00:00\", \"actual\": 8.092857, \"position\": 7.851429, \"action\": \"HOLD\"}, {\"date\": \"2012-09-07T00:00:00\", \"actual\": 8.094286, \"position\": 8.092857, \"action\": \"HOLD\"}, {\"date\": \"2012-09-10T00:00:00\", \"actual\": 7.988572, \"position\": 8.094286, \"action\": \"HOLD\"}, {\"date\": \"2012-09-11T00:00:00\", \"actual\": 8.165714, \"position\": 7.988572, \"action\": \"HOLD\"}, {\"date\": \"2012-09-12T00:00:00\", \"actual\": 8.172857, \"position\": 8.165714, \"action\": \"HOLD\"}, {\"date\": \"2012-09-13T00:00:00\", \"actual\": 8.285714, \"position\": 8.172857, \"action\": \"HOLD\"}, {\"date\": \"2012-09-14T00:00:00\", \"actual\": 8.645715, \"position\": 8.285714, \"action\": \"BUY\"}, {\"date\": \"2012-09-17T00:00:00\", \"actual\": 8.145715, \"position\": 8.645715, \"action\": \"SELL\"}, {\"date\": \"2012-09-18T00:00:00\", \"actual\": 8.008572, \"position\": 8.145715, \"action\": \"BUY\"}, {\"date\": \"2012-09-19T00:00:00\", \"actual\": 8.148571, \"position\": 8.008572, \"action\": \"BUY\"}, {\"date\": \"2012-09-20T00:00:00\", \"actual\": 8.391429, \"position\": 8.148571, \"action\": \"SELL\"}, {\"date\": \"2012-09-21T00:00:00\", \"actual\": 8.255714, \"position\": 8.391429, \"action\": \"SELL\"}, {\"date\": \"2012-09-24T00:00:00\", \"actual\": 8.055715, \"position\": 8.255714, \"action\": \"HOLD\"}, {\"date\": \"2012-09-25T00:00:00\", \"actual\": 7.685714, \"position\": 8.055715, \"action\": \"HOLD\"}, {\"date\": \"2012-09-26T00:00:00\", \"actual\": 7.875714, \"position\": 7.685714, \"action\": \"HOLD\"}, {\"date\": \"2012-09-27T00:00:00\", \"actual\": 7.935714, \"position\": 7.875714, \"action\": \"HOLD\"}, {\"date\": \"2012-09-28T00:00:00\", \"actual\": 7.777143, \"position\": 7.935714, \"action\": \"HOLD\"}, {\"date\": \"2012-10-01T00:00:00\", \"actual\": 8.007143, \"position\": 7.777143, \"action\": \"BUY\"}, {\"date\": \"2012-10-02T00:00:00\", \"actual\": 8.065714, \"position\": 8.007143, \"action\": \"SELL\"}, {\"date\": \"2012-10-03T00:00:00\", \"actual\": 8.94, \"position\": 8.065714, \"action\": \"HOLD\"}, {\"date\": \"2012-10-04T00:00:00\", \"actual\": 9.524285, \"position\": 8.94, \"action\": \"HOLD\"}, {\"date\": \"2012-10-05T00:00:00\", \"actual\": 9.508572, \"position\": 9.524285, \"action\": \"HOLD\"}, {\"date\": \"2012-10-08T00:00:00\", \"actual\": 10.502857, \"position\": 9.508572, \"action\": \"HOLD\"}, {\"date\": \"2012-10-09T00:00:00\", \"actual\": 9.361428, \"position\": 10.502857, \"action\": \"HOLD\"}, {\"date\": \"2012-10-10T00:00:00\", \"actual\": 9.357142, \"position\": 9.361428, \"action\": \"HOLD\"}, {\"date\": \"2012-10-11T00:00:00\", \"actual\": 9.425714, \"position\": 9.357142, \"action\": \"HOLD\"}, {\"date\": \"2012-10-12T00:00:00\", \"actual\": 9.19, \"position\": 9.425714, \"action\": \"HOLD\"}, {\"date\": \"2012-10-15T00:00:00\", \"actual\": 9.251429, \"position\": 9.19, \"action\": \"HOLD\"}, {\"date\": \"2012-10-16T00:00:00\", \"actual\": 9.435715, \"position\": 9.251429, \"action\": \"HOLD\"}, {\"date\": \"2012-10-17T00:00:00\", \"actual\": 9.788571, \"position\": 9.435715, \"action\": \"HOLD\"}, {\"date\": \"2012-10-18T00:00:00\", \"actual\": 9.622857, \"position\": 9.788571, \"action\": \"HOLD\"}, {\"date\": \"2012-10-19T00:00:00\", \"actual\": 9.282857, \"position\": 9.622857, \"action\": \"HOLD\"}, {\"date\": \"2012-10-22T00:00:00\", \"actual\": 9.697143, \"position\": 9.282857, \"action\": \"HOLD\"}, {\"date\": \"2012-10-23T00:00:00\", \"actual\": 9.745714, \"position\": 9.697143, \"action\": \"BUY\"}, {\"date\": \"2012-10-24T00:00:00\", \"actual\": 8.588572, \"position\": 9.745714, \"action\": \"SELL\"}, {\"date\": \"2012-10-25T00:00:00\", \"actual\": 8.787143, \"position\": 8.588572, \"action\": \"BUY\"}, {\"date\": \"2012-10-26T00:00:00\", \"actual\": 9.94, \"position\": 8.787143, \"action\": \"BUY\"}, {\"date\": \"2012-10-31T00:00:00\", \"actual\": 11.32, \"position\": 9.94, \"action\": \"SELL\"}, {\"date\": \"2012-11-01T00:00:00\", \"actual\": 11.098572, \"position\": 11.32, \"action\": \"SELL\"}, {\"date\": \"2012-11-02T00:00:00\", \"actual\": 10.985714, \"position\": 11.098572, \"action\": \"HOLD\"}, {\"date\": \"2012-11-05T00:00:00\", \"actual\": 11.177143, \"position\": 10.985714, \"action\": \"HOLD\"}, {\"date\": \"2012-11-06T00:00:00\", \"actual\": 10.91, \"position\": 11.177143, \"action\": \"BUY\"}, {\"date\": \"2012-11-07T00:00:00\", \"actual\": 11.097143, \"position\": 10.91, \"action\": \"BUY\"}, {\"date\": \"2012-11-08T00:00:00\", \"actual\": 10.852858, \"position\": 11.097143, \"action\": \"SELL\"}, {\"date\": \"2012-11-09T00:00:00\", \"actual\": 11.128572, \"position\": 10.852858, \"action\": \"SELL\"}, {\"date\": \"2012-11-12T00:00:00\", \"actual\": 11.17, \"position\": 11.128572, \"action\": \"HOLD\"}, {\"date\": \"2012-11-13T00:00:00\", \"actual\": 11.372857, \"position\": 11.17, \"action\": \"HOLD\"}, {\"date\": \"2012-11-14T00:00:00\", \"actual\": 11.397142, \"position\": 11.372857, \"action\": \"HOLD\"}, {\"date\": \"2012-11-15T00:00:00\", \"actual\": 11.64, \"position\": 11.397142, \"action\": \"BUY\"}, {\"date\": \"2012-11-16T00:00:00\", \"actual\": 11.557143, \"position\": 11.64, \"action\": \"SELL\"}, {\"date\": \"2012-11-19T00:00:00\", \"actual\": 11.622857, \"position\": 11.557143, \"action\": \"HOLD\"}, {\"date\": \"2012-11-20T00:00:00\", \"actual\": 11.771428, \"position\": 11.622857, \"action\": \"BUY\"}, {\"date\": \"2012-11-21T00:00:00\", \"actual\": 11.857142, \"position\": 11.771428, \"action\": \"SELL\"}, {\"date\": \"2012-11-23T00:00:00\", \"actual\": 11.85, \"position\": 11.857142, \"action\": \"HOLD\"}, {\"date\": \"2012-11-26T00:00:00\", \"actual\": 11.722857, \"position\": 11.85, \"action\": \"HOLD\"}, {\"date\": \"2012-11-27T00:00:00\", \"actual\": 11.868571, \"position\": 11.722857, \"action\": \"HOLD\"}, {\"date\": \"2012-11-28T00:00:00\", \"actual\": 11.747143, \"position\": 11.868571, \"action\": \"HOLD\"}, {\"date\": \"2012-11-29T00:00:00\", \"actual\": 11.625714, \"position\": 11.747143, \"action\": \"HOLD\"}, {\"date\": \"2012-11-30T00:00:00\", \"actual\": 11.672857, \"position\": 11.625714, \"action\": \"HOLD\"}, {\"date\": \"2012-12-03T00:00:00\", \"actual\": 10.857142, \"position\": 11.672857, \"action\": \"HOLD\"}, {\"date\": \"2012-12-04T00:00:00\", \"actual\": 12.378572, \"position\": 10.857142, \"action\": \"HOLD\"}, {\"date\": \"2012-12-05T00:00:00\", \"actual\": 11.91, \"position\": 12.378572, \"action\": \"HOLD\"}, {\"date\": \"2012-12-06T00:00:00\", \"actual\": 12.31, \"position\": 11.91, \"action\": \"HOLD\"}, {\"date\": \"2012-12-07T00:00:00\", \"actual\": 12.282857, \"position\": 12.31, \"action\": \"HOLD\"}, {\"date\": \"2012-12-10T00:00:00\", \"actual\": 12.114285, \"position\": 12.282857, \"action\": \"HOLD\"}, {\"date\": \"2012-12-11T00:00:00\", \"actual\": 12.297143, \"position\": 12.114285, \"action\": \"HOLD\"}, {\"date\": \"2012-12-12T00:00:00\", \"actual\": 12.961429, \"position\": 12.297143, \"action\": \"BUY\"}, {\"date\": \"2012-12-13T00:00:00\", \"actual\": 13.222857, \"position\": 12.961429, \"action\": \"SELL\"}, {\"date\": \"2012-12-14T00:00:00\", \"actual\": 13.328571, \"position\": 13.222857, \"action\": \"HOLD\"}, {\"date\": \"2012-12-17T00:00:00\", \"actual\": 13.528571, \"position\": 13.328571, \"action\": \"HOLD\"}, {\"date\": \"2012-12-18T00:00:00\", \"actual\": 13.662857, \"position\": 13.528571, \"action\": \"HOLD\"}, {\"date\": \"2012-12-19T00:00:00\", \"actual\": 13.425714, \"position\": 13.662857, \"action\": \"BUY\"}, {\"date\": \"2012-12-20T00:00:00\", \"actual\": 13.357142, \"position\": 13.425714, \"action\": \"SELL\"}, {\"date\": \"2012-12-21T00:00:00\", \"actual\": 13.048572, \"position\": 13.357142, \"action\": \"HOLD\"}, {\"date\": \"2012-12-24T00:00:00\", \"actual\": 12.89, \"position\": 13.048572, \"action\": \"HOLD\"}, {\"date\": \"2012-12-26T00:00:00\", \"actual\": 12.95, \"position\": 12.89, \"action\": \"HOLD\"}, {\"date\": \"2012-12-27T00:00:00\", \"actual\": 12.928572, \"position\": 12.95, \"action\": \"HOLD\"}, {\"date\": \"2012-12-28T00:00:00\", \"actual\": 12.761429, \"position\": 12.928572, \"action\": \"HOLD\"}, {\"date\": \"2012-12-31T00:00:00\", \"actual\": 13.227143, \"position\": 12.761429, \"action\": \"HOLD\"}, {\"date\": \"2013-01-02T00:00:00\", \"actual\": 13.144286, \"position\": 13.227143, \"action\": \"HOLD\"}, {\"date\": \"2013-01-03T00:00:00\", \"actual\": 13.798572, \"position\": 13.144286, \"action\": \"HOLD\"}, {\"date\": \"2013-01-04T00:00:00\", \"actual\": 13.711429, \"position\": 13.798572, \"action\": \"HOLD\"}, {\"date\": \"2013-01-07T00:00:00\", \"actual\": 14.171429, \"position\": 13.711429, \"action\": \"HOLD\"}, {\"date\": \"2013-01-08T00:00:00\", \"actual\": 13.88, \"position\": 14.171429, \"action\": \"HOLD\"}, {\"date\": \"2013-01-09T00:00:00\", \"actual\": 13.701428, \"position\": 13.88, \"action\": \"HOLD\"}, {\"date\": \"2013-01-10T00:00:00\", \"actual\": 14.0, \"position\": 13.701428, \"action\": \"HOLD\"}, {\"date\": \"2013-01-11T00:00:00\", \"actual\": 14.47, \"position\": 14.0, \"action\": \"HOLD\"}, {\"date\": \"2013-01-14T00:00:00\", \"actual\": 14.778571, \"position\": 14.47, \"action\": \"HOLD\"}, {\"date\": \"2013-01-15T00:00:00\", \"actual\": 14.527143, \"position\": 14.778571, \"action\": \"HOLD\"}, {\"date\": \"2013-01-16T00:00:00\", \"actual\": 13.925714, \"position\": 14.527143, \"action\": \"HOLD\"}, {\"date\": \"2013-01-17T00:00:00\", \"actual\": 13.957143, \"position\": 13.925714, \"action\": \"HOLD\"}, {\"date\": \"2013-01-18T00:00:00\", \"actual\": 14.167143, \"position\": 13.957143, \"action\": \"HOLD\"}, {\"date\": \"2013-01-22T00:00:00\", \"actual\": 13.972857, \"position\": 14.167143, \"action\": \"HOLD\"}, {\"date\": \"2013-01-23T00:00:00\", \"actual\": 14.751429, \"position\": 13.972857, \"action\": \"BUY\"}, {\"date\": \"2013-01-24T00:00:00\", \"actual\": 20.98, \"position\": 14.751429, \"action\": \"SELL\"}, {\"date\": \"2013-01-25T00:00:00\", \"actual\": 24.222857, \"position\": 20.98, \"action\": \"HOLD\"}, {\"date\": \"2013-01-28T00:00:00\", \"actual\": 23.158571, \"position\": 24.222857, \"action\": \"HOLD\"}, {\"date\": \"2013-01-29T00:00:00\", \"actual\": 24.16, \"position\": 23.158571, \"action\": \"HOLD\"}, {\"date\": \"2013-01-30T00:00:00\", \"actual\": 23.957144, \"position\": 24.16, \"action\": \"BUY\"}, {\"date\": \"2013-01-31T00:00:00\", \"actual\": 23.605715, \"position\": 23.957144, \"action\": \"BUY\"}, {\"date\": \"2013-02-01T00:00:00\", \"actual\": 23.542856, \"position\": 23.605715, \"action\": \"SELL\"}, {\"date\": \"2013-02-04T00:00:00\", \"actual\": 24.962856, \"position\": 23.542856, \"action\": \"SELL\"}, {\"date\": \"2013-02-05T00:00:00\", \"actual\": 24.912857, \"position\": 24.962856, \"action\": \"HOLD\"}, {\"date\": \"2013-02-06T00:00:00\", \"actual\": 26.344286, \"position\": 24.912857, \"action\": \"HOLD\"}, {\"date\": \"2013-02-07T00:00:00\", \"actual\": 25.994286, \"position\": 26.344286, \"action\": \"HOLD\"}, {\"date\": \"2013-02-08T00:00:00\", \"actual\": 25.852858, \"position\": 25.994286, \"action\": \"HOLD\"}, {\"date\": \"2013-02-11T00:00:00\", \"actual\": 25.412857, \"position\": 25.852858, \"action\": \"BUY\"}, {\"date\": \"2013-02-12T00:00:00\", \"actual\": 25.421429, \"position\": 25.412857, \"action\": \"SELL\"}, {\"date\": \"2013-02-13T00:00:00\", \"actual\": 26.610001, \"position\": 25.421429, \"action\": \"HOLD\"}, {\"date\": \"2013-02-14T00:00:00\", \"actual\": 26.771429, \"position\": 26.610001, \"action\": \"HOLD\"}, {\"date\": \"2013-02-15T00:00:00\", \"actual\": 27.072857, \"position\": 26.771429, \"action\": \"HOLD\"}, {\"date\": \"2013-02-19T00:00:00\", \"actual\": 28.064285, \"position\": 27.072857, \"action\": \"HOLD\"}, {\"date\": \"2013-02-20T00:00:00\", \"actual\": 26.731428, \"position\": 28.064285, \"action\": \"HOLD\"}, {\"date\": \"2013-02-21T00:00:00\", \"actual\": 26.735714, \"position\": 26.731428, \"action\": \"HOLD\"}, {\"date\": \"2013-02-22T00:00:00\", \"actual\": 25.694286, \"position\": 26.735714, \"action\": \"BUY\"}, {\"date\": \"2013-02-25T00:00:00\", \"actual\": 25.617144, \"position\": 25.694286, \"action\": \"SELL\"}, {\"date\": \"2013-02-26T00:00:00\", \"actual\": 26.298571, \"position\": 25.617144, \"action\": \"HOLD\"}, {\"date\": \"2013-02-27T00:00:00\", \"actual\": 26.331429, \"position\": 26.298571, \"action\": \"HOLD\"}, {\"date\": \"2013-02-28T00:00:00\", \"actual\": 26.868572, \"position\": 26.331429, \"action\": \"HOLD\"}, {\"date\": \"2013-03-01T00:00:00\", \"actual\": 27.052856, \"position\": 26.868572, \"action\": \"HOLD\"}, {\"date\": \"2013-03-04T00:00:00\", \"actual\": 25.887142, \"position\": 27.052856, \"action\": \"HOLD\"}, {\"date\": \"2013-03-05T00:00:00\", \"actual\": 25.961428, \"position\": 25.887142, \"action\": \"BUY\"}, {\"date\": \"2013-03-06T00:00:00\", \"actual\": 26.134285, \"position\": 25.961428, \"action\": \"BUY\"}, {\"date\": \"2013-03-07T00:00:00\", \"actual\": 25.937143, \"position\": 26.134285, \"action\": \"SELL\"}, {\"date\": \"2013-03-08T00:00:00\", \"actual\": 26.385714, \"position\": 25.937143, \"action\": \"SELL\"}, {\"date\": \"2013-03-11T00:00:00\", \"actual\": 25.778572, \"position\": 26.385714, \"action\": \"HOLD\"}, {\"date\": \"2013-03-12T00:00:00\", \"actual\": 26.015715, \"position\": 25.778572, \"action\": \"HOLD\"}, {\"date\": \"2013-03-13T00:00:00\", \"actual\": 27.48, \"position\": 26.015715, \"action\": \"HOLD\"}, {\"date\": \"2013-03-14T00:00:00\", \"actual\": 26.91, \"position\": 27.48, \"action\": \"HOLD\"}, {\"date\": \"2013-03-15T00:00:00\", \"actual\": 26.407143, \"position\": 26.91, \"action\": \"BUY\"}, {\"date\": \"2013-03-18T00:00:00\", \"actual\": 26.512857, \"position\": 26.407143, \"action\": \"BUY\"}, {\"date\": \"2013-03-19T00:00:00\", \"actual\": 25.91, \"position\": 26.512857, \"action\": \"SELL\"}, {\"date\": \"2013-03-20T00:00:00\", \"actual\": 26.15, \"position\": 25.91, \"action\": \"SELL\"}, {\"date\": \"2013-03-21T00:00:00\", \"actual\": 25.998571, \"position\": 26.15, \"action\": \"HOLD\"}, {\"date\": \"2013-03-22T00:00:00\", \"actual\": 25.9, \"position\": 25.998571, \"action\": \"HOLD\"}, {\"date\": \"2013-03-25T00:00:00\", \"actual\": 25.827143, \"position\": 25.9, \"action\": \"HOLD\"}, {\"date\": \"2013-03-26T00:00:00\", \"actual\": 27.23, \"position\": 25.827143, \"action\": \"HOLD\"}, {\"date\": \"2013-03-27T00:00:00\", \"actual\": 27.177143, \"position\": 27.23, \"action\": \"HOLD\"}, {\"date\": \"2013-03-28T00:00:00\", \"actual\": 27.040001, \"position\": 27.177143, \"action\": \"BUY\"}, {\"date\": \"2013-04-01T00:00:00\", \"actual\": 26.061428, \"position\": 27.040001, \"action\": \"BUY\"}, {\"date\": \"2013-04-02T00:00:00\", \"actual\": 25.241428, \"position\": 26.061428, \"action\": \"BUY\"}, {\"date\": \"2013-04-03T00:00:00\", \"actual\": 24.248571, \"position\": 25.241428, \"action\": \"BUY\"}, {\"date\": \"2013-04-04T00:00:00\", \"actual\": 23.812857, \"position\": 24.248571, \"action\": \"SELL\"}, {\"date\": \"2013-04-05T00:00:00\", \"actual\": 23.522858, \"position\": 23.812857, \"action\": \"SELL\"}, {\"date\": \"2013-04-08T00:00:00\", \"actual\": 23.294285, \"position\": 23.522858, \"action\": \"SELL\"}, {\"date\": \"2013-04-09T00:00:00\", \"actual\": 24.194286, \"position\": 23.294285, \"action\": \"SELL\"}, {\"date\": \"2013-04-10T00:00:00\", \"actual\": 23.724285, \"position\": 24.194286, \"action\": \"HOLD\"}, {\"date\": \"2013-04-11T00:00:00\", \"actual\": 24.715714, \"position\": 23.724285, \"action\": \"HOLD\"}, {\"date\": \"2013-04-12T00:00:00\", \"actual\": 24.742857, \"position\": 24.715714, \"action\": \"HOLD\"}, {\"date\": \"2013-04-15T00:00:00\", \"actual\": 25.214285, \"position\": 24.742857, \"action\": \"HOLD\"}, {\"date\": \"2013-04-16T00:00:00\", \"actual\": 25.121429, \"position\": 25.214285, \"action\": \"HOLD\"}, {\"date\": \"2013-04-17T00:00:00\", \"actual\": 24.194286, \"position\": 25.121429, \"action\": \"BUY\"}, {\"date\": \"2013-04-18T00:00:00\", \"actual\": 23.402857, \"position\": 24.194286, \"action\": \"BUY\"}, {\"date\": \"2013-04-19T00:00:00\", \"actual\": 23.338572, \"position\": 23.402857, \"action\": \"BUY\"}, {\"date\": \"2013-04-22T00:00:00\", \"actual\": 24.91, \"position\": 23.338572, \"action\": \"SELL\"}, {\"date\": \"2013-04-23T00:00:00\", \"actual\": 30.998571, \"position\": 24.91, \"action\": \"SELL\"}, {\"date\": \"2013-04-24T00:00:00\", \"actual\": 30.959999, \"position\": 30.998571, \"action\": \"SELL\"}, {\"date\": \"2013-04-25T00:00:00\", \"actual\": 30.535715, \"position\": 30.959999, \"action\": \"HOLD\"}, {\"date\": \"2013-04-26T00:00:00\", \"actual\": 30.792856, \"position\": 30.535715, \"action\": \"HOLD\"}, {\"date\": \"2013-04-29T00:00:00\", \"actual\": 30.715714, \"position\": 30.792856, \"action\": \"HOLD\"}, {\"date\": \"2013-04-30T00:00:00\", \"actual\": 30.867144, \"position\": 30.715714, \"action\": \"HOLD\"}, {\"date\": \"2013-05-01T00:00:00\", \"actual\": 30.415714, \"position\": 30.867144, \"action\": \"HOLD\"}, {\"date\": \"2013-05-02T00:00:00\", \"actual\": 30.641428, \"position\": 30.415714, \"action\": \"HOLD\"}, {\"date\": \"2013-05-03T00:00:00\", \"actual\": 30.492857, \"position\": 30.641428, \"action\": \"HOLD\"}, {\"date\": \"2013-05-06T00:00:00\", \"actual\": 30.098572, \"position\": 30.492857, \"action\": \"HOLD\"}, {\"date\": \"2013-05-07T00:00:00\", \"actual\": 29.464285, \"position\": 30.098572, \"action\": \"HOLD\"}, {\"date\": \"2013-05-08T00:00:00\", \"actual\": 29.801428, \"position\": 29.464285, \"action\": \"BUY\"}, {\"date\": \"2013-05-09T00:00:00\", \"actual\": 30.915714, \"position\": 29.801428, \"action\": \"SELL\"}, {\"date\": \"2013-05-10T00:00:00\", \"actual\": 31.098572, \"position\": 30.915714, \"action\": \"HOLD\"}, {\"date\": \"2013-05-13T00:00:00\", \"actual\": 32.76857, \"position\": 31.098572, \"action\": \"HOLD\"}, {\"date\": \"2013-05-14T00:00:00\", \"actual\": 33.424286, \"position\": 32.76857, \"action\": \"HOLD\"}, {\"date\": \"2013-05-15T00:00:00\", \"actual\": 34.771427, \"position\": 33.424286, \"action\": \"HOLD\"}, {\"date\": \"2013-05-16T00:00:00\", \"actual\": 33.861427, \"position\": 34.771427, \"action\": \"HOLD\"}, {\"date\": \"2013-05-17T00:00:00\", \"actual\": 34.142857, \"position\": 33.861427, \"action\": \"HOLD\"}, {\"date\": \"2013-05-20T00:00:00\", \"actual\": 34.221428, \"position\": 34.142857, \"action\": \"BUY\"}, {\"date\": \"2013-05-21T00:00:00\", \"actual\": 33.869999, \"position\": 34.221428, \"action\": \"SELL\"}, {\"date\": \"2013-05-22T00:00:00\", \"actual\": 32.651428, \"position\": 33.869999, \"action\": \"HOLD\"}, {\"date\": \"2013-05-23T00:00:00\", \"actual\": 32.311428, \"position\": 32.651428, \"action\": \"HOLD\"}, {\"date\": \"2013-05-24T00:00:00\", \"actual\": 32.677143, \"position\": 32.311428, \"action\": \"HOLD\"}, {\"date\": \"2013-05-28T00:00:00\", \"actual\": 30.598572, \"position\": 32.677143, \"action\": \"HOLD\"}, {\"date\": \"2013-05-29T00:00:00\", \"actual\": 30.762857, \"position\": 30.598572, \"action\": \"BUY\"}, {\"date\": \"2013-05-30T00:00:00\", \"actual\": 31.808571, \"position\": 30.762857, \"action\": \"SELL\"}, {\"date\": \"2013-05-31T00:00:00\", \"actual\": 32.32143, \"position\": 31.808571, \"action\": \"HOLD\"}, {\"date\": \"2013-06-03T00:00:00\", \"actual\": 31.709999, \"position\": 32.32143, \"action\": \"HOLD\"}, {\"date\": \"2013-06-04T00:00:00\", \"actual\": 32.187141, \"position\": 31.709999, \"action\": \"HOLD\"}, {\"date\": \"2013-06-05T00:00:00\", \"actual\": 31.922857, \"position\": 32.187141, \"action\": \"HOLD\"}, {\"date\": \"2013-06-06T00:00:00\", \"actual\": 31.105715, \"position\": 31.922857, \"action\": \"HOLD\"}, {\"date\": \"2013-06-07T00:00:00\", \"actual\": 31.459999, \"position\": 31.105715, \"action\": \"BUY\"}, {\"date\": \"2013-06-10T00:00:00\", \"actual\": 31.561428, \"position\": 31.459999, \"action\": \"BUY\"}, {\"date\": \"2013-06-11T00:00:00\", \"actual\": 30.637142, \"position\": 31.561428, \"action\": \"SELL\"}, {\"date\": \"2013-06-12T00:00:00\", \"actual\": 29.662857, \"position\": 30.637142, \"action\": \"SELL\"}, {\"date\": \"2013-06-13T00:00:00\", \"actual\": 30.77, \"position\": 29.662857, \"action\": \"HOLD\"}, {\"date\": \"2013-06-14T00:00:00\", \"actual\": 30.57, \"position\": 30.77, \"action\": \"HOLD\"}, {\"date\": \"2013-06-17T00:00:00\", \"actual\": 32.747143, \"position\": 30.57, \"action\": \"HOLD\"}, {\"date\": \"2013-06-18T00:00:00\", \"actual\": 32.689999, \"position\": 32.747143, \"action\": \"HOLD\"}, {\"date\": \"2013-06-19T00:00:00\", \"actual\": 33.187141, \"position\": 32.689999, \"action\": \"HOLD\"}, {\"date\": \"2013-06-20T00:00:00\", \"actual\": 31.931429, \"position\": 33.187141, \"action\": \"BUY\"}, {\"date\": \"2013-06-21T00:00:00\", \"actual\": 30.985714, \"position\": 31.931429, \"action\": \"SELL\"}, {\"date\": \"2013-06-24T00:00:00\", \"actual\": 30.799999, \"position\": 30.985714, \"action\": \"HOLD\"}, {\"date\": \"2013-06-25T00:00:00\", \"actual\": 30.414286, \"position\": 30.799999, \"action\": \"HOLD\"}, {\"date\": \"2013-06-26T00:00:00\", \"actual\": 30.299999, \"position\": 30.414286, \"action\": \"HOLD\"}, {\"date\": \"2013-06-27T00:00:00\", \"actual\": 30.709999, \"position\": 30.299999, \"action\": \"HOLD\"}, {\"date\": \"2013-06-28T00:00:00\", \"actual\": 30.155714, \"position\": 30.709999, \"action\": \"HOLD\"}, {\"date\": \"2013-07-01T00:00:00\", \"actual\": 32.040001, \"position\": 30.155714, \"action\": \"HOLD\"}, {\"date\": \"2013-07-02T00:00:00\", \"actual\": 31.637142, \"position\": 32.040001, \"action\": \"HOLD\"}, {\"date\": \"2013-07-03T00:00:00\", \"actual\": 31.558571, \"position\": 31.637142, \"action\": \"HOLD\"}, {\"date\": \"2013-07-05T00:00:00\", \"actual\": 32.157143, \"position\": 31.558571, \"action\": \"HOLD\"}, {\"date\": \"2013-07-08T00:00:00\", \"actual\": 33.299999, \"position\": 32.157143, \"action\": \"HOLD\"}, {\"date\": \"2013-07-09T00:00:00\", \"actual\": 35.34, \"position\": 33.299999, \"action\": \"HOLD\"}, {\"date\": \"2013-07-10T00:00:00\", \"actual\": 34.831429, \"position\": 35.34, \"action\": \"HOLD\"}, {\"date\": \"2013-07-11T00:00:00\", \"actual\": 34.881428, \"position\": 34.831429, \"action\": \"HOLD\"}, {\"date\": \"2013-07-12T00:00:00\", \"actual\": 36.751427, \"position\": 34.881428, \"action\": \"BUY\"}, {\"date\": \"2013-07-15T00:00:00\", \"actual\": 36.854286, \"position\": 36.751427, \"action\": \"SELL\"}, {\"date\": \"2013-07-16T00:00:00\", \"actual\": 37.21143, \"position\": 36.854286, \"action\": \"HOLD\"}, {\"date\": \"2013-07-17T00:00:00\", \"actual\": 38.274284, \"position\": 37.21143, \"action\": \"HOLD\"}, {\"date\": \"2013-07-18T00:00:00\", \"actual\": 38.058571, \"position\": 38.274284, \"action\": \"HOLD\"}, {\"date\": \"2013-07-19T00:00:00\", \"actual\": 37.797142, \"position\": 38.058571, \"action\": \"HOLD\"}, {\"date\": \"2013-07-22T00:00:00\", \"actual\": 37.422855, \"position\": 37.797142, \"action\": \"HOLD\"}, {\"date\": \"2013-07-23T00:00:00\", \"actual\": 35.751427, \"position\": 37.422855, \"action\": \"BUY\"}, {\"date\": \"2013-07-24T00:00:00\", \"actual\": 34.471428, \"position\": 35.751427, \"action\": \"SELL\"}, {\"date\": \"2013-07-25T00:00:00\", \"actual\": 35.248573, \"position\": 34.471428, \"action\": \"BUY\"}, {\"date\": \"2013-07-26T00:00:00\", \"actual\": 35.187141, \"position\": 35.248573, \"action\": \"SELL\"}, {\"date\": \"2013-07-29T00:00:00\", \"actual\": 34.994286, \"position\": 35.187141, \"action\": \"HOLD\"}, {\"date\": \"2013-07-30T00:00:00\", \"actual\": 34.822857, \"position\": 34.994286, \"action\": \"HOLD\"}, {\"date\": \"2013-07-31T00:00:00\", \"actual\": 34.925713, \"position\": 34.822857, \"action\": \"HOLD\"}, {\"date\": \"2013-08-01T00:00:00\", \"actual\": 35.58857, \"position\": 34.925713, \"action\": \"HOLD\"}, {\"date\": \"2013-08-02T00:00:00\", \"actual\": 35.168571, \"position\": 35.58857, \"action\": \"HOLD\"}, {\"date\": \"2013-08-05T00:00:00\", \"actual\": 36.262856, \"position\": 35.168571, \"action\": \"HOLD\"}, {\"date\": \"2013-08-06T00:00:00\", \"actual\": 36.557144, \"position\": 36.262856, \"action\": \"BUY\"}, {\"date\": \"2013-08-07T00:00:00\", \"actual\": 35.601429, \"position\": 36.557144, \"action\": \"SELL\"}, {\"date\": \"2013-08-08T00:00:00\", \"actual\": 35.771427, \"position\": 35.601429, \"action\": \"HOLD\"}, {\"date\": \"2013-08-09T00:00:00\", \"actual\": 36.107143, \"position\": 35.771427, \"action\": \"BUY\"}, {\"date\": \"2013-08-12T00:00:00\", \"actual\": 36.657143, \"position\": 36.107143, \"action\": \"SELL\"}, {\"date\": \"2013-08-13T00:00:00\", \"actual\": 37.027142, \"position\": 36.657143, \"action\": \"HOLD\"}, {\"date\": \"2013-08-14T00:00:00\", \"actual\": 37.401428, \"position\": 37.027142, \"action\": \"HOLD\"}, {\"date\": \"2013-08-15T00:00:00\", \"actual\": 36.201427, \"position\": 37.401428, \"action\": \"HOLD\"}, {\"date\": \"2013-08-16T00:00:00\", \"actual\": 36.98143, \"position\": 36.201427, \"action\": \"HOLD\"}, {\"date\": \"2013-08-19T00:00:00\", \"actual\": 37.111427, \"position\": 36.98143, \"action\": \"HOLD\"}, {\"date\": \"2013-08-20T00:00:00\", \"actual\": 39.041428, \"position\": 37.111427, \"action\": \"HOLD\"}, {\"date\": \"2013-08-21T00:00:00\", \"actual\": 38.624287, \"position\": 39.041428, \"action\": \"HOLD\"}, {\"date\": \"2013-08-22T00:00:00\", \"actual\": 38.535713, \"position\": 38.624287, \"action\": \"HOLD\"}, {\"date\": \"2013-08-23T00:00:00\", \"actual\": 39.765713, \"position\": 38.535713, \"action\": \"HOLD\"}, {\"date\": \"2013-08-26T00:00:00\", \"actual\": 40.388573, \"position\": 39.765713, \"action\": \"HOLD\"}, {\"date\": \"2013-08-27T00:00:00\", \"actual\": 39.434284, \"position\": 40.388573, \"action\": \"HOLD\"}, {\"date\": \"2013-08-28T00:00:00\", \"actual\": 40.48, \"position\": 39.434284, \"action\": \"HOLD\"}, {\"date\": \"2013-08-29T00:00:00\", \"actual\": 41.121429, \"position\": 40.48, \"action\": \"HOLD\"}, {\"date\": \"2013-08-30T00:00:00\", \"actual\": 40.558571, \"position\": 41.121429, \"action\": \"HOLD\"}, {\"date\": \"2013-09-03T00:00:00\", \"actual\": 41.285713, \"position\": 40.558571, \"action\": \"HOLD\"}, {\"date\": \"2013-09-04T00:00:00\", \"actual\": 41.775715, \"position\": 41.285713, \"action\": \"HOLD\"}, {\"date\": \"2013-09-05T00:00:00\", \"actual\": 42.158573, \"position\": 41.775715, \"action\": \"HOLD\"}, {\"date\": \"2013-09-06T00:00:00\", \"actual\": 41.648571, \"position\": 42.158573, \"action\": \"BUY\"}, {\"date\": \"2013-09-09T00:00:00\", \"actual\": 42.021427, \"position\": 41.648571, \"action\": \"SELL\"}, {\"date\": \"2013-09-10T00:00:00\", \"actual\": 44.722858, \"position\": 42.021427, \"action\": \"HOLD\"}, {\"date\": \"2013-09-11T00:00:00\", \"actual\": 44.042858, \"position\": 44.722858, \"action\": \"HOLD\"}, {\"date\": \"2013-09-12T00:00:00\", \"actual\": 43.058571, \"position\": 44.042858, \"action\": \"HOLD\"}, {\"date\": \"2013-09-13T00:00:00\", \"actual\": 43.664288, \"position\": 43.058571, \"action\": \"HOLD\"}, {\"date\": \"2013-09-16T00:00:00\", \"actual\": 43.165714, \"position\": 43.664288, \"action\": \"HOLD\"}, {\"date\": \"2013-09-17T00:00:00\", \"actual\": 42.792858, \"position\": 43.165714, \"action\": \"HOLD\"}, {\"date\": \"2013-09-18T00:00:00\", \"actual\": 43.845715, \"position\": 42.792858, \"action\": \"HOLD\"}, {\"date\": \"2013-09-19T00:00:00\", \"actual\": 43.642857, \"position\": 43.845715, \"action\": \"HOLD\"}, {\"date\": \"2013-09-20T00:00:00\", \"actual\": 44.832859, \"position\": 43.642857, \"action\": \"HOLD\"}, {\"date\": \"2013-09-23T00:00:00\", \"actual\": 43.148571, \"position\": 44.832859, \"action\": \"HOLD\"}, {\"date\": \"2013-09-24T00:00:00\", \"actual\": 43.784286, \"position\": 43.148571, \"action\": \"HOLD\"}, {\"date\": \"2013-09-25T00:00:00\", \"actual\": 43.877144, \"position\": 43.784286, \"action\": \"BUY\"}, {\"date\": \"2013-09-26T00:00:00\", \"actual\": 44.787144, \"position\": 43.877144, \"action\": \"BUY\"}, {\"date\": \"2013-09-27T00:00:00\", \"actual\": 44.628571, \"position\": 44.787144, \"action\": \"SELL\"}, {\"date\": \"2013-09-30T00:00:00\", \"actual\": 44.172855, \"position\": 44.628571, \"action\": \"BUY\"}, {\"date\": \"2013-10-01T00:00:00\", \"actual\": 46.374287, \"position\": 44.172855, \"action\": \"BUY\"}, {\"date\": \"2013-10-02T00:00:00\", \"actual\": 47.247143, \"position\": 46.374287, \"action\": \"SELL\"}, {\"date\": \"2013-10-03T00:00:00\", \"actual\": 45.959999, \"position\": 47.247143, \"action\": \"SELL\"}, {\"date\": \"2013-10-04T00:00:00\", \"actual\": 46.751427, \"position\": 45.959999, \"action\": \"SELL\"}, {\"date\": \"2013-10-07T00:00:00\", \"actual\": 45.451427, \"position\": 46.751427, \"action\": \"HOLD\"}, {\"date\": \"2013-10-08T00:00:00\", \"actual\": 43.188572, \"position\": 45.451427, \"action\": \"HOLD\"}, {\"date\": \"2013-10-09T00:00:00\", \"actual\": 41.204285, \"position\": 43.188572, \"action\": \"HOLD\"}, {\"date\": \"2013-10-10T00:00:00\", \"actual\": 43.427143, \"position\": 41.204285, \"action\": \"BUY\"}, {\"date\": \"2013-10-11T00:00:00\", \"actual\": 42.978573, \"position\": 43.427143, \"action\": \"SELL\"}, {\"date\": \"2013-10-14T00:00:00\", \"actual\": 46.337143, \"position\": 42.978573, \"action\": \"BUY\"}, {\"date\": \"2013-10-15T00:00:00\", \"actual\": 45.955715, \"position\": 46.337143, \"action\": \"SELL\"}, {\"date\": \"2013-10-16T00:00:00\", \"actual\": 46.125713, \"position\": 45.955715, \"action\": \"BUY\"}, {\"date\": \"2013-10-17T00:00:00\", \"actual\": 47.157143, \"position\": 46.125713, \"action\": \"SELL\"}, {\"date\": \"2013-10-18T00:00:00\", \"actual\": 47.642857, \"position\": 47.157143, \"action\": \"HOLD\"}, {\"date\": \"2013-10-21T00:00:00\", \"actual\": 50.712856, \"position\": 47.642857, \"action\": \"HOLD\"}, {\"date\": \"2013-10-22T00:00:00\", \"actual\": 46.074287, \"position\": 50.712856, \"action\": \"HOLD\"}, {\"date\": \"2013-10-23T00:00:00\", \"actual\": 47.177143, \"position\": 46.074287, \"action\": \"HOLD\"}, {\"date\": \"2013-10-24T00:00:00\", \"actual\": 47.317142, \"position\": 47.177143, \"action\": \"HOLD\"}, {\"date\": \"2013-10-25T00:00:00\", \"actual\": 46.861427, \"position\": 47.317142, \"action\": \"HOLD\"}, {\"date\": \"2013-10-28T00:00:00\", \"actual\": 44.857143, \"position\": 46.861427, \"action\": \"HOLD\"}, {\"date\": \"2013-10-29T00:00:00\", \"actual\": 46.757141, \"position\": 44.857143, \"action\": \"BUY\"}, {\"date\": \"2013-10-30T00:00:00\", \"actual\": 45.44857, \"position\": 46.757141, \"action\": \"SELL\"}, {\"date\": \"2013-10-31T00:00:00\", \"actual\": 46.068573, \"position\": 45.44857, \"action\": \"HOLD\"}, {\"date\": \"2013-11-01T00:00:00\", \"actual\": 47.03857, \"position\": 46.068573, \"action\": \"HOLD\"}, {\"date\": \"2013-11-04T00:00:00\", \"actual\": 48.228573, \"position\": 47.03857, \"action\": \"HOLD\"}, {\"date\": \"2013-11-05T00:00:00\", \"actual\": 48.785713, \"position\": 48.228573, \"action\": \"HOLD\"}, {\"date\": \"2013-11-06T00:00:00\", \"actual\": 47.947144, \"position\": 48.785713, \"action\": \"HOLD\"}, {\"date\": \"2013-11-07T00:00:00\", \"actual\": 46.694286, \"position\": 47.947144, \"action\": \"HOLD\"}, {\"date\": \"2013-11-08T00:00:00\", \"actual\": 47.842857, \"position\": 46.694286, \"action\": \"BUY\"}, {\"date\": \"2013-11-11T00:00:00\", \"actual\": 48.272858, \"position\": 47.842857, \"action\": \"SELL\"}, {\"date\": \"2013-11-12T00:00:00\", \"actual\": 47.675713, \"position\": 48.272858, \"action\": \"HOLD\"}, {\"date\": \"2013-11-13T00:00:00\", \"actual\": 47.897144, \"position\": 47.675713, \"action\": \"HOLD\"}, {\"date\": \"2013-11-14T00:00:00\", \"actual\": 48.938572, \"position\": 47.897144, \"action\": \"HOLD\"}, {\"date\": \"2013-11-15T00:00:00\", \"actual\": 49.965714, \"position\": 48.938572, \"action\": \"HOLD\"}, {\"date\": \"2013-11-18T00:00:00\", \"actual\": 48.824287, \"position\": 49.965714, \"action\": \"HOLD\"}, {\"date\": \"2013-11-19T00:00:00\", \"actual\": 48.184284, \"position\": 48.824287, \"action\": \"HOLD\"}, {\"date\": \"2013-11-20T00:00:00\", \"actual\": 48.502857, \"position\": 48.184284, \"action\": \"BUY\"}, {\"date\": \"2013-11-21T00:00:00\", \"actual\": 49.785713, \"position\": 48.502857, \"action\": \"SELL\"}, {\"date\": \"2013-11-22T00:00:00\", \"actual\": 49.692856, \"position\": 49.785713, \"action\": \"HOLD\"}, {\"date\": \"2013-11-25T00:00:00\", \"actual\": 50.034286, \"position\": 49.692856, \"action\": \"HOLD\"}, {\"date\": \"2013-11-26T00:00:00\", \"actual\": 50.742859, \"position\": 50.034286, \"action\": \"HOLD\"}, {\"date\": \"2013-11-27T00:00:00\", \"actual\": 51.784286, \"position\": 50.742859, \"action\": \"HOLD\"}, {\"date\": \"2013-11-29T00:00:00\", \"actual\": 52.257141, \"position\": 51.784286, \"action\": \"HOLD\"}, {\"date\": \"2013-12-02T00:00:00\", \"actual\": 51.988571, \"position\": 52.257141, \"action\": \"HOLD\"}, {\"date\": \"2013-12-03T00:00:00\", \"actual\": 51.848572, \"position\": 51.988571, \"action\": \"HOLD\"}, {\"date\": \"2013-12-04T00:00:00\", \"actual\": 50.895714, \"position\": 51.848572, \"action\": \"BUY\"}, {\"date\": \"2013-12-05T00:00:00\", \"actual\": 51.151428, \"position\": 50.895714, \"action\": \"SELL\"}, {\"date\": \"2013-12-06T00:00:00\", \"actual\": 50.634285, \"position\": 51.151428, \"action\": \"HOLD\"}, {\"date\": \"2013-12-09T00:00:00\", \"actual\": 50.810001, \"position\": 50.634285, \"action\": \"HOLD\"}, {\"date\": \"2013-12-10T00:00:00\", \"actual\": 51.871429, \"position\": 50.810001, \"action\": \"HOLD\"}, {\"date\": \"2013-12-11T00:00:00\", \"actual\": 51.997143, \"position\": 51.871429, \"action\": \"HOLD\"}, {\"date\": \"2013-12-12T00:00:00\", \"actual\": 53.332859, \"position\": 51.997143, \"action\": \"HOLD\"}, {\"date\": \"2013-12-13T00:00:00\", \"actual\": 52.709999, \"position\": 53.332859, \"action\": \"HOLD\"}, {\"date\": \"2013-12-16T00:00:00\", \"actual\": 52.330002, \"position\": 52.709999, \"action\": \"HOLD\"}, {\"date\": \"2013-12-17T00:00:00\", \"actual\": 53.552856, \"position\": 52.330002, \"action\": \"BUY\"}, {\"date\": \"2013-12-18T00:00:00\", \"actual\": 53.748573, \"position\": 53.552856, \"action\": \"SELL\"}, {\"date\": \"2013-12-19T00:00:00\", \"actual\": 53.82, \"position\": 53.748573, \"action\": \"HOLD\"}, {\"date\": \"2013-12-20T00:00:00\", \"actual\": 53.667141, \"position\": 53.82, \"action\": \"HOLD\"}, {\"date\": \"2013-12-23T00:00:00\", \"actual\": 54.368572, \"position\": 53.667141, \"action\": \"HOLD\"}, {\"date\": \"2013-12-24T00:00:00\", \"actual\": 54.055714, \"position\": 54.368572, \"action\": \"HOLD\"}, {\"date\": \"2013-12-26T00:00:00\", \"actual\": 53.847141, \"position\": 54.055714, \"action\": \"HOLD\"}, {\"date\": \"2013-12-27T00:00:00\", \"actual\": 52.5, \"position\": 53.847141, \"action\": \"HOLD\"}, {\"date\": \"2013-12-30T00:00:00\", \"actual\": 52.427143, \"position\": 52.5, \"action\": \"BUY\"}, {\"date\": \"2013-12-31T00:00:00\", \"actual\": 52.595715, \"position\": 52.427143, \"action\": \"SELL\"}, {\"date\": \"2014-01-02T00:00:00\", \"actual\": 51.831429, \"position\": 52.595715, \"action\": \"HOLD\"}, {\"date\": \"2014-01-03T00:00:00\", \"actual\": 51.871429, \"position\": 51.831429, \"action\": \"HOLD\"}, {\"date\": \"2014-01-06T00:00:00\", \"actual\": 51.367142, \"position\": 51.871429, \"action\": \"HOLD\"}, {\"date\": \"2014-01-07T00:00:00\", \"actual\": 48.5, \"position\": 51.367142, \"action\": \"HOLD\"}, {\"date\": \"2014-01-08T00:00:00\", \"actual\": 48.712856, \"position\": 48.5, \"action\": \"HOLD\"}, {\"date\": \"2014-01-09T00:00:00\", \"actual\": 48.150002, \"position\": 48.712856, \"action\": \"HOLD\"}, {\"date\": \"2014-01-10T00:00:00\", \"actual\": 47.44857, \"position\": 48.150002, \"action\": \"HOLD\"}, {\"date\": \"2014-01-13T00:00:00\", \"actual\": 48.115715, \"position\": 47.44857, \"action\": \"HOLD\"}, {\"date\": \"2014-01-14T00:00:00\", \"actual\": 48.279999, \"position\": 48.115715, \"action\": \"HOLD\"}, {\"date\": \"2014-01-15T00:00:00\", \"actual\": 47.197144, \"position\": 48.279999, \"action\": \"HOLD\"}, {\"date\": \"2014-01-16T00:00:00\", \"actual\": 47.382858, \"position\": 47.197144, \"action\": \"HOLD\"}, {\"date\": \"2014-01-17T00:00:00\", \"actual\": 47.148571, \"position\": 47.382858, \"action\": \"HOLD\"}, {\"date\": \"2014-01-21T00:00:00\", \"actual\": 46.958572, \"position\": 47.148571, \"action\": \"HOLD\"}, {\"date\": \"2014-01-22T00:00:00\", \"actual\": 47.675713, \"position\": 46.958572, \"action\": \"HOLD\"}, {\"date\": \"2014-01-23T00:00:00\", \"actual\": 55.531429, \"position\": 47.675713, \"action\": \"HOLD\"}, {\"date\": \"2014-01-24T00:00:00\", \"actual\": 55.154285, \"position\": 55.531429, \"action\": \"HOLD\"}, {\"date\": \"2014-01-27T00:00:00\", \"actual\": 54.46143, \"position\": 55.154285, \"action\": \"HOLD\"}, {\"date\": \"2014-01-28T00:00:00\", \"actual\": 58.110001, \"position\": 54.46143, \"action\": \"HOLD\"}, {\"date\": \"2014-01-29T00:00:00\", \"actual\": 57.202858, \"position\": 58.110001, \"action\": \"HOLD\"}, {\"date\": \"2014-01-30T00:00:00\", \"actual\": 57.810001, \"position\": 57.202858, \"action\": \"HOLD\"}, {\"date\": \"2014-01-31T00:00:00\", \"actual\": 58.475716, \"position\": 57.810001, \"action\": \"HOLD\"}, {\"date\": \"2014-02-03T00:00:00\", \"actual\": 57.76857, \"position\": 58.475716, \"action\": \"HOLD\"}, {\"date\": \"2014-02-04T00:00:00\", \"actual\": 57.987144, \"position\": 57.76857, \"action\": \"BUY\"}, {\"date\": \"2014-02-05T00:00:00\", \"actual\": 57.774284, \"position\": 57.987144, \"action\": \"SELL\"}, {\"date\": \"2014-02-06T00:00:00\", \"actual\": 58.272858, \"position\": 57.774284, \"action\": \"BUY\"}, {\"date\": \"2014-02-07T00:00:00\", \"actual\": 61.425713, \"position\": 58.272858, \"action\": \"SELL\"}, {\"date\": \"2014-02-10T00:00:00\", \"actual\": 61.491428, \"position\": 61.425713, \"action\": \"HOLD\"}, {\"date\": \"2014-02-11T00:00:00\", \"actual\": 61.998573, \"position\": 61.491428, \"action\": \"HOLD\"}, {\"date\": \"2014-02-12T00:00:00\", \"actual\": 61.275715, \"position\": 61.998573, \"action\": \"BUY\"}, {\"date\": \"2014-02-13T00:00:00\", \"actual\": 62.364285, \"position\": 61.275715, \"action\": \"SELL\"}, {\"date\": \"2014-02-14T00:00:00\", \"actual\": 62.215714, \"position\": 62.364285, \"action\": \"HOLD\"}, {\"date\": \"2014-02-18T00:00:00\", \"actual\": 62.407143, \"position\": 62.215714, \"action\": \"HOLD\"}, {\"date\": \"2014-02-19T00:00:00\", \"actual\": 61.175713, \"position\": 62.407143, \"action\": \"HOLD\"}, {\"date\": \"2014-02-20T00:00:00\", \"actual\": 62.135715, \"position\": 61.175713, \"action\": \"HOLD\"}, {\"date\": \"2014-02-21T00:00:00\", \"actual\": 61.747143, \"position\": 62.135715, \"action\": \"HOLD\"}, {\"date\": \"2014-02-24T00:00:00\", \"actual\": 63.857143, \"position\": 61.747143, \"action\": \"HOLD\"}, {\"date\": \"2014-02-25T00:00:00\", \"actual\": 64.718575, \"position\": 63.857143, \"action\": \"HOLD\"}, {\"date\": \"2014-02-26T00:00:00\", \"actual\": 64.112854, \"position\": 64.718575, \"action\": \"HOLD\"}, {\"date\": \"2014-02-27T00:00:00\", \"actual\": 64.604286, \"position\": 64.112854, \"action\": \"BUY\"}, {\"date\": \"2014-02-28T00:00:00\", \"actual\": 63.66143, \"position\": 64.604286, \"action\": \"SELL\"}, {\"date\": \"2014-03-03T00:00:00\", \"actual\": 63.655716, \"position\": 63.66143, \"action\": \"BUY\"}, {\"date\": \"2014-03-04T00:00:00\", \"actual\": 64.997147, \"position\": 63.655716, \"action\": \"SELL\"}, {\"date\": \"2014-03-05T00:00:00\", \"actual\": 64.785713, \"position\": 64.997147, \"action\": \"HOLD\"}, {\"date\": \"2014-03-06T00:00:00\", \"actual\": 64.358574, \"position\": 64.785713, \"action\": \"HOLD\"}, {\"date\": \"2014-03-07T00:00:00\", \"actual\": 64.052856, \"position\": 64.358574, \"action\": \"HOLD\"}, {\"date\": \"2014-03-10T00:00:00\", \"actual\": 62.849998, \"position\": 64.052856, \"action\": \"HOLD\"}, {\"date\": \"2014-03-11T00:00:00\", \"actual\": 62.497143, \"position\": 62.849998, \"action\": \"HOLD\"}, {\"date\": \"2014-03-12T00:00:00\", \"actual\": 62.368572, \"position\": 62.497143, \"action\": \"HOLD\"}, {\"date\": \"2014-03-13T00:00:00\", \"actual\": 61.437141, \"position\": 62.368572, \"action\": \"HOLD\"}, {\"date\": \"2014-03-14T00:00:00\", \"actual\": 60.64143, \"position\": 61.437141, \"action\": \"HOLD\"}, {\"date\": \"2014-03-17T00:00:00\", \"actual\": 60.388573, \"position\": 60.64143, \"action\": \"HOLD\"}, {\"date\": \"2014-03-18T00:00:00\", \"actual\": 60.035713, \"position\": 60.388573, \"action\": \"HOLD\"}, {\"date\": \"2014-03-19T00:00:00\", \"actual\": 60.012856, \"position\": 60.035713, \"action\": \"HOLD\"}, {\"date\": \"2014-03-20T00:00:00\", \"actual\": 60.610001, \"position\": 60.012856, \"action\": \"HOLD\"}, {\"date\": \"2014-03-21T00:00:00\", \"actual\": 57.998573, \"position\": 60.610001, \"action\": \"HOLD\"}, {\"date\": \"2014-03-24T00:00:00\", \"actual\": 54.128571, \"position\": 57.998573, \"action\": \"HOLD\"}, {\"date\": \"2014-03-25T00:00:00\", \"actual\": 52.977142, \"position\": 54.128571, \"action\": \"HOLD\"}, {\"date\": \"2014-03-26T00:00:00\", \"actual\": 53.182858, \"position\": 52.977142, \"action\": \"HOLD\"}, {\"date\": \"2014-03-27T00:00:00\", \"actual\": 52.025715, \"position\": 53.182858, \"action\": \"HOLD\"}, {\"date\": \"2014-03-28T00:00:00\", \"actual\": 51.267143, \"position\": 52.025715, \"action\": \"BUY\"}, {\"date\": \"2014-03-31T00:00:00\", \"actual\": 50.290001, \"position\": 51.267143, \"action\": \"BUY\"}, {\"date\": \"2014-04-01T00:00:00\", \"actual\": 52.098572, \"position\": 50.290001, \"action\": \"BUY\"}, {\"date\": \"2014-04-02T00:00:00\", \"actual\": 51.84, \"position\": 52.098572, \"action\": \"BUY\"}, {\"date\": \"2014-04-03T00:00:00\", \"actual\": 50.669998, \"position\": 51.84, \"action\": \"SELL\"}, {\"date\": \"2014-04-04T00:00:00\", \"actual\": 48.187141, \"position\": 50.669998, \"action\": \"SELL\"}, {\"date\": \"2014-04-07T00:00:00\", \"actual\": 48.285713, \"position\": 48.187141, \"action\": \"BUY\"}, {\"date\": \"2014-04-08T00:00:00\", \"actual\": 49.841427, \"position\": 48.285713, \"action\": \"SELL\"}, {\"date\": \"2014-04-09T00:00:00\", \"actual\": 50.432858, \"position\": 49.841427, \"action\": \"SELL\"}, {\"date\": \"2014-04-10T00:00:00\", \"actual\": 47.818573, \"position\": 50.432858, \"action\": \"SELL\"}, {\"date\": \"2014-04-11T00:00:00\", \"actual\": 46.672855, \"position\": 47.818573, \"action\": \"BUY\"}, {\"date\": \"2014-04-14T00:00:00\", \"actual\": 47.368572, \"position\": 46.672855, \"action\": \"HOLD\"}, {\"date\": \"2014-04-15T00:00:00\", \"actual\": 46.610001, \"position\": 47.368572, \"action\": \"SELL\"}, {\"date\": \"2014-04-16T00:00:00\", \"actual\": 47.344284, \"position\": 46.610001, \"action\": \"HOLD\"}, {\"date\": \"2014-04-17T00:00:00\", \"actual\": 49.39143, \"position\": 47.344284, \"action\": \"BUY\"}, {\"date\": \"2014-04-21T00:00:00\", \"actual\": 49.784286, \"position\": 49.39143, \"action\": \"SELL\"}, {\"date\": \"2014-04-22T00:00:00\", \"actual\": 53.271427, \"position\": 49.784286, \"action\": \"HOLD\"}, {\"date\": \"2014-04-23T00:00:00\", \"actual\": 50.5, \"position\": 53.271427, \"action\": \"HOLD\"}, {\"date\": \"2014-04-24T00:00:00\", \"actual\": 49.152859, \"position\": 50.5, \"action\": \"HOLD\"}, {\"date\": \"2014-04-25T00:00:00\", \"actual\": 46.011429, \"position\": 49.152859, \"action\": \"BUY\"}, {\"date\": \"2014-04-28T00:00:00\", \"actual\": 44.887142, \"position\": 46.011429, \"action\": \"SELL\"}, {\"date\": \"2014-04-29T00:00:00\", \"actual\": 45.695713, \"position\": 44.887142, \"action\": \"HOLD\"}, {\"date\": \"2014-04-30T00:00:00\", \"actual\": 46.005714, \"position\": 45.695713, \"action\": \"HOLD\"}, {\"date\": \"2014-05-01T00:00:00\", \"actual\": 48.074287, \"position\": 46.005714, \"action\": \"HOLD\"}, {\"date\": \"2014-05-02T00:00:00\", \"actual\": 48.664288, \"position\": 48.074287, \"action\": \"HOLD\"}, {\"date\": \"2014-05-05T00:00:00\", \"actual\": 49.197144, \"position\": 48.664288, \"action\": \"BUY\"}, {\"date\": \"2014-05-06T00:00:00\", \"actual\": 46.598572, \"position\": 49.197144, \"action\": \"SELL\"}, {\"date\": \"2014-05-07T00:00:00\", \"actual\": 45.791428, \"position\": 46.598572, \"action\": \"HOLD\"}, {\"date\": \"2014-05-08T00:00:00\", \"actual\": 45.951427, \"position\": 45.791428, \"action\": \"HOLD\"}, {\"date\": \"2014-05-09T00:00:00\", \"actual\": 46.935715, \"position\": 45.951427, \"action\": \"BUY\"}, {\"date\": \"2014-05-12T00:00:00\", \"actual\": 49.349998, \"position\": 46.935715, \"action\": \"SELL\"}, {\"date\": \"2014-05-13T00:00:00\", \"actual\": 49.591427, \"position\": 49.349998, \"action\": \"HOLD\"}, {\"date\": \"2014-05-14T00:00:00\", \"actual\": 50.26857, \"position\": 49.591427, \"action\": \"HOLD\"}, {\"date\": \"2014-05-15T00:00:00\", \"actual\": 49.169998, \"position\": 50.26857, \"action\": \"HOLD\"}, {\"date\": \"2014-05-16T00:00:00\", \"actual\": 49.982857, \"position\": 49.169998, \"action\": \"HOLD\"}, {\"date\": \"2014-05-19T00:00:00\", \"actual\": 52.07143, \"position\": 49.982857, \"action\": \"HOLD\"}, {\"date\": \"2014-05-20T00:00:00\", \"actual\": 53.095715, \"position\": 52.07143, \"action\": \"HOLD\"}, {\"date\": \"2014-05-21T00:00:00\", \"actual\": 55.799999, \"position\": 53.095715, \"action\": \"HOLD\"}, {\"date\": \"2014-05-22T00:00:00\", \"actual\": 55.971428, \"position\": 55.799999, \"action\": \"HOLD\"}, {\"date\": \"2014-05-23T00:00:00\", \"actual\": 57.478573, \"position\": 55.971428, \"action\": \"HOLD\"}, {\"date\": \"2014-05-27T00:00:00\", \"actual\": 56.972858, \"position\": 57.478573, \"action\": \"HOLD\"}, {\"date\": \"2014-05-28T00:00:00\", \"actual\": 57.32, \"position\": 56.972858, \"action\": \"HOLD\"}, {\"date\": \"2014-05-29T00:00:00\", \"actual\": 59.314285, \"position\": 57.32, \"action\": \"HOLD\"}, {\"date\": \"2014-05-30T00:00:00\", \"actual\": 59.689999, \"position\": 59.314285, \"action\": \"HOLD\"}, {\"date\": \"2014-06-02T00:00:00\", \"actual\": 60.294285, \"position\": 59.689999, \"action\": \"HOLD\"}, {\"date\": \"2014-06-03T00:00:00\", \"actual\": 59.652859, \"position\": 60.294285, \"action\": \"HOLD\"}, {\"date\": \"2014-06-04T00:00:00\", \"actual\": 60.458572, \"position\": 59.652859, \"action\": \"HOLD\"}, {\"date\": \"2014-06-05T00:00:00\", \"actual\": 61.192856, \"position\": 60.458572, \"action\": \"HOLD\"}, {\"date\": \"2014-06-06T00:00:00\", \"actual\": 61.447144, \"position\": 61.192856, \"action\": \"HOLD\"}, {\"date\": \"2014-06-09T00:00:00\", \"actual\": 60.441429, \"position\": 61.447144, \"action\": \"HOLD\"}, {\"date\": \"2014-06-10T00:00:00\", \"actual\": 61.184284, \"position\": 60.441429, \"action\": \"BUY\"}, {\"date\": \"2014-06-11T00:00:00\", \"actual\": 61.42857, \"position\": 61.184284, \"action\": \"SELL\"}, {\"date\": \"2014-06-12T00:00:00\", \"actual\": 60.349998, \"position\": 61.42857, \"action\": \"HOLD\"}, {\"date\": \"2014-06-13T00:00:00\", \"actual\": 61.101429, \"position\": 60.349998, \"action\": \"HOLD\"}, {\"date\": \"2014-06-16T00:00:00\", \"actual\": 61.465714, \"position\": 61.101429, \"action\": \"HOLD\"}, {\"date\": \"2014-06-17T00:00:00\", \"actual\": 63.378571, \"position\": 61.465714, \"action\": \"HOLD\"}, {\"date\": \"2014-06-18T00:00:00\", \"actual\": 64.097145, \"position\": 63.378571, \"action\": \"HOLD\"}, {\"date\": \"2014-06-19T00:00:00\", \"actual\": 63.055714, \"position\": 64.097145, \"action\": \"HOLD\"}, {\"date\": \"2014-06-20T00:00:00\", \"actual\": 62.882858, \"position\": 63.055714, \"action\": \"BUY\"}, {\"date\": \"2014-06-23T00:00:00\", \"actual\": 62.78857, \"position\": 62.882858, \"action\": \"SELL\"}, {\"date\": \"2014-06-24T00:00:00\", \"actual\": 62.337143, \"position\": 62.78857, \"action\": \"HOLD\"}, {\"date\": \"2014-06-25T00:00:00\", \"actual\": 63.458572, \"position\": 62.337143, \"action\": \"HOLD\"}, {\"date\": \"2014-06-26T00:00:00\", \"actual\": 62.80143, \"position\": 63.458572, \"action\": \"HOLD\"}, {\"date\": \"2014-06-27T00:00:00\", \"actual\": 63.154285, \"position\": 62.80143, \"action\": \"HOLD\"}, {\"date\": \"2014-06-30T00:00:00\", \"actual\": 62.942856, \"position\": 63.154285, \"action\": \"HOLD\"}, {\"date\": \"2014-07-01T00:00:00\", \"actual\": 67.585716, \"position\": 62.942856, \"action\": \"HOLD\"}, {\"date\": \"2014-07-02T00:00:00\", \"actual\": 66.677139, \"position\": 67.585716, \"action\": \"HOLD\"}, {\"date\": \"2014-07-03T00:00:00\", \"actual\": 67.478569, \"position\": 66.677139, \"action\": \"HOLD\"}, {\"date\": \"2014-07-07T00:00:00\", \"actual\": 65.802856, \"position\": 67.478569, \"action\": \"HOLD\"}, {\"date\": \"2014-07-08T00:00:00\", \"actual\": 63.578571, \"position\": 65.802856, \"action\": \"HOLD\"}, {\"date\": \"2014-07-09T00:00:00\", \"actual\": 63.285713, \"position\": 63.578571, \"action\": \"HOLD\"}, {\"date\": \"2014-07-10T00:00:00\", \"actual\": 62.650002, \"position\": 63.285713, \"action\": \"HOLD\"}, {\"date\": \"2014-07-11T00:00:00\", \"actual\": 62.851429, \"position\": 62.650002, \"action\": \"HOLD\"}, {\"date\": \"2014-07-14T00:00:00\", \"actual\": 64.654289, \"position\": 62.851429, \"action\": \"HOLD\"}, {\"date\": \"2014-07-15T00:00:00\", \"actual\": 64.155716, \"position\": 64.654289, \"action\": \"HOLD\"}, {\"date\": \"2014-07-16T00:00:00\", \"actual\": 63.491428, \"position\": 64.155716, \"action\": \"BUY\"}, {\"date\": \"2014-07-17T00:00:00\", \"actual\": 62.765713, \"position\": 63.491428, \"action\": \"SELL\"}, {\"date\": \"2014-07-18T00:00:00\", \"actual\": 63.452858, \"position\": 62.765713, \"action\": \"HOLD\"}, {\"date\": \"2014-07-21T00:00:00\", \"actual\": 64.564285, \"position\": 63.452858, \"action\": \"BUY\"}, {\"date\": \"2014-07-22T00:00:00\", \"actual\": 61.584286, \"position\": 64.564285, \"action\": \"SELL\"}, {\"date\": \"2014-07-23T00:00:00\", \"actual\": 61.128571, \"position\": 61.584286, \"action\": \"BUY\"}, {\"date\": \"2014-07-24T00:00:00\", \"actual\": 60.76857, \"position\": 61.128571, \"action\": \"BUY\"}, {\"date\": \"2014-07-25T00:00:00\", \"actual\": 60.265713, \"position\": 60.76857, \"action\": \"SELL\"}, {\"date\": \"2014-07-28T00:00:00\", \"actual\": 60.665714, \"position\": 60.265713, \"action\": \"SELL\"}, {\"date\": \"2014-07-29T00:00:00\", \"actual\": 60.611427, \"position\": 60.665714, \"action\": \"BUY\"}, {\"date\": \"2014-07-30T00:00:00\", \"actual\": 62.05143, \"position\": 60.611427, \"action\": \"SELL\"}, {\"date\": \"2014-07-31T00:00:00\", \"actual\": 60.388573, \"position\": 62.05143, \"action\": \"HOLD\"}, {\"date\": \"2014-08-01T00:00:00\", \"actual\": 60.771427, \"position\": 60.388573, \"action\": \"HOLD\"}, {\"date\": \"2014-08-04T00:00:00\", \"actual\": 60.385715, \"position\": 60.771427, \"action\": \"HOLD\"}, {\"date\": \"2014-08-05T00:00:00\", \"actual\": 60.407143, \"position\": 60.385715, \"action\": \"BUY\"}, {\"date\": \"2014-08-06T00:00:00\", \"actual\": 61.471428, \"position\": 60.407143, \"action\": \"SELL\"}, {\"date\": \"2014-08-07T00:00:00\", \"actual\": 64.238571, \"position\": 61.471428, \"action\": \"HOLD\"}, {\"date\": \"2014-08-08T00:00:00\", \"actual\": 63.692856, \"position\": 64.238571, \"action\": \"HOLD\"}, {\"date\": \"2014-08-11T00:00:00\", \"actual\": 64.505714, \"position\": 63.692856, \"action\": \"HOLD\"}, {\"date\": \"2014-08-12T00:00:00\", \"actual\": 63.772858, \"position\": 64.505714, \"action\": \"HOLD\"}, {\"date\": \"2014-08-13T00:00:00\", \"actual\": 64.504288, \"position\": 63.772858, \"action\": \"HOLD\"}, {\"date\": \"2014-08-14T00:00:00\", \"actual\": 64.410004, \"position\": 64.504288, \"action\": \"HOLD\"}, {\"date\": \"2014-08-15T00:00:00\", \"actual\": 65.584282, \"position\": 64.410004, \"action\": \"HOLD\"}, {\"date\": \"2014-08-18T00:00:00\", \"actual\": 66.571426, \"position\": 65.584282, \"action\": \"HOLD\"}, {\"date\": \"2014-08-19T00:00:00\", \"actual\": 66.878571, \"position\": 66.571426, \"action\": \"HOLD\"}, {\"date\": \"2014-08-20T00:00:00\", \"actual\": 67.455711, \"position\": 66.878571, \"action\": \"HOLD\"}, {\"date\": \"2014-08-21T00:00:00\", \"actual\": 67.435715, \"position\": 67.455711, \"action\": \"HOLD\"}, {\"date\": \"2014-08-22T00:00:00\", \"actual\": 68.455711, \"position\": 67.435715, \"action\": \"HOLD\"}, {\"date\": \"2014-08-25T00:00:00\", \"actual\": 68.704285, \"position\": 68.455711, \"action\": \"HOLD\"}, {\"date\": \"2014-08-26T00:00:00\", \"actual\": 68.480003, \"position\": 68.704285, \"action\": \"HOLD\"}, {\"date\": \"2014-08-27T00:00:00\", \"actual\": 67.814285, \"position\": 68.480003, \"action\": \"HOLD\"}, {\"date\": \"2014-08-28T00:00:00\", \"actual\": 67.887146, \"position\": 67.814285, \"action\": \"BUY\"}, {\"date\": \"2014-08-29T00:00:00\", \"actual\": 68.234283, \"position\": 67.887146, \"action\": \"SELL\"}, {\"date\": \"2014-09-02T00:00:00\", \"actual\": 68.085716, \"position\": 68.234283, \"action\": \"HOLD\"}, {\"date\": \"2014-09-03T00:00:00\", \"actual\": 68.19857, \"position\": 68.085716, \"action\": \"HOLD\"}, {\"date\": \"2014-09-04T00:00:00\", \"actual\": 67.524284, \"position\": 68.19857, \"action\": \"HOLD\"}, {\"date\": \"2014-09-05T00:00:00\", \"actual\": 67.954285, \"position\": 67.524284, \"action\": \"HOLD\"}, {\"date\": \"2014-09-08T00:00:00\", \"actual\": 68.475716, \"position\": 67.954285, \"action\": \"HOLD\"}, {\"date\": \"2014-09-09T00:00:00\", \"actual\": 68.43, \"position\": 68.475716, \"action\": \"HOLD\"}, {\"date\": \"2014-09-10T00:00:00\", \"actual\": 69.19857, \"position\": 68.43, \"action\": \"BUY\"}, {\"date\": \"2014-09-11T00:00:00\", \"actual\": 68.794289, \"position\": 69.19857, \"action\": \"SELL\"}, {\"date\": \"2014-09-12T00:00:00\", \"actual\": 68.078575, \"position\": 68.794289, \"action\": \"HOLD\"}, {\"date\": \"2014-09-15T00:00:00\", \"actual\": 65.39286, \"position\": 68.078575, \"action\": \"HOLD\"}, {\"date\": \"2014-09-16T00:00:00\", \"actual\": 65.272858, \"position\": 65.39286, \"action\": \"HOLD\"}, {\"date\": \"2014-09-17T00:00:00\", \"actual\": 64.932854, \"position\": 65.272858, \"action\": \"HOLD\"}, {\"date\": \"2014-09-18T00:00:00\", \"actual\": 65.572861, \"position\": 64.932854, \"action\": \"HOLD\"}, {\"date\": \"2014-09-19T00:00:00\", \"actual\": 65.360001, \"position\": 65.572861, \"action\": \"HOLD\"}, {\"date\": \"2014-09-22T00:00:00\", \"actual\": 63.254284, \"position\": 65.360001, \"action\": \"HOLD\"}, {\"date\": \"2014-09-23T00:00:00\", \"actual\": 63.414288, \"position\": 63.254284, \"action\": \"HOLD\"}, {\"date\": \"2014-09-24T00:00:00\", \"actual\": 64.365715, \"position\": 63.414288, \"action\": \"HOLD\"}, {\"date\": \"2014-09-25T00:00:00\", \"actual\": 63.355713, \"position\": 64.365715, \"action\": \"HOLD\"}, {\"date\": \"2014-09-26T00:00:00\", \"actual\": 64.10714, \"position\": 63.355713, \"action\": \"HOLD\"}, {\"date\": \"2014-09-29T00:00:00\", \"actual\": 64.222855, \"position\": 64.10714, \"action\": \"HOLD\"}, {\"date\": \"2014-09-30T00:00:00\", \"actual\": 64.454285, \"position\": 64.222855, \"action\": \"HOLD\"}, {\"date\": \"2014-10-01T00:00:00\", \"actual\": 62.685715, \"position\": 64.454285, \"action\": \"HOLD\"}, {\"date\": \"2014-10-02T00:00:00\", \"actual\": 64.28286, \"position\": 62.685715, \"action\": \"BUY\"}, {\"date\": \"2014-10-03T00:00:00\", \"actual\": 65.648575, \"position\": 64.28286, \"action\": \"BUY\"}, {\"date\": \"2014-10-06T00:00:00\", \"actual\": 66.211426, \"position\": 65.648575, \"action\": \"SELL\"}, {\"date\": \"2014-10-07T00:00:00\", \"actual\": 65.178574, \"position\": 66.211426, \"action\": \"SELL\"}, {\"date\": \"2014-10-08T00:00:00\", \"actual\": 66.694283, \"position\": 65.178574, \"action\": \"BUY\"}, {\"date\": \"2014-10-09T00:00:00\", \"actual\": 65.945717, \"position\": 66.694283, \"action\": \"SELL\"}, {\"date\": \"2014-10-10T00:00:00\", \"actual\": 64.582855, \"position\": 65.945717, \"action\": \"HOLD\"}, {\"date\": \"2014-10-13T00:00:00\", \"actual\": 62.654285, \"position\": 64.582855, \"action\": \"HOLD\"}, {\"date\": \"2014-10-14T00:00:00\", \"actual\": 64.160004, \"position\": 62.654285, \"action\": \"BUY\"}, {\"date\": \"2014-10-15T00:00:00\", \"actual\": 64.084282, \"position\": 64.160004, \"action\": \"SELL\"}, {\"date\": \"2014-10-16T00:00:00\", \"actual\": 51.671429, \"position\": 64.084282, \"action\": \"BUY\"}, {\"date\": \"2014-10-17T00:00:00\", \"actual\": 51.012856, \"position\": 51.671429, \"action\": \"BUY\"}, {\"date\": \"2014-10-20T00:00:00\", \"actual\": 51.317142, \"position\": 51.012856, \"action\": \"BUY\"}, {\"date\": \"2014-10-21T00:00:00\", \"actual\": 52.284286, \"position\": 51.317142, \"action\": \"BUY\"}, {\"date\": \"2014-10-22T00:00:00\", \"actual\": 53.521427, \"position\": 52.284286, \"action\": \"SELL\"}, {\"date\": \"2014-10-23T00:00:00\", \"actual\": 54.720001, \"position\": 53.521427, \"action\": \"SELL\"}, {\"date\": \"2014-10-24T00:00:00\", \"actual\": 55.002857, \"position\": 54.720001, \"action\": \"SELL\"}, {\"date\": \"2014-10-27T00:00:00\", \"actual\": 54.200001, \"position\": 55.002857, \"action\": \"SELL\"}, {\"date\": \"2014-10-28T00:00:00\", \"actual\": 55.174286, \"position\": 54.200001, \"action\": \"HOLD\"}, {\"date\": \"2014-10-29T00:00:00\", \"actual\": 54.014286, \"position\": 55.174286, \"action\": \"HOLD\"}, {\"date\": \"2014-10-30T00:00:00\", \"actual\": 54.144287, \"position\": 54.014286, \"action\": \"HOLD\"}, {\"date\": \"2014-10-31T00:00:00\", \"actual\": 56.110001, \"position\": 54.144287, \"action\": \"HOLD\"}, {\"date\": \"2014-11-03T00:00:00\", \"actual\": 55.487144, \"position\": 56.110001, \"action\": \"HOLD\"}, {\"date\": \"2014-11-04T00:00:00\", \"actual\": 54.682858, \"position\": 55.487144, \"action\": \"HOLD\"}, {\"date\": \"2014-11-05T00:00:00\", \"actual\": 54.34, \"position\": 54.682858, \"action\": \"BUY\"}, {\"date\": \"2014-11-06T00:00:00\", \"actual\": 54.757141, \"position\": 54.34, \"action\": \"SELL\"}, {\"date\": \"2014-11-07T00:00:00\", \"actual\": 54.880001, \"position\": 54.757141, \"action\": \"HOLD\"}, {\"date\": \"2014-11-10T00:00:00\", \"actual\": 55.324287, \"position\": 54.880001, \"action\": \"HOLD\"}, {\"date\": \"2014-11-11T00:00:00\", \"actual\": 54.650002, \"position\": 55.324287, \"action\": \"HOLD\"}, {\"date\": \"2014-11-12T00:00:00\", \"actual\": 54.837143, \"position\": 54.650002, \"action\": \"BUY\"}, {\"date\": \"2014-11-13T00:00:00\", \"actual\": 54.201427, \"position\": 54.837143, \"action\": \"SELL\"}, {\"date\": \"2014-11-14T00:00:00\", \"actual\": 55.148571, \"position\": 54.201427, \"action\": \"HOLD\"}, {\"date\": \"2014-11-17T00:00:00\", \"actual\": 54.44857, \"position\": 55.148571, \"action\": \"HOLD\"}, {\"date\": \"2014-11-18T00:00:00\", \"actual\": 54.432858, \"position\": 54.44857, \"action\": \"BUY\"}, {\"date\": \"2014-11-19T00:00:00\", \"actual\": 51.871429, \"position\": 54.432858, \"action\": \"BUY\"}, {\"date\": \"2014-11-20T00:00:00\", \"actual\": 52.591427, \"position\": 51.871429, \"action\": \"SELL\"}, {\"date\": \"2014-11-21T00:00:00\", \"actual\": 51.468571, \"position\": 52.591427, \"action\": \"SELL\"}, {\"date\": \"2014-11-24T00:00:00\", \"actual\": 50.924286, \"position\": 51.468571, \"action\": \"HOLD\"}, {\"date\": \"2014-11-25T00:00:00\", \"actual\": 49.855713, \"position\": 50.924286, \"action\": \"BUY\"}, {\"date\": \"2014-11-26T00:00:00\", \"actual\": 50.165714, \"position\": 49.855713, \"action\": \"BUY\"}, {\"date\": \"2014-11-28T00:00:00\", \"actual\": 49.512856, \"position\": 50.165714, \"action\": \"SELL\"}, {\"date\": \"2014-12-01T00:00:00\", \"actual\": 48.830002, \"position\": 49.512856, \"action\": \"SELL\"}, {\"date\": \"2014-12-02T00:00:00\", \"actual\": 50.330002, \"position\": 48.830002, \"action\": \"HOLD\"}, {\"date\": \"2014-12-03T00:00:00\", \"actual\": 50.73143, \"position\": 50.330002, \"action\": \"HOLD\"}, {\"date\": \"2014-12-04T00:00:00\", \"actual\": 50.085712, \"position\": 50.73143, \"action\": \"HOLD\"}, {\"date\": \"2014-12-05T00:00:00\", \"actual\": 50.131428, \"position\": 50.085712, \"action\": \"HOLD\"}, {\"date\": \"2014-12-08T00:00:00\", \"actual\": 48.497143, \"position\": 50.131428, \"action\": \"HOLD\"}, {\"date\": \"2014-12-09T00:00:00\", \"actual\": 49.111427, \"position\": 48.497143, \"action\": \"HOLD\"}, {\"date\": \"2014-12-10T00:00:00\", \"actual\": 47.759998, \"position\": 49.111427, \"action\": \"HOLD\"}, {\"date\": \"2014-12-11T00:00:00\", \"actual\": 47.804287, \"position\": 47.759998, \"action\": \"HOLD\"}, {\"date\": \"2014-12-12T00:00:00\", \"actual\": 47.782856, \"position\": 47.804287, \"action\": \"HOLD\"}, {\"date\": \"2014-12-15T00:00:00\", \"actual\": 46.720001, \"position\": 47.782856, \"action\": \"HOLD\"}, {\"date\": \"2014-12-16T00:00:00\", \"actual\": 45.205715, \"position\": 46.720001, \"action\": \"HOLD\"}, {\"date\": \"2014-12-17T00:00:00\", \"actual\": 47.664288, \"position\": 45.205715, \"action\": \"BUY\"}, {\"date\": \"2014-12-18T00:00:00\", \"actual\": 47.774284, \"position\": 47.664288, \"action\": \"SELL\"}, {\"date\": \"2014-12-19T00:00:00\", \"actual\": 48.58857, \"position\": 47.774284, \"action\": \"HOLD\"}, {\"date\": \"2014-12-22T00:00:00\", \"actual\": 48.097141, \"position\": 48.58857, \"action\": \"HOLD\"}, {\"date\": \"2014-12-23T00:00:00\", \"actual\": 48.061428, \"position\": 48.097141, \"action\": \"HOLD\"}, {\"date\": \"2014-12-24T00:00:00\", \"actual\": 48.871429, \"position\": 48.061428, \"action\": \"HOLD\"}, {\"date\": \"2014-12-26T00:00:00\", \"actual\": 48.578571, \"position\": 48.871429, \"action\": \"HOLD\"}, {\"date\": \"2014-12-29T00:00:00\", \"actual\": 48.847141, \"position\": 48.578571, \"action\": \"HOLD\"}, {\"date\": \"2014-12-30T00:00:00\", \"actual\": 49.032856, \"position\": 48.847141, \"action\": \"HOLD\"}, {\"date\": \"2014-12-31T00:00:00\", \"actual\": 48.80143, \"position\": 49.032856, \"action\": \"HOLD\"}, {\"date\": \"2015-01-02T00:00:00\", \"actual\": 49.848572, \"position\": 48.80143, \"action\": \"HOLD\"}, {\"date\": \"2015-01-05T00:00:00\", \"actual\": 47.311428, \"position\": 49.848572, \"action\": \"HOLD\"}, {\"date\": \"2015-01-06T00:00:00\", \"actual\": 46.501427, \"position\": 47.311428, \"action\": \"BUY\"}, {\"date\": \"2015-01-07T00:00:00\", \"actual\": 46.742859, \"position\": 46.501427, \"action\": \"BUY\"}, {\"date\": \"2015-01-08T00:00:00\", \"actual\": 47.779999, \"position\": 46.742859, \"action\": \"SELL\"}, {\"date\": \"2015-01-09T00:00:00\", \"actual\": 47.041428, \"position\": 47.779999, \"action\": \"SELL\"}, {\"date\": \"2015-01-12T00:00:00\", \"actual\": 45.547142, \"position\": 47.041428, \"action\": \"HOLD\"}, {\"date\": \"2015-01-13T00:00:00\", \"actual\": 46.255714, \"position\": 45.547142, \"action\": \"HOLD\"}, {\"date\": \"2015-01-14T00:00:00\", \"actual\": 46.32, \"position\": 46.255714, \"action\": \"HOLD\"}, {\"date\": \"2015-01-15T00:00:00\", \"actual\": 46.251427, \"position\": 46.32, \"action\": \"BUY\"}, {\"date\": \"2015-01-16T00:00:00\", \"actual\": 48.191429, \"position\": 46.251427, \"action\": \"SELL\"}, {\"date\": \"2015-01-20T00:00:00\", \"actual\": 49.828571, \"position\": 48.191429, \"action\": \"HOLD\"}, {\"date\": \"2015-01-21T00:00:00\", \"actual\": 58.468571, \"position\": 49.828571, \"action\": \"HOLD\"}, {\"date\": \"2015-01-22T00:00:00\", \"actual\": 61.205715, \"position\": 58.468571, \"action\": \"HOLD\"}, {\"date\": \"2015-01-23T00:00:00\", \"actual\": 62.494286, \"position\": 61.205715, \"action\": \"HOLD\"}, {\"date\": \"2015-01-26T00:00:00\", \"actual\": 63.794285, \"position\": 62.494286, \"action\": \"HOLD\"}, {\"date\": \"2015-01-27T00:00:00\", \"actual\": 64.881432, \"position\": 63.794285, \"action\": \"HOLD\"}, {\"date\": \"2015-01-28T00:00:00\", \"actual\": 63.208572, \"position\": 64.881432, \"action\": \"HOLD\"}, {\"date\": \"2015-01-29T00:00:00\", \"actual\": 63.400002, \"position\": 63.208572, \"action\": \"HOLD\"}, {\"date\": \"2015-01-30T00:00:00\", \"actual\": 63.114285, \"position\": 63.400002, \"action\": \"HOLD\"}, {\"date\": \"2015-02-02T00:00:00\", \"actual\": 63.009998, \"position\": 63.114285, \"action\": \"HOLD\"}, {\"date\": \"2015-02-03T00:00:00\", \"actual\": 65.274284, \"position\": 63.009998, \"action\": \"HOLD\"}, {\"date\": \"2015-02-04T00:00:00\", \"actual\": 64.101425, \"position\": 65.274284, \"action\": \"HOLD\"}, {\"date\": \"2015-02-05T00:00:00\", \"actual\": 64.129997, \"position\": 64.101425, \"action\": \"HOLD\"}, {\"date\": \"2015-02-06T00:00:00\", \"actual\": 63.48, \"position\": 64.129997, \"action\": \"HOLD\"}, {\"date\": \"2015-02-09T00:00:00\", \"actual\": 63.295715, \"position\": 63.48, \"action\": \"HOLD\"}, {\"date\": \"2015-02-10T00:00:00\", \"actual\": 64.849998, \"position\": 63.295715, \"action\": \"HOLD\"}, {\"date\": \"2015-02-11T00:00:00\", \"actual\": 64.984283, \"position\": 64.849998, \"action\": \"HOLD\"}, {\"date\": \"2015-02-12T00:00:00\", \"actual\": 65.247147, \"position\": 64.984283, \"action\": \"HOLD\"}, {\"date\": \"2015-02-13T00:00:00\", \"actual\": 66.585716, \"position\": 65.247147, \"action\": \"BUY\"}, {\"date\": \"2015-02-17T00:00:00\", \"actual\": 67.137146, \"position\": 66.585716, \"action\": \"SELL\"}, {\"date\": \"2015-02-18T00:00:00\", \"actual\": 67.865715, \"position\": 67.137146, \"action\": \"HOLD\"}, {\"date\": \"2015-02-19T00:00:00\", \"actual\": 67.800003, \"position\": 67.865715, \"action\": \"HOLD\"}, {\"date\": \"2015-02-20T00:00:00\", \"actual\": 68.314285, \"position\": 67.800003, \"action\": \"HOLD\"}, {\"date\": \"2015-02-23T00:00:00\", \"actual\": 67.405716, \"position\": 68.314285, \"action\": \"HOLD\"}, {\"date\": \"2015-02-24T00:00:00\", \"actual\": 67.839996, \"position\": 67.405716, \"action\": \"BUY\"}, {\"date\": \"2015-02-25T00:00:00\", \"actual\": 68.332855, \"position\": 67.839996, \"action\": \"SELL\"}, {\"date\": \"2015-02-26T00:00:00\", \"actual\": 69.004288, \"position\": 68.332855, \"action\": \"HOLD\"}, {\"date\": \"2015-02-27T00:00:00\", \"actual\": 67.844284, \"position\": 69.004288, \"action\": \"HOLD\"}, {\"date\": \"2015-03-02T00:00:00\", \"actual\": 68.60714, \"position\": 67.844284, \"action\": \"HOLD\"}, {\"date\": \"2015-03-03T00:00:00\", \"actual\": 67.815712, \"position\": 68.60714, \"action\": \"HOLD\"}, {\"date\": \"2015-03-04T00:00:00\", \"actual\": 67.110001, \"position\": 67.815712, \"action\": \"HOLD\"}, {\"date\": \"2015-03-05T00:00:00\", \"actual\": 66.807144, \"position\": 67.110001, \"action\": \"HOLD\"}, {\"date\": \"2015-03-06T00:00:00\", \"actual\": 64.874283, \"position\": 66.807144, \"action\": \"HOLD\"}, {\"date\": \"2015-03-09T00:00:00\", \"actual\": 63.66143, \"position\": 64.874283, \"action\": \"HOLD\"}, {\"date\": \"2015-03-10T00:00:00\", \"actual\": 62.151428, \"position\": 63.66143, \"action\": \"BUY\"}, {\"date\": \"2015-03-11T00:00:00\", \"actual\": 62.884285, \"position\": 62.151428, \"action\": \"SELL\"}, {\"date\": \"2015-03-12T00:00:00\", \"actual\": 64.045715, \"position\": 62.884285, \"action\": \"HOLD\"}, {\"date\": \"2015-03-13T00:00:00\", \"actual\": 62.628571, \"position\": 64.045715, \"action\": \"HOLD\"}, {\"date\": \"2015-03-16T00:00:00\", \"actual\": 60.281429, \"position\": 62.628571, \"action\": \"HOLD\"}, {\"date\": \"2015-03-17T00:00:00\", \"actual\": 59.78857, \"position\": 60.281429, \"action\": \"BUY\"}, {\"date\": \"2015-03-18T00:00:00\", \"actual\": 60.445713, \"position\": 59.78857, \"action\": \"SELL\"}, {\"date\": \"2015-03-19T00:00:00\", \"actual\": 60.744286, \"position\": 60.445713, \"action\": \"HOLD\"}, {\"date\": \"2015-03-20T00:00:00\", \"actual\": 61.185715, \"position\": 60.744286, \"action\": \"HOLD\"}, {\"date\": \"2015-03-23T00:00:00\", \"actual\": 60.714287, \"position\": 61.185715, \"action\": \"HOLD\"}, {\"date\": \"2015-03-24T00:00:00\", \"actual\": 62.611427, \"position\": 60.714287, \"action\": \"HOLD\"}, {\"date\": \"2015-03-25T00:00:00\", \"actual\": 60.25, \"position\": 62.611427, \"action\": \"HOLD\"}, {\"date\": \"2015-03-26T00:00:00\", \"actual\": 59.751427, \"position\": 60.25, \"action\": \"HOLD\"}, {\"date\": \"2015-03-27T00:00:00\", \"actual\": 59.252857, \"position\": 59.751427, \"action\": \"HOLD\"}, {\"date\": \"2015-03-30T00:00:00\", \"actual\": 60.367142, \"position\": 59.252857, \"action\": \"BUY\"}, {\"date\": \"2015-03-31T00:00:00\", \"actual\": 59.527142, \"position\": 60.367142, \"action\": \"SELL\"}, {\"date\": \"2015-04-01T00:00:00\", \"actual\": 59.017143, \"position\": 59.527142, \"action\": \"HOLD\"}, {\"date\": \"2015-04-02T00:00:00\", \"actual\": 59.154285, \"position\": 59.017143, \"action\": \"HOLD\"}, {\"date\": \"2015-04-06T00:00:00\", \"actual\": 60.330002, \"position\": 59.154285, \"action\": \"HOLD\"}, {\"date\": \"2015-04-07T00:00:00\", \"actual\": 60.494286, \"position\": 60.330002, \"action\": \"HOLD\"}, {\"date\": \"2015-04-08T00:00:00\", \"actual\": 63.049999, \"position\": 60.494286, \"action\": \"HOLD\"}, {\"date\": \"2015-04-09T00:00:00\", \"actual\": 62.785713, \"position\": 63.049999, \"action\": \"HOLD\"}, {\"date\": \"2015-04-10T00:00:00\", \"actual\": 64.938568, \"position\": 62.785713, \"action\": \"BUY\"}, {\"date\": \"2015-04-13T00:00:00\", \"actual\": 67.811432, \"position\": 64.938568, \"action\": \"SELL\"}, {\"date\": \"2015-04-14T00:00:00\", \"actual\": 68.387146, \"position\": 67.811432, \"action\": \"HOLD\"}, {\"date\": \"2015-04-15T00:00:00\", \"actual\": 67.922859, \"position\": 68.387146, \"action\": \"HOLD\"}, {\"date\": \"2015-04-16T00:00:00\", \"actual\": 80.292854, \"position\": 67.922859, \"action\": \"HOLD\"}, {\"date\": \"2015-04-17T00:00:00\", \"actual\": 81.650002, \"position\": 80.292854, \"action\": \"HOLD\"}, {\"date\": \"2015-04-20T00:00:00\", \"actual\": 81.055717, \"position\": 81.650002, \"action\": \"HOLD\"}, {\"date\": \"2015-04-21T00:00:00\", \"actual\": 80.062859, \"position\": 81.055717, \"action\": \"HOLD\"}, {\"date\": \"2015-04-22T00:00:00\", \"actual\": 79.668571, \"position\": 80.062859, \"action\": \"HOLD\"}, {\"date\": \"2015-04-23T00:00:00\", \"actual\": 79.865715, \"position\": 79.668571, \"action\": \"BUY\"}, {\"date\": \"2015-04-24T00:00:00\", \"actual\": 79.771431, \"position\": 79.865715, \"action\": \"SELL\"}, {\"date\": \"2015-04-27T00:00:00\", \"actual\": 80.868568, \"position\": 79.771431, \"action\": \"HOLD\"}, {\"date\": \"2015-04-28T00:00:00\", \"actual\": 80.437141, \"position\": 80.868568, \"action\": \"HOLD\"}, {\"date\": \"2015-04-29T00:00:00\", \"actual\": 80.407143, \"position\": 80.437141, \"action\": \"HOLD\"}, {\"date\": \"2015-04-30T00:00:00\", \"actual\": 79.5, \"position\": 80.407143, \"action\": \"HOLD\"}, {\"date\": \"2015-05-01T00:00:00\", \"actual\": 79.575714, \"position\": 79.5, \"action\": \"HOLD\"}, {\"date\": \"2015-05-04T00:00:00\", \"actual\": 79.271431, \"position\": 79.575714, \"action\": \"HOLD\"}, {\"date\": \"2015-05-05T00:00:00\", \"actual\": 80.792854, \"position\": 79.271431, \"action\": \"HOLD\"}, {\"date\": \"2015-05-06T00:00:00\", \"actual\": 80.077141, \"position\": 80.792854, \"action\": \"HOLD\"}, {\"date\": \"2015-05-07T00:00:00\", \"actual\": 80.748573, \"position\": 80.077141, \"action\": \"HOLD\"}, {\"date\": \"2015-05-08T00:00:00\", \"actual\": 82.085716, \"position\": 80.748573, \"action\": \"HOLD\"}, {\"date\": \"2015-05-11T00:00:00\", \"actual\": 84.278572, \"position\": 82.085716, \"action\": \"HOLD\"}, {\"date\": \"2015-05-12T00:00:00\", \"actual\": 83.377144, \"position\": 84.278572, \"action\": \"HOLD\"}, {\"date\": \"2015-05-13T00:00:00\", \"actual\": 82.872856, \"position\": 83.377144, \"action\": \"HOLD\"}, {\"date\": \"2015-05-14T00:00:00\", \"actual\": 83.835716, \"position\": 82.872856, \"action\": \"BUY\"}, {\"date\": \"2015-05-15T00:00:00\", \"actual\": 87.60714, \"position\": 83.835716, \"action\": \"SELL\"}, {\"date\": \"2015-05-18T00:00:00\", \"actual\": 88.267143, \"position\": 87.60714, \"action\": \"HOLD\"}, {\"date\": \"2015-05-19T00:00:00\", \"actual\": 88.068573, \"position\": 88.267143, \"action\": \"HOLD\"}, {\"date\": \"2015-05-20T00:00:00\", \"actual\": 88.790001, \"position\": 88.068573, \"action\": \"HOLD\"}, {\"date\": \"2015-05-21T00:00:00\", \"actual\": 89.002853, \"position\": 88.790001, \"action\": \"HOLD\"}, {\"date\": \"2015-05-22T00:00:00\", \"actual\": 88.83857, \"position\": 89.002853, \"action\": \"HOLD\"}, {\"date\": \"2015-05-26T00:00:00\", \"actual\": 87.992859, \"position\": 88.83857, \"action\": \"HOLD\"}, {\"date\": \"2015-05-27T00:00:00\", \"actual\": 89.85714, \"position\": 87.992859, \"action\": \"HOLD\"}, {\"date\": \"2015-05-28T00:00:00\", \"actual\": 89.507141, \"position\": 89.85714, \"action\": \"HOLD\"}, {\"date\": \"2015-05-29T00:00:00\", \"actual\": 89.151428, \"position\": 89.507141, \"action\": \"HOLD\"}, {\"date\": \"2015-06-01T00:00:00\", \"actual\": 89.002853, \"position\": 89.151428, \"action\": \"HOLD\"}, {\"date\": \"2015-06-02T00:00:00\", \"actual\": 89.129997, \"position\": 89.002853, \"action\": \"HOLD\"}, {\"date\": \"2015-06-03T00:00:00\", \"actual\": 88.808571, \"position\": 89.129997, \"action\": \"HOLD\"}, {\"date\": \"2015-06-04T00:00:00\", \"actual\": 89.348572, \"position\": 88.808571, \"action\": \"HOLD\"}, {\"date\": \"2015-06-05T00:00:00\", \"actual\": 90.459999, \"position\": 89.348572, \"action\": \"HOLD\"}, {\"date\": \"2015-06-08T00:00:00\", \"actual\": 89.604286, \"position\": 90.459999, \"action\": \"HOLD\"}, {\"date\": \"2015-06-09T00:00:00\", \"actual\": 92.449997, \"position\": 89.604286, \"action\": \"HOLD\"}, {\"date\": \"2015-06-10T00:00:00\", \"actual\": 95.871429, \"position\": 92.449997, \"action\": \"HOLD\"}, {\"date\": \"2015-06-11T00:00:00\", \"actual\": 95.094284, \"position\": 95.871429, \"action\": \"HOLD\"}, {\"date\": \"2015-06-12T00:00:00\", \"actual\": 94.418571, \"position\": 95.094284, \"action\": \"HOLD\"}, {\"date\": \"2015-06-15T00:00:00\", \"actual\": 93.431427, \"position\": 94.418571, \"action\": \"HOLD\"}, {\"date\": \"2015-06-16T00:00:00\", \"actual\": 95.272858, \"position\": 93.431427, \"action\": \"HOLD\"}, {\"date\": \"2015-06-17T00:00:00\", \"actual\": 94.271431, \"position\": 95.272858, \"action\": \"HOLD\"}, {\"date\": \"2015-06-18T00:00:00\", \"actual\": 94.742859, \"position\": 94.271431, \"action\": \"BUY\"}, {\"date\": \"2015-06-19T00:00:00\", \"actual\": 93.871429, \"position\": 94.742859, \"action\": \"SELL\"}, {\"date\": \"2015-06-22T00:00:00\", \"actual\": 96.414284, \"position\": 93.871429, \"action\": \"BUY\"}, {\"date\": \"2015-06-23T00:00:00\", \"actual\": 97.312859, \"position\": 96.414284, \"action\": \"SELL\"}, {\"date\": \"2015-06-24T00:00:00\", \"actual\": 96.944283, \"position\": 97.312859, \"action\": \"HOLD\"}, {\"date\": \"2015-06-25T00:00:00\", \"actual\": 94.891426, \"position\": 96.944283, \"action\": \"HOLD\"}, {\"date\": \"2015-06-26T00:00:00\", \"actual\": 93.08857, \"position\": 94.891426, \"action\": \"HOLD\"}, {\"date\": \"2015-06-29T00:00:00\", \"actual\": 92.23143, \"position\": 93.08857, \"action\": \"BUY\"}, {\"date\": \"2015-06-30T00:00:00\", \"actual\": 93.848572, \"position\": 92.23143, \"action\": \"SELL\"}, {\"date\": \"2015-07-01T00:00:00\", \"actual\": 93.635712, \"position\": 93.848572, \"action\": \"BUY\"}, {\"date\": \"2015-07-02T00:00:00\", \"actual\": 94.044289, \"position\": 93.635712, \"action\": \"BUY\"}, {\"date\": \"2015-07-06T00:00:00\", \"actual\": 94.571426, \"position\": 94.044289, \"action\": \"SELL\"}, {\"date\": \"2015-07-07T00:00:00\", \"actual\": 94.091431, \"position\": 94.571426, \"action\": \"BUY\"}, {\"date\": \"2015-07-08T00:00:00\", \"actual\": 93.507141, \"position\": 94.091431, \"action\": \"SELL\"}, {\"date\": \"2015-07-09T00:00:00\", \"actual\": 95.727142, \"position\": 93.507141, \"action\": \"SELL\"}, {\"date\": \"2015-07-10T00:00:00\", \"actual\": 97.228569, \"position\": 95.727142, \"action\": \"HOLD\"}, {\"date\": \"2015-07-13T00:00:00\", \"actual\": 101.087143, \"position\": 97.228569, \"action\": \"HOLD\"}, {\"date\": \"2015-07-14T00:00:00\", \"actual\": 100.371429, \"position\": 101.087143, \"action\": \"HOLD\"}, {\"date\": \"2015-07-15T00:00:00\", \"actual\": 98.129997, \"position\": 100.371429, \"action\": \"BUY\"}, {\"date\": \"2015-07-16T00:00:00\", \"actual\": 115.809998, \"position\": 98.129997, \"action\": \"SELL\"}, {\"date\": \"2015-07-17T00:00:00\", \"actual\": 114.769997, \"position\": 115.809998, \"action\": \"HOLD\"}, {\"date\": \"2015-07-20T00:00:00\", \"actual\": 110.550003, \"position\": 114.769997, \"action\": \"HOLD\"}, {\"date\": \"2015-07-21T00:00:00\", \"actual\": 112.510002, \"position\": 110.550003, \"action\": \"HOLD\"}, {\"date\": \"2015-07-22T00:00:00\", \"actual\": 111.5, \"position\": 112.510002, \"action\": \"HOLD\"}, {\"date\": \"2015-07-23T00:00:00\", \"actual\": 110.099998, \"position\": 111.5, \"action\": \"HOLD\"}, {\"date\": \"2015-07-24T00:00:00\", \"actual\": 109.339996, \"position\": 110.099998, \"action\": \"HOLD\"}, {\"date\": \"2015-07-27T00:00:00\", \"actual\": 106.43, \"position\": 109.339996, \"action\": \"BUY\"}, {\"date\": \"2015-07-28T00:00:00\", \"actual\": 106.900002, \"position\": 106.43, \"action\": \"SELL\"}, {\"date\": \"2015-07-29T00:00:00\", \"actual\": 107.080002, \"position\": 106.900002, \"action\": \"HOLD\"}, {\"date\": \"2015-07-30T00:00:00\", \"actual\": 111.559998, \"position\": 107.080002, \"action\": \"HOLD\"}, {\"date\": \"2015-07-31T00:00:00\", \"actual\": 114.309998, \"position\": 111.559998, \"action\": \"HOLD\"}, {\"date\": \"2015-08-03T00:00:00\", \"actual\": 112.559998, \"position\": 114.309998, \"action\": \"HOLD\"}, {\"date\": \"2015-08-04T00:00:00\", \"actual\": 121.150002, \"position\": 112.559998, \"action\": \"HOLD\"}, {\"date\": \"2015-08-05T00:00:00\", \"actual\": 123.709999, \"position\": 121.150002, \"action\": \"HOLD\"}, {\"date\": \"2015-08-06T00:00:00\", \"actual\": 126.449997, \"position\": 123.709999, \"action\": \"HOLD\"}, {\"date\": \"2015-08-07T00:00:00\", \"actual\": 123.519997, \"position\": 126.449997, \"action\": \"HOLD\"}, {\"date\": \"2015-08-10T00:00:00\", \"actual\": 123.029999, \"position\": 123.519997, \"action\": \"HOLD\"}, {\"date\": \"2015-08-11T00:00:00\", \"actual\": 122.739998, \"position\": 123.029999, \"action\": \"HOLD\"}, {\"date\": \"2015-08-12T00:00:00\", \"actual\": 120.510002, \"position\": 122.739998, \"action\": \"BUY\"}, {\"date\": \"2015-08-13T00:00:00\", \"actual\": 123.730003, \"position\": 120.510002, \"action\": \"SELL\"}, {\"date\": \"2015-08-14T00:00:00\", \"actual\": 123.389999, \"position\": 123.730003, \"action\": \"HOLD\"}, {\"date\": \"2015-08-17T00:00:00\", \"actual\": 125.360001, \"position\": 123.389999, \"action\": \"BUY\"}, {\"date\": \"2015-08-18T00:00:00\", \"actual\": 124.050003, \"position\": 125.360001, \"action\": \"SELL\"}, {\"date\": \"2015-08-19T00:00:00\", \"actual\": 122.059998, \"position\": 124.050003, \"action\": \"HOLD\"}, {\"date\": \"2015-08-20T00:00:00\", \"actual\": 112.489998, \"position\": 122.059998, \"action\": \"HOLD\"}, {\"date\": \"2015-08-21T00:00:00\", \"actual\": 103.959999, \"position\": 112.489998, \"action\": \"HOLD\"}, {\"date\": \"2015-08-24T00:00:00\", \"actual\": 96.879997, \"position\": 103.959999, \"action\": \"BUY\"}, {\"date\": \"2015-08-25T00:00:00\", \"actual\": 101.519997, \"position\": 96.879997, \"action\": \"BUY\"}, {\"date\": \"2015-08-26T00:00:00\", \"actual\": 110.129997, \"position\": 101.519997, \"action\": \"BUY\"}, {\"date\": \"2015-08-27T00:00:00\", \"actual\": 117.660004, \"position\": 110.129997, \"action\": \"BUY\"}, {\"date\": \"2015-08-28T00:00:00\", \"actual\": 117.629997, \"position\": 117.660004, \"action\": \"SELL\"}, {\"date\": \"2015-08-31T00:00:00\", \"actual\": 115.029999, \"position\": 117.629997, \"action\": \"SELL\"}, {\"date\": \"2015-09-01T00:00:00\", \"actual\": 105.790001, \"position\": 115.029999, \"action\": \"BUY\"}, {\"date\": \"2015-09-02T00:00:00\", \"actual\": 105.440002, \"position\": 105.790001, \"action\": \"BUY\"}, {\"date\": \"2015-09-03T00:00:00\", \"actual\": 101.059998, \"position\": 105.440002, \"action\": \"BUY\"}, {\"date\": \"2015-09-04T00:00:00\", \"actual\": 98.790001, \"position\": 101.059998, \"action\": \"SELL\"}, {\"date\": \"2015-09-08T00:00:00\", \"actual\": 94.949997, \"position\": 98.790001, \"action\": \"SELL\"}, {\"date\": \"2015-09-09T00:00:00\", \"actual\": 99.18, \"position\": 94.949997, \"action\": \"BUY\"}, {\"date\": \"2015-09-10T00:00:00\", \"actual\": 99.480003, \"position\": 99.18, \"action\": \"BUY\"}, {\"date\": \"2015-09-11T00:00:00\", \"actual\": 97.510002, \"position\": 99.480003, \"action\": \"BUY\"}, {\"date\": \"2015-09-14T00:00:00\", \"actual\": 95.690002, \"position\": 97.510002, \"action\": \"BUY\"}, {\"date\": \"2015-09-15T00:00:00\", \"actual\": 99.160004, \"position\": 95.690002, \"action\": \"BUY\"}, {\"date\": \"2015-09-16T00:00:00\", \"actual\": 104.080002, \"position\": 99.160004, \"action\": \"BUY\"}, {\"date\": \"2015-09-17T00:00:00\", \"actual\": 104.209999, \"position\": 104.080002, \"action\": \"SELL\"}, {\"date\": \"2015-09-18T00:00:00\", \"actual\": 102.620003, \"position\": 104.209999, \"action\": \"BUY\"}, {\"date\": \"2015-09-21T00:00:00\", \"actual\": 100.300003, \"position\": 102.620003, \"action\": \"BUY\"}, {\"date\": \"2015-09-22T00:00:00\", \"actual\": 98.470001, \"position\": 100.300003, \"action\": \"HOLD\"}, {\"date\": \"2015-09-23T00:00:00\", \"actual\": 98.07, \"position\": 98.470001, \"action\": \"BUY\"}, {\"date\": \"2015-09-24T00:00:00\", \"actual\": 103.760002, \"position\": 98.07, \"action\": \"SELL\"}, {\"date\": \"2015-09-25T00:00:00\", \"actual\": 102.239998, \"position\": 103.760002, \"action\": \"BUY\"}, {\"date\": \"2015-09-28T00:00:00\", \"actual\": 99.470001, \"position\": 102.239998, \"action\": \"SELL\"}, {\"date\": \"2015-09-29T00:00:00\", \"actual\": 98.349998, \"position\": 99.470001, \"action\": \"BUY\"}, {\"date\": \"2015-09-30T00:00:00\", \"actual\": 103.260002, \"position\": 98.349998, \"action\": \"SELL\"}, {\"date\": \"2015-10-01T00:00:00\", \"actual\": 105.980003, \"position\": 103.260002, \"action\": \"BUY\"}, {\"date\": \"2015-10-02T00:00:00\", \"actual\": 106.110001, \"position\": 105.980003, \"action\": \"BUY\"}, {\"date\": \"2015-10-05T00:00:00\", \"actual\": 111.25, \"position\": 106.110001, \"action\": \"SELL\"}, {\"date\": \"2015-10-06T00:00:00\", \"actual\": 108.330002, \"position\": 111.25, \"action\": \"SELL\"}, {\"date\": \"2015-10-07T00:00:00\", \"actual\": 108.099998, \"position\": 108.330002, \"action\": \"SELL\"}, {\"date\": \"2015-10-08T00:00:00\", \"actual\": 114.93, \"position\": 108.099998, \"action\": \"SELL\"}, {\"date\": \"2015-10-09T00:00:00\", \"actual\": 113.330002, \"position\": 114.93, \"action\": \"SELL\"}, {\"date\": \"2015-10-12T00:00:00\", \"actual\": 113.449997, \"position\": 113.330002, \"action\": \"SELL\"}, {\"date\": \"2015-10-13T00:00:00\", \"actual\": 109.730003, \"position\": 113.449997, \"action\": \"SELL\"}, {\"date\": \"2015-10-14T00:00:00\", \"actual\": 110.230003, \"position\": 109.730003, \"action\": \"SELL\"}, {\"date\": \"2015-10-15T00:00:00\", \"actual\": 101.089996, \"position\": 110.230003, \"action\": \"SELL\"}, {\"date\": \"2015-10-16T00:00:00\", \"actual\": 98.989998, \"position\": 101.089996, \"action\": \"BUY\"}, {\"date\": \"2015-10-19T00:00:00\", \"actual\": 101.690002, \"position\": 98.989998, \"action\": \"BUY\"}, {\"date\": \"2015-10-20T00:00:00\", \"actual\": 98.989998, \"position\": 101.690002, \"action\": \"BUY\"}, {\"date\": \"2015-10-21T00:00:00\", \"actual\": 97.959999, \"position\": 98.989998, \"action\": \"SELL\"}, {\"date\": \"2015-10-22T00:00:00\", \"actual\": 97.32, \"position\": 97.959999, \"action\": \"HOLD\"}, {\"date\": \"2015-10-23T00:00:00\", \"actual\": 100.040001, \"position\": 97.32, \"action\": \"HOLD\"}, {\"date\": \"2015-10-26T00:00:00\", \"actual\": 103.040001, \"position\": 100.040001, \"action\": \"SELL\"}, {\"date\": \"2015-10-27T00:00:00\", \"actual\": 103.07, \"position\": 103.040001, \"action\": \"SELL\"}, {\"date\": \"2015-10-28T00:00:00\", \"actual\": 105.800003, \"position\": 103.07, \"action\": \"SELL\"}, {\"date\": \"2015-10-29T00:00:00\", \"actual\": 105.120003, \"position\": 105.800003, \"action\": \"SELL\"}, {\"date\": \"2015-10-30T00:00:00\", \"actual\": 108.379997, \"position\": 105.120003, \"action\": \"SELL\"}, {\"date\": \"2015-11-02T00:00:00\", \"actual\": 107.639999, \"position\": 108.379997, \"action\": \"HOLD\"}, {\"date\": \"2015-11-03T00:00:00\", \"actual\": 109.739998, \"position\": 107.639999, \"action\": \"BUY\"}, {\"date\": \"2015-11-04T00:00:00\", \"actual\": 114.050003, \"position\": 109.739998, \"action\": \"SELL\"}, {\"date\": \"2015-11-05T00:00:00\", \"actual\": 113.5, \"position\": 114.050003, \"action\": \"BUY\"}, {\"date\": \"2015-11-06T00:00:00\", \"actual\": 114.059998, \"position\": 113.5, \"action\": \"SELL\"}, {\"date\": \"2015-11-09T00:00:00\", \"actual\": 109.860001, \"position\": 114.059998, \"action\": \"HOLD\"}, {\"date\": \"2015-11-10T00:00:00\", \"actual\": 112.699997, \"position\": 109.860001, \"action\": \"HOLD\"}, {\"date\": \"2015-11-11T00:00:00\", \"actual\": 112.860001, \"position\": 112.699997, \"action\": \"HOLD\"}, {\"date\": \"2015-11-12T00:00:00\", \"actual\": 108.919998, \"position\": 112.860001, \"action\": \"BUY\"}, {\"date\": \"2015-11-13T00:00:00\", \"actual\": 103.650002, \"position\": 108.919998, \"action\": \"SELL\"}, {\"date\": \"2015-11-16T00:00:00\", \"actual\": 111.349998, \"position\": 103.650002, \"action\": \"BUY\"}, {\"date\": \"2015-11-17T00:00:00\", \"actual\": 117.099998, \"position\": 111.349998, \"action\": \"SELL\"}, {\"date\": \"2015-11-18T00:00:00\", \"actual\": 120.629997, \"position\": 117.099998, \"action\": \"HOLD\"}, {\"date\": \"2015-11-19T00:00:00\", \"actual\": 120.220001, \"position\": 120.629997, \"action\": \"HOLD\"}, {\"date\": \"2015-11-20T00:00:00\", \"actual\": 123.839996, \"position\": 120.220001, \"action\": \"HOLD\"}, {\"date\": \"2015-11-23T00:00:00\", \"actual\": 125.029999, \"position\": 123.839996, \"action\": \"HOLD\"}, {\"date\": \"2015-11-24T00:00:00\", \"actual\": 123.309998, \"position\": 125.029999, \"action\": \"HOLD\"}, {\"date\": \"2015-11-25T00:00:00\", \"actual\": 124.160004, \"position\": 123.309998, \"action\": \"HOLD\"}, {\"date\": \"2015-11-27T00:00:00\", \"actual\": 125.440002, \"position\": 124.160004, \"action\": \"HOLD\"}, {\"date\": \"2015-11-30T00:00:00\", \"actual\": 123.330002, \"position\": 125.440002, \"action\": \"BUY\"}, {\"date\": \"2015-12-01T00:00:00\", \"actual\": 125.370003, \"position\": 123.330002, \"action\": \"SELL\"}, {\"date\": \"2015-12-02T00:00:00\", \"actual\": 128.929993, \"position\": 125.370003, \"action\": \"BUY\"}, {\"date\": \"2015-12-03T00:00:00\", \"actual\": 126.809998, \"position\": 128.929993, \"action\": \"SELL\"}, {\"date\": \"2015-12-04T00:00:00\", \"actual\": 130.929993, \"position\": 126.809998, \"action\": \"HOLD\"}, {\"date\": \"2015-12-07T00:00:00\", \"actual\": 125.360001, \"position\": 130.929993, \"action\": \"BUY\"}, {\"date\": \"2015-12-08T00:00:00\", \"actual\": 126.980003, \"position\": 125.360001, \"action\": \"SELL\"}, {\"date\": \"2015-12-09T00:00:00\", \"actual\": 124.199997, \"position\": 126.980003, \"action\": \"HOLD\"}, {\"date\": \"2015-12-10T00:00:00\", \"actual\": 122.910004, \"position\": 124.199997, \"action\": \"HOLD\"}, {\"date\": \"2015-12-11T00:00:00\", \"actual\": 118.910004, \"position\": 122.910004, \"action\": \"BUY\"}, {\"date\": \"2015-12-14T00:00:00\", \"actual\": 120.669998, \"position\": 118.910004, \"action\": \"SELL\"}, {\"date\": \"2015-12-15T00:00:00\", \"actual\": 118.599998, \"position\": 120.669998, \"action\": \"HOLD\"}, {\"date\": \"2015-12-16T00:00:00\", \"actual\": 122.639999, \"position\": 118.599998, \"action\": \"BUY\"}, {\"date\": \"2015-12-17T00:00:00\", \"actual\": 122.510002, \"position\": 122.639999, \"action\": \"BUY\"}, {\"date\": \"2015-12-18T00:00:00\", \"actual\": 118.019997, \"position\": 122.510002, \"action\": \"BUY\"}, {\"date\": \"2015-12-21T00:00:00\", \"actual\": 116.629997, \"position\": 118.019997, \"action\": \"BUY\"}, {\"date\": \"2015-12-22T00:00:00\", \"actual\": 116.239998, \"position\": 116.629997, \"action\": \"SELL\"}, {\"date\": \"2015-12-23T00:00:00\", \"actual\": 118.160004, \"position\": 116.239998, \"action\": \"BUY\"}, {\"date\": \"2015-12-24T00:00:00\", \"actual\": 117.330002, \"position\": 118.160004, \"action\": \"SELL\"}, {\"date\": \"2015-12-28T00:00:00\", \"actual\": 117.110001, \"position\": 117.330002, \"action\": \"SELL\"}, {\"date\": \"2015-12-29T00:00:00\", \"actual\": 119.120003, \"position\": 117.110001, \"action\": \"BUY\"}, {\"date\": \"2015-12-30T00:00:00\", \"actual\": 116.709999, \"position\": 119.120003, \"action\": \"BUY\"}, {\"date\": \"2015-12-31T00:00:00\", \"actual\": 114.379997, \"position\": 116.709999, \"action\": \"BUY\"}, {\"date\": \"2016-01-04T00:00:00\", \"actual\": 109.959999, \"position\": 114.379997, \"action\": \"BUY\"}, {\"date\": \"2016-01-05T00:00:00\", \"actual\": 107.660004, \"position\": 109.959999, \"action\": \"BUY\"}, {\"date\": \"2016-01-06T00:00:00\", \"actual\": 117.68, \"position\": 107.660004, \"action\": \"BUY\"}, {\"date\": \"2016-01-07T00:00:00\", \"actual\": 114.559998, \"position\": 117.68, \"action\": \"BUY\"}, {\"date\": \"2016-01-08T00:00:00\", \"actual\": 111.389999, \"position\": 114.559998, \"action\": \"BUY\"}, {\"date\": \"2016-01-11T00:00:00\", \"actual\": 114.970001, \"position\": 111.389999, \"action\": \"HOLD\"}, {\"date\": \"2016-01-12T00:00:00\", \"actual\": 116.580002, \"position\": 114.970001, \"action\": \"BUY\"}, {\"date\": \"2016-01-13T00:00:00\", \"actual\": 106.559998, \"position\": 116.580002, \"action\": \"SELL\"}, {\"date\": \"2016-01-14T00:00:00\", \"actual\": 107.059998, \"position\": 106.559998, \"action\": \"BUY\"}, {\"date\": \"2016-01-15T00:00:00\", \"actual\": 104.040001, \"position\": 107.059998, \"action\": \"HOLD\"}, {\"date\": \"2016-01-19T00:00:00\", \"actual\": 107.889999, \"position\": 104.040001, \"action\": \"BUY\"}, {\"date\": \"2016-01-20T00:00:00\", \"actual\": 107.739998, \"position\": 107.889999, \"action\": \"HOLD\"}, {\"date\": \"2016-01-21T00:00:00\", \"actual\": 102.349998, \"position\": 107.739998, \"action\": \"BUY\"}, {\"date\": \"2016-01-22T00:00:00\", \"actual\": 100.720001, \"position\": 102.349998, \"action\": \"SELL\"}, {\"date\": \"2016-01-25T00:00:00\", \"actual\": 99.120003, \"position\": 100.720001, \"action\": \"SELL\"}, {\"date\": \"2016-01-26T00:00:00\", \"actual\": 97.830002, \"position\": 99.120003, \"action\": \"BUY\"}, {\"date\": \"2016-01-27T00:00:00\", \"actual\": 91.150002, \"position\": 97.830002, \"action\": \"SELL\"}, {\"date\": \"2016-01-28T00:00:00\", \"actual\": 94.410004, \"position\": 91.150002, \"action\": \"SELL\"}, {\"date\": \"2016-01-29T00:00:00\", \"actual\": 91.839996, \"position\": 94.410004, \"action\": \"SELL\"}, {\"date\": \"2016-02-01T00:00:00\", \"actual\": 94.089996, \"position\": 91.839996, \"action\": \"BUY\"}, {\"date\": \"2016-02-02T00:00:00\", \"actual\": 91.489998, \"position\": 94.089996, \"action\": \"BUY\"}, {\"date\": \"2016-02-03T00:00:00\", \"actual\": 90.739998, \"position\": 91.489998, \"action\": \"BUY\"}, {\"date\": \"2016-02-04T00:00:00\", \"actual\": 89.709999, \"position\": 90.739998, \"action\": \"BUY\"}, {\"date\": \"2016-02-05T00:00:00\", \"actual\": 82.790001, \"position\": 89.709999, \"action\": \"SELL\"}, {\"date\": \"2016-02-08T00:00:00\", \"actual\": 83.32, \"position\": 82.790001, \"action\": \"BUY\"}, {\"date\": \"2016-02-09T00:00:00\", \"actual\": 86.129997, \"position\": 83.32, \"action\": \"BUY\"}, {\"date\": \"2016-02-10T00:00:00\", \"actual\": 88.449997, \"position\": 86.129997, \"action\": \"BUY\"}, {\"date\": \"2016-02-11T00:00:00\", \"actual\": 86.349998, \"position\": 88.449997, \"action\": \"SELL\"}, {\"date\": \"2016-02-12T00:00:00\", \"actual\": 87.400002, \"position\": 86.349998, \"action\": \"SELL\"}, {\"date\": \"2016-02-16T00:00:00\", \"actual\": 89.050003, \"position\": 87.400002, \"action\": \"SELL\"}, {\"date\": \"2016-02-17T00:00:00\", \"actual\": 94.760002, \"position\": 89.050003, \"action\": \"BUY\"}, {\"date\": \"2016-02-18T00:00:00\", \"actual\": 90.489998, \"position\": 94.760002, \"action\": \"BUY\"}, {\"date\": \"2016-02-19T00:00:00\", \"actual\": 89.230003, \"position\": 90.489998, \"action\": \"SELL\"}, {\"date\": \"2016-02-22T00:00:00\", \"actual\": 91.93, \"position\": 89.230003, \"action\": \"BUY\"}, {\"date\": \"2016-02-23T00:00:00\", \"actual\": 89.120003, \"position\": 91.93, \"action\": \"SELL\"}, {\"date\": \"2016-02-24T00:00:00\", \"actual\": 91.610001, \"position\": 89.120003, \"action\": \"SELL\"}, {\"date\": \"2016-02-25T00:00:00\", \"actual\": 94.529999, \"position\": 91.610001, \"action\": \"SELL\"}, {\"date\": \"2016-02-26T00:00:00\", \"actual\": 94.790001, \"position\": 94.529999, \"action\": \"BUY\"}, {\"date\": \"2016-02-29T00:00:00\", \"actual\": 93.410004, \"position\": 94.790001, \"action\": \"SELL\"}, {\"date\": \"2016-03-01T00:00:00\", \"actual\": 98.300003, \"position\": 93.410004, \"action\": \"SELL\"}, {\"date\": \"2016-03-02T00:00:00\", \"actual\": 97.610001, \"position\": 98.300003, \"action\": \"BUY\"}, {\"date\": \"2016-03-03T00:00:00\", \"actual\": 97.93, \"position\": 97.610001, \"action\": \"BUY\"}, {\"date\": \"2016-03-04T00:00:00\", \"actual\": 101.580002, \"position\": 97.93, \"action\": \"SELL\"}, {\"date\": \"2016-03-07T00:00:00\", \"actual\": 95.489998, \"position\": 101.580002, \"action\": \"SELL\"}, {\"date\": \"2016-03-08T00:00:00\", \"actual\": 96.230003, \"position\": 95.489998, \"action\": \"SELL\"}, {\"date\": \"2016-03-09T00:00:00\", \"actual\": 98.0, \"position\": 96.230003, \"action\": \"SELL\"}, {\"date\": \"2016-03-10T00:00:00\", \"actual\": 97.360001, \"position\": 98.0, \"action\": \"BUY\"}, {\"date\": \"2016-03-11T00:00:00\", \"actual\": 97.660004, \"position\": 97.360001, \"action\": \"SELL\"}, {\"date\": \"2016-03-14T00:00:00\", \"actual\": 98.129997, \"position\": 97.660004, \"action\": \"SELL\"}, {\"date\": \"2016-03-15T00:00:00\", \"actual\": 97.860001, \"position\": 98.129997, \"action\": \"SELL\"}, {\"date\": \"2016-03-16T00:00:00\", \"actual\": 99.349998, \"position\": 97.860001, \"action\": \"SELL\"}, {\"date\": \"2016-03-17T00:00:00\", \"actual\": 99.720001, \"position\": 99.349998, \"action\": \"SELL\"}, {\"date\": \"2016-03-18T00:00:00\", \"actual\": 101.120003, \"position\": 99.720001, \"action\": \"SELL\"}, {\"date\": \"2016-03-21T00:00:00\", \"actual\": 101.059998, \"position\": 101.120003, \"action\": \"SELL\"}, {\"date\": \"2016-03-22T00:00:00\", \"actual\": 99.839996, \"position\": 101.059998, \"action\": \"SELL\"}, {\"date\": \"2016-03-23T00:00:00\", \"actual\": 99.589996, \"position\": 99.839996, \"action\": \"SELL\"}, {\"date\": \"2016-03-24T00:00:00\", \"actual\": 98.360001, \"position\": 99.589996, \"action\": \"BUY\"}, {\"date\": \"2016-03-28T00:00:00\", \"actual\": 101.209999, \"position\": 98.360001, \"action\": \"SELL\"}, {\"date\": \"2016-03-29T00:00:00\", \"actual\": 104.129997, \"position\": 101.209999, \"action\": \"HOLD\"}, {\"date\": \"2016-03-30T00:00:00\", \"actual\": 102.190002, \"position\": 104.129997, \"action\": \"HOLD\"}, {\"date\": \"2016-03-31T00:00:00\", \"actual\": 102.230003, \"position\": 102.190002, \"action\": \"BUY\"}, {\"date\": \"2016-04-01T00:00:00\", \"actual\": 105.699997, \"position\": 102.230003, \"action\": \"BUY\"}, {\"date\": \"2016-04-04T00:00:00\", \"actual\": 104.349998, \"position\": 105.699997, \"action\": \"BUY\"}, {\"date\": \"2016-04-05T00:00:00\", \"actual\": 104.940002, \"position\": 104.349998, \"action\": \"SELL\"}, {\"date\": \"2016-04-06T00:00:00\", \"actual\": 104.830002, \"position\": 104.940002, \"action\": \"SELL\"}, {\"date\": \"2016-04-07T00:00:00\", \"actual\": 104.449997, \"position\": 104.830002, \"action\": \"SELL\"}, {\"date\": \"2016-04-08T00:00:00\", \"actual\": 103.809998, \"position\": 104.449997, \"action\": \"HOLD\"}, {\"date\": \"2016-04-11T00:00:00\", \"actual\": 102.68, \"position\": 103.809998, \"action\": \"BUY\"}, {\"date\": \"2016-04-12T00:00:00\", \"actual\": 106.980003, \"position\": 102.68, \"action\": \"BUY\"}, {\"date\": \"2016-04-13T00:00:00\", \"actual\": 109.650002, \"position\": 106.980003, \"action\": \"SELL\"}, {\"date\": \"2016-04-14T00:00:00\", \"actual\": 110.419998, \"position\": 109.650002, \"action\": \"SELL\"}, {\"date\": \"2016-04-15T00:00:00\", \"actual\": 111.510002, \"position\": 110.419998, \"action\": \"HOLD\"}, {\"date\": \"2016-04-18T00:00:00\", \"actual\": 108.400002, \"position\": 111.510002, \"action\": \"HOLD\"}, {\"date\": \"2016-04-19T00:00:00\", \"actual\": 94.339996, \"position\": 108.400002, \"action\": \"HOLD\"}, {\"date\": \"2016-04-20T00:00:00\", \"actual\": 96.769997, \"position\": 94.339996, \"action\": \"BUY\"}, {\"date\": \"2016-04-21T00:00:00\", \"actual\": 94.980003, \"position\": 96.769997, \"action\": \"SELL\"}, {\"date\": \"2016-04-22T00:00:00\", \"actual\": 95.900002, \"position\": 94.980003, \"action\": \"HOLD\"}, {\"date\": \"2016-04-25T00:00:00\", \"actual\": 93.559998, \"position\": 95.900002, \"action\": \"HOLD\"}, {\"date\": \"2016-04-26T00:00:00\", \"actual\": 92.43, \"position\": 93.559998, \"action\": \"BUY\"}, {\"date\": \"2016-04-27T00:00:00\", \"actual\": 91.040001, \"position\": 92.43, \"action\": \"BUY\"}, {\"date\": \"2016-04-28T00:00:00\", \"actual\": 90.279999, \"position\": 91.040001, \"action\": \"SELL\"}, {\"date\": \"2016-04-29T00:00:00\", \"actual\": 90.029999, \"position\": 90.279999, \"action\": \"SELL\"}, {\"date\": \"2016-05-02T00:00:00\", \"actual\": 93.110001, \"position\": 90.029999, \"action\": \"BUY\"}, {\"date\": \"2016-05-03T00:00:00\", \"actual\": 91.540001, \"position\": 93.110001, \"action\": \"BUY\"}, {\"date\": \"2016-05-04T00:00:00\", \"actual\": 90.790001, \"position\": 91.540001, \"action\": \"BUY\"}, {\"date\": \"2016-05-05T00:00:00\", \"actual\": 89.370003, \"position\": 90.790001, \"action\": \"SELL\"}, {\"date\": \"2016-05-06T00:00:00\", \"actual\": 90.839996, \"position\": 89.370003, \"action\": \"SELL\"}, {\"date\": \"2016-05-09T00:00:00\", \"actual\": 90.540001, \"position\": 90.839996, \"action\": \"HOLD\"}, {\"date\": \"2016-05-10T00:00:00\", \"actual\": 92.889999, \"position\": 90.540001, \"action\": \"SELL\"}, {\"date\": \"2016-05-11T00:00:00\", \"actual\": 90.019997, \"position\": 92.889999, \"action\": \"HOLD\"}, {\"date\": \"2016-05-12T00:00:00\", \"actual\": 87.739998, \"position\": 90.019997, \"action\": \"HOLD\"}, {\"date\": \"2016-05-13T00:00:00\", \"actual\": 87.879997, \"position\": 87.739998, \"action\": \"HOLD\"}, {\"date\": \"2016-05-16T00:00:00\", \"actual\": 89.120003, \"position\": 87.879997, \"action\": \"HOLD\"}, {\"date\": \"2016-05-17T00:00:00\", \"actual\": 88.629997, \"position\": 89.120003, \"action\": \"HOLD\"}, {\"date\": \"2016-05-18T00:00:00\", \"actual\": 90.5, \"position\": 88.629997, \"action\": \"HOLD\"}, {\"date\": \"2016-05-19T00:00:00\", \"actual\": 89.550003, \"position\": 90.5, \"action\": \"HOLD\"}, {\"date\": \"2016-05-20T00:00:00\", \"actual\": 92.489998, \"position\": 89.550003, \"action\": \"BUY\"}, {\"date\": \"2016-05-23T00:00:00\", \"actual\": 94.889999, \"position\": 92.489998, \"action\": \"BUY\"}, {\"date\": \"2016-05-24T00:00:00\", \"actual\": 97.889999, \"position\": 94.889999, \"action\": \"SELL\"}, {\"date\": \"2016-05-25T00:00:00\", \"actual\": 100.199997, \"position\": 97.889999, \"action\": \"SELL\"}, {\"date\": \"2016-05-26T00:00:00\", \"actual\": 102.809998, \"position\": 100.199997, \"action\": \"HOLD\"}, {\"date\": \"2016-05-27T00:00:00\", \"actual\": 103.300003, \"position\": 102.809998, \"action\": \"HOLD\"}, {\"date\": \"2016-05-31T00:00:00\", \"actual\": 102.57, \"position\": 103.300003, \"action\": \"HOLD\"}, {\"date\": \"2016-06-01T00:00:00\", \"actual\": 101.510002, \"position\": 102.57, \"action\": \"HOLD\"}, {\"date\": \"2016-06-02T00:00:00\", \"actual\": 101.25, \"position\": 101.510002, \"action\": \"HOLD\"}, {\"date\": \"2016-06-03T00:00:00\", \"actual\": 99.589996, \"position\": 101.25, \"action\": \"HOLD\"}, {\"date\": \"2016-06-06T00:00:00\", \"actual\": 100.739998, \"position\": 99.589996, \"action\": \"HOLD\"}, {\"date\": \"2016-06-07T00:00:00\", \"actual\": 99.889999, \"position\": 100.739998, \"action\": \"HOLD\"}, {\"date\": \"2016-06-08T00:00:00\", \"actual\": 97.860001, \"position\": 99.889999, \"action\": \"HOLD\"}, {\"date\": \"2016-06-09T00:00:00\", \"actual\": 97.089996, \"position\": 97.860001, \"action\": \"BUY\"}, {\"date\": \"2016-06-10T00:00:00\", \"actual\": 93.75, \"position\": 97.089996, \"action\": \"SELL\"}, {\"date\": \"2016-06-13T00:00:00\", \"actual\": 93.849998, \"position\": 93.75, \"action\": \"BUY\"}, {\"date\": \"2016-06-14T00:00:00\", \"actual\": 94.120003, \"position\": 93.849998, \"action\": \"SELL\"}, {\"date\": \"2016-06-15T00:00:00\", \"actual\": 94.290001, \"position\": 94.120003, \"action\": \"BUY\"}, {\"date\": \"2016-06-16T00:00:00\", \"actual\": 95.440002, \"position\": 94.290001, \"action\": \"SELL\"}, {\"date\": \"2016-06-17T00:00:00\", \"actual\": 94.449997, \"position\": 95.440002, \"action\": \"BUY\"}, {\"date\": \"2016-06-20T00:00:00\", \"actual\": 93.800003, \"position\": 94.449997, \"action\": \"SELL\"}, {\"date\": \"2016-06-21T00:00:00\", \"actual\": 90.989998, \"position\": 93.800003, \"action\": \"HOLD\"}, {\"date\": \"2016-06-22T00:00:00\", \"actual\": 90.010002, \"position\": 90.989998, \"action\": \"HOLD\"}, {\"date\": \"2016-06-23T00:00:00\", \"actual\": 91.660004, \"position\": 90.010002, \"action\": \"HOLD\"}, {\"date\": \"2016-06-24T00:00:00\", \"actual\": 88.440002, \"position\": 91.660004, \"action\": \"HOLD\"}, {\"date\": \"2016-06-27T00:00:00\", \"actual\": 85.330002, \"position\": 88.440002, \"action\": \"HOLD\"}, {\"date\": \"2016-06-28T00:00:00\", \"actual\": 87.970001, \"position\": 85.330002, \"action\": \"HOLD\"}, {\"date\": \"2016-06-29T00:00:00\", \"actual\": 91.059998, \"position\": 87.970001, \"action\": \"BUY\"}, {\"date\": \"2016-06-30T00:00:00\", \"actual\": 91.480003, \"position\": 91.059998, \"action\": \"SELL\"}, {\"date\": \"2016-07-01T00:00:00\", \"actual\": 96.669998, \"position\": 91.480003, \"action\": \"HOLD\"}, {\"date\": \"2016-07-05T00:00:00\", \"actual\": 97.910004, \"position\": 96.669998, \"action\": \"HOLD\"}, {\"date\": \"2016-07-06T00:00:00\", \"actual\": 94.599998, \"position\": 97.910004, \"action\": \"HOLD\"}, {\"date\": \"2016-07-07T00:00:00\", \"actual\": 95.099998, \"position\": 94.599998, \"action\": \"HOLD\"}, {\"date\": \"2016-07-08T00:00:00\", \"actual\": 97.059998, \"position\": 95.099998, \"action\": \"HOLD\"}, {\"date\": \"2016-07-11T00:00:00\", \"actual\": 94.669998, \"position\": 97.059998, \"action\": \"HOLD\"}, {\"date\": \"2016-07-12T00:00:00\", \"actual\": 95.970001, \"position\": 94.669998, \"action\": \"HOLD\"}, {\"date\": \"2016-07-13T00:00:00\", \"actual\": 96.43, \"position\": 95.970001, \"action\": \"BUY\"}, {\"date\": \"2016-07-14T00:00:00\", \"actual\": 98.019997, \"position\": 96.43, \"action\": \"SELL\"}, {\"date\": \"2016-07-15T00:00:00\", \"actual\": 98.389999, \"position\": 98.019997, \"action\": \"BUY\"}, {\"date\": \"2016-07-18T00:00:00\", \"actual\": 98.809998, \"position\": 98.389999, \"action\": \"SELL\"}, {\"date\": \"2016-07-19T00:00:00\", \"actual\": 85.839996, \"position\": 98.809998, \"action\": \"HOLD\"}, {\"date\": \"2016-07-20T00:00:00\", \"actual\": 87.910004, \"position\": 85.839996, \"action\": \"HOLD\"}, {\"date\": \"2016-07-21T00:00:00\", \"actual\": 85.989998, \"position\": 87.910004, \"action\": \"HOLD\"}, {\"date\": \"2016-07-22T00:00:00\", \"actual\": 85.889999, \"position\": 85.989998, \"action\": \"HOLD\"}, {\"date\": \"2016-07-25T00:00:00\", \"actual\": 87.660004, \"position\": 85.889999, \"action\": \"HOLD\"}, {\"date\": \"2016-07-26T00:00:00\", \"actual\": 91.410004, \"position\": 87.660004, \"action\": \"HOLD\"}, {\"date\": \"2016-07-27T00:00:00\", \"actual\": 92.040001, \"position\": 91.410004, \"action\": \"HOLD\"}, {\"date\": \"2016-07-28T00:00:00\", \"actual\": 91.650002, \"position\": 92.040001, \"action\": \"HOLD\"}, {\"date\": \"2016-07-29T00:00:00\", \"actual\": 91.25, \"position\": 91.650002, \"action\": \"HOLD\"}, {\"date\": \"2016-08-01T00:00:00\", \"actual\": 94.370003, \"position\": 91.25, \"action\": \"HOLD\"}, {\"date\": \"2016-08-02T00:00:00\", \"actual\": 93.559998, \"position\": 94.370003, \"action\": \"HOLD\"}, {\"date\": \"2016-08-03T00:00:00\", \"actual\": 93.099998, \"position\": 93.559998, \"action\": \"HOLD\"}, {\"date\": \"2016-08-04T00:00:00\", \"actual\": 93.440002, \"position\": 93.099998, \"action\": \"HOLD\"}, {\"date\": \"2016-08-05T00:00:00\", \"actual\": 97.029999, \"position\": 93.440002, \"action\": \"HOLD\"}, {\"date\": \"2016-08-08T00:00:00\", \"actual\": 95.110001, \"position\": 97.029999, \"action\": \"HOLD\"}, {\"date\": \"2016-08-09T00:00:00\", \"actual\": 93.989998, \"position\": 95.110001, \"action\": \"BUY\"}, {\"date\": \"2016-08-10T00:00:00\", \"actual\": 93.93, \"position\": 93.989998, \"action\": \"BUY\"}, {\"date\": \"2016-08-11T00:00:00\", \"actual\": 95.889999, \"position\": 93.93, \"action\": \"BUY\"}, {\"date\": \"2016-08-12T00:00:00\", \"actual\": 96.589996, \"position\": 95.889999, \"action\": \"SELL\"}, {\"date\": \"2016-08-15T00:00:00\", \"actual\": 95.309998, \"position\": 96.589996, \"action\": \"SELL\"}, {\"date\": \"2016-08-16T00:00:00\", \"actual\": 95.120003, \"position\": 95.309998, \"action\": \"SELL\"}, {\"date\": \"2016-08-17T00:00:00\", \"actual\": 96.370003, \"position\": 95.120003, \"action\": \"HOLD\"}, {\"date\": \"2016-08-18T00:00:00\", \"actual\": 96.160004, \"position\": 96.370003, \"action\": \"HOLD\"}, {\"date\": \"2016-08-19T00:00:00\", \"actual\": 95.870003, \"position\": 96.160004, \"action\": \"HOLD\"}, {\"date\": \"2016-08-22T00:00:00\", \"actual\": 95.260002, \"position\": 95.870003, \"action\": \"HOLD\"}, {\"date\": \"2016-08-23T00:00:00\", \"actual\": 95.940002, \"position\": 95.260002, \"action\": \"BUY\"}, {\"date\": \"2016-08-24T00:00:00\", \"actual\": 95.18, \"position\": 95.940002, \"action\": \"SELL\"}, {\"date\": \"2016-08-25T00:00:00\", \"actual\": 97.32, \"position\": 95.18, \"action\": \"BUY\"}, {\"date\": \"2016-08-26T00:00:00\", \"actual\": 97.580002, \"position\": 97.32, \"action\": \"SELL\"}, {\"date\": \"2016-08-29T00:00:00\", \"actual\": 97.300003, \"position\": 97.580002, \"action\": \"HOLD\"}, {\"date\": \"2016-08-30T00:00:00\", \"actual\": 97.449997, \"position\": 97.300003, \"action\": \"BUY\"}, {\"date\": \"2016-08-31T00:00:00\", \"actual\": 97.449997, \"position\": 97.449997, \"action\": \"SELL\"}, {\"date\": \"2016-09-01T00:00:00\", \"actual\": 97.379997, \"position\": 97.449997, \"action\": \"HOLD\"}, {\"date\": \"2016-09-02T00:00:00\", \"actual\": 97.379997, \"position\": 97.379997, \"action\": \"HOLD\"}, {\"date\": \"2016-09-06T00:00:00\", \"actual\": 100.089996, \"position\": 97.379997, \"action\": \"HOLD\"}, {\"date\": \"2016-09-07T00:00:00\", \"actual\": 99.150002, \"position\": 100.089996, \"action\": \"HOLD\"}, {\"date\": \"2016-09-08T00:00:00\", \"actual\": 99.660004, \"position\": 99.150002, \"action\": \"HOLD\"}, {\"date\": \"2016-09-09T00:00:00\", \"actual\": 96.5, \"position\": 99.660004, \"action\": \"HOLD\"}, {\"date\": \"2016-09-12T00:00:00\", \"actual\": 99.050003, \"position\": 96.5, \"action\": \"HOLD\"}, {\"date\": \"2016-09-13T00:00:00\", \"actual\": 96.089996, \"position\": 99.050003, \"action\": \"HOLD\"}, {\"date\": \"2016-09-14T00:00:00\", \"actual\": 97.010002, \"position\": 96.089996, \"action\": \"HOLD\"}, {\"date\": \"2016-09-15T00:00:00\", \"actual\": 97.339996, \"position\": 97.010002, \"action\": \"HOLD\"}, {\"date\": \"2016-09-16T00:00:00\", \"actual\": 99.480003, \"position\": 97.339996, \"action\": \"HOLD\"}, {\"date\": \"2016-09-19T00:00:00\", \"actual\": 98.059998, \"position\": 99.480003, \"action\": \"BUY\"}, {\"date\": \"2016-09-20T00:00:00\", \"actual\": 98.25, \"position\": 98.059998, \"action\": \"SELL\"}, {\"date\": \"2016-09-21T00:00:00\", \"actual\": 94.879997, \"position\": 98.25, \"action\": \"HOLD\"}, {\"date\": \"2016-09-22T00:00:00\", \"actual\": 95.830002, \"position\": 94.879997, \"action\": \"HOLD\"}, {\"date\": \"2016-09-23T00:00:00\", \"actual\": 95.940002, \"position\": 95.830002, \"action\": \"HOLD\"}, {\"date\": \"2016-09-26T00:00:00\", \"actual\": 94.559998, \"position\": 95.940002, \"action\": \"HOLD\"}, {\"date\": \"2016-09-27T00:00:00\", \"actual\": 97.07, \"position\": 94.559998, \"action\": \"HOLD\"}, {\"date\": \"2016-09-28T00:00:00\", \"actual\": 97.480003, \"position\": 97.07, \"action\": \"HOLD\"}, {\"date\": \"2016-09-29T00:00:00\", \"actual\": 96.669998, \"position\": 97.480003, \"action\": \"HOLD\"}, {\"date\": \"2016-09-30T00:00:00\", \"actual\": 98.550003, \"position\": 96.669998, \"action\": \"HOLD\"}, {\"date\": \"2016-10-03T00:00:00\", \"actual\": 102.629997, \"position\": 98.550003, \"action\": \"HOLD\"}, {\"date\": \"2016-10-04T00:00:00\", \"actual\": 102.339996, \"position\": 102.629997, \"action\": \"HOLD\"}, {\"date\": \"2016-10-05T00:00:00\", \"actual\": 106.279999, \"position\": 102.339996, \"action\": \"HOLD\"}, {\"date\": \"2016-10-06T00:00:00\", \"actual\": 105.07, \"position\": 106.279999, \"action\": \"HOLD\"}, {\"date\": \"2016-10-07T00:00:00\", \"actual\": 104.82, \"position\": 105.07, \"action\": \"HOLD\"}, {\"date\": \"2016-10-10T00:00:00\", \"actual\": 103.330002, \"position\": 104.82, \"action\": \"BUY\"}, {\"date\": \"2016-10-11T00:00:00\", \"actual\": 100.589996, \"position\": 103.330002, \"action\": \"BUY\"}, {\"date\": \"2016-10-12T00:00:00\", \"actual\": 99.5, \"position\": 100.589996, \"action\": \"SELL\"}, {\"date\": \"2016-10-13T00:00:00\", \"actual\": 100.230003, \"position\": 99.5, \"action\": \"BUY\"}, {\"date\": \"2016-10-14T00:00:00\", \"actual\": 101.470001, \"position\": 100.230003, \"action\": \"BUY\"}, {\"date\": \"2016-10-17T00:00:00\", \"actual\": 99.800003, \"position\": 101.470001, \"action\": \"SELL\"}, {\"date\": \"2016-10-18T00:00:00\", \"actual\": 118.790001, \"position\": 99.800003, \"action\": \"SELL\"}, {\"date\": \"2016-10-19T00:00:00\", \"actual\": 121.870003, \"position\": 118.790001, \"action\": \"SELL\"}, {\"date\": \"2016-10-20T00:00:00\", \"actual\": 123.349998, \"position\": 121.870003, \"action\": \"BUY\"}, {\"date\": \"2016-10-21T00:00:00\", \"actual\": 127.5, \"position\": 123.349998, \"action\": \"BUY\"}, {\"date\": \"2016-10-24T00:00:00\", \"actual\": 127.330002, \"position\": 127.5, \"action\": \"SELL\"}, {\"date\": \"2016-10-25T00:00:00\", \"actual\": 126.510002, \"position\": 127.330002, \"action\": \"SELL\"}, {\"date\": \"2016-10-26T00:00:00\", \"actual\": 126.970001, \"position\": 126.510002, \"action\": \"HOLD\"}, {\"date\": \"2016-10-27T00:00:00\", \"actual\": 126.470001, \"position\": 126.970001, \"action\": \"HOLD\"}, {\"date\": \"2016-10-28T00:00:00\", \"actual\": 126.57, \"position\": 126.470001, \"action\": \"HOLD\"}, {\"date\": \"2016-10-31T00:00:00\", \"actual\": 124.870003, \"position\": 126.57, \"action\": \"HOLD\"}, {\"date\": \"2016-11-01T00:00:00\", \"actual\": 123.300003, \"position\": 124.870003, \"action\": \"HOLD\"}, {\"date\": \"2016-11-02T00:00:00\", \"actual\": 122.339996, \"position\": 123.300003, \"action\": \"HOLD\"}, {\"date\": \"2016-11-03T00:00:00\", \"actual\": 122.139999, \"position\": 122.339996, \"action\": \"HOLD\"}, {\"date\": \"2016-11-04T00:00:00\", \"actual\": 122.029999, \"position\": 122.139999, \"action\": \"HOLD\"}, {\"date\": \"2016-11-07T00:00:00\", \"actual\": 124.580002, \"position\": 122.029999, \"action\": \"HOLD\"}, {\"date\": \"2016-11-08T00:00:00\", \"actual\": 124.339996, \"position\": 124.580002, \"action\": \"HOLD\"}, {\"date\": \"2016-11-09T00:00:00\", \"actual\": 122.190002, \"position\": 124.339996, \"action\": \"HOLD\"}, {\"date\": \"2016-11-10T00:00:00\", \"actual\": 115.419998, \"position\": 122.190002, \"action\": \"HOLD\"}, {\"date\": \"2016-11-11T00:00:00\", \"actual\": 114.779999, \"position\": 115.419998, \"action\": \"BUY\"}, {\"date\": \"2016-11-14T00:00:00\", \"actual\": 113.379997, \"position\": 114.779999, \"action\": \"SELL\"}, {\"date\": \"2016-11-15T00:00:00\", \"actual\": 113.589996, \"position\": 113.379997, \"action\": \"HOLD\"}, {\"date\": \"2016-11-16T00:00:00\", \"actual\": 115.190002, \"position\": 113.589996, \"action\": \"BUY\"}, {\"date\": \"2016-11-17T00:00:00\", \"actual\": 115.029999, \"position\": 115.190002, \"action\": \"SELL\"}, {\"date\": \"2016-11-18T00:00:00\", \"actual\": 115.209999, \"position\": 115.029999, \"action\": \"HOLD\"}, {\"date\": \"2016-11-21T00:00:00\", \"actual\": 117.959999, \"position\": 115.209999, \"action\": \"HOLD\"}, {\"date\": \"2016-11-22T00:00:00\", \"actual\": 118.040001, \"position\": 117.959999, \"action\": \"HOLD\"}, {\"date\": \"2016-11-23T00:00:00\", \"actual\": 117.690002, \"position\": 118.040001, \"action\": \"HOLD\"}, {\"date\": \"2016-11-25T00:00:00\", \"actual\": 117.410004, \"position\": 117.690002, \"action\": \"HOLD\"}, {\"date\": \"2016-11-28T00:00:00\", \"actual\": 116.93, \"position\": 117.410004, \"action\": \"HOLD\"}, {\"date\": \"2016-11-29T00:00:00\", \"actual\": 117.510002, \"position\": 116.93, \"action\": \"BUY\"}, {\"date\": \"2016-11-30T00:00:00\", \"actual\": 117.0, \"position\": 117.510002, \"action\": \"SELL\"}, {\"date\": \"2016-12-01T00:00:00\", \"actual\": 117.220001, \"position\": 117.0, \"action\": \"HOLD\"}, {\"date\": \"2016-12-02T00:00:00\", \"actual\": 120.809998, \"position\": 117.220001, \"action\": \"HOLD\"}, {\"date\": \"2016-12-05T00:00:00\", \"actual\": 119.160004, \"position\": 120.809998, \"action\": \"HOLD\"}, {\"date\": \"2016-12-06T00:00:00\", \"actual\": 124.57, \"position\": 119.160004, \"action\": \"HOLD\"}, {\"date\": \"2016-12-07T00:00:00\", \"actual\": 125.389999, \"position\": 124.57, \"action\": \"HOLD\"}, {\"date\": \"2016-12-08T00:00:00\", \"actual\": 123.239998, \"position\": 125.389999, \"action\": \"HOLD\"}, {\"date\": \"2016-12-09T00:00:00\", \"actual\": 122.879997, \"position\": 123.239998, \"action\": \"HOLD\"}, {\"date\": \"2016-12-12T00:00:00\", \"actual\": 122.830002, \"position\": 122.879997, \"action\": \"BUY\"}, {\"date\": \"2016-12-13T00:00:00\", \"actual\": 123.779999, \"position\": 122.830002, \"action\": \"BUY\"}, {\"date\": \"2016-12-14T00:00:00\", \"actual\": 123.440002, \"position\": 123.779999, \"action\": \"SELL\"}, {\"date\": \"2016-12-15T00:00:00\", \"actual\": 125.0, \"position\": 123.440002, \"action\": \"SELL\"}, {\"date\": \"2016-12-16T00:00:00\", \"actual\": 124.220001, \"position\": 125.0, \"action\": \"HOLD\"}, {\"date\": \"2016-12-19T00:00:00\", \"actual\": 125.449997, \"position\": 124.220001, \"action\": \"HOLD\"}, {\"date\": \"2016-12-20T00:00:00\", \"actual\": 125.120003, \"position\": 125.449997, \"action\": \"BUY\"}, {\"date\": \"2016-12-21T00:00:00\", \"actual\": 126.5, \"position\": 125.120003, \"action\": \"SELL\"}, {\"date\": \"2016-12-22T00:00:00\", \"actual\": 125.580002, \"position\": 126.5, \"action\": \"HOLD\"}, {\"date\": \"2016-12-23T00:00:00\", \"actual\": 125.589996, \"position\": 125.580002, \"action\": \"HOLD\"}, {\"date\": \"2016-12-27T00:00:00\", \"actual\": 128.350006, \"position\": 125.589996, \"action\": \"BUY\"}, {\"date\": \"2016-12-28T00:00:00\", \"actual\": 125.889999, \"position\": 128.350006, \"action\": \"SELL\"}, {\"date\": \"2016-12-29T00:00:00\", \"actual\": 125.330002, \"position\": 125.889999, \"action\": \"HOLD\"}, {\"date\": \"2016-12-30T00:00:00\", \"actual\": 123.800003, \"position\": 125.330002, \"action\": \"HOLD\"}, {\"date\": \"2017-01-03T00:00:00\", \"actual\": 127.489998, \"position\": 123.800003, \"action\": \"HOLD\"}, {\"date\": \"2017-01-04T00:00:00\", \"actual\": 129.410004, \"position\": 127.489998, \"action\": \"HOLD\"}, {\"date\": \"2017-01-05T00:00:00\", \"actual\": 131.809998, \"position\": 129.410004, \"action\": \"HOLD\"}, {\"date\": \"2017-01-06T00:00:00\", \"actual\": 131.070007, \"position\": 131.809998, \"action\": \"HOLD\"}, {\"date\": \"2017-01-09T00:00:00\", \"actual\": 130.949997, \"position\": 131.070007, \"action\": \"HOLD\"}, {\"date\": \"2017-01-10T00:00:00\", \"actual\": 129.889999, \"position\": 130.949997, \"action\": \"HOLD\"}, {\"date\": \"2017-01-11T00:00:00\", \"actual\": 130.5, \"position\": 129.889999, \"action\": \"BUY\"}, {\"date\": \"2017-01-12T00:00:00\", \"actual\": 129.179993, \"position\": 130.5, \"action\": \"SELL\"}, {\"date\": \"2017-01-13T00:00:00\", \"actual\": 133.699997, \"position\": 129.179993, \"action\": \"HOLD\"}, {\"date\": \"2017-01-17T00:00:00\", \"actual\": 132.889999, \"position\": 133.699997, \"action\": \"HOLD\"}, {\"date\": \"2017-01-18T00:00:00\", \"actual\": 133.259995, \"position\": 132.889999, \"action\": \"HOLD\"}, {\"date\": \"2017-01-19T00:00:00\", \"actual\": 138.410004, \"position\": 133.259995, \"action\": \"HOLD\"}, {\"date\": \"2017-01-20T00:00:00\", \"actual\": 138.600006, \"position\": 138.410004, \"action\": \"HOLD\"}, {\"date\": \"2017-01-23T00:00:00\", \"actual\": 137.389999, \"position\": 138.600006, \"action\": \"HOLD\"}, {\"date\": \"2017-01-24T00:00:00\", \"actual\": 140.110001, \"position\": 137.389999, \"action\": \"BUY\"}, {\"date\": \"2017-01-25T00:00:00\", \"actual\": 139.520004, \"position\": 140.110001, \"action\": \"SELL\"}, {\"date\": \"2017-01-26T00:00:00\", \"actual\": 138.960007, \"position\": 139.520004, \"action\": \"HOLD\"}, {\"date\": \"2017-01-27T00:00:00\", \"actual\": 142.449997, \"position\": 138.960007, \"action\": \"HOLD\"}, {\"date\": \"2017-01-30T00:00:00\", \"actual\": 141.220001, \"position\": 142.449997, \"action\": \"BUY\"}, {\"date\": \"2017-01-31T00:00:00\", \"actual\": 140.710007, \"position\": 141.220001, \"action\": \"SELL\"}, {\"date\": \"2017-02-01T00:00:00\", \"actual\": 140.779999, \"position\": 140.710007, \"action\": \"HOLD\"}, {\"date\": \"2017-02-02T00:00:00\", \"actual\": 139.199997, \"position\": 140.779999, \"action\": \"HOLD\"}, {\"date\": \"2017-02-03T00:00:00\", \"actual\": 140.25, \"position\": 139.199997, \"action\": \"HOLD\"}, {\"date\": \"2017-02-06T00:00:00\", \"actual\": 140.970001, \"position\": 140.25, \"action\": \"HOLD\"}, {\"date\": \"2017-02-07T00:00:00\", \"actual\": 144.0, \"position\": 140.970001, \"action\": \"BUY\"}, {\"date\": \"2017-02-08T00:00:00\", \"actual\": 144.740005, \"position\": 144.0, \"action\": \"SELL\"}, {\"date\": \"2017-02-09T00:00:00\", \"actual\": 144.139999, \"position\": 144.740005, \"action\": \"HOLD\"}, {\"date\": \"2017-02-10T00:00:00\", \"actual\": 144.820007, \"position\": 144.139999, \"action\": \"HOLD\"}, {\"date\": \"2017-02-13T00:00:00\", \"actual\": 143.199997, \"position\": 144.820007, \"action\": \"BUY\"}, {\"date\": \"2017-02-14T00:00:00\", \"actual\": 140.820007, \"position\": 143.199997, \"action\": \"SELL\"}, {\"date\": \"2017-02-15T00:00:00\", \"actual\": 142.270004, \"position\": 140.820007, \"action\": \"BUY\"}, {\"date\": \"2017-02-16T00:00:00\", \"actual\": 142.009995, \"position\": 142.270004, \"action\": \"SELL\"}, {\"date\": \"2017-02-17T00:00:00\", \"actual\": 142.220001, \"position\": 142.009995, \"action\": \"HOLD\"}, {\"date\": \"2017-02-21T00:00:00\", \"actual\": 142.600006, \"position\": 142.220001, \"action\": \"HOLD\"}, {\"date\": \"2017-02-22T00:00:00\", \"actual\": 143.860001, \"position\": 142.600006, \"action\": \"HOLD\"}, {\"date\": \"2017-02-23T00:00:00\", \"actual\": 142.779999, \"position\": 143.860001, \"action\": \"HOLD\"}, {\"date\": \"2017-02-24T00:00:00\", \"actual\": 143.25, \"position\": 142.779999, \"action\": \"HOLD\"}, {\"date\": \"2017-02-27T00:00:00\", \"actual\": 143.410004, \"position\": 143.25, \"action\": \"BUY\"}, {\"date\": \"2017-02-28T00:00:00\", \"actual\": 142.130005, \"position\": 143.410004, \"action\": \"SELL\"}, {\"date\": \"2017-03-01T00:00:00\", \"actual\": 142.649994, \"position\": 142.130005, \"action\": \"BUY\"}, {\"date\": \"2017-03-02T00:00:00\", \"actual\": 139.529999, \"position\": 142.649994, \"action\": \"SELL\"}, {\"date\": \"2017-03-03T00:00:00\", \"actual\": 139.139999, \"position\": 139.529999, \"action\": \"HOLD\"}, {\"date\": \"2017-03-06T00:00:00\", \"actual\": 141.940002, \"position\": 139.139999, \"action\": \"HOLD\"}, {\"date\": \"2017-03-07T00:00:00\", \"actual\": 141.429993, \"position\": 141.940002, \"action\": \"HOLD\"}, {\"date\": \"2017-03-08T00:00:00\", \"actual\": 140.320007, \"position\": 141.429993, \"action\": \"BUY\"}, {\"date\": \"2017-03-09T00:00:00\", \"actual\": 140.529999, \"position\": 140.320007, \"action\": \"SELL\"}, {\"date\": \"2017-03-10T00:00:00\", \"actual\": 140.889999, \"position\": 140.529999, \"action\": \"HOLD\"}, {\"date\": \"2017-03-13T00:00:00\", \"actual\": 143.520004, \"position\": 140.889999, \"action\": \"HOLD\"}, {\"date\": \"2017-03-14T00:00:00\", \"actual\": 143.190002, \"position\": 143.520004, \"action\": \"HOLD\"}, {\"date\": \"2017-03-15T00:00:00\", \"actual\": 145.25, \"position\": 143.190002, \"action\": \"HOLD\"}, {\"date\": \"2017-03-16T00:00:00\", \"actual\": 144.389999, \"position\": 145.25, \"action\": \"HOLD\"}, {\"date\": \"2017-03-17T00:00:00\", \"actual\": 145.110001, \"position\": 144.389999, \"action\": \"HOLD\"}, {\"date\": \"2017-03-20T00:00:00\", \"actual\": 145.830002, \"position\": 145.110001, \"action\": \"HOLD\"}, {\"date\": \"2017-03-21T00:00:00\", \"actual\": 142.419998, \"position\": 145.830002, \"action\": \"BUY\"}, {\"date\": \"2017-03-22T00:00:00\", \"actual\": 142.649994, \"position\": 142.419998, \"action\": \"SELL\"}, {\"date\": \"2017-03-23T00:00:00\", \"actual\": 141.839996, \"position\": 142.649994, \"action\": \"HOLD\"}, {\"date\": \"2017-03-24T00:00:00\", \"actual\": 142.020004, \"position\": 141.839996, \"action\": \"HOLD\"}, {\"date\": \"2017-03-27T00:00:00\", \"actual\": 144.059998, \"position\": 142.020004, \"action\": \"HOLD\"}, {\"date\": \"2017-03-28T00:00:00\", \"actual\": 145.169998, \"position\": 144.059998, \"action\": \"BUY\"}, {\"date\": \"2017-03-29T00:00:00\", \"actual\": 146.470001, \"position\": 145.169998, \"action\": \"SELL\"}, {\"date\": \"2017-03-30T00:00:00\", \"actual\": 148.059998, \"position\": 146.470001, \"action\": \"BUY\"}, {\"date\": \"2017-03-31T00:00:00\", \"actual\": 147.809998, \"position\": 148.059998, \"action\": \"SELL\"}, {\"date\": \"2017-04-03T00:00:00\", \"actual\": 146.919998, \"position\": 147.809998, \"action\": \"HOLD\"}, {\"date\": \"2017-04-04T00:00:00\", \"actual\": 145.5, \"position\": 146.919998, \"action\": \"BUY\"}, {\"date\": \"2017-04-05T00:00:00\", \"actual\": 143.619995, \"position\": 145.5, \"action\": \"SELL\"}, {\"date\": \"2017-04-06T00:00:00\", \"actual\": 143.740005, \"position\": 143.619995, \"action\": \"HOLD\"}, {\"date\": \"2017-04-07T00:00:00\", \"actual\": 143.110001, \"position\": 143.740005, \"action\": \"HOLD\"}, {\"date\": \"2017-04-10T00:00:00\", \"actual\": 143.850006, \"position\": 143.110001, \"action\": \"HOLD\"}, {\"date\": \"2017-04-11T00:00:00\", \"actual\": 144.350006, \"position\": 143.850006, \"action\": \"HOLD\"}, {\"date\": \"2017-04-12T00:00:00\", \"actual\": 143.830002, \"position\": 144.350006, \"action\": \"HOLD\"}, {\"date\": \"2017-04-13T00:00:00\", \"actual\": 142.919998, \"position\": 143.830002, \"action\": \"HOLD\"}, {\"date\": \"2017-04-17T00:00:00\", \"actual\": 147.25, \"position\": 142.919998, \"action\": \"HOLD\"}, {\"date\": \"2017-04-18T00:00:00\", \"actual\": 143.360001, \"position\": 147.25, \"action\": \"HOLD\"}, {\"date\": \"2017-04-19T00:00:00\", \"actual\": 139.759995, \"position\": 143.360001, \"action\": \"HOLD\"}, {\"date\": \"2017-04-20T00:00:00\", \"actual\": 141.179993, \"position\": 139.759995, \"action\": \"BUY\"}, {\"date\": \"2017-04-21T00:00:00\", \"actual\": 142.869995, \"position\": 141.179993, \"action\": \"BUY\"}, {\"date\": \"2017-04-24T00:00:00\", \"actual\": 143.830002, \"position\": 142.869995, \"action\": \"SELL\"}, {\"date\": \"2017-04-25T00:00:00\", \"actual\": 152.160004, \"position\": 143.830002, \"action\": \"SELL\"}, {\"date\": \"2017-04-26T00:00:00\", \"actual\": 150.169998, \"position\": 152.160004, \"action\": \"HOLD\"}, {\"date\": \"2017-04-27T00:00:00\", \"actual\": 153.080002, \"position\": 150.169998, \"action\": \"HOLD\"}, {\"date\": \"2017-04-28T00:00:00\", \"actual\": 152.199997, \"position\": 153.080002, \"action\": \"BUY\"}, {\"date\": \"2017-05-01T00:00:00\", \"actual\": 155.350006, \"position\": 152.199997, \"action\": \"HOLD\"}, {\"date\": \"2017-05-02T00:00:00\", \"actual\": 156.449997, \"position\": 155.350006, \"action\": \"SELL\"}, {\"date\": \"2017-05-03T00:00:00\", \"actual\": 155.589996, \"position\": 156.449997, \"action\": \"HOLD\"}, {\"date\": \"2017-05-04T00:00:00\", \"actual\": 157.25, \"position\": 155.589996, \"action\": \"HOLD\"}, {\"date\": \"2017-05-05T00:00:00\", \"actual\": 156.600006, \"position\": 157.25, \"action\": \"HOLD\"}, {\"date\": \"2017-05-08T00:00:00\", \"actual\": 156.380005, \"position\": 156.600006, \"action\": \"HOLD\"}, {\"date\": \"2017-05-09T00:00:00\", \"actual\": 157.460007, \"position\": 156.380005, \"action\": \"BUY\"}, {\"date\": \"2017-05-10T00:00:00\", \"actual\": 160.279999, \"position\": 157.460007, \"action\": \"SELL\"}, {\"date\": \"2017-05-11T00:00:00\", \"actual\": 158.539993, \"position\": 160.279999, \"action\": \"HOLD\"}, {\"date\": \"2017-05-12T00:00:00\", \"actual\": 160.809998, \"position\": 158.539993, \"action\": \"HOLD\"}, {\"date\": \"2017-05-15T00:00:00\", \"actual\": 160.020004, \"position\": 160.809998, \"action\": \"HOLD\"}, {\"date\": \"2017-05-16T00:00:00\", \"actual\": 159.410004, \"position\": 160.020004, \"action\": \"HOLD\"}, {\"date\": \"2017-05-17T00:00:00\", \"actual\": 153.199997, \"position\": 159.410004, \"action\": \"HOLD\"}, {\"date\": \"2017-05-18T00:00:00\", \"actual\": 155.699997, \"position\": 153.199997, \"action\": \"BUY\"}, {\"date\": \"2017-05-19T00:00:00\", \"actual\": 157.020004, \"position\": 155.699997, \"action\": \"SELL\"}, {\"date\": \"2017-05-22T00:00:00\", \"actual\": 157.160004, \"position\": 157.020004, \"action\": \"HOLD\"}, {\"date\": \"2017-05-23T00:00:00\", \"actual\": 157.949997, \"position\": 157.160004, \"action\": \"HOLD\"}, {\"date\": \"2017-05-24T00:00:00\", \"actual\": 157.75, \"position\": 157.949997, \"action\": \"HOLD\"}, {\"date\": \"2017-05-25T00:00:00\", \"actual\": 163.050003, \"position\": 157.75, \"action\": \"BUY\"}, {\"date\": \"2017-05-26T00:00:00\", \"actual\": 162.429993, \"position\": 163.050003, \"action\": \"SELL\"}, {\"date\": \"2017-05-30T00:00:00\", \"actual\": 163.220001, \"position\": 162.429993, \"action\": \"HOLD\"}, {\"date\": \"2017-05-31T00:00:00\", \"actual\": 163.070007, \"position\": 163.220001, \"action\": \"HOLD\"}, {\"date\": \"2017-06-01T00:00:00\", \"actual\": 162.990005, \"position\": 163.070007, \"action\": \"HOLD\"}, {\"date\": \"2017-06-02T00:00:00\", \"actual\": 165.179993, \"position\": 162.990005, \"action\": \"HOLD\"}, {\"date\": \"2017-06-05T00:00:00\", \"actual\": 165.059998, \"position\": 165.179993, \"action\": \"HOLD\"}, {\"date\": \"2017-06-06T00:00:00\", \"actual\": 165.169998, \"position\": 165.059998, \"action\": \"HOLD\"}, {\"date\": \"2017-06-07T00:00:00\", \"actual\": 165.610001, \"position\": 165.169998, \"action\": \"BUY\"}, {\"date\": \"2017-06-08T00:00:00\", \"actual\": 165.880005, \"position\": 165.610001, \"action\": \"SELL\"}, {\"date\": \"2017-06-09T00:00:00\", \"actual\": 158.029999, \"position\": 165.880005, \"action\": \"HOLD\"}, {\"date\": \"2017-06-12T00:00:00\", \"actual\": 151.440002, \"position\": 158.029999, \"action\": \"HOLD\"}, {\"date\": \"2017-06-13T00:00:00\", \"actual\": 152.720001, \"position\": 151.440002, \"action\": \"BUY\"}, {\"date\": \"2017-06-14T00:00:00\", \"actual\": 152.199997, \"position\": 152.720001, \"action\": \"SELL\"}, {\"date\": \"2017-06-15T00:00:00\", \"actual\": 151.759995, \"position\": 152.199997, \"action\": \"BUY\"}, {\"date\": \"2017-06-16T00:00:00\", \"actual\": 152.380005, \"position\": 151.759995, \"action\": \"BUY\"}, {\"date\": \"2017-06-19T00:00:00\", \"actual\": 153.399994, \"position\": 152.380005, \"action\": \"SELL\"}, {\"date\": \"2017-06-20T00:00:00\", \"actual\": 152.050003, \"position\": 153.399994, \"action\": \"SELL\"}, {\"date\": \"2017-06-21T00:00:00\", \"actual\": 155.029999, \"position\": 152.050003, \"action\": \"HOLD\"}, {\"date\": \"2017-06-22T00:00:00\", \"actual\": 154.889999, \"position\": 155.029999, \"action\": \"HOLD\"}, {\"date\": \"2017-06-23T00:00:00\", \"actual\": 158.020004, \"position\": 154.889999, \"action\": \"HOLD\"}, {\"date\": \"2017-06-26T00:00:00\", \"actual\": 157.5, \"position\": 158.020004, \"action\": \"BUY\"}, {\"date\": \"2017-06-27T00:00:00\", \"actual\": 151.029999, \"position\": 157.5, \"action\": \"SELL\"}, {\"date\": \"2017-06-28T00:00:00\", \"actual\": 153.410004, \"position\": 151.029999, \"action\": \"HOLD\"}, {\"date\": \"2017-06-29T00:00:00\", \"actual\": 150.089996, \"position\": 153.410004, \"action\": \"HOLD\"}, {\"date\": \"2017-06-30T00:00:00\", \"actual\": 149.410004, \"position\": 150.089996, \"action\": \"HOLD\"}, {\"date\": \"2017-07-03T00:00:00\", \"actual\": 146.169998, \"position\": 149.410004, \"action\": \"HOLD\"}, {\"date\": \"2017-07-05T00:00:00\", \"actual\": 147.610001, \"position\": 146.169998, \"action\": \"HOLD\"}, {\"date\": \"2017-07-06T00:00:00\", \"actual\": 146.25, \"position\": 147.610001, \"action\": \"BUY\"}, {\"date\": \"2017-07-07T00:00:00\", \"actual\": 150.179993, \"position\": 146.25, \"action\": \"SELL\"}, {\"date\": \"2017-07-10T00:00:00\", \"actual\": 152.669998, \"position\": 150.179993, \"action\": \"BUY\"}, {\"date\": \"2017-07-11T00:00:00\", \"actual\": 154.330002, \"position\": 152.669998, \"action\": \"BUY\"}, {\"date\": \"2017-07-12T00:00:00\", \"actual\": 158.75, \"position\": 154.330002, \"action\": \"SELL\"}, {\"date\": \"2017-07-13T00:00:00\", \"actual\": 158.210007, \"position\": 158.75, \"action\": \"SELL\"}, {\"date\": \"2017-07-14T00:00:00\", \"actual\": 161.119995, \"position\": 158.210007, \"action\": \"HOLD\"}, {\"date\": \"2017-07-17T00:00:00\", \"actual\": 161.699997, \"position\": 161.119995, \"action\": \"HOLD\"}, {\"date\": \"2017-07-18T00:00:00\", \"actual\": 183.600006, \"position\": 161.699997, \"action\": \"HOLD\"}, {\"date\": \"2017-07-19T00:00:00\", \"actual\": 183.860001, \"position\": 183.600006, \"action\": \"HOLD\"}, {\"date\": \"2017-07-20T00:00:00\", \"actual\": 183.600006, \"position\": 183.860001, \"action\": \"HOLD\"}, {\"date\": \"2017-07-21T00:00:00\", \"actual\": 188.539993, \"position\": 183.600006, \"action\": \"HOLD\"}, {\"date\": \"2017-07-24T00:00:00\", \"actual\": 187.910004, \"position\": 188.539993, \"action\": \"HOLD\"}, {\"date\": \"2017-07-25T00:00:00\", \"actual\": 186.970001, \"position\": 187.910004, \"action\": \"HOLD\"}, {\"date\": \"2017-07-26T00:00:00\", \"actual\": 189.080002, \"position\": 186.970001, \"action\": \"BUY\"}, {\"date\": \"2017-07-27T00:00:00\", \"actual\": 182.679993, \"position\": 189.080002, \"action\": \"SELL\"}, {\"date\": \"2017-07-28T00:00:00\", \"actual\": 184.039993, \"position\": 182.679993, \"action\": \"HOLD\"}, {\"date\": \"2017-07-31T00:00:00\", \"actual\": 181.660004, \"position\": 184.039993, \"action\": \"HOLD\"}, {\"date\": \"2017-08-01T00:00:00\", \"actual\": 182.029999, \"position\": 181.660004, \"action\": \"HOLD\"}, {\"date\": \"2017-08-02T00:00:00\", \"actual\": 180.740005, \"position\": 182.029999, \"action\": \"BUY\"}, {\"date\": \"2017-08-03T00:00:00\", \"actual\": 179.229996, \"position\": 180.740005, \"action\": \"SELL\"}, {\"date\": \"2017-08-04T00:00:00\", \"actual\": 180.270004, \"position\": 179.229996, \"action\": \"BUY\"}, {\"date\": \"2017-08-07T00:00:00\", \"actual\": 181.330002, \"position\": 180.270004, \"action\": \"SELL\"}, {\"date\": \"2017-08-08T00:00:00\", \"actual\": 178.360001, \"position\": 181.330002, \"action\": \"HOLD\"}, {\"date\": \"2017-08-09T00:00:00\", \"actual\": 175.779999, \"position\": 178.360001, \"action\": \"BUY\"}, {\"date\": \"2017-08-10T00:00:00\", \"actual\": 169.139999, \"position\": 175.779999, \"action\": \"BUY\"}, {\"date\": \"2017-08-11T00:00:00\", \"actual\": 171.399994, \"position\": 169.139999, \"action\": \"BUY\"}, {\"date\": \"2017-08-14T00:00:00\", \"actual\": 171.0, \"position\": 171.399994, \"action\": \"HOLD\"}, {\"date\": \"2017-08-15T00:00:00\", \"actual\": 168.5, \"position\": 171.0, \"action\": \"BUY\"}, {\"date\": \"2017-08-16T00:00:00\", \"actual\": 169.979996, \"position\": 168.5, \"action\": \"BUY\"}, {\"date\": \"2017-08-17T00:00:00\", \"actual\": 166.089996, \"position\": 169.979996, \"action\": \"SELL\"}, {\"date\": \"2017-08-18T00:00:00\", \"actual\": 166.539993, \"position\": 166.089996, \"action\": \"BUY\"}, {\"date\": \"2017-08-21T00:00:00\", \"actual\": 166.759995, \"position\": 166.539993, \"action\": \"BUY\"}, {\"date\": \"2017-08-22T00:00:00\", \"actual\": 169.339996, \"position\": 166.759995, \"action\": \"BUY\"}, {\"date\": \"2017-08-23T00:00:00\", \"actual\": 169.059998, \"position\": 169.339996, \"action\": \"BUY\"}, {\"date\": \"2017-08-24T00:00:00\", \"actual\": 168.130005, \"position\": 169.059998, \"action\": \"SELL\"}, {\"date\": \"2017-08-25T00:00:00\", \"actual\": 165.949997, \"position\": 168.130005, \"action\": \"SELL\"}, {\"date\": \"2017-08-28T00:00:00\", \"actual\": 167.119995, \"position\": 165.949997, \"action\": \"SELL\"}, {\"date\": \"2017-08-29T00:00:00\", \"actual\": 168.809998, \"position\": 167.119995, \"action\": \"HOLD\"}, {\"date\": \"2017-08-30T00:00:00\", \"actual\": 174.690002, \"position\": 168.809998, \"action\": \"SELL\"}, {\"date\": \"2017-08-31T00:00:00\", \"actual\": 174.710007, \"position\": 174.690002, \"action\": \"SELL\"}, {\"date\": \"2017-09-01T00:00:00\", \"actual\": 174.740005, \"position\": 174.710007, \"action\": \"SELL\"}, {\"date\": \"2017-09-05T00:00:00\", \"actual\": 174.520004, \"position\": 174.740005, \"action\": \"SELL\"}, {\"date\": \"2017-09-06T00:00:00\", \"actual\": 179.25, \"position\": 174.520004, \"action\": \"SELL\"}, {\"date\": \"2017-09-07T00:00:00\", \"actual\": 179.0, \"position\": 179.25, \"action\": \"HOLD\"}, {\"date\": \"2017-09-08T00:00:00\", \"actual\": 176.419998, \"position\": 179.0, \"action\": \"HOLD\"}, {\"date\": \"2017-09-11T00:00:00\", \"actual\": 181.740005, \"position\": 176.419998, \"action\": \"HOLD\"}, {\"date\": \"2017-09-12T00:00:00\", \"actual\": 185.149994, \"position\": 181.740005, \"action\": \"HOLD\"}, {\"date\": \"2017-09-13T00:00:00\", \"actual\": 183.639999, \"position\": 185.149994, \"action\": \"HOLD\"}, {\"date\": \"2017-09-14T00:00:00\", \"actual\": 182.630005, \"position\": 183.639999, \"action\": \"HOLD\"}, {\"date\": \"2017-09-15T00:00:00\", \"actual\": 182.350006, \"position\": 182.630005, \"action\": \"HOLD\"}, {\"date\": \"2017-09-18T00:00:00\", \"actual\": 184.619995, \"position\": 182.350006, \"action\": \"HOLD\"}, {\"date\": \"2017-09-19T00:00:00\", \"actual\": 185.679993, \"position\": 184.619995, \"action\": \"HOLD\"}, {\"date\": \"2017-09-20T00:00:00\", \"actual\": 185.509995, \"position\": 185.679993, \"action\": \"HOLD\"}, {\"date\": \"2017-09-21T00:00:00\", \"actual\": 188.779999, \"position\": 185.509995, \"action\": \"HOLD\"}, {\"date\": \"2017-09-22T00:00:00\", \"actual\": 187.350006, \"position\": 188.779999, \"action\": \"HOLD\"}, {\"date\": \"2017-09-25T00:00:00\", \"actual\": 178.550003, \"position\": 187.350006, \"action\": \"HOLD\"}, {\"date\": \"2017-09-26T00:00:00\", \"actual\": 179.380005, \"position\": 178.550003, \"action\": \"HOLD\"}, {\"date\": \"2017-09-27T00:00:00\", \"actual\": 181.970001, \"position\": 179.380005, \"action\": \"HOLD\"}, {\"date\": \"2017-09-28T00:00:00\", \"actual\": 180.699997, \"position\": 181.970001, \"action\": \"BUY\"}, {\"date\": \"2017-09-29T00:00:00\", \"actual\": 181.350006, \"position\": 180.699997, \"action\": \"BUY\"}, {\"date\": \"2017-10-02T00:00:00\", \"actual\": 177.009995, \"position\": 181.350006, \"action\": \"SELL\"}, {\"date\": \"2017-10-03T00:00:00\", \"actual\": 179.190002, \"position\": 177.009995, \"action\": \"SELL\"}, {\"date\": \"2017-10-04T00:00:00\", \"actual\": 184.449997, \"position\": 179.190002, \"action\": \"BUY\"}, {\"date\": \"2017-10-05T00:00:00\", \"actual\": 194.389999, \"position\": 184.449997, \"action\": \"HOLD\"}, {\"date\": \"2017-10-06T00:00:00\", \"actual\": 198.020004, \"position\": 194.389999, \"action\": \"SELL\"}, {\"date\": \"2017-10-09T00:00:00\", \"actual\": 196.869995, \"position\": 198.020004, \"action\": \"HOLD\"}, {\"date\": \"2017-10-10T00:00:00\", \"actual\": 195.080002, \"position\": 196.869995, \"action\": \"HOLD\"}, {\"date\": \"2017-10-11T00:00:00\", \"actual\": 194.949997, \"position\": 195.080002, \"action\": \"HOLD\"}, {\"date\": \"2017-10-12T00:00:00\", \"actual\": 195.860001, \"position\": 194.949997, \"action\": \"HOLD\"}, {\"date\": \"2017-10-13T00:00:00\", \"actual\": 199.490005, \"position\": 195.860001, \"action\": \"HOLD\"}, {\"date\": \"2017-10-16T00:00:00\", \"actual\": 202.679993, \"position\": 199.490005, \"action\": \"BUY\"}, {\"date\": \"2017-10-17T00:00:00\", \"actual\": 199.479996, \"position\": 202.679993, \"action\": \"SELL\"}, {\"date\": \"2017-10-18T00:00:00\", \"actual\": 195.539993, \"position\": 199.479996, \"action\": \"HOLD\"}, {\"date\": \"2017-10-19T00:00:00\", \"actual\": 195.130005, \"position\": 195.539993, \"action\": \"HOLD\"}, {\"date\": \"2017-10-20T00:00:00\", \"actual\": 194.160004, \"position\": 195.130005, \"action\": \"HOLD\"}, {\"date\": \"2017-10-23T00:00:00\", \"actual\": 192.470001, \"position\": 194.160004, \"action\": \"HOLD\"}, {\"date\": \"2017-10-24T00:00:00\", \"actual\": 196.020004, \"position\": 192.470001, \"action\": \"HOLD\"}, {\"date\": \"2017-10-25T00:00:00\", \"actual\": 193.770004, \"position\": 196.020004, \"action\": \"HOLD\"}, {\"date\": \"2017-10-26T00:00:00\", \"actual\": 195.210007, \"position\": 193.770004, \"action\": \"BUY\"}, {\"date\": \"2017-10-27T00:00:00\", \"actual\": 199.539993, \"position\": 195.210007, \"action\": \"BUY\"}, {\"date\": \"2017-10-30T00:00:00\", \"actual\": 198.369995, \"position\": 199.539993, \"action\": \"SELL\"}, {\"date\": \"2017-10-31T00:00:00\", \"actual\": 196.429993, \"position\": 198.369995, \"action\": \"BUY\"}, {\"date\": \"2017-11-01T00:00:00\", \"actual\": 198.0, \"position\": 196.429993, \"action\": \"SELL\"}, {\"date\": \"2017-11-02T00:00:00\", \"actual\": 199.320007, \"position\": 198.0, \"action\": \"SELL\"}, {\"date\": \"2017-11-03T00:00:00\", \"actual\": 200.009995, \"position\": 199.320007, \"action\": \"HOLD\"}, {\"date\": \"2017-11-06T00:00:00\", \"actual\": 200.130005, \"position\": 200.009995, \"action\": \"BUY\"}, {\"date\": \"2017-11-07T00:00:00\", \"actual\": 195.889999, \"position\": 200.130005, \"action\": \"SELL\"}, {\"date\": \"2017-11-08T00:00:00\", \"actual\": 196.440002, \"position\": 195.889999, \"action\": \"HOLD\"}, {\"date\": \"2017-11-09T00:00:00\", \"actual\": 193.899994, \"position\": 196.440002, \"action\": \"HOLD\"}, {\"date\": \"2017-11-10T00:00:00\", \"actual\": 192.020004, \"position\": 193.899994, \"action\": \"BUY\"}, {\"date\": \"2017-11-13T00:00:00\", \"actual\": 195.080002, \"position\": 192.020004, \"action\": \"SELL\"}, {\"date\": \"2017-11-14T00:00:00\", \"actual\": 195.710007, \"position\": 195.080002, \"action\": \"HOLD\"}, {\"date\": \"2017-11-15T00:00:00\", \"actual\": 192.119995, \"position\": 195.710007, \"action\": \"HOLD\"}, {\"date\": \"2017-11-16T00:00:00\", \"actual\": 195.509995, \"position\": 192.119995, \"action\": \"HOLD\"}, {\"date\": \"2017-11-17T00:00:00\", \"actual\": 193.199997, \"position\": 195.509995, \"action\": \"HOLD\"}, {\"date\": \"2017-11-20T00:00:00\", \"actual\": 194.100006, \"position\": 193.199997, \"action\": \"HOLD\"}, {\"date\": \"2017-11-21T00:00:00\", \"actual\": 196.229996, \"position\": 194.100006, \"action\": \"HOLD\"}, {\"date\": \"2017-11-22T00:00:00\", \"actual\": 196.320007, \"position\": 196.229996, \"action\": \"BUY\"}, {\"date\": \"2017-11-24T00:00:00\", \"actual\": 195.75, \"position\": 196.320007, \"action\": \"SELL\"}, {\"date\": \"2017-11-27T00:00:00\", \"actual\": 195.050003, \"position\": 195.75, \"action\": \"HOLD\"}, {\"date\": \"2017-11-28T00:00:00\", \"actual\": 199.179993, \"position\": 195.050003, \"action\": \"HOLD\"}, {\"date\": \"2017-11-29T00:00:00\", \"actual\": 188.149994, \"position\": 199.179993, \"action\": \"HOLD\"}, {\"date\": \"2017-11-30T00:00:00\", \"actual\": 187.580002, \"position\": 188.149994, \"action\": \"HOLD\"}, {\"date\": \"2017-12-01T00:00:00\", \"actual\": 186.820007, \"position\": 187.580002, \"action\": \"HOLD\"}, {\"date\": \"2017-12-04T00:00:00\", \"actual\": 184.039993, \"position\": 186.820007, \"action\": \"BUY\"}, {\"date\": \"2017-12-05T00:00:00\", \"actual\": 184.210007, \"position\": 184.039993, \"action\": \"HOLD\"}, {\"date\": \"2017-12-06T00:00:00\", \"actual\": 185.300003, \"position\": 184.210007, \"action\": \"SELL\"}, {\"date\": \"2017-12-07T00:00:00\", \"actual\": 185.199997, \"position\": 185.300003, \"action\": \"HOLD\"}, {\"date\": \"2017-12-08T00:00:00\", \"actual\": 188.539993, \"position\": 185.199997, \"action\": \"HOLD\"}, {\"date\": \"2017-12-11T00:00:00\", \"actual\": 186.220001, \"position\": 188.539993, \"action\": \"HOLD\"}, {\"date\": \"2017-12-12T00:00:00\", \"actual\": 185.729996, \"position\": 186.220001, \"action\": \"BUY\"}, {\"date\": \"2017-12-13T00:00:00\", \"actual\": 187.860001, \"position\": 185.729996, \"action\": \"BUY\"}, {\"date\": \"2017-12-14T00:00:00\", \"actual\": 189.559998, \"position\": 187.860001, \"action\": \"SELL\"}, {\"date\": \"2017-12-15T00:00:00\", \"actual\": 190.119995, \"position\": 189.559998, \"action\": \"SELL\"}, {\"date\": \"2017-12-18T00:00:00\", \"actual\": 190.419998, \"position\": 190.119995, \"action\": \"HOLD\"}, {\"date\": \"2017-12-19T00:00:00\", \"actual\": 187.020004, \"position\": 190.419998, \"action\": \"HOLD\"}, {\"date\": \"2017-12-20T00:00:00\", \"actual\": 188.820007, \"position\": 187.020004, \"action\": \"HOLD\"}, {\"date\": \"2017-12-21T00:00:00\", \"actual\": 188.619995, \"position\": 188.820007, \"action\": \"HOLD\"}, {\"date\": \"2017-12-22T00:00:00\", \"actual\": 189.940002, \"position\": 188.619995, \"action\": \"HOLD\"}, {\"date\": \"2017-12-26T00:00:00\", \"actual\": 187.759995, \"position\": 189.940002, \"action\": \"HOLD\"}, {\"date\": \"2017-12-27T00:00:00\", \"actual\": 186.240005, \"position\": 187.759995, \"action\": \"HOLD\"}, {\"date\": \"2017-12-28T00:00:00\", \"actual\": 192.710007, \"position\": 186.240005, \"action\": \"BUY\"}, {\"date\": \"2017-12-29T00:00:00\", \"actual\": 191.960007, \"position\": 192.710007, \"action\": \"SELL\"}, {\"date\": \"2018-01-02T00:00:00\", \"actual\": 201.070007, \"position\": 191.960007, \"action\": \"HOLD\"}, {\"date\": \"2018-01-03T00:00:00\", \"actual\": 205.050003, \"position\": 201.070007, \"action\": \"HOLD\"}, {\"date\": \"2018-01-04T00:00:00\", \"actual\": 205.630005, \"position\": 205.050003, \"action\": \"HOLD\"}, {\"date\": \"2018-01-05T00:00:00\", \"actual\": 209.990005, \"position\": 205.630005, \"action\": \"HOLD\"}, {\"date\": \"2018-01-08T00:00:00\", \"actual\": 212.050003, \"position\": 209.990005, \"action\": \"HOLD\"}, {\"date\": \"2018-01-09T00:00:00\", \"actual\": 209.309998, \"position\": 212.050003, \"action\": \"HOLD\"}, {\"date\": \"2018-01-10T00:00:00\", \"actual\": 212.520004, \"position\": 209.309998, \"action\": \"HOLD\"}, {\"date\": \"2018-01-11T00:00:00\", \"actual\": 217.240005, \"position\": 212.520004, \"action\": \"HOLD\"}, {\"date\": \"2018-01-12T00:00:00\", \"actual\": 221.229996, \"position\": 217.240005, \"action\": \"HOLD\"}, {\"date\": \"2018-01-16T00:00:00\", \"actual\": 221.529999, \"position\": 221.229996, \"action\": \"HOLD\"}, {\"date\": \"2018-01-17T00:00:00\", \"actual\": 217.5, \"position\": 221.529999, \"action\": \"HOLD\"}, {\"date\": \"2018-01-18T00:00:00\", \"actual\": 220.330002, \"position\": 217.5, \"action\": \"HOLD\"}, {\"date\": \"2018-01-19T00:00:00\", \"actual\": 220.460007, \"position\": 220.330002, \"action\": \"HOLD\"}, {\"date\": \"2018-01-22T00:00:00\", \"actual\": 227.580002, \"position\": 220.460007, \"action\": \"HOLD\"}, {\"date\": \"2018-01-23T00:00:00\", \"actual\": 250.289993, \"position\": 227.580002, \"action\": \"HOLD\"}, {\"date\": \"2018-01-24T00:00:00\", \"actual\": 261.299988, \"position\": 250.289993, \"action\": \"HOLD\"}, {\"date\": \"2018-01-25T00:00:00\", \"actual\": 269.700012, \"position\": 261.299988, \"action\": \"HOLD\"}, {\"date\": \"2018-01-26T00:00:00\", \"actual\": 274.600006, \"position\": 269.700012, \"action\": \"HOLD\"}, {\"date\": \"2018-01-29T00:00:00\", \"actual\": 284.589996, \"position\": 274.600006, \"action\": \"HOLD\"}, {\"date\": \"2018-01-30T00:00:00\", \"actual\": 278.799988, \"position\": 284.589996, \"action\": \"HOLD\"}, {\"date\": \"2018-01-31T00:00:00\", \"actual\": 270.299988, \"position\": 278.799988, \"action\": \"HOLD\"}, {\"date\": \"2018-02-01T00:00:00\", \"actual\": 265.070007, \"position\": 270.299988, \"action\": \"HOLD\"}, {\"date\": \"2018-02-02T00:00:00\", \"actual\": 267.429993, \"position\": 265.070007, \"action\": \"HOLD\"}, {\"date\": \"2018-02-05T00:00:00\", \"actual\": 254.259995, \"position\": 267.429993, \"action\": \"HOLD\"}, {\"date\": \"2018-02-06T00:00:00\", \"actual\": 265.720001, \"position\": 254.259995, \"action\": \"BUY\"}, {\"date\": \"2018-02-07T00:00:00\", \"actual\": 264.559998, \"position\": 265.720001, \"action\": \"SELL\"}, {\"date\": \"2018-02-08T00:00:00\", \"actual\": 250.100006, \"position\": 264.559998, \"action\": \"BUY\"}, {\"date\": \"2018-02-09T00:00:00\", \"actual\": 249.470001, \"position\": 250.100006, \"action\": \"BUY\"}, {\"date\": \"2018-02-12T00:00:00\", \"actual\": 257.950012, \"position\": 249.470001, \"action\": \"BUY\"}, {\"date\": \"2018-02-13T00:00:00\", \"actual\": 258.269989, \"position\": 257.950012, \"action\": \"SELL\"}, {\"date\": \"2018-02-14T00:00:00\", \"actual\": 266.0, \"position\": 258.269989, \"action\": \"BUY\"}, {\"date\": \"2018-02-15T00:00:00\", \"actual\": 280.269989, \"position\": 266.0, \"action\": \"SELL\"}, {\"date\": \"2018-02-16T00:00:00\", \"actual\": 278.519989, \"position\": 280.269989, \"action\": \"SELL\"}, {\"date\": \"2018-02-20T00:00:00\", \"actual\": 278.549988, \"position\": 278.519989, \"action\": \"SELL\"}, {\"date\": \"2018-02-21T00:00:00\", \"actual\": 281.040009, \"position\": 278.549988, \"action\": \"HOLD\"}, {\"date\": \"2018-02-22T00:00:00\", \"actual\": 278.140015, \"position\": 281.040009, \"action\": \"HOLD\"}, {\"date\": \"2018-02-23T00:00:00\", \"actual\": 285.929993, \"position\": 278.140015, \"action\": \"HOLD\"}, {\"date\": \"2018-02-26T00:00:00\", \"actual\": 294.160004, \"position\": 285.929993, \"action\": \"HOLD\"}, {\"date\": \"2018-02-27T00:00:00\", \"actual\": 290.609985, \"position\": 294.160004, \"action\": \"HOLD\"}, {\"date\": \"2018-02-28T00:00:00\", \"actual\": 291.380005, \"position\": 290.609985, \"action\": \"HOLD\"}, {\"date\": \"2018-03-01T00:00:00\", \"actual\": 290.390015, \"position\": 291.380005, \"action\": \"HOLD\"}, {\"date\": \"2018-03-02T00:00:00\", \"actual\": 301.049988, \"position\": 290.390015, \"action\": \"HOLD\"}, {\"date\": \"2018-03-05T00:00:00\", \"actual\": 315.0, \"position\": 301.049988, \"action\": \"HOLD\"}, {\"date\": \"2018-03-06T00:00:00\", \"actual\": 325.220001, \"position\": 315.0, \"action\": \"HOLD\"}, {\"date\": \"2018-03-07T00:00:00\", \"actual\": 321.160004, \"position\": 325.220001, \"action\": \"HOLD\"}, {\"date\": \"2018-03-08T00:00:00\", \"actual\": 317.0, \"position\": 321.160004, \"action\": \"HOLD\"}, {\"date\": \"2018-03-09T00:00:00\", \"actual\": 331.440002, \"position\": 317.0, \"action\": \"HOLD\"}, {\"date\": \"2018-03-12T00:00:00\", \"actual\": 321.299988, \"position\": 331.440002, \"action\": \"HOLD\"}, {\"date\": \"2018-03-13T00:00:00\", \"actual\": 315.880005, \"position\": 321.299988, \"action\": \"BUY\"}, {\"date\": \"2018-03-14T00:00:00\", \"actual\": 321.549988, \"position\": 315.880005, \"action\": \"SELL\"}, {\"date\": \"2018-03-15T00:00:00\", \"actual\": 321.089996, \"position\": 321.549988, \"action\": \"HOLD\"}, {\"date\": \"2018-03-16T00:00:00\", \"actual\": 318.450012, \"position\": 321.089996, \"action\": \"HOLD\"}, {\"date\": \"2018-03-19T00:00:00\", \"actual\": 313.480011, \"position\": 318.450012, \"action\": \"HOLD\"}, {\"date\": \"2018-03-20T00:00:00\", \"actual\": 317.5, \"position\": 313.480011, \"action\": \"BUY\"}, {\"date\": \"2018-03-21T00:00:00\", \"actual\": 316.480011, \"position\": 317.5, \"action\": \"BUY\"}, {\"date\": \"2018-03-22T00:00:00\", \"actual\": 306.700012, \"position\": 316.480011, \"action\": \"SELL\"}, {\"date\": \"2018-03-23T00:00:00\", \"actual\": 300.940002, \"position\": 306.700012, \"action\": \"HOLD\"}, {\"date\": \"2018-03-26T00:00:00\", \"actual\": 320.350006, \"position\": 300.940002, \"action\": \"BUY\"}, {\"date\": \"2018-03-27T00:00:00\", \"actual\": 300.690002, \"position\": 320.350006, \"action\": \"BUY\"}, {\"date\": \"2018-03-28T00:00:00\", \"actual\": 285.769989, \"position\": 300.690002, \"action\": \"HOLD\"}, {\"date\": \"2018-03-29T00:00:00\", \"actual\": 295.350006, \"position\": 285.769989, \"action\": \"BUY\"}, {\"date\": \"2018-04-02T00:00:00\", \"actual\": 280.290009, \"position\": 295.350006, \"action\": \"HOLD\"}, {\"date\": \"2018-04-03T00:00:00\", \"actual\": 283.670013, \"position\": 280.290009, \"action\": \"SELL\"}, {\"date\": \"2018-04-04T00:00:00\", \"actual\": 288.940002, \"position\": 283.670013, \"action\": \"HOLD\"}, {\"date\": \"2018-04-05T00:00:00\", \"actual\": 293.970001, \"position\": 288.940002, \"action\": \"BUY\"}, {\"date\": \"2018-04-06T00:00:00\", \"actual\": 288.850006, \"position\": 293.970001, \"action\": \"SELL\"}, {\"date\": \"2018-04-09T00:00:00\", \"actual\": 289.929993, \"position\": 288.850006, \"action\": \"BUY\"}, {\"date\": \"2018-04-10T00:00:00\", \"actual\": 298.070007, \"position\": 289.929993, \"action\": \"SELL\"}, {\"date\": \"2018-04-11T00:00:00\", \"actual\": 303.670013, \"position\": 298.070007, \"action\": \"HOLD\"}, {\"date\": \"2018-04-12T00:00:00\", \"actual\": 309.25, \"position\": 303.670013, \"action\": \"SELL\"}, {\"date\": \"2018-04-13T00:00:00\", \"actual\": 311.649994, \"position\": 309.25, \"action\": \"SELL\"}, {\"date\": \"2018-04-16T00:00:00\", \"actual\": 307.779999, \"position\": 311.649994, \"action\": \"SELL\"}, {\"date\": \"2018-04-17T00:00:00\", \"actual\": 336.059998, \"position\": 307.779999, \"action\": \"HOLD\"}, {\"date\": \"2018-04-18T00:00:00\", \"actual\": 334.519989, \"position\": 336.059998, \"action\": \"HOLD\"}, {\"date\": \"2018-04-19T00:00:00\", \"actual\": 332.700012, \"position\": 334.519989, \"action\": \"HOLD\"}, {\"date\": \"2018-04-20T00:00:00\", \"actual\": 327.769989, \"position\": 332.700012, \"action\": \"BUY\"}, {\"date\": \"2018-04-23T00:00:00\", \"actual\": 318.690002, \"position\": 327.769989, \"action\": \"HOLD\"}, {\"date\": \"2018-04-24T00:00:00\", \"actual\": 307.019989, \"position\": 318.690002, \"action\": \"BUY\"}, {\"date\": \"2018-04-25T00:00:00\", \"actual\": 305.76001, \"position\": 307.019989, \"action\": \"BUY\"}, {\"date\": \"2018-04-26T00:00:00\", \"actual\": 313.980011, \"position\": 305.76001, \"action\": \"BUY\"}, {\"date\": \"2018-04-27T00:00:00\", \"actual\": 311.76001, \"position\": 313.980011, \"action\": \"SELL\"}, {\"date\": \"2018-04-30T00:00:00\", \"actual\": 312.459991, \"position\": 311.76001, \"action\": \"BUY\"}, {\"date\": \"2018-05-01T00:00:00\", \"actual\": 313.299988, \"position\": 312.459991, \"action\": \"SELL\"}, {\"date\": \"2018-05-02T00:00:00\", \"actual\": 313.359985, \"position\": 313.299988, \"action\": \"BUY\"}, {\"date\": \"2018-05-03T00:00:00\", \"actual\": 311.690002, \"position\": 313.359985, \"action\": \"BUY\"}, {\"date\": \"2018-05-04T00:00:00\", \"actual\": 320.089996, \"position\": 311.690002, \"action\": \"BUY\"}, {\"date\": \"2018-05-07T00:00:00\", \"actual\": 326.26001, \"position\": 320.089996, \"action\": \"SELL\"}, {\"date\": \"2018-05-08T00:00:00\", \"actual\": 326.890015, \"position\": 326.26001, \"action\": \"SELL\"}, {\"date\": \"2018-05-09T00:00:00\", \"actual\": 330.299988, \"position\": 326.890015, \"action\": \"SELL\"}, {\"date\": \"2018-05-10T00:00:00\", \"actual\": 329.600006, \"position\": 330.299988, \"action\": \"SELL\"}, {\"date\": \"2018-05-11T00:00:00\", \"actual\": 326.459991, \"position\": 329.600006, \"action\": \"SELL\"}, {\"date\": \"2018-05-14T00:00:00\", \"actual\": 328.529999, \"position\": 326.459991, \"action\": \"SELL\"}, {\"date\": \"2018-05-15T00:00:00\", \"actual\": 326.130005, \"position\": 328.529999, \"action\": \"HOLD\"}, {\"date\": \"2018-05-16T00:00:00\", \"actual\": 328.190002, \"position\": 326.130005, \"action\": \"HOLD\"}, {\"date\": \"2018-05-17T00:00:00\", \"actual\": 325.220001, \"position\": 328.190002, \"action\": \"HOLD\"}, {\"date\": \"2018-05-18T00:00:00\", \"actual\": 324.179993, \"position\": 325.220001, \"action\": \"HOLD\"}, {\"date\": \"2018-05-21T00:00:00\", \"actual\": 331.820007, \"position\": 324.179993, \"action\": \"BUY\"}, {\"date\": \"2018-05-22T00:00:00\", \"actual\": 331.619995, \"position\": 331.820007, \"action\": \"SELL\"}, {\"date\": \"2018-05-23T00:00:00\", \"actual\": 344.720001, \"position\": 331.619995, \"action\": \"HOLD\"}, {\"date\": \"2018-05-24T00:00:00\", \"actual\": 349.290009, \"position\": 344.720001, \"action\": \"HOLD\"}, {\"date\": \"2018-05-25T00:00:00\", \"actual\": 351.290009, \"position\": 349.290009, \"action\": \"HOLD\"}, {\"date\": \"2018-05-29T00:00:00\", \"actual\": 349.730011, \"position\": 351.290009, \"action\": \"HOLD\"}, {\"date\": \"2018-05-30T00:00:00\", \"actual\": 353.540009, \"position\": 349.730011, \"action\": \"HOLD\"}, {\"date\": \"2018-05-31T00:00:00\", \"actual\": 351.600006, \"position\": 353.540009, \"action\": \"BUY\"}, {\"date\": \"2018-06-01T00:00:00\", \"actual\": 359.929993, \"position\": 351.600006, \"action\": \"SELL\"}, {\"date\": \"2018-06-04T00:00:00\", \"actual\": 361.809998, \"position\": 359.929993, \"action\": \"HOLD\"}, {\"date\": \"2018-06-05T00:00:00\", \"actual\": 365.799988, \"position\": 361.809998, \"action\": \"HOLD\"}, {\"date\": \"2018-06-06T00:00:00\", \"actual\": 367.450012, \"position\": 365.799988, \"action\": \"HOLD\"}, {\"date\": \"2018-06-07T00:00:00\", \"actual\": 361.399994, \"position\": 367.450012, \"action\": \"HOLD\"}, {\"date\": \"2018-06-08T00:00:00\", \"actual\": 360.570007, \"position\": 361.399994, \"action\": \"HOLD\"}, {\"date\": \"2018-06-11T00:00:00\", \"actual\": 361.450012, \"position\": 360.570007, \"action\": \"HOLD\"}, {\"date\": \"2018-06-12T00:00:00\", \"actual\": 363.829987, \"position\": 361.450012, \"action\": \"HOLD\"}, {\"date\": \"2018-06-13T00:00:00\", \"actual\": 379.929993, \"position\": 363.829987, \"action\": \"BUY\"}, {\"date\": \"2018-06-14T00:00:00\", \"actual\": 392.869995, \"position\": 379.929993, \"action\": \"BUY\"}, {\"date\": \"2018-06-15T00:00:00\", \"actual\": 391.980011, \"position\": 392.869995, \"action\": \"SELL\"}, {\"date\": \"2018-06-18T00:00:00\", \"actual\": 390.399994, \"position\": 391.980011, \"action\": \"SELL\"}, {\"date\": \"2018-06-19T00:00:00\", \"actual\": 404.980011, \"position\": 390.399994, \"action\": \"HOLD\"}, {\"date\": \"2018-06-20T00:00:00\", \"actual\": 416.76001, \"position\": 404.980011, \"action\": \"HOLD\"}, {\"date\": \"2018-06-21T00:00:00\", \"actual\": 415.440002, \"position\": 416.76001, \"action\": \"HOLD\"}, {\"date\": \"2018-06-22T00:00:00\", \"actual\": 411.089996, \"position\": 415.440002, \"action\": \"HOLD\"}, {\"date\": \"2018-06-25T00:00:00\", \"actual\": 384.480011, \"position\": 411.089996, \"action\": \"HOLD\"}, {\"date\": \"2018-06-26T00:00:00\", \"actual\": 399.390015, \"position\": 384.480011, \"action\": \"BUY\"}, {\"date\": \"2018-06-27T00:00:00\", \"actual\": 390.390015, \"position\": 399.390015, \"action\": \"SELL\"}, {\"date\": \"2018-06-28T00:00:00\", \"actual\": 395.420013, \"position\": 390.390015, \"action\": \"BUY\"}, {\"date\": \"2018-06-29T00:00:00\", \"actual\": 391.429993, \"position\": 395.420013, \"action\": \"SELL\"}, {\"date\": \"2018-07-02T00:00:00\", \"actual\": 398.179993, \"position\": 391.429993, \"action\": \"BUY\"}, {\"date\": \"2018-07-03T00:00:00\", \"actual\": 390.519989, \"position\": 398.179993, \"action\": \"BUY\"}, {\"date\": \"2018-07-05T00:00:00\", \"actual\": 398.390015, \"position\": 390.519989, \"action\": \"BUY\"}, {\"date\": \"2018-07-06T00:00:00\", \"actual\": 408.25, \"position\": 398.390015, \"action\": \"SELL\"}, {\"date\": \"2018-07-09T00:00:00\", \"actual\": 418.970001, \"position\": 408.25, \"action\": \"SELL\"}, {\"date\": \"2018-07-10T00:00:00\", \"actual\": 415.630005, \"position\": 418.970001, \"action\": \"SELL\"}, {\"date\": \"2018-07-11T00:00:00\", \"actual\": 418.649994, \"position\": 415.630005, \"action\": \"HOLD\"}, {\"date\": \"2018-07-12T00:00:00\", \"actual\": 413.5, \"position\": 418.649994, \"action\": \"HOLD\"}, {\"date\": \"2018-07-13T00:00:00\", \"actual\": 395.799988, \"position\": 413.5, \"action\": \"HOLD\"}, {\"date\": \"2018-07-16T00:00:00\", \"actual\": 400.480011, \"position\": 395.799988, \"action\": \"BUY\"}, {\"date\": \"2018-07-17T00:00:00\", \"actual\": 379.480011, \"position\": 400.480011, \"action\": \"SELL\"}, {\"date\": \"2018-07-18T00:00:00\", \"actual\": 375.130005, \"position\": 379.480011, \"action\": \"HOLD\"}, {\"date\": \"2018-07-19T00:00:00\", \"actual\": 364.230011, \"position\": 375.130005, \"action\": \"HOLD\"}, {\"date\": \"2018-07-20T00:00:00\", \"actual\": 361.049988, \"position\": 364.230011, \"action\": \"HOLD\"}, {\"date\": \"2018-07-23T00:00:00\", \"actual\": 362.660004, \"position\": 361.049988, \"action\": \"BUY\"}, {\"date\": \"2018-07-24T00:00:00\", \"actual\": 357.320007, \"position\": 362.660004, \"action\": \"HOLD\"}, {\"date\": \"2018-07-25T00:00:00\", \"actual\": 362.869995, \"position\": 357.320007, \"action\": \"BUY\"}, {\"date\": \"2018-07-26T00:00:00\", \"actual\": 363.089996, \"position\": 362.869995, \"action\": \"BUY\"}, {\"date\": \"2018-07-27T00:00:00\", \"actual\": 355.209991, \"position\": 363.089996, \"action\": \"BUY\"}, {\"date\": \"2018-07-30T00:00:00\", \"actual\": 334.959991, \"position\": 355.209991, \"action\": \"BUY\"}, {\"date\": \"2018-07-31T00:00:00\", \"actual\": 337.450012, \"position\": 334.959991, \"action\": \"HOLD\"}, {\"date\": \"2018-08-01T00:00:00\", \"actual\": 338.380005, \"position\": 337.450012, \"action\": \"BUY\"}, {\"date\": \"2018-08-02T00:00:00\", \"actual\": 344.5, \"position\": 338.380005, \"action\": \"SELL\"}, {\"date\": \"2018-08-03T00:00:00\", \"actual\": 343.089996, \"position\": 344.5, \"action\": \"SELL\"}, {\"date\": \"2018-08-06T00:00:00\", \"actual\": 350.920013, \"position\": 343.089996, \"action\": \"BUY\"}, {\"date\": \"2018-08-07T00:00:00\", \"actual\": 351.829987, \"position\": 350.920013, \"action\": \"BUY\"}, {\"date\": \"2018-08-08T00:00:00\", \"actual\": 347.609985, \"position\": 351.829987, \"action\": \"SELL\"}, {\"date\": \"2018-08-09T00:00:00\", \"actual\": 349.359985, \"position\": 347.609985, \"action\": \"BUY\"}, {\"date\": \"2018-08-10T00:00:00\", \"actual\": 345.869995, \"position\": 349.359985, \"action\": \"BUY\"}]}}, {\"mode\": \"vega-lite\"});\n",
       "</script>"
      ],
      "text/plain": [
       "alt.LayerChart(...)"
      ]
     },
     "execution_count": 45,
     "metadata": {},
     "output_type": "execute_result"
    }
   ],
   "source": [
    "chart = visualize(df, history, title=test_stock)\n",
    "chart"
   ]
  },
  {
   "cell_type": "code",
   "execution_count": 47,
   "metadata": {},
   "outputs": [
    {
     "data": {
      "image/png": "[encoded data removed]",
      "text/plain": [
       "<Figure size 432x288 with 1 Axes>"
      ]
     },
     "metadata": {
      "needs_background": "light"
     },
     "output_type": "display_data"
    },
    {
     "name": "stdout",
     "output_type": "stream",
     "text": [
      "77 77\n"
     ]
    }
   ],
   "source": [
    "import matplotlib.pyplot as plt\n",
    "flow_plot = []\n",
    "flow = 10000\n",
    "pos = 0\n",
    "for amt,direction in history:\n",
    "    if direction==\"BUY\":\n",
    "        flow-=amt\n",
    "        pos +=1\n",
    "    elif direction == \"SELL\":\n",
    "        flow+=amt\n",
    "        pos -=1\n",
    "    flow_plot.append(pos*amt+flow)\n",
    "plt.plot(flow_plot)\n",
    "plt.plot(df[\"actual\"]/df[\"actual\"][0]*10000)\n",
    "plt.show()\n",
    "print(long,short)"
   ]
  },
  {
   "cell_type": "code",
   "execution_count": 39,
   "metadata": {},
   "outputs": [
    {
     "data": {
      "text/plain": [
       "17.6"
      ]
     },
     "execution_count": 39,
     "metadata": {},
     "output_type": "execute_result"
    }
   ],
   "source": [
    "df[\"actual\"][0]"
   ]
  }
 ],
 "metadata": {
  "kernelspec": {
   "display_name": "Python 3 (ipykernel)",
   "language": "python",
   "name": "python3"
  },
  "language_info": {
   "codemirror_mode": {
    "name": "ipython",
    "version": 3
   },
   "file_extension": ".py",
   "mimetype": "text/x-python",
   "name": "python",
   "nbconvert_exporter": "python",
   "pygments_lexer": "ipython3",
   "version": "3.9.16"
  }
 },
 "nbformat": 4,
 "nbformat_minor": 4
}
